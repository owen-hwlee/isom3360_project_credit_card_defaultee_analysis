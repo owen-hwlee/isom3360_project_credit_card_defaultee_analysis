{
 "cells": [
  {
   "cell_type": "markdown",
   "metadata": {},
   "source": [
    "***\n",
    "# ISOM3360 Data Mining for Business Analytics\n",
    "## Group 23 Project Code - Credit Card Defaultee Analysis\n",
    "### Part 2.1 - Decision Tree Classifier\n",
    "***"
   ]
  },
  {
   "cell_type": "markdown",
   "metadata": {},
   "source": [
    "Name: LAM, Ho Chit  \n",
    "ITSC: hclamao  \n",
    "SID: 20607878\n",
    "\n",
    "Name: LEE, Ho Wan Owen  \n",
    "ITSC: hwolee  \n",
    "SID: 20604852\n",
    "\n",
    "Name: LEE, Wai Chung  \n",
    "ITSC: wcleeaj  \n",
    "SID: 20702733"
   ]
  },
  {
   "cell_type": "markdown",
   "metadata": {},
   "source": [
    "### Data preprocessing(cont.)"
   ]
  },
  {
   "cell_type": "code",
   "execution_count": 1,
   "metadata": {},
   "outputs": [],
   "source": [
    "# import libraries\n",
    "import numpy as np\n",
    "import pandas as pd\n",
    "import matplotlib as mpl\n",
    "import matplotlib.pyplot as plt"
   ]
  },
  {
   "cell_type": "code",
   "execution_count": 2,
   "metadata": {},
   "outputs": [],
   "source": [
    "#Load cleaned data\n",
    "#p.s. I first put the cleaned data in data preprocessing part I (before splitting) to the decision tree file before running the code below\n",
    "raw_df = pd.read_csv('raw2.csv',index_col = 'SK_ID_CURR')"
   ]
  },
  {
   "cell_type": "markdown",
   "metadata": {},
   "source": [
    "### Dealing with missing values"
   ]
  },
  {
   "cell_type": "code",
   "execution_count": 3,
   "metadata": {},
   "outputs": [
    {
     "data": {
      "text/plain": [
       "9054490"
      ]
     },
     "execution_count": 3,
     "metadata": {},
     "output_type": "execute_result"
    }
   ],
   "source": [
    "raw_df.isnull().sum().sum()\n",
    "#There're many missing values"
   ]
  },
  {
   "cell_type": "code",
   "execution_count": 4,
   "metadata": {},
   "outputs": [],
   "source": [
    "pd.set_option('display.max_rows', 500)"
   ]
  },
  {
   "cell_type": "code",
   "execution_count": 5,
   "metadata": {},
   "outputs": [
    {
     "data": {
      "text/plain": [
       "TARGET                                                    0\n",
       "NAME_CONTRACT_TYPE                                        0\n",
       "FLAG_OWN_CAR                                              0\n",
       "CNT_CHILDREN                                              0\n",
       "AMT_INCOME_TOTAL                                          0\n",
       "AMT_CREDIT                                                0\n",
       "AMT_ANNUITY                                               0\n",
       "AMT_GOODS_PRICE                                           0\n",
       "REGION_POPULATION_RELATIVE                                0\n",
       "DAYS_BIRTH                                                0\n",
       "DAYS_EMPLOYED                                             0\n",
       "DAYS_REGISTRATION                                         0\n",
       "DAYS_ID_PUBLISH                                           0\n",
       "OWN_CAR_AGE                                          202929\n",
       "FLAG_MOBIL                                                0\n",
       "FLAG_EMP_PHONE                                            0\n",
       "FLAG_WORK_PHONE                                           0\n",
       "FLAG_CONT_MOBILE                                          0\n",
       "FLAG_PHONE                                                0\n",
       "FLAG_EMAIL                                                0\n",
       "OCCUPATION_TYPE                                           0\n",
       "CNT_FAM_MEMBERS                                           0\n",
       "REGION_RATING_CLIENT                                      0\n",
       "REGION_RATING_CLIENT_W_CITY                               0\n",
       "WEEKDAY_APPR_PROCESS_START                                0\n",
       "HOUR_APPR_PROCESS_START                                   0\n",
       "REG_REGION_NOT_LIVE_REGION                                0\n",
       "REG_REGION_NOT_WORK_REGION                                0\n",
       "LIVE_REGION_NOT_WORK_REGION                               0\n",
       "REG_CITY_NOT_LIVE_CITY                                    0\n",
       "REG_CITY_NOT_WORK_CITY                                    0\n",
       "LIVE_CITY_NOT_WORK_CITY                                   0\n",
       "ORGANIZATION_TYPE                                         0\n",
       "EXT_SOURCE_1                                         173378\n",
       "EXT_SOURCE_2                                            660\n",
       "EXT_SOURCE_3                                          60965\n",
       "APARTMENTS_AVG                                       156061\n",
       "BASEMENTAREA_AVG                                     179943\n",
       "YEARS_BEGINEXPLUATATION_AVG                          150007\n",
       "YEARS_BUILD_AVG                                      204488\n",
       "COMMONAREA_AVG                                       214865\n",
       "ELEVATORS_AVG                                        163891\n",
       "ENTRANCES_AVG                                        154828\n",
       "FLOORSMAX_AVG                                        153020\n",
       "FLOORSMIN_AVG                                        208642\n",
       "LANDAREA_AVG                                         182590\n",
       "LIVINGAPARTMENTS_AVG                                 210199\n",
       "LIVINGAREA_AVG                                       154350\n",
       "NONLIVINGAPARTMENTS_AVG                              213514\n",
       "NONLIVINGAREA_AVG                                    169682\n",
       "APARTMENTS_MODE                                      156061\n",
       "BASEMENTAREA_MODE                                    179943\n",
       "YEARS_BEGINEXPLUATATION_MODE                         150007\n",
       "YEARS_BUILD_MODE                                     204488\n",
       "COMMONAREA_MODE                                      214865\n",
       "ELEVATORS_MODE                                       163891\n",
       "ENTRANCES_MODE                                       154828\n",
       "FLOORSMAX_MODE                                       153020\n",
       "FLOORSMIN_MODE                                       208642\n",
       "LANDAREA_MODE                                        182590\n",
       "LIVINGAPARTMENTS_MODE                                210199\n",
       "LIVINGAREA_MODE                                      154350\n",
       "NONLIVINGAPARTMENTS_MODE                             213514\n",
       "NONLIVINGAREA_MODE                                   169682\n",
       "APARTMENTS_MEDI                                      156061\n",
       "BASEMENTAREA_MEDI                                    179943\n",
       "YEARS_BEGINEXPLUATATION_MEDI                         150007\n",
       "YEARS_BUILD_MEDI                                     204488\n",
       "COMMONAREA_MEDI                                      214865\n",
       "ELEVATORS_MEDI                                       163891\n",
       "ENTRANCES_MEDI                                       154828\n",
       "FLOORSMAX_MEDI                                       153020\n",
       "FLOORSMIN_MEDI                                       208642\n",
       "LANDAREA_MEDI                                        182590\n",
       "LIVINGAPARTMENTS_MEDI                                210199\n",
       "LIVINGAREA_MEDI                                      154350\n",
       "NONLIVINGAPARTMENTS_MEDI                             213514\n",
       "NONLIVINGAREA_MEDI                                   169682\n",
       "FONDKAPREMONT_MODE                                   210295\n",
       "HOUSETYPE_MODE                                       154297\n",
       "TOTALAREA_MODE                                       148431\n",
       "WALLSMATERIAL_MODE                                   156341\n",
       "EMERGENCYSTATE_MODE                                  145755\n",
       "OBS_30_CNT_SOCIAL_CIRCLE                               1021\n",
       "DEF_30_CNT_SOCIAL_CIRCLE                               1021\n",
       "OBS_60_CNT_SOCIAL_CIRCLE                               1021\n",
       "DEF_60_CNT_SOCIAL_CIRCLE                               1021\n",
       "DAYS_LAST_PHONE_CHANGE                                    1\n",
       "FLAG_DOCUMENT_2                                           0\n",
       "FLAG_DOCUMENT_3                                           0\n",
       "FLAG_DOCUMENT_4                                           0\n",
       "FLAG_DOCUMENT_5                                           0\n",
       "FLAG_DOCUMENT_6                                           0\n",
       "FLAG_DOCUMENT_7                                           0\n",
       "FLAG_DOCUMENT_8                                           0\n",
       "FLAG_DOCUMENT_9                                           0\n",
       "FLAG_DOCUMENT_10                                          0\n",
       "FLAG_DOCUMENT_11                                          0\n",
       "FLAG_DOCUMENT_12                                          0\n",
       "FLAG_DOCUMENT_13                                          0\n",
       "FLAG_DOCUMENT_14                                          0\n",
       "FLAG_DOCUMENT_15                                          0\n",
       "FLAG_DOCUMENT_16                                          0\n",
       "FLAG_DOCUMENT_17                                          0\n",
       "FLAG_DOCUMENT_18                                          0\n",
       "FLAG_DOCUMENT_19                                          0\n",
       "FLAG_DOCUMENT_20                                          0\n",
       "FLAG_DOCUMENT_21                                          0\n",
       "AMT_REQ_CREDIT_BUREAU_HOUR                            41519\n",
       "AMT_REQ_CREDIT_BUREAU_DAY                             41519\n",
       "AMT_REQ_CREDIT_BUREAU_WEEK                            41519\n",
       "AMT_REQ_CREDIT_BUREAU_MON                             41519\n",
       "AMT_REQ_CREDIT_BUREAU_QRT                             41519\n",
       "AMT_REQ_CREDIT_BUREAU_YEAR                            41519\n",
       "MALE                                                      0\n",
       "FEMALE                                                    0\n",
       "AMT_INCOME_TOTAL_MINMAX                                   0\n",
       "NAME_TYPE_SUITE_Family                                    0\n",
       "NAME_TYPE_SUITE_Group of people                           0\n",
       "NAME_TYPE_SUITE_Other_A                                   0\n",
       "NAME_TYPE_SUITE_Other_B                                   0\n",
       "NAME_TYPE_SUITE_Spouse, partner                           0\n",
       "NAME_TYPE_SUITE_Unaccompanied                             0\n",
       "NAME_INCOME_TYPE_Commercial associate                     0\n",
       "NAME_INCOME_TYPE_Maternity leave                          0\n",
       "NAME_INCOME_TYPE_Pensioner                                0\n",
       "NAME_INCOME_TYPE_State servant                            0\n",
       "NAME_INCOME_TYPE_Student                                  0\n",
       "NAME_INCOME_TYPE_Unemployed                               0\n",
       "NAME_INCOME_TYPE_Working                                  0\n",
       "NAME_EDUCATION_TYPE_Higher education                      0\n",
       "NAME_EDUCATION_TYPE_Incomplete higher                     0\n",
       "NAME_EDUCATION_TYPE_Lower secondary                       0\n",
       "NAME_EDUCATION_TYPE_Secondary / secondary special         0\n",
       "NAME_FAMILY_STATUS_Married                                0\n",
       "NAME_FAMILY_STATUS_Separated                              0\n",
       "NAME_FAMILY_STATUS_Single / not married                   0\n",
       "NAME_FAMILY_STATUS_Unknown                                0\n",
       "NAME_FAMILY_STATUS_Widow                                  0\n",
       "NAME_HOUSING_TYPE_House / apartment                       0\n",
       "NAME_HOUSING_TYPE_Municipal apartment                     0\n",
       "NAME_HOUSING_TYPE_Office apartment                        0\n",
       "NAME_HOUSING_TYPE_Rented apartment                        0\n",
       "NAME_HOUSING_TYPE_With parents                            0\n",
       "dtype: int64"
      ]
     },
     "execution_count": 5,
     "metadata": {},
     "output_type": "execute_result"
    }
   ],
   "source": [
    "raw_df.isnull().sum()"
   ]
  },
  {
   "cell_type": "code",
   "execution_count": 6,
   "metadata": {},
   "outputs": [
    {
     "data": {
      "text/plain": [
       "1.4222454239942575"
      ]
     },
     "execution_count": 6,
     "metadata": {},
     "output_type": "execute_result"
    }
   ],
   "source": [
    "# Filling missing values with mean or mode\n",
    "raw_df['OBS_30_CNT_SOCIAL_CIRCLE'].mean()"
   ]
  },
  {
   "cell_type": "code",
   "execution_count": 7,
   "metadata": {},
   "outputs": [],
   "source": [
    "# replace missing values with mean or mode\n",
    "raw_df['OBS_30_CNT_SOCIAL_CIRCLE'].fillna(raw_df['OBS_30_CNT_SOCIAL_CIRCLE'].mean(),inplace=True)"
   ]
  },
  {
   "cell_type": "code",
   "execution_count": 8,
   "metadata": {},
   "outputs": [
    {
     "data": {
      "text/plain": [
       "0.1434206662533827"
      ]
     },
     "execution_count": 8,
     "metadata": {},
     "output_type": "execute_result"
    }
   ],
   "source": [
    "#Doing the same for other relavent features\n",
    "raw_df['DEF_30_CNT_SOCIAL_CIRCLE'].fillna(raw_df['DEF_30_CNT_SOCIAL_CIRCLE'].mean(),inplace=True)\n",
    "raw_df['DEF_30_CNT_SOCIAL_CIRCLE'].mean()"
   ]
  },
  {
   "cell_type": "code",
   "execution_count": 9,
   "metadata": {},
   "outputs": [
    {
     "data": {
      "text/plain": [
       "1.4052921791902133"
      ]
     },
     "execution_count": 9,
     "metadata": {},
     "output_type": "execute_result"
    }
   ],
   "source": [
    "raw_df['OBS_60_CNT_SOCIAL_CIRCLE'].fillna(raw_df['OBS_60_CNT_SOCIAL_CIRCLE'].mean(),inplace=True)\n",
    "raw_df['OBS_60_CNT_SOCIAL_CIRCLE'].mean()"
   ]
  },
  {
   "cell_type": "code",
   "execution_count": 10,
   "metadata": {},
   "outputs": [
    {
     "data": {
      "text/plain": [
       "0.10004894123788487"
      ]
     },
     "execution_count": 10,
     "metadata": {},
     "output_type": "execute_result"
    }
   ],
   "source": [
    "raw_df['DEF_60_CNT_SOCIAL_CIRCLE'].fillna(raw_df['DEF_60_CNT_SOCIAL_CIRCLE'].mean(),inplace=True)\n",
    "raw_df['DEF_60_CNT_SOCIAL_CIRCLE'].mean()"
   ]
  },
  {
   "cell_type": "code",
   "execution_count": 11,
   "metadata": {},
   "outputs": [
    {
     "data": {
      "text/plain": [
       "0.0"
      ]
     },
     "execution_count": 11,
     "metadata": {},
     "output_type": "execute_result"
    }
   ],
   "source": [
    "# replace missing values with mode\n",
    "raw_df['AMT_REQ_CREDIT_BUREAU_HOUR'].fillna(raw_df['AMT_REQ_CREDIT_BUREAU_HOUR'].mode()[0],inplace=True)\n",
    "raw_df['AMT_REQ_CREDIT_BUREAU_HOUR'].mode()[0]"
   ]
  },
  {
   "cell_type": "code",
   "execution_count": 12,
   "metadata": {},
   "outputs": [
    {
     "data": {
      "text/plain": [
       "0.0"
      ]
     },
     "execution_count": 12,
     "metadata": {},
     "output_type": "execute_result"
    }
   ],
   "source": [
    "raw_df['AMT_REQ_CREDIT_BUREAU_DAY'].fillna(raw_df['AMT_REQ_CREDIT_BUREAU_DAY'].mode()[0],inplace=True)\n",
    "raw_df['AMT_REQ_CREDIT_BUREAU_DAY'].mode()[0]"
   ]
  },
  {
   "cell_type": "code",
   "execution_count": 13,
   "metadata": {},
   "outputs": [
    {
     "data": {
      "text/plain": [
       "0.0"
      ]
     },
     "execution_count": 13,
     "metadata": {},
     "output_type": "execute_result"
    }
   ],
   "source": [
    "raw_df['AMT_REQ_CREDIT_BUREAU_WEEK'].fillna(raw_df['AMT_REQ_CREDIT_BUREAU_WEEK'].mode()[0],inplace=True)\n",
    "raw_df['AMT_REQ_CREDIT_BUREAU_WEEK'].mode()[0]"
   ]
  },
  {
   "cell_type": "code",
   "execution_count": 14,
   "metadata": {},
   "outputs": [
    {
     "data": {
      "text/plain": [
       "0.0"
      ]
     },
     "execution_count": 14,
     "metadata": {},
     "output_type": "execute_result"
    }
   ],
   "source": [
    "raw_df['AMT_REQ_CREDIT_BUREAU_MON'].fillna(raw_df['AMT_REQ_CREDIT_BUREAU_MON'].mode()[0],inplace=True)\n",
    "raw_df['AMT_REQ_CREDIT_BUREAU_MON'].mode()[0]"
   ]
  },
  {
   "cell_type": "code",
   "execution_count": 15,
   "metadata": {},
   "outputs": [
    {
     "data": {
      "text/plain": [
       "0.0"
      ]
     },
     "execution_count": 15,
     "metadata": {},
     "output_type": "execute_result"
    }
   ],
   "source": [
    "raw_df['AMT_REQ_CREDIT_BUREAU_QRT'].fillna(raw_df['AMT_REQ_CREDIT_BUREAU_QRT'].mode()[0],inplace=True)\n",
    "raw_df['AMT_REQ_CREDIT_BUREAU_QRT'].mode()[0]"
   ]
  },
  {
   "cell_type": "code",
   "execution_count": 16,
   "metadata": {},
   "outputs": [
    {
     "data": {
      "text/plain": [
       "0.0"
      ]
     },
     "execution_count": 16,
     "metadata": {},
     "output_type": "execute_result"
    }
   ],
   "source": [
    "raw_df['AMT_REQ_CREDIT_BUREAU_YEAR'].fillna(raw_df['AMT_REQ_CREDIT_BUREAU_YEAR'].mode()[0],inplace=True)\n",
    "raw_df['AMT_REQ_CREDIT_BUREAU_YEAR'].mode()[0]"
   ]
  },
  {
   "cell_type": "code",
   "execution_count": 17,
   "metadata": {},
   "outputs": [
    {
     "data": {
      "text/plain": [
       "-962.8587883320869"
      ]
     },
     "execution_count": 17,
     "metadata": {},
     "output_type": "execute_result"
    }
   ],
   "source": [
    "# replace missing values with mean\n",
    "raw_df['DAYS_LAST_PHONE_CHANGE'].fillna(raw_df['DAYS_LAST_PHONE_CHANGE'].mean(),inplace=True)\n",
    "raw_df['DAYS_LAST_PHONE_CHANGE'].mean()"
   ]
  },
  {
   "cell_type": "code",
   "execution_count": 18,
   "metadata": {},
   "outputs": [
    {
     "data": {
      "text/plain": [
       "0.5143926741308488"
      ]
     },
     "execution_count": 18,
     "metadata": {},
     "output_type": "execute_result"
    }
   ],
   "source": [
    "raw_df['EXT_SOURCE_2'].fillna(raw_df['EXT_SOURCE_2'].mean(),inplace=True)\n",
    "raw_df['EXT_SOURCE_2'].mean()"
   ]
  },
  {
   "cell_type": "code",
   "execution_count": 19,
   "metadata": {},
   "outputs": [
    {
     "data": {
      "text/plain": [
       "0.5108529061805426"
      ]
     },
     "execution_count": 19,
     "metadata": {},
     "output_type": "execute_result"
    }
   ],
   "source": [
    "raw_df['EXT_SOURCE_3'].fillna(raw_df['EXT_SOURCE_3'].mean(),inplace=True)\n",
    "raw_df['EXT_SOURCE_3'].mean()"
   ]
  },
  {
   "cell_type": "code",
   "execution_count": 20,
   "metadata": {},
   "outputs": [
    {
     "data": {
      "text/plain": [
       "TARGET                                                    0\n",
       "NAME_CONTRACT_TYPE                                        0\n",
       "FLAG_OWN_CAR                                              0\n",
       "CNT_CHILDREN                                              0\n",
       "AMT_INCOME_TOTAL                                          0\n",
       "AMT_CREDIT                                                0\n",
       "AMT_ANNUITY                                               0\n",
       "AMT_GOODS_PRICE                                           0\n",
       "REGION_POPULATION_RELATIVE                                0\n",
       "DAYS_BIRTH                                                0\n",
       "DAYS_EMPLOYED                                             0\n",
       "DAYS_REGISTRATION                                         0\n",
       "DAYS_ID_PUBLISH                                           0\n",
       "OWN_CAR_AGE                                          202929\n",
       "FLAG_MOBIL                                                0\n",
       "FLAG_EMP_PHONE                                            0\n",
       "FLAG_WORK_PHONE                                           0\n",
       "FLAG_CONT_MOBILE                                          0\n",
       "FLAG_PHONE                                                0\n",
       "FLAG_EMAIL                                                0\n",
       "OCCUPATION_TYPE                                           0\n",
       "CNT_FAM_MEMBERS                                           0\n",
       "REGION_RATING_CLIENT                                      0\n",
       "REGION_RATING_CLIENT_W_CITY                               0\n",
       "WEEKDAY_APPR_PROCESS_START                                0\n",
       "HOUR_APPR_PROCESS_START                                   0\n",
       "REG_REGION_NOT_LIVE_REGION                                0\n",
       "REG_REGION_NOT_WORK_REGION                                0\n",
       "LIVE_REGION_NOT_WORK_REGION                               0\n",
       "REG_CITY_NOT_LIVE_CITY                                    0\n",
       "REG_CITY_NOT_WORK_CITY                                    0\n",
       "LIVE_CITY_NOT_WORK_CITY                                   0\n",
       "ORGANIZATION_TYPE                                         0\n",
       "EXT_SOURCE_1                                         173378\n",
       "EXT_SOURCE_2                                              0\n",
       "EXT_SOURCE_3                                              0\n",
       "APARTMENTS_AVG                                       156061\n",
       "BASEMENTAREA_AVG                                     179943\n",
       "YEARS_BEGINEXPLUATATION_AVG                          150007\n",
       "YEARS_BUILD_AVG                                      204488\n",
       "COMMONAREA_AVG                                       214865\n",
       "ELEVATORS_AVG                                        163891\n",
       "ENTRANCES_AVG                                        154828\n",
       "FLOORSMAX_AVG                                        153020\n",
       "FLOORSMIN_AVG                                        208642\n",
       "LANDAREA_AVG                                         182590\n",
       "LIVINGAPARTMENTS_AVG                                 210199\n",
       "LIVINGAREA_AVG                                       154350\n",
       "NONLIVINGAPARTMENTS_AVG                              213514\n",
       "NONLIVINGAREA_AVG                                    169682\n",
       "APARTMENTS_MODE                                      156061\n",
       "BASEMENTAREA_MODE                                    179943\n",
       "YEARS_BEGINEXPLUATATION_MODE                         150007\n",
       "YEARS_BUILD_MODE                                     204488\n",
       "COMMONAREA_MODE                                      214865\n",
       "ELEVATORS_MODE                                       163891\n",
       "ENTRANCES_MODE                                       154828\n",
       "FLOORSMAX_MODE                                       153020\n",
       "FLOORSMIN_MODE                                       208642\n",
       "LANDAREA_MODE                                        182590\n",
       "LIVINGAPARTMENTS_MODE                                210199\n",
       "LIVINGAREA_MODE                                      154350\n",
       "NONLIVINGAPARTMENTS_MODE                             213514\n",
       "NONLIVINGAREA_MODE                                   169682\n",
       "APARTMENTS_MEDI                                      156061\n",
       "BASEMENTAREA_MEDI                                    179943\n",
       "YEARS_BEGINEXPLUATATION_MEDI                         150007\n",
       "YEARS_BUILD_MEDI                                     204488\n",
       "COMMONAREA_MEDI                                      214865\n",
       "ELEVATORS_MEDI                                       163891\n",
       "ENTRANCES_MEDI                                       154828\n",
       "FLOORSMAX_MEDI                                       153020\n",
       "FLOORSMIN_MEDI                                       208642\n",
       "LANDAREA_MEDI                                        182590\n",
       "LIVINGAPARTMENTS_MEDI                                210199\n",
       "LIVINGAREA_MEDI                                      154350\n",
       "NONLIVINGAPARTMENTS_MEDI                             213514\n",
       "NONLIVINGAREA_MEDI                                   169682\n",
       "FONDKAPREMONT_MODE                                   210295\n",
       "HOUSETYPE_MODE                                       154297\n",
       "TOTALAREA_MODE                                       148431\n",
       "WALLSMATERIAL_MODE                                   156341\n",
       "EMERGENCYSTATE_MODE                                  145755\n",
       "OBS_30_CNT_SOCIAL_CIRCLE                                  0\n",
       "DEF_30_CNT_SOCIAL_CIRCLE                                  0\n",
       "OBS_60_CNT_SOCIAL_CIRCLE                                  0\n",
       "DEF_60_CNT_SOCIAL_CIRCLE                                  0\n",
       "DAYS_LAST_PHONE_CHANGE                                    0\n",
       "FLAG_DOCUMENT_2                                           0\n",
       "FLAG_DOCUMENT_3                                           0\n",
       "FLAG_DOCUMENT_4                                           0\n",
       "FLAG_DOCUMENT_5                                           0\n",
       "FLAG_DOCUMENT_6                                           0\n",
       "FLAG_DOCUMENT_7                                           0\n",
       "FLAG_DOCUMENT_8                                           0\n",
       "FLAG_DOCUMENT_9                                           0\n",
       "FLAG_DOCUMENT_10                                          0\n",
       "FLAG_DOCUMENT_11                                          0\n",
       "FLAG_DOCUMENT_12                                          0\n",
       "FLAG_DOCUMENT_13                                          0\n",
       "FLAG_DOCUMENT_14                                          0\n",
       "FLAG_DOCUMENT_15                                          0\n",
       "FLAG_DOCUMENT_16                                          0\n",
       "FLAG_DOCUMENT_17                                          0\n",
       "FLAG_DOCUMENT_18                                          0\n",
       "FLAG_DOCUMENT_19                                          0\n",
       "FLAG_DOCUMENT_20                                          0\n",
       "FLAG_DOCUMENT_21                                          0\n",
       "AMT_REQ_CREDIT_BUREAU_HOUR                                0\n",
       "AMT_REQ_CREDIT_BUREAU_DAY                                 0\n",
       "AMT_REQ_CREDIT_BUREAU_WEEK                                0\n",
       "AMT_REQ_CREDIT_BUREAU_MON                                 0\n",
       "AMT_REQ_CREDIT_BUREAU_QRT                                 0\n",
       "AMT_REQ_CREDIT_BUREAU_YEAR                                0\n",
       "MALE                                                      0\n",
       "FEMALE                                                    0\n",
       "AMT_INCOME_TOTAL_MINMAX                                   0\n",
       "NAME_TYPE_SUITE_Family                                    0\n",
       "NAME_TYPE_SUITE_Group of people                           0\n",
       "NAME_TYPE_SUITE_Other_A                                   0\n",
       "NAME_TYPE_SUITE_Other_B                                   0\n",
       "NAME_TYPE_SUITE_Spouse, partner                           0\n",
       "NAME_TYPE_SUITE_Unaccompanied                             0\n",
       "NAME_INCOME_TYPE_Commercial associate                     0\n",
       "NAME_INCOME_TYPE_Maternity leave                          0\n",
       "NAME_INCOME_TYPE_Pensioner                                0\n",
       "NAME_INCOME_TYPE_State servant                            0\n",
       "NAME_INCOME_TYPE_Student                                  0\n",
       "NAME_INCOME_TYPE_Unemployed                               0\n",
       "NAME_INCOME_TYPE_Working                                  0\n",
       "NAME_EDUCATION_TYPE_Higher education                      0\n",
       "NAME_EDUCATION_TYPE_Incomplete higher                     0\n",
       "NAME_EDUCATION_TYPE_Lower secondary                       0\n",
       "NAME_EDUCATION_TYPE_Secondary / secondary special         0\n",
       "NAME_FAMILY_STATUS_Married                                0\n",
       "NAME_FAMILY_STATUS_Separated                              0\n",
       "NAME_FAMILY_STATUS_Single / not married                   0\n",
       "NAME_FAMILY_STATUS_Unknown                                0\n",
       "NAME_FAMILY_STATUS_Widow                                  0\n",
       "NAME_HOUSING_TYPE_House / apartment                       0\n",
       "NAME_HOUSING_TYPE_Municipal apartment                     0\n",
       "NAME_HOUSING_TYPE_Office apartment                        0\n",
       "NAME_HOUSING_TYPE_Rented apartment                        0\n",
       "NAME_HOUSING_TYPE_With parents                            0\n",
       "dtype: int64"
      ]
     },
     "execution_count": 20,
     "metadata": {},
     "output_type": "execute_result"
    }
   ],
   "source": [
    "raw_df.isnull().sum()"
   ]
  },
  {
   "cell_type": "code",
   "execution_count": 21,
   "metadata": {},
   "outputs": [],
   "source": [
    "#Drop the columns that has number of missing values >100000\n",
    "raw_df = raw_df.dropna(axis=1)"
   ]
  },
  {
   "cell_type": "code",
   "execution_count": 22,
   "metadata": {},
   "outputs": [
    {
     "data": {
      "text/plain": [
       "TARGET                                               0\n",
       "NAME_CONTRACT_TYPE                                   0\n",
       "FLAG_OWN_CAR                                         0\n",
       "CNT_CHILDREN                                         0\n",
       "AMT_INCOME_TOTAL                                     0\n",
       "AMT_CREDIT                                           0\n",
       "AMT_ANNUITY                                          0\n",
       "AMT_GOODS_PRICE                                      0\n",
       "REGION_POPULATION_RELATIVE                           0\n",
       "DAYS_BIRTH                                           0\n",
       "DAYS_EMPLOYED                                        0\n",
       "DAYS_REGISTRATION                                    0\n",
       "DAYS_ID_PUBLISH                                      0\n",
       "FLAG_MOBIL                                           0\n",
       "FLAG_EMP_PHONE                                       0\n",
       "FLAG_WORK_PHONE                                      0\n",
       "FLAG_CONT_MOBILE                                     0\n",
       "FLAG_PHONE                                           0\n",
       "FLAG_EMAIL                                           0\n",
       "OCCUPATION_TYPE                                      0\n",
       "CNT_FAM_MEMBERS                                      0\n",
       "REGION_RATING_CLIENT                                 0\n",
       "REGION_RATING_CLIENT_W_CITY                          0\n",
       "WEEKDAY_APPR_PROCESS_START                           0\n",
       "HOUR_APPR_PROCESS_START                              0\n",
       "REG_REGION_NOT_LIVE_REGION                           0\n",
       "REG_REGION_NOT_WORK_REGION                           0\n",
       "LIVE_REGION_NOT_WORK_REGION                          0\n",
       "REG_CITY_NOT_LIVE_CITY                               0\n",
       "REG_CITY_NOT_WORK_CITY                               0\n",
       "LIVE_CITY_NOT_WORK_CITY                              0\n",
       "ORGANIZATION_TYPE                                    0\n",
       "EXT_SOURCE_2                                         0\n",
       "EXT_SOURCE_3                                         0\n",
       "OBS_30_CNT_SOCIAL_CIRCLE                             0\n",
       "DEF_30_CNT_SOCIAL_CIRCLE                             0\n",
       "OBS_60_CNT_SOCIAL_CIRCLE                             0\n",
       "DEF_60_CNT_SOCIAL_CIRCLE                             0\n",
       "DAYS_LAST_PHONE_CHANGE                               0\n",
       "FLAG_DOCUMENT_2                                      0\n",
       "FLAG_DOCUMENT_3                                      0\n",
       "FLAG_DOCUMENT_4                                      0\n",
       "FLAG_DOCUMENT_5                                      0\n",
       "FLAG_DOCUMENT_6                                      0\n",
       "FLAG_DOCUMENT_7                                      0\n",
       "FLAG_DOCUMENT_8                                      0\n",
       "FLAG_DOCUMENT_9                                      0\n",
       "FLAG_DOCUMENT_10                                     0\n",
       "FLAG_DOCUMENT_11                                     0\n",
       "FLAG_DOCUMENT_12                                     0\n",
       "FLAG_DOCUMENT_13                                     0\n",
       "FLAG_DOCUMENT_14                                     0\n",
       "FLAG_DOCUMENT_15                                     0\n",
       "FLAG_DOCUMENT_16                                     0\n",
       "FLAG_DOCUMENT_17                                     0\n",
       "FLAG_DOCUMENT_18                                     0\n",
       "FLAG_DOCUMENT_19                                     0\n",
       "FLAG_DOCUMENT_20                                     0\n",
       "FLAG_DOCUMENT_21                                     0\n",
       "AMT_REQ_CREDIT_BUREAU_HOUR                           0\n",
       "AMT_REQ_CREDIT_BUREAU_DAY                            0\n",
       "AMT_REQ_CREDIT_BUREAU_WEEK                           0\n",
       "AMT_REQ_CREDIT_BUREAU_MON                            0\n",
       "AMT_REQ_CREDIT_BUREAU_QRT                            0\n",
       "AMT_REQ_CREDIT_BUREAU_YEAR                           0\n",
       "MALE                                                 0\n",
       "FEMALE                                               0\n",
       "AMT_INCOME_TOTAL_MINMAX                              0\n",
       "NAME_TYPE_SUITE_Family                               0\n",
       "NAME_TYPE_SUITE_Group of people                      0\n",
       "NAME_TYPE_SUITE_Other_A                              0\n",
       "NAME_TYPE_SUITE_Other_B                              0\n",
       "NAME_TYPE_SUITE_Spouse, partner                      0\n",
       "NAME_TYPE_SUITE_Unaccompanied                        0\n",
       "NAME_INCOME_TYPE_Commercial associate                0\n",
       "NAME_INCOME_TYPE_Maternity leave                     0\n",
       "NAME_INCOME_TYPE_Pensioner                           0\n",
       "NAME_INCOME_TYPE_State servant                       0\n",
       "NAME_INCOME_TYPE_Student                             0\n",
       "NAME_INCOME_TYPE_Unemployed                          0\n",
       "NAME_INCOME_TYPE_Working                             0\n",
       "NAME_EDUCATION_TYPE_Higher education                 0\n",
       "NAME_EDUCATION_TYPE_Incomplete higher                0\n",
       "NAME_EDUCATION_TYPE_Lower secondary                  0\n",
       "NAME_EDUCATION_TYPE_Secondary / secondary special    0\n",
       "NAME_FAMILY_STATUS_Married                           0\n",
       "NAME_FAMILY_STATUS_Separated                         0\n",
       "NAME_FAMILY_STATUS_Single / not married              0\n",
       "NAME_FAMILY_STATUS_Unknown                           0\n",
       "NAME_FAMILY_STATUS_Widow                             0\n",
       "NAME_HOUSING_TYPE_House / apartment                  0\n",
       "NAME_HOUSING_TYPE_Municipal apartment                0\n",
       "NAME_HOUSING_TYPE_Office apartment                   0\n",
       "NAME_HOUSING_TYPE_Rented apartment                   0\n",
       "NAME_HOUSING_TYPE_With parents                       0\n",
       "dtype: int64"
      ]
     },
     "execution_count": 22,
     "metadata": {},
     "output_type": "execute_result"
    }
   ],
   "source": [
    "raw_df.isnull().sum()"
   ]
  },
  {
   "cell_type": "code",
   "execution_count": 23,
   "metadata": {},
   "outputs": [],
   "source": [
    "#Save the data to a new file\n",
    "raw_df.to_csv('raw_no_missing.csv')"
   ]
  },
  {
   "cell_type": "markdown",
   "metadata": {},
   "source": [
    "### Perform one-hot encoding (Not suitable for Naive Bayes Classification)"
   ]
  },
  {
   "cell_type": "code",
   "execution_count": 24,
   "metadata": {},
   "outputs": [],
   "source": [
    "raw_df = pd.get_dummies(raw_df, columns=['NAME_CONTRACT_TYPE','OCCUPATION_TYPE','FLAG_OWN_CAR','WEEKDAY_APPR_PROCESS_START','ORGANIZATION_TYPE','MALE'],drop_first = True)\n",
    "\n",
    "#p.s. for Naive Bayes Classification, set drop_first = False. Also, no need modification on MALE and FEMALE.\n",
    "# Also for NB, do not drop Female \n",
    "raw_df = raw_df.drop(columns='FEMALE')"
   ]
  },
  {
   "cell_type": "code",
   "execution_count": 25,
   "metadata": {},
   "outputs": [
    {
     "data": {
      "text/plain": [
       "TARGET                                               0\n",
       "CNT_CHILDREN                                         0\n",
       "AMT_INCOME_TOTAL                                     0\n",
       "AMT_CREDIT                                           0\n",
       "AMT_ANNUITY                                          0\n",
       "AMT_GOODS_PRICE                                      0\n",
       "REGION_POPULATION_RELATIVE                           0\n",
       "DAYS_BIRTH                                           0\n",
       "DAYS_EMPLOYED                                        0\n",
       "DAYS_REGISTRATION                                    0\n",
       "DAYS_ID_PUBLISH                                      0\n",
       "FLAG_MOBIL                                           0\n",
       "FLAG_EMP_PHONE                                       0\n",
       "FLAG_WORK_PHONE                                      0\n",
       "FLAG_CONT_MOBILE                                     0\n",
       "FLAG_PHONE                                           0\n",
       "FLAG_EMAIL                                           0\n",
       "CNT_FAM_MEMBERS                                      0\n",
       "REGION_RATING_CLIENT                                 0\n",
       "REGION_RATING_CLIENT_W_CITY                          0\n",
       "HOUR_APPR_PROCESS_START                              0\n",
       "REG_REGION_NOT_LIVE_REGION                           0\n",
       "REG_REGION_NOT_WORK_REGION                           0\n",
       "LIVE_REGION_NOT_WORK_REGION                          0\n",
       "REG_CITY_NOT_LIVE_CITY                               0\n",
       "REG_CITY_NOT_WORK_CITY                               0\n",
       "LIVE_CITY_NOT_WORK_CITY                              0\n",
       "EXT_SOURCE_2                                         0\n",
       "EXT_SOURCE_3                                         0\n",
       "OBS_30_CNT_SOCIAL_CIRCLE                             0\n",
       "DEF_30_CNT_SOCIAL_CIRCLE                             0\n",
       "OBS_60_CNT_SOCIAL_CIRCLE                             0\n",
       "DEF_60_CNT_SOCIAL_CIRCLE                             0\n",
       "DAYS_LAST_PHONE_CHANGE                               0\n",
       "FLAG_DOCUMENT_2                                      0\n",
       "FLAG_DOCUMENT_3                                      0\n",
       "FLAG_DOCUMENT_4                                      0\n",
       "FLAG_DOCUMENT_5                                      0\n",
       "FLAG_DOCUMENT_6                                      0\n",
       "FLAG_DOCUMENT_7                                      0\n",
       "FLAG_DOCUMENT_8                                      0\n",
       "FLAG_DOCUMENT_9                                      0\n",
       "FLAG_DOCUMENT_10                                     0\n",
       "FLAG_DOCUMENT_11                                     0\n",
       "FLAG_DOCUMENT_12                                     0\n",
       "FLAG_DOCUMENT_13                                     0\n",
       "FLAG_DOCUMENT_14                                     0\n",
       "FLAG_DOCUMENT_15                                     0\n",
       "FLAG_DOCUMENT_16                                     0\n",
       "FLAG_DOCUMENT_17                                     0\n",
       "FLAG_DOCUMENT_18                                     0\n",
       "FLAG_DOCUMENT_19                                     0\n",
       "FLAG_DOCUMENT_20                                     0\n",
       "FLAG_DOCUMENT_21                                     0\n",
       "AMT_REQ_CREDIT_BUREAU_HOUR                           0\n",
       "AMT_REQ_CREDIT_BUREAU_DAY                            0\n",
       "AMT_REQ_CREDIT_BUREAU_WEEK                           0\n",
       "AMT_REQ_CREDIT_BUREAU_MON                            0\n",
       "AMT_REQ_CREDIT_BUREAU_QRT                            0\n",
       "AMT_REQ_CREDIT_BUREAU_YEAR                           0\n",
       "AMT_INCOME_TOTAL_MINMAX                              0\n",
       "NAME_TYPE_SUITE_Family                               0\n",
       "NAME_TYPE_SUITE_Group of people                      0\n",
       "NAME_TYPE_SUITE_Other_A                              0\n",
       "NAME_TYPE_SUITE_Other_B                              0\n",
       "NAME_TYPE_SUITE_Spouse, partner                      0\n",
       "NAME_TYPE_SUITE_Unaccompanied                        0\n",
       "NAME_INCOME_TYPE_Commercial associate                0\n",
       "NAME_INCOME_TYPE_Maternity leave                     0\n",
       "NAME_INCOME_TYPE_Pensioner                           0\n",
       "NAME_INCOME_TYPE_State servant                       0\n",
       "NAME_INCOME_TYPE_Student                             0\n",
       "NAME_INCOME_TYPE_Unemployed                          0\n",
       "NAME_INCOME_TYPE_Working                             0\n",
       "NAME_EDUCATION_TYPE_Higher education                 0\n",
       "NAME_EDUCATION_TYPE_Incomplete higher                0\n",
       "NAME_EDUCATION_TYPE_Lower secondary                  0\n",
       "NAME_EDUCATION_TYPE_Secondary / secondary special    0\n",
       "NAME_FAMILY_STATUS_Married                           0\n",
       "NAME_FAMILY_STATUS_Separated                         0\n",
       "NAME_FAMILY_STATUS_Single / not married              0\n",
       "NAME_FAMILY_STATUS_Unknown                           0\n",
       "NAME_FAMILY_STATUS_Widow                             0\n",
       "NAME_HOUSING_TYPE_House / apartment                  0\n",
       "NAME_HOUSING_TYPE_Municipal apartment                0\n",
       "NAME_HOUSING_TYPE_Office apartment                   0\n",
       "NAME_HOUSING_TYPE_Rented apartment                   0\n",
       "NAME_HOUSING_TYPE_With parents                       0\n",
       "NAME_CONTRACT_TYPE_Revolving loans                   0\n",
       "OCCUPATION_TYPE_Cleaning staff                       0\n",
       "OCCUPATION_TYPE_Cooking staff                        0\n",
       "OCCUPATION_TYPE_Core staff                           0\n",
       "OCCUPATION_TYPE_Drivers                              0\n",
       "OCCUPATION_TYPE_HR staff                             0\n",
       "OCCUPATION_TYPE_High skill tech staff                0\n",
       "OCCUPATION_TYPE_IT staff                             0\n",
       "OCCUPATION_TYPE_Laborers                             0\n",
       "OCCUPATION_TYPE_Low-skill Laborers                   0\n",
       "OCCUPATION_TYPE_Managers                             0\n",
       "OCCUPATION_TYPE_Medicine staff                       0\n",
       "OCCUPATION_TYPE_Private service staff                0\n",
       "OCCUPATION_TYPE_Realty agents                        0\n",
       "OCCUPATION_TYPE_Sales staff                          0\n",
       "OCCUPATION_TYPE_Secretaries                          0\n",
       "OCCUPATION_TYPE_Security staff                       0\n",
       "OCCUPATION_TYPE_Waiters/barmen staff                 0\n",
       "FLAG_OWN_CAR_Y                                       0\n",
       "WEEKDAY_APPR_PROCESS_START_MONDAY                    0\n",
       "WEEKDAY_APPR_PROCESS_START_SATURDAY                  0\n",
       "WEEKDAY_APPR_PROCESS_START_SUNDAY                    0\n",
       "WEEKDAY_APPR_PROCESS_START_THURSDAY                  0\n",
       "WEEKDAY_APPR_PROCESS_START_TUESDAY                   0\n",
       "WEEKDAY_APPR_PROCESS_START_WEDNESDAY                 0\n",
       "ORGANIZATION_TYPE_Agriculture                        0\n",
       "ORGANIZATION_TYPE_Bank                               0\n",
       "ORGANIZATION_TYPE_Business Entity Type 1             0\n",
       "ORGANIZATION_TYPE_Business Entity Type 2             0\n",
       "ORGANIZATION_TYPE_Business Entity Type 3             0\n",
       "ORGANIZATION_TYPE_Cleaning                           0\n",
       "ORGANIZATION_TYPE_Construction                       0\n",
       "ORGANIZATION_TYPE_Culture                            0\n",
       "ORGANIZATION_TYPE_Electricity                        0\n",
       "ORGANIZATION_TYPE_Emergency                          0\n",
       "ORGANIZATION_TYPE_Government                         0\n",
       "ORGANIZATION_TYPE_Hotel                              0\n",
       "ORGANIZATION_TYPE_Housing                            0\n",
       "ORGANIZATION_TYPE_Industry: type 1                   0\n",
       "ORGANIZATION_TYPE_Industry: type 10                  0\n",
       "ORGANIZATION_TYPE_Industry: type 11                  0\n",
       "ORGANIZATION_TYPE_Industry: type 12                  0\n",
       "ORGANIZATION_TYPE_Industry: type 13                  0\n",
       "ORGANIZATION_TYPE_Industry: type 2                   0\n",
       "ORGANIZATION_TYPE_Industry: type 3                   0\n",
       "ORGANIZATION_TYPE_Industry: type 4                   0\n",
       "ORGANIZATION_TYPE_Industry: type 5                   0\n",
       "ORGANIZATION_TYPE_Industry: type 6                   0\n",
       "ORGANIZATION_TYPE_Industry: type 7                   0\n",
       "ORGANIZATION_TYPE_Industry: type 8                   0\n",
       "ORGANIZATION_TYPE_Industry: type 9                   0\n",
       "ORGANIZATION_TYPE_Insurance                          0\n",
       "ORGANIZATION_TYPE_Kindergarten                       0\n",
       "ORGANIZATION_TYPE_Legal Services                     0\n",
       "ORGANIZATION_TYPE_Medicine                           0\n",
       "ORGANIZATION_TYPE_Military                           0\n",
       "ORGANIZATION_TYPE_Mobile                             0\n",
       "ORGANIZATION_TYPE_Other                              0\n",
       "ORGANIZATION_TYPE_Police                             0\n",
       "ORGANIZATION_TYPE_Postal                             0\n",
       "ORGANIZATION_TYPE_Realtor                            0\n",
       "ORGANIZATION_TYPE_Religion                           0\n",
       "ORGANIZATION_TYPE_Restaurant                         0\n",
       "ORGANIZATION_TYPE_School                             0\n",
       "ORGANIZATION_TYPE_Security                           0\n",
       "ORGANIZATION_TYPE_Security Ministries                0\n",
       "ORGANIZATION_TYPE_Self-employed                      0\n",
       "ORGANIZATION_TYPE_Services                           0\n",
       "ORGANIZATION_TYPE_Telecom                            0\n",
       "ORGANIZATION_TYPE_Trade: type 1                      0\n",
       "ORGANIZATION_TYPE_Trade: type 2                      0\n",
       "ORGANIZATION_TYPE_Trade: type 3                      0\n",
       "ORGANIZATION_TYPE_Trade: type 4                      0\n",
       "ORGANIZATION_TYPE_Trade: type 5                      0\n",
       "ORGANIZATION_TYPE_Trade: type 6                      0\n",
       "ORGANIZATION_TYPE_Trade: type 7                      0\n",
       "ORGANIZATION_TYPE_Transport: type 1                  0\n",
       "ORGANIZATION_TYPE_Transport: type 2                  0\n",
       "ORGANIZATION_TYPE_Transport: type 3                  0\n",
       "ORGANIZATION_TYPE_Transport: type 4                  0\n",
       "ORGANIZATION_TYPE_University                         0\n",
       "ORGANIZATION_TYPE_XNA                                0\n",
       "MALE_True                                            0\n",
       "dtype: int64"
      ]
     },
     "execution_count": 25,
     "metadata": {},
     "output_type": "execute_result"
    }
   ],
   "source": [
    "raw_df.isnull().sum()"
   ]
  },
  {
   "cell_type": "markdown",
   "metadata": {},
   "source": [
    "## split data into train and hold-out test sets"
   ]
  },
  {
   "cell_type": "code",
   "execution_count": 26,
   "metadata": {},
   "outputs": [],
   "source": [
    "# split data into train and test sets\n",
    "from sklearn.model_selection import train_test_split\n",
    "\n",
    "train_df, test_df = train_test_split(raw_df, test_size=0.2, random_state=3360)"
   ]
  },
  {
   "cell_type": "code",
   "execution_count": 27,
   "metadata": {},
   "outputs": [],
   "source": [
    "# save the datasets and write to csv\n",
    "\n",
    "train_df.to_csv('train.csv')\n",
    "test_df.to_csv('test.csv')"
   ]
  },
  {
   "cell_type": "markdown",
   "metadata": {},
   "source": [
    "### Let's build the first Decision Tree\n",
    "we will use all the train data to construct the tree and evaluate the model"
   ]
  },
  {
   "cell_type": "code",
   "execution_count": 28,
   "metadata": {},
   "outputs": [],
   "source": [
    "# import libraries\n",
    "import numpy as np\n",
    "import pandas as pd\n",
    "import matplotlib as mpl\n",
    "import matplotlib.pyplot as plt"
   ]
  },
  {
   "cell_type": "code",
   "execution_count": 29,
   "metadata": {},
   "outputs": [],
   "source": [
    "# Load cleaned data\n",
    "train_df = pd.read_csv('train.csv',index_col = 'SK_ID_CURR')\n",
    "test_df = pd.read_csv('test.csv',index_col = 'SK_ID_CURR')"
   ]
  },
  {
   "cell_type": "code",
   "execution_count": 30,
   "metadata": {},
   "outputs": [
    {
     "data": {
      "text/html": [
       "<div>\n",
       "<style scoped>\n",
       "    .dataframe tbody tr th:only-of-type {\n",
       "        vertical-align: middle;\n",
       "    }\n",
       "\n",
       "    .dataframe tbody tr th {\n",
       "        vertical-align: top;\n",
       "    }\n",
       "\n",
       "    .dataframe thead th {\n",
       "        text-align: right;\n",
       "    }\n",
       "</style>\n",
       "<table border=\"1\" class=\"dataframe\">\n",
       "  <thead>\n",
       "    <tr style=\"text-align: right;\">\n",
       "      <th></th>\n",
       "      <th>TARGET</th>\n",
       "      <th>CNT_CHILDREN</th>\n",
       "      <th>AMT_INCOME_TOTAL</th>\n",
       "      <th>AMT_CREDIT</th>\n",
       "      <th>AMT_ANNUITY</th>\n",
       "      <th>AMT_GOODS_PRICE</th>\n",
       "      <th>REGION_POPULATION_RELATIVE</th>\n",
       "      <th>DAYS_BIRTH</th>\n",
       "      <th>DAYS_EMPLOYED</th>\n",
       "      <th>DAYS_REGISTRATION</th>\n",
       "      <th>...</th>\n",
       "      <th>ORGANIZATION_TYPE_Trade: type 5</th>\n",
       "      <th>ORGANIZATION_TYPE_Trade: type 6</th>\n",
       "      <th>ORGANIZATION_TYPE_Trade: type 7</th>\n",
       "      <th>ORGANIZATION_TYPE_Transport: type 1</th>\n",
       "      <th>ORGANIZATION_TYPE_Transport: type 2</th>\n",
       "      <th>ORGANIZATION_TYPE_Transport: type 3</th>\n",
       "      <th>ORGANIZATION_TYPE_Transport: type 4</th>\n",
       "      <th>ORGANIZATION_TYPE_University</th>\n",
       "      <th>ORGANIZATION_TYPE_XNA</th>\n",
       "      <th>MALE_True</th>\n",
       "    </tr>\n",
       "    <tr>\n",
       "      <th>SK_ID_CURR</th>\n",
       "      <th></th>\n",
       "      <th></th>\n",
       "      <th></th>\n",
       "      <th></th>\n",
       "      <th></th>\n",
       "      <th></th>\n",
       "      <th></th>\n",
       "      <th></th>\n",
       "      <th></th>\n",
       "      <th></th>\n",
       "      <th></th>\n",
       "      <th></th>\n",
       "      <th></th>\n",
       "      <th></th>\n",
       "      <th></th>\n",
       "      <th></th>\n",
       "      <th></th>\n",
       "      <th></th>\n",
       "      <th></th>\n",
       "      <th></th>\n",
       "      <th></th>\n",
       "    </tr>\n",
       "  </thead>\n",
       "  <tbody>\n",
       "    <tr>\n",
       "      <td>269894</td>\n",
       "      <td>0</td>\n",
       "      <td>0</td>\n",
       "      <td>135000.0</td>\n",
       "      <td>1288350.0</td>\n",
       "      <td>37800.0</td>\n",
       "      <td>1125000.0</td>\n",
       "      <td>0.008866</td>\n",
       "      <td>-16164</td>\n",
       "      <td>-2502</td>\n",
       "      <td>-7968.0</td>\n",
       "      <td>...</td>\n",
       "      <td>0</td>\n",
       "      <td>0</td>\n",
       "      <td>0</td>\n",
       "      <td>0</td>\n",
       "      <td>0</td>\n",
       "      <td>0</td>\n",
       "      <td>0</td>\n",
       "      <td>0</td>\n",
       "      <td>0</td>\n",
       "      <td>0</td>\n",
       "    </tr>\n",
       "    <tr>\n",
       "      <td>242625</td>\n",
       "      <td>0</td>\n",
       "      <td>0</td>\n",
       "      <td>34650.0</td>\n",
       "      <td>99000.0</td>\n",
       "      <td>10791.0</td>\n",
       "      <td>99000.0</td>\n",
       "      <td>0.028663</td>\n",
       "      <td>-21891</td>\n",
       "      <td>365243</td>\n",
       "      <td>-9290.0</td>\n",
       "      <td>...</td>\n",
       "      <td>0</td>\n",
       "      <td>0</td>\n",
       "      <td>0</td>\n",
       "      <td>0</td>\n",
       "      <td>0</td>\n",
       "      <td>0</td>\n",
       "      <td>0</td>\n",
       "      <td>0</td>\n",
       "      <td>1</td>\n",
       "      <td>0</td>\n",
       "    </tr>\n",
       "    <tr>\n",
       "      <td>444013</td>\n",
       "      <td>0</td>\n",
       "      <td>1</td>\n",
       "      <td>382500.0</td>\n",
       "      <td>481176.0</td>\n",
       "      <td>23278.5</td>\n",
       "      <td>360000.0</td>\n",
       "      <td>0.020713</td>\n",
       "      <td>-15829</td>\n",
       "      <td>-2133</td>\n",
       "      <td>-298.0</td>\n",
       "      <td>...</td>\n",
       "      <td>0</td>\n",
       "      <td>0</td>\n",
       "      <td>0</td>\n",
       "      <td>0</td>\n",
       "      <td>0</td>\n",
       "      <td>0</td>\n",
       "      <td>0</td>\n",
       "      <td>0</td>\n",
       "      <td>0</td>\n",
       "      <td>1</td>\n",
       "    </tr>\n",
       "    <tr>\n",
       "      <td>232333</td>\n",
       "      <td>0</td>\n",
       "      <td>0</td>\n",
       "      <td>180000.0</td>\n",
       "      <td>354276.0</td>\n",
       "      <td>13486.5</td>\n",
       "      <td>292500.0</td>\n",
       "      <td>0.007020</td>\n",
       "      <td>-21480</td>\n",
       "      <td>365243</td>\n",
       "      <td>-12551.0</td>\n",
       "      <td>...</td>\n",
       "      <td>0</td>\n",
       "      <td>0</td>\n",
       "      <td>0</td>\n",
       "      <td>0</td>\n",
       "      <td>0</td>\n",
       "      <td>0</td>\n",
       "      <td>0</td>\n",
       "      <td>0</td>\n",
       "      <td>1</td>\n",
       "      <td>0</td>\n",
       "    </tr>\n",
       "    <tr>\n",
       "      <td>309827</td>\n",
       "      <td>0</td>\n",
       "      <td>0</td>\n",
       "      <td>90000.0</td>\n",
       "      <td>239850.0</td>\n",
       "      <td>28593.0</td>\n",
       "      <td>225000.0</td>\n",
       "      <td>0.022800</td>\n",
       "      <td>-8165</td>\n",
       "      <td>-1580</td>\n",
       "      <td>-2736.0</td>\n",
       "      <td>...</td>\n",
       "      <td>0</td>\n",
       "      <td>0</td>\n",
       "      <td>0</td>\n",
       "      <td>0</td>\n",
       "      <td>0</td>\n",
       "      <td>0</td>\n",
       "      <td>0</td>\n",
       "      <td>0</td>\n",
       "      <td>0</td>\n",
       "      <td>0</td>\n",
       "    </tr>\n",
       "  </tbody>\n",
       "</table>\n",
       "<p>5 rows × 171 columns</p>\n",
       "</div>"
      ],
      "text/plain": [
       "            TARGET  CNT_CHILDREN  AMT_INCOME_TOTAL  AMT_CREDIT  AMT_ANNUITY  \\\n",
       "SK_ID_CURR                                                                    \n",
       "269894           0             0          135000.0   1288350.0      37800.0   \n",
       "242625           0             0           34650.0     99000.0      10791.0   \n",
       "444013           0             1          382500.0    481176.0      23278.5   \n",
       "232333           0             0          180000.0    354276.0      13486.5   \n",
       "309827           0             0           90000.0    239850.0      28593.0   \n",
       "\n",
       "            AMT_GOODS_PRICE  REGION_POPULATION_RELATIVE  DAYS_BIRTH  \\\n",
       "SK_ID_CURR                                                            \n",
       "269894            1125000.0                    0.008866      -16164   \n",
       "242625              99000.0                    0.028663      -21891   \n",
       "444013             360000.0                    0.020713      -15829   \n",
       "232333             292500.0                    0.007020      -21480   \n",
       "309827             225000.0                    0.022800       -8165   \n",
       "\n",
       "            DAYS_EMPLOYED  DAYS_REGISTRATION  ...  \\\n",
       "SK_ID_CURR                                    ...   \n",
       "269894              -2502            -7968.0  ...   \n",
       "242625             365243            -9290.0  ...   \n",
       "444013              -2133             -298.0  ...   \n",
       "232333             365243           -12551.0  ...   \n",
       "309827              -1580            -2736.0  ...   \n",
       "\n",
       "            ORGANIZATION_TYPE_Trade: type 5  ORGANIZATION_TYPE_Trade: type 6  \\\n",
       "SK_ID_CURR                                                                     \n",
       "269894                                    0                                0   \n",
       "242625                                    0                                0   \n",
       "444013                                    0                                0   \n",
       "232333                                    0                                0   \n",
       "309827                                    0                                0   \n",
       "\n",
       "            ORGANIZATION_TYPE_Trade: type 7  \\\n",
       "SK_ID_CURR                                    \n",
       "269894                                    0   \n",
       "242625                                    0   \n",
       "444013                                    0   \n",
       "232333                                    0   \n",
       "309827                                    0   \n",
       "\n",
       "            ORGANIZATION_TYPE_Transport: type 1  \\\n",
       "SK_ID_CURR                                        \n",
       "269894                                        0   \n",
       "242625                                        0   \n",
       "444013                                        0   \n",
       "232333                                        0   \n",
       "309827                                        0   \n",
       "\n",
       "            ORGANIZATION_TYPE_Transport: type 2  \\\n",
       "SK_ID_CURR                                        \n",
       "269894                                        0   \n",
       "242625                                        0   \n",
       "444013                                        0   \n",
       "232333                                        0   \n",
       "309827                                        0   \n",
       "\n",
       "            ORGANIZATION_TYPE_Transport: type 3  \\\n",
       "SK_ID_CURR                                        \n",
       "269894                                        0   \n",
       "242625                                        0   \n",
       "444013                                        0   \n",
       "232333                                        0   \n",
       "309827                                        0   \n",
       "\n",
       "            ORGANIZATION_TYPE_Transport: type 4  ORGANIZATION_TYPE_University  \\\n",
       "SK_ID_CURR                                                                      \n",
       "269894                                        0                             0   \n",
       "242625                                        0                             0   \n",
       "444013                                        0                             0   \n",
       "232333                                        0                             0   \n",
       "309827                                        0                             0   \n",
       "\n",
       "            ORGANIZATION_TYPE_XNA  MALE_True  \n",
       "SK_ID_CURR                                    \n",
       "269894                          0          0  \n",
       "242625                          1          0  \n",
       "444013                          0          1  \n",
       "232333                          1          0  \n",
       "309827                          0          0  \n",
       "\n",
       "[5 rows x 171 columns]"
      ]
     },
     "execution_count": 30,
     "metadata": {},
     "output_type": "execute_result"
    }
   ],
   "source": [
    "train_df.head()"
   ]
  },
  {
   "cell_type": "markdown",
   "metadata": {},
   "source": [
    "#### Step 1: Define features and target variable"
   ]
  },
  {
   "cell_type": "code",
   "execution_count": 31,
   "metadata": {},
   "outputs": [
    {
     "data": {
      "text/plain": [
       "['AMT_ANNUITY',\n",
       " 'AMT_CREDIT',\n",
       " 'AMT_GOODS_PRICE',\n",
       " 'AMT_INCOME_TOTAL',\n",
       " 'AMT_INCOME_TOTAL_MINMAX',\n",
       " 'AMT_REQ_CREDIT_BUREAU_DAY',\n",
       " 'AMT_REQ_CREDIT_BUREAU_HOUR',\n",
       " 'AMT_REQ_CREDIT_BUREAU_MON',\n",
       " 'AMT_REQ_CREDIT_BUREAU_QRT',\n",
       " 'AMT_REQ_CREDIT_BUREAU_WEEK',\n",
       " 'AMT_REQ_CREDIT_BUREAU_YEAR',\n",
       " 'CNT_CHILDREN',\n",
       " 'CNT_FAM_MEMBERS',\n",
       " 'DAYS_BIRTH',\n",
       " 'DAYS_EMPLOYED',\n",
       " 'DAYS_ID_PUBLISH',\n",
       " 'DAYS_LAST_PHONE_CHANGE',\n",
       " 'DAYS_REGISTRATION',\n",
       " 'DEF_30_CNT_SOCIAL_CIRCLE',\n",
       " 'DEF_60_CNT_SOCIAL_CIRCLE',\n",
       " 'EXT_SOURCE_2',\n",
       " 'EXT_SOURCE_3',\n",
       " 'FLAG_CONT_MOBILE',\n",
       " 'FLAG_DOCUMENT_10',\n",
       " 'FLAG_DOCUMENT_11',\n",
       " 'FLAG_DOCUMENT_12',\n",
       " 'FLAG_DOCUMENT_13',\n",
       " 'FLAG_DOCUMENT_14',\n",
       " 'FLAG_DOCUMENT_15',\n",
       " 'FLAG_DOCUMENT_16',\n",
       " 'FLAG_DOCUMENT_17',\n",
       " 'FLAG_DOCUMENT_18',\n",
       " 'FLAG_DOCUMENT_19',\n",
       " 'FLAG_DOCUMENT_2',\n",
       " 'FLAG_DOCUMENT_20',\n",
       " 'FLAG_DOCUMENT_21',\n",
       " 'FLAG_DOCUMENT_3',\n",
       " 'FLAG_DOCUMENT_4',\n",
       " 'FLAG_DOCUMENT_5',\n",
       " 'FLAG_DOCUMENT_6',\n",
       " 'FLAG_DOCUMENT_7',\n",
       " 'FLAG_DOCUMENT_8',\n",
       " 'FLAG_DOCUMENT_9',\n",
       " 'FLAG_EMAIL',\n",
       " 'FLAG_EMP_PHONE',\n",
       " 'FLAG_MOBIL',\n",
       " 'FLAG_OWN_CAR_Y',\n",
       " 'FLAG_PHONE',\n",
       " 'FLAG_WORK_PHONE',\n",
       " 'HOUR_APPR_PROCESS_START',\n",
       " 'LIVE_CITY_NOT_WORK_CITY',\n",
       " 'LIVE_REGION_NOT_WORK_REGION',\n",
       " 'MALE_True',\n",
       " 'NAME_CONTRACT_TYPE_Revolving loans',\n",
       " 'NAME_EDUCATION_TYPE_Higher education',\n",
       " 'NAME_EDUCATION_TYPE_Incomplete higher',\n",
       " 'NAME_EDUCATION_TYPE_Lower secondary',\n",
       " 'NAME_EDUCATION_TYPE_Secondary / secondary special',\n",
       " 'NAME_FAMILY_STATUS_Married',\n",
       " 'NAME_FAMILY_STATUS_Separated',\n",
       " 'NAME_FAMILY_STATUS_Single / not married',\n",
       " 'NAME_FAMILY_STATUS_Unknown',\n",
       " 'NAME_FAMILY_STATUS_Widow',\n",
       " 'NAME_HOUSING_TYPE_House / apartment',\n",
       " 'NAME_HOUSING_TYPE_Municipal apartment',\n",
       " 'NAME_HOUSING_TYPE_Office apartment',\n",
       " 'NAME_HOUSING_TYPE_Rented apartment',\n",
       " 'NAME_HOUSING_TYPE_With parents',\n",
       " 'NAME_INCOME_TYPE_Commercial associate',\n",
       " 'NAME_INCOME_TYPE_Maternity leave',\n",
       " 'NAME_INCOME_TYPE_Pensioner',\n",
       " 'NAME_INCOME_TYPE_State servant',\n",
       " 'NAME_INCOME_TYPE_Student',\n",
       " 'NAME_INCOME_TYPE_Unemployed',\n",
       " 'NAME_INCOME_TYPE_Working',\n",
       " 'NAME_TYPE_SUITE_Family',\n",
       " 'NAME_TYPE_SUITE_Group of people',\n",
       " 'NAME_TYPE_SUITE_Other_A',\n",
       " 'NAME_TYPE_SUITE_Other_B',\n",
       " 'NAME_TYPE_SUITE_Spouse, partner',\n",
       " 'NAME_TYPE_SUITE_Unaccompanied',\n",
       " 'OBS_30_CNT_SOCIAL_CIRCLE',\n",
       " 'OBS_60_CNT_SOCIAL_CIRCLE',\n",
       " 'OCCUPATION_TYPE_Cleaning staff',\n",
       " 'OCCUPATION_TYPE_Cooking staff',\n",
       " 'OCCUPATION_TYPE_Core staff',\n",
       " 'OCCUPATION_TYPE_Drivers',\n",
       " 'OCCUPATION_TYPE_HR staff',\n",
       " 'OCCUPATION_TYPE_High skill tech staff',\n",
       " 'OCCUPATION_TYPE_IT staff',\n",
       " 'OCCUPATION_TYPE_Laborers',\n",
       " 'OCCUPATION_TYPE_Low-skill Laborers',\n",
       " 'OCCUPATION_TYPE_Managers',\n",
       " 'OCCUPATION_TYPE_Medicine staff',\n",
       " 'OCCUPATION_TYPE_Private service staff',\n",
       " 'OCCUPATION_TYPE_Realty agents',\n",
       " 'OCCUPATION_TYPE_Sales staff',\n",
       " 'OCCUPATION_TYPE_Secretaries',\n",
       " 'OCCUPATION_TYPE_Security staff',\n",
       " 'OCCUPATION_TYPE_Waiters/barmen staff',\n",
       " 'ORGANIZATION_TYPE_Agriculture',\n",
       " 'ORGANIZATION_TYPE_Bank',\n",
       " 'ORGANIZATION_TYPE_Business Entity Type 1',\n",
       " 'ORGANIZATION_TYPE_Business Entity Type 2',\n",
       " 'ORGANIZATION_TYPE_Business Entity Type 3',\n",
       " 'ORGANIZATION_TYPE_Cleaning',\n",
       " 'ORGANIZATION_TYPE_Construction',\n",
       " 'ORGANIZATION_TYPE_Culture',\n",
       " 'ORGANIZATION_TYPE_Electricity',\n",
       " 'ORGANIZATION_TYPE_Emergency',\n",
       " 'ORGANIZATION_TYPE_Government',\n",
       " 'ORGANIZATION_TYPE_Hotel',\n",
       " 'ORGANIZATION_TYPE_Housing',\n",
       " 'ORGANIZATION_TYPE_Industry: type 1',\n",
       " 'ORGANIZATION_TYPE_Industry: type 10',\n",
       " 'ORGANIZATION_TYPE_Industry: type 11',\n",
       " 'ORGANIZATION_TYPE_Industry: type 12',\n",
       " 'ORGANIZATION_TYPE_Industry: type 13',\n",
       " 'ORGANIZATION_TYPE_Industry: type 2',\n",
       " 'ORGANIZATION_TYPE_Industry: type 3',\n",
       " 'ORGANIZATION_TYPE_Industry: type 4',\n",
       " 'ORGANIZATION_TYPE_Industry: type 5',\n",
       " 'ORGANIZATION_TYPE_Industry: type 6',\n",
       " 'ORGANIZATION_TYPE_Industry: type 7',\n",
       " 'ORGANIZATION_TYPE_Industry: type 8',\n",
       " 'ORGANIZATION_TYPE_Industry: type 9',\n",
       " 'ORGANIZATION_TYPE_Insurance',\n",
       " 'ORGANIZATION_TYPE_Kindergarten',\n",
       " 'ORGANIZATION_TYPE_Legal Services',\n",
       " 'ORGANIZATION_TYPE_Medicine',\n",
       " 'ORGANIZATION_TYPE_Military',\n",
       " 'ORGANIZATION_TYPE_Mobile',\n",
       " 'ORGANIZATION_TYPE_Other',\n",
       " 'ORGANIZATION_TYPE_Police',\n",
       " 'ORGANIZATION_TYPE_Postal',\n",
       " 'ORGANIZATION_TYPE_Realtor',\n",
       " 'ORGANIZATION_TYPE_Religion',\n",
       " 'ORGANIZATION_TYPE_Restaurant',\n",
       " 'ORGANIZATION_TYPE_School',\n",
       " 'ORGANIZATION_TYPE_Security',\n",
       " 'ORGANIZATION_TYPE_Security Ministries',\n",
       " 'ORGANIZATION_TYPE_Self-employed',\n",
       " 'ORGANIZATION_TYPE_Services',\n",
       " 'ORGANIZATION_TYPE_Telecom',\n",
       " 'ORGANIZATION_TYPE_Trade: type 1',\n",
       " 'ORGANIZATION_TYPE_Trade: type 2',\n",
       " 'ORGANIZATION_TYPE_Trade: type 3',\n",
       " 'ORGANIZATION_TYPE_Trade: type 4',\n",
       " 'ORGANIZATION_TYPE_Trade: type 5',\n",
       " 'ORGANIZATION_TYPE_Trade: type 6',\n",
       " 'ORGANIZATION_TYPE_Trade: type 7',\n",
       " 'ORGANIZATION_TYPE_Transport: type 1',\n",
       " 'ORGANIZATION_TYPE_Transport: type 2',\n",
       " 'ORGANIZATION_TYPE_Transport: type 3',\n",
       " 'ORGANIZATION_TYPE_Transport: type 4',\n",
       " 'ORGANIZATION_TYPE_University',\n",
       " 'ORGANIZATION_TYPE_XNA',\n",
       " 'REGION_POPULATION_RELATIVE',\n",
       " 'REGION_RATING_CLIENT',\n",
       " 'REGION_RATING_CLIENT_W_CITY',\n",
       " 'REG_CITY_NOT_LIVE_CITY',\n",
       " 'REG_CITY_NOT_WORK_CITY',\n",
       " 'REG_REGION_NOT_LIVE_REGION',\n",
       " 'REG_REGION_NOT_WORK_REGION',\n",
       " 'WEEKDAY_APPR_PROCESS_START_MONDAY',\n",
       " 'WEEKDAY_APPR_PROCESS_START_SATURDAY',\n",
       " 'WEEKDAY_APPR_PROCESS_START_SUNDAY',\n",
       " 'WEEKDAY_APPR_PROCESS_START_THURSDAY',\n",
       " 'WEEKDAY_APPR_PROCESS_START_TUESDAY',\n",
       " 'WEEKDAY_APPR_PROCESS_START_WEDNESDAY']"
      ]
     },
     "execution_count": 31,
     "metadata": {},
     "output_type": "execute_result"
    }
   ],
   "source": [
    "#Get column names\n",
    "attirbutes =sorted(train_df)\n",
    "attirbutes.remove('TARGET')\n",
    "attirbutes"
   ]
  },
  {
   "cell_type": "code",
   "execution_count": 32,
   "metadata": {},
   "outputs": [],
   "source": [
    "# define independent variables / attirbutes / features\n",
    "features = attirbutes\n",
    "# define one single target variable / label\n",
    "target = ['TARGET']\n",
    "\n",
    "# get defined training dataset\n",
    "X = train_df[features]\n",
    "y = train_df[target]"
   ]
  },
  {
   "cell_type": "markdown",
   "metadata": {},
   "source": [
    "#### Step 2: Split data into training and validation set"
   ]
  },
  {
   "cell_type": "code",
   "execution_count": 33,
   "metadata": {},
   "outputs": [
    {
     "name": "stdout",
     "output_type": "stream",
     "text": [
      "<class 'pandas.core.frame.DataFrame'>\n",
      "Int64Index: 196806 entries, 329669 to 137065\n",
      "Columns: 170 entries, AMT_ANNUITY to WEEKDAY_APPR_PROCESS_START_WEDNESDAY\n",
      "dtypes: float64(21), int64(149)\n",
      "memory usage: 256.8 MB\n"
     ]
    }
   ],
   "source": [
    "# import train split function\n",
    "from sklearn.model_selection import train_test_split\n",
    "\n",
    "# split data into 80% and 20%, put 20% in testing\n",
    "X_train, X_val, y_train, y_val = train_test_split(X, y, test_size=0.2, random_state=3360)\n",
    "\n",
    "X_train.info()"
   ]
  },
  {
   "cell_type": "markdown",
   "metadata": {},
   "source": [
    "#### Step 3: Build a Tree based on 80% train data"
   ]
  },
  {
   "cell_type": "code",
   "execution_count": 34,
   "metadata": {},
   "outputs": [],
   "source": [
    "# import DecisionTreeClassifier\n",
    "from sklearn.tree import DecisionTreeClassifier"
   ]
  },
  {
   "cell_type": "code",
   "execution_count": 35,
   "metadata": {},
   "outputs": [],
   "source": [
    "# define our model as a decision tree model\n",
    "model = DecisionTreeClassifier(random_state=3360)"
   ]
  },
  {
   "cell_type": "code",
   "execution_count": 36,
   "metadata": {},
   "outputs": [
    {
     "data": {
      "text/plain": [
       "DecisionTreeClassifier(class_weight=None, criterion='gini', max_depth=None,\n",
       "                       max_features=None, max_leaf_nodes=None,\n",
       "                       min_impurity_decrease=0.0, min_impurity_split=None,\n",
       "                       min_samples_leaf=1, min_samples_split=2,\n",
       "                       min_weight_fraction_leaf=0.0, presort=False,\n",
       "                       random_state=3360, splitter='best')"
      ]
     },
     "execution_count": 36,
     "metadata": {},
     "output_type": "execute_result"
    }
   ],
   "source": [
    "# build the decision tree model based on defalut hyperparameter settings\n",
    "model.fit(X_train, y_train)"
   ]
  },
  {
   "cell_type": "markdown",
   "metadata": {},
   "source": [
    "#### Visualize the Decision Tree? No. Tree is too big to be visualized."
   ]
  },
  {
   "cell_type": "code",
   "execution_count": 37,
   "metadata": {},
   "outputs": [],
   "source": [
    "# import library for visuaiization\n",
    "# from sklearn import tree\n",
    "# import matplotlib.pyplot as plt"
   ]
  },
  {
   "cell_type": "code",
   "execution_count": 38,
   "metadata": {},
   "outputs": [],
   "source": [
    "# plt.figure(figsize = (100,150))\n",
    "# tree.plot_tree(model,ax=None, fontsize=50)\n",
    "# plt.show()"
   ]
  },
  {
   "cell_type": "markdown",
   "metadata": {},
   "source": [
    "#### Step 4: Evaluate the model on 20% validation set"
   ]
  },
  {
   "cell_type": "markdown",
   "metadata": {},
   "source": [
    "- Calculate:\n",
    "  - Accuracy\n",
    "  - Precision\n",
    "  - Recall\n",
    "  <!-- - F1 score -->\n",
    "- Display confusion matrix"
   ]
  },
  {
   "cell_type": "code",
   "execution_count": 39,
   "metadata": {},
   "outputs": [],
   "source": [
    "# import evaluation tools\n",
    "from sklearn.metrics import accuracy_score\n",
    "from sklearn.metrics import classification_report\n",
    "from sklearn.metrics import confusion_matrix\n",
    "from sklearn.metrics import roc_curve, auc"
   ]
  },
  {
   "cell_type": "code",
   "execution_count": 40,
   "metadata": {},
   "outputs": [],
   "source": [
    "# test model base on 20% data\n",
    "pred_val = model.predict(X_val)"
   ]
  },
  {
   "cell_type": "code",
   "execution_count": 41,
   "metadata": {},
   "outputs": [
    {
     "name": "stdout",
     "output_type": "stream",
     "text": [
      "Accuracy from 20% test data: 0.851997886264786\n",
      "Confusion Matrix \n",
      " [[41254  3926]\n",
      " [ 3356   666]]\n",
      "Classification Report: \n",
      "               precision    recall  f1-score   support\n",
      "\n",
      "           0       0.92      0.91      0.92     45180\n",
      "           1       0.15      0.17      0.15      4022\n",
      "\n",
      "    accuracy                           0.85     49202\n",
      "   macro avg       0.53      0.54      0.54     49202\n",
      "weighted avg       0.86      0.85      0.86     49202\n",
      "\n"
     ]
    }
   ],
   "source": [
    "# print evaluation result for 20% test data\n",
    "print(\"Accuracy from 20% test data:\",accuracy_score(y_val, pred_val, normalize=True, sample_weight=None))\n",
    "print(\"Confusion Matrix\", '\\n', confusion_matrix(y_val, pred_val))\n",
    "print(\"Classification Report:\", '\\n', classification_report(y_val, pred_val))"
   ]
  },
  {
   "cell_type": "code",
   "execution_count": 42,
   "metadata": {},
   "outputs": [],
   "source": [
    "# test model base on 80% data for training\n",
    "pred_val_Xtrain= model.predict(X_train)"
   ]
  },
  {
   "cell_type": "code",
   "execution_count": 43,
   "metadata": {},
   "outputs": [
    {
     "name": "stdout",
     "output_type": "stream",
     "text": [
      "Accuracy from 80% train data: 1.0\n",
      "Confusion Matrix \n",
      " [[180885      0]\n",
      " [     0  15921]]\n",
      "Classification Report: \n",
      "               precision    recall  f1-score   support\n",
      "\n",
      "           0       1.00      1.00      1.00    180885\n",
      "           1       1.00      1.00      1.00     15921\n",
      "\n",
      "    accuracy                           1.00    196806\n",
      "   macro avg       1.00      1.00      1.00    196806\n",
      "weighted avg       1.00      1.00      1.00    196806\n",
      "\n"
     ]
    }
   ],
   "source": [
    "# print evaluation result for 80% train data\n",
    "print(\"Accuracy from 80% train data:\",accuracy_score(y_train, pred_val_Xtrain, normalize=True, sample_weight=None))\n",
    "print(\"Confusion Matrix\", '\\n', confusion_matrix(y_train, pred_val_Xtrain))\n",
    "print(\"Classification Report:\", '\\n', classification_report(y_train, pred_val_Xtrain))"
   ]
  },
  {
   "cell_type": "markdown",
   "metadata": {},
   "source": [
    "Since the difference between training and validation accuracy is substantial and the training accuracy is 100%, overfitting occured in this model with default hyperparameters.  \n",
    "There are 3 methods to reduce overfitting:\n",
    "- Hyperparameter tuning (manual)\n",
    "- Cross validation\n",
    "- Hyperparameter tuning (via GridSearchCV)"
   ]
  },
  {
   "cell_type": "markdown",
   "metadata": {},
   "source": [
    "### Manual Hyperparameter Tuning (Tuning tree depth)"
   ]
  },
  {
   "cell_type": "markdown",
   "metadata": {},
   "source": [
    "#### Let's fit the decision tree with depths ranging from 1 to 32 and plot the train and test accuracy scores"
   ]
  },
  {
   "cell_type": "code",
   "execution_count": 44,
   "metadata": {},
   "outputs": [],
   "source": [
    "# create an array that holds the max_depth\n",
    "max_depth = np. linspace(1,32,32, endpoint=True)"
   ]
  },
  {
   "cell_type": "code",
   "execution_count": 45,
   "metadata": {},
   "outputs": [
    {
     "data": {
      "text/plain": [
       "array([ 1.,  2.,  3.,  4.,  5.,  6.,  7.,  8.,  9., 10., 11., 12., 13.,\n",
       "       14., 15., 16., 17., 18., 19., 20., 21., 22., 23., 24., 25., 26.,\n",
       "       27., 28., 29., 30., 31., 32.])"
      ]
     },
     "execution_count": 45,
     "metadata": {},
     "output_type": "execute_result"
    }
   ],
   "source": [
    "max_depth"
   ]
  },
  {
   "cell_type": "code",
   "execution_count": 46,
   "metadata": {},
   "outputs": [],
   "source": [
    "# create a loop to try out different depth value\n",
    "train_results =[]\n",
    "test_results = []\n",
    "# create a loop to try out all the number from 1 to 32 for max_depths in a decision tree\n",
    "for max_depth_i in max_depth:\n",
    "    dt = DecisionTreeClassifier(max_depth=max_depth_i)\n",
    "    dt.fit(X_train, y_train)\n",
    "    \n",
    "    train_pred = dt.predict(X_train)\n",
    "    accuracy = accuracy_score(y_train, train_pred, normalize=True, sample_weight=None)\n",
    "    train_results.append(accuracy)\n",
    "    \n",
    "    y_pred = dt.predict(X_val)\n",
    "    accuracy = accuracy_score(y_val, y_pred, normalize=True, sample_weight=None)\n",
    "    test_results.append(accuracy)"
   ]
  },
  {
   "cell_type": "code",
   "execution_count": 47,
   "metadata": {},
   "outputs": [
    {
     "data": {
      "image/png": "[encoded data removed]",
      "text/plain": [
       "<Figure size 432x288 with 1 Axes>"
      ]
     },
     "metadata": {
      "needs_background": "light"
     },
     "output_type": "display_data"
    }
   ],
   "source": [
    "from matplotlib.legend_handler import HandlerLine2D\n",
    "line1, = plt.plot(max_depth, train_results, 'b', label='Train accuracy')\n",
    "line2, = plt.plot(max_depth, test_results, 'r', label='Test accuracy')\n",
    "plt.legend(handler_map={line1: HandlerLine2D(numpoints=2)})\n",
    "plt.ylabel('Accuracy score')\n",
    "plt.xlabel('Tree depth')\n",
    "plt.show()"
   ]
  },
  {
   "cell_type": "markdown",
   "metadata": {},
   "source": [
    "It seems that max_depth around 2-5 is appropriate."
   ]
  },
  {
   "cell_type": "markdown",
   "metadata": {},
   "source": [
    "### 5-fold Cross validation for tuning min_samples_leaf"
   ]
  },
  {
   "cell_type": "code",
   "execution_count": 48,
   "metadata": {},
   "outputs": [],
   "source": [
    "# Function to plot the results\n",
    "def plot_fitting_curves(results):\n",
    "    results.plot(\"min_leaves\")\n",
    "    plt.ylabel(\"Accuracy\")\n",
    "    plt.xlabel(\"Min samples per leaf (inverse of complexity)\")\n",
    "    plt.show()"
   ]
  },
  {
   "cell_type": "code",
   "execution_count": 49,
   "metadata": {},
   "outputs": [
    {
     "name": "stdout",
     "output_type": "stream",
     "text": [
      "Size of training data: 157444\n",
      "Size of validation data: 49202\n"
     ]
    },
    {
     "data": {
      "image/png": "[encoded data removed]",
      "text/plain": [
       "<Figure size 432x288 with 1 Axes>"
      ]
     },
     "metadata": {
      "needs_background": "light"
     },
     "output_type": "display_data"
    }
   ],
   "source": [
    "# Split into a sub training set and validation set\n",
    "X_strain, X_val2, y_strain, y_val2 = train_test_split(X_train, y_train, test_size=0.2, random_state=3360)\n",
    "print(f\"Size of training data: {X_strain.shape[0]}\")\n",
    "print(f\"Size of validation data: {X_val.shape[0]}\")\n",
    "\n",
    "min_leaves = range(1,80,5)\n",
    "\n",
    "Accuracy_val = []\n",
    "for m in min_leaves:\n",
    "    # We train the model with only a portion of the training data (the 'sub-training' data set)\n",
    "    model_val = DecisionTreeClassifier(min_samples_leaf=m, random_state=3360)\n",
    "    model_val.fit(X_strain, y_strain)\n",
    "    predictions_val = model_val.predict(X_val2)\n",
    "    # And we evaluate in the validation set\n",
    "    accuracy_val = accuracy_score(y_val2, predictions_val,normalize=True, sample_weight=None)\n",
    "    Accuracy_val.append(accuracy_val)\n",
    "\n",
    "results = pd.DataFrame({\"min_leaves\": min_leaves, \"validation\":Accuracy_val})\n",
    "plot_fitting_curves(results)"
   ]
  },
  {
   "cell_type": "code",
   "execution_count": 50,
   "metadata": {},
   "outputs": [
    {
     "data": {
      "image/png": "[encoded data removed]",
      "text/plain": [
       "<Figure size 432x288 with 1 Axes>"
      ]
     },
     "metadata": {
      "needs_background": "light"
     },
     "output_type": "display_data"
    }
   ],
   "source": [
    "from sklearn.model_selection import cross_val_predict\n",
    "\n",
    "Accuracy_cv = []\n",
    "for m in min_leaves:\n",
    "    # Define hyperparamter for complexity control\n",
    "    model_cv = DecisionTreeClassifier(min_samples_leaf=m, random_state=3360)\n",
    "    # Evaluate the performance of the hyperparameter with cross validation. \n",
    "    # The parameter 'cv' is used to determine the number of splits (folds). \n",
    "    predictions_cv = cross_val_predict(model_cv, X_train, y_train, cv=5)\n",
    "    accuracy_cv = accuracy_score(y_train, predictions_cv,normalize=True, sample_weight=None)\n",
    "    Accuracy_cv.append(accuracy_cv)\n",
    "\n",
    "results = pd.DataFrame({\"min_leaves\": min_leaves, \"validation\":Accuracy_val, \"cross-validation\":Accuracy_cv})\n",
    "plot_fitting_curves(results)"
   ]
  },
  {
   "cell_type": "markdown",
   "metadata": {},
   "source": [
    "### GridSearchCV"
   ]
  },
  {
   "cell_type": "code",
   "execution_count": 51,
   "metadata": {},
   "outputs": [],
   "source": [
    "# create try_grid\n",
    "try_grid = [{'max_leaf_nodes': np.arange(2, 9)*20,                   # 40,  60,  80, 100, 120, 140, 160\n",
    "             'min_samples_split': np.arange(2, 6)}]                  # 2 - 5"
   ]
  },
  {
   "cell_type": "code",
   "execution_count": 52,
   "metadata": {},
   "outputs": [],
   "source": [
    "from sklearn.model_selection import GridSearchCV\n",
    "\n",
    "# create GridSearchCV object\n",
    "DTM = GridSearchCV(DecisionTreeClassifier(random_state=3360), param_grid=try_grid, cv=4)"
   ]
  },
  {
   "cell_type": "code",
   "execution_count": 53,
   "metadata": {},
   "outputs": [
    {
     "data": {
      "text/plain": [
       "GridSearchCV(cv=4, error_score='raise-deprecating',\n",
       "             estimator=DecisionTreeClassifier(class_weight=None,\n",
       "                                              criterion='gini', max_depth=None,\n",
       "                                              max_features=None,\n",
       "                                              max_leaf_nodes=None,\n",
       "                                              min_impurity_decrease=0.0,\n",
       "                                              min_impurity_split=None,\n",
       "                                              min_samples_leaf=1,\n",
       "                                              min_samples_split=2,\n",
       "                                              min_weight_fraction_leaf=0.0,\n",
       "                                              presort=False, random_state=3360,\n",
       "                                              splitter='best'),\n",
       "             iid='warn', n_jobs=None,\n",
       "             param_grid=[{'max_leaf_nodes': array([ 40,  60,  80, 100, 120, 140, 160]),\n",
       "                          'min_samples_split': array([2, 3, 4, 5])}],\n",
       "             pre_dispatch='2*n_jobs', refit=True, return_train_score=False,\n",
       "             scoring=None, verbose=0)"
      ]
     },
     "execution_count": 53,
     "metadata": {},
     "output_type": "execute_result"
    }
   ],
   "source": [
    "DTM.fit(X_train,y_train)"
   ]
  },
  {
   "cell_type": "code",
   "execution_count": 54,
   "metadata": {},
   "outputs": [
    {
     "data": {
      "text/plain": [
       "{'max_leaf_nodes': 40, 'min_samples_split': 2}"
      ]
     },
     "execution_count": 54,
     "metadata": {},
     "output_type": "execute_result"
    }
   ],
   "source": [
    "# find the best parameters\n",
    "DTM.best_params_"
   ]
  },
  {
   "cell_type": "code",
   "execution_count": 55,
   "metadata": {},
   "outputs": [
    {
     "data": {
      "text/plain": [
       "0.9186508541406257"
      ]
     },
     "execution_count": 55,
     "metadata": {},
     "output_type": "execute_result"
    }
   ],
   "source": [
    "DTM.best_score_"
   ]
  },
  {
   "cell_type": "markdown",
   "metadata": {},
   "source": [
    "##### Combination of hyperparameters above\n",
    "- max_depth = 5\n",
    "- max_leaf_nodes = 40\n",
    "- min_samples_split = 2\n",
    "- min_samples_leaf = 70"
   ]
  },
  {
   "cell_type": "code",
   "execution_count": 56,
   "metadata": {},
   "outputs": [],
   "source": [
    "my_model = DecisionTreeClassifier(max_leaf_nodes = 40, max_depth = 5,min_samples_leaf=70 ,min_samples_split=2)"
   ]
  },
  {
   "cell_type": "code",
   "execution_count": 57,
   "metadata": {},
   "outputs": [
    {
     "data": {
      "text/plain": [
       "DecisionTreeClassifier(class_weight=None, criterion='gini', max_depth=5,\n",
       "                       max_features=None, max_leaf_nodes=40,\n",
       "                       min_impurity_decrease=0.0, min_impurity_split=None,\n",
       "                       min_samples_leaf=70, min_samples_split=2,\n",
       "                       min_weight_fraction_leaf=0.0, presort=False,\n",
       "                       random_state=None, splitter='best')"
      ]
     },
     "execution_count": 57,
     "metadata": {},
     "output_type": "execute_result"
    }
   ],
   "source": [
    "my_model.fit(X_train,y_train)"
   ]
  },
  {
   "cell_type": "code",
   "execution_count": 58,
   "metadata": {},
   "outputs": [],
   "source": [
    "y_predict = my_model.predict(X_val)"
   ]
  },
  {
   "cell_type": "code",
   "execution_count": 59,
   "metadata": {},
   "outputs": [
    {
     "data": {
      "text/plain": [
       "0.9182553554733548"
      ]
     },
     "execution_count": 59,
     "metadata": {},
     "output_type": "execute_result"
    }
   ],
   "source": [
    "accuracy_score(y_val, y_predict, normalize=True, sample_weight=None)"
   ]
  },
  {
   "cell_type": "code",
   "execution_count": 60,
   "metadata": {},
   "outputs": [
    {
     "name": "stdout",
     "output_type": "stream",
     "text": [
      "Accuracy: 0.9182553554733548\n",
      "Confusion Matrix \n",
      " [[45180     0]\n",
      " [ 4022     0]]\n",
      "Classification Report: \n",
      "               precision    recall  f1-score   support\n",
      "\n",
      "           0       0.92      1.00      0.96     45180\n",
      "           1       0.00      0.00      0.00      4022\n",
      "\n",
      "    accuracy                           0.92     49202\n",
      "   macro avg       0.46      0.50      0.48     49202\n",
      "weighted avg       0.84      0.92      0.88     49202\n",
      "\n"
     ]
    },
    {
     "name": "stderr",
     "output_type": "stream",
     "text": [
      "C:\\Users\\wclee\\Anaconda3\\lib\\site-packages\\sklearn\\metrics\\classification.py:1437: UndefinedMetricWarning: Precision and F-score are ill-defined and being set to 0.0 in labels with no predicted samples.\n",
      "  'precision', 'predicted', average, warn_for)\n"
     ]
    }
   ],
   "source": [
    "print(\"Accuracy:\",accuracy_score(y_val, y_predict, normalize=True, sample_weight=None))\n",
    "print(\"Confusion Matrix\", '\\n', confusion_matrix(y_val, y_predict))\n",
    "print(\"Classification Report:\", '\\n', classification_report(y_val, y_predict))"
   ]
  },
  {
   "cell_type": "markdown",
   "metadata": {},
   "source": [
    "Something wrong with the model. The model is making predictions of all 0s. That means the model is not doing anything better than the majority classifier!!\n",
    "Potential reason: There might exist some irrelevant variables which leads to\n",
    "unnecessary complexity"
   ]
  },
  {
   "cell_type": "markdown",
   "metadata": {},
   "source": [
    "## Balancing the data"
   ]
  },
  {
   "cell_type": "code",
   "execution_count": 71,
   "metadata": {},
   "outputs": [
    {
     "name": "stdout",
     "output_type": "stream",
     "text": [
      "Out of  246008  customers, only 19943  cutomers default!\n"
     ]
    }
   ],
   "source": [
    "print(\"Out of \", train_df.shape[0], \" customers, only\", train_df['TARGET'].sum(), \" cutomers default!\")"
   ]
  },
  {
   "cell_type": "markdown",
   "metadata": {},
   "source": [
    "### Downsample the nondefault cases"
   ]
  },
  {
   "cell_type": "code",
   "execution_count": 72,
   "metadata": {},
   "outputs": [
    {
     "name": "stdout",
     "output_type": "stream",
     "text": [
      "Out of  39886  customers,  19943  customers default!\n"
     ]
    }
   ],
   "source": [
    "balanced_train = train_df.drop(train_df[train_df.TARGET==0].index[0:206122])\n",
    "print(\"Out of \", balanced_train.shape[0], \" customers, \", balanced_train['TARGET'].sum(), \" customers default!\")"
   ]
  },
  {
   "cell_type": "code",
   "execution_count": 75,
   "metadata": {},
   "outputs": [
    {
     "name": "stdout",
     "output_type": "stream",
     "text": [
      "Out of  61503  customers, only 4882  cutomers default!\n"
     ]
    }
   ],
   "source": [
    "print(\"Out of \", test_df.shape[0], \" customers, only\", test_df['TARGET'].sum(), \" cutomers default!\")"
   ]
  },
  {
   "cell_type": "code",
   "execution_count": 77,
   "metadata": {},
   "outputs": [
    {
     "name": "stdout",
     "output_type": "stream",
     "text": [
      "Out of  9764  customers,  4882  customers default!\n"
     ]
    }
   ],
   "source": [
    "balanced_test = test_df.drop(test_df[test_df.TARGET==0].index[0:51739])\n",
    "print(\"Out of \", balanced_test.shape[0], \" customers, \", balanced_test['TARGET'].sum(), \" customers default!\")"
   ]
  },
  {
   "cell_type": "markdown",
   "metadata": {},
   "source": [
    "## Feature selection"
   ]
  },
  {
   "cell_type": "code",
   "execution_count": 70,
   "metadata": {},
   "outputs": [],
   "source": [
    "import pandas as pd\n",
    "import numpy as np\n",
    "import seaborn as sn\n",
    "import matplotlib.pyplot as plt\n",
    "%matplotlib inline\n",
    "import statsmodels.api as smf\n",
    "from scipy.stats import chi2_contingency"
   ]
  },
  {
   "cell_type": "markdown",
   "metadata": {},
   "source": [
    "#### Use  correlation coefficient to find 30 most important features which have higher associations with response variable Y."
   ]
  },
  {
   "cell_type": "code",
   "execution_count": 73,
   "metadata": {},
   "outputs": [
    {
     "data": {
      "text/plain": [
       "EXT_SOURCE_3                                         0.276989\n",
       "EXT_SOURCE_2                                         0.270417\n",
       "DAYS_BIRTH                                           0.143473\n",
       "REGION_RATING_CLIENT_W_CITY                          0.112715\n",
       "REGION_RATING_CLIENT                                 0.107632\n",
       "NAME_EDUCATION_TYPE_Higher education                 0.107554\n",
       "DAYS_LAST_PHONE_CHANGE                               0.100500\n",
       "NAME_INCOME_TYPE_Working                             0.098406\n",
       "NAME_EDUCATION_TYPE_Secondary / secondary special    0.094827\n",
       "DAYS_ID_PUBLISH                                      0.092455\n",
       "MALE_True                                            0.092070\n",
       "NAME_INCOME_TYPE_Pensioner                           0.088799\n",
       "FLAG_EMP_PHONE                                       0.088433\n",
       "ORGANIZATION_TYPE_XNA                                0.088433\n",
       "FLAG_DOCUMENT_3                                      0.087773\n",
       "DAYS_EMPLOYED                                        0.086398\n",
       "REG_CITY_NOT_WORK_CITY                               0.086238\n",
       "AMT_GOODS_PRICE                                      0.081302\n",
       "DAYS_REGISTRATION                                    0.078690\n",
       "REG_CITY_NOT_LIVE_CITY                               0.072572\n",
       "REGION_POPULATION_RELATIVE                           0.071300\n",
       "DEF_30_CNT_SOCIAL_CIRCLE                             0.063907\n",
       "NAME_CONTRACT_TYPE_Revolving loans                   0.062918\n",
       "AMT_CREDIT                                           0.062649\n",
       "DEF_60_CNT_SOCIAL_CIRCLE                             0.060492\n",
       "LIVE_CITY_NOT_WORK_CITY                              0.055955\n",
       "FLAG_DOCUMENT_6                                      0.055899\n",
       "NAME_FAMILY_STATUS_Single / not married              0.054821\n",
       "ORGANIZATION_TYPE_Self-employed                      0.054240\n",
       "NAME_FAMILY_STATUS_Married                           0.050776\n",
       "Name: TARGET, dtype: float64"
      ]
     },
     "execution_count": 73,
     "metadata": {},
     "output_type": "execute_result"
    }
   ],
   "source": [
    "np.abs(balanced_train.corr()[\"TARGET\"]).sort_values(ascending=False).iloc[1:31]"
   ]
  },
  {
   "cell_type": "code",
   "execution_count": 74,
   "metadata": {},
   "outputs": [
    {
     "name": "stdout",
     "output_type": "stream",
     "text": [
      "REGION_RATING_CLIENT REGION_RATING_CLIENT_W_CITY 0.9518590317009158\n",
      "FLAG_EMP_PHONE NAME_INCOME_TYPE_Pensioner -0.9995149394810388\n",
      "ORGANIZATION_TYPE_XNA NAME_INCOME_TYPE_Pensioner 0.9995149394810388\n",
      "ORGANIZATION_TYPE_XNA FLAG_EMP_PHONE -1.0\n",
      "DAYS_EMPLOYED NAME_INCOME_TYPE_Pensioner 0.9994032640918377\n",
      "DAYS_EMPLOYED FLAG_EMP_PHONE -0.9998883910844905\n",
      "DAYS_EMPLOYED ORGANIZATION_TYPE_XNA 0.9998883910844905\n",
      "AMT_CREDIT AMT_GOODS_PRICE 0.9848234175019529\n"
     ]
    }
   ],
   "source": [
    "# Check for collinearity\n",
    "predictors=list(np.abs(balanced_train.corr()[\"TARGET\"]).sort_values(ascending=False).iloc[1:31].index)\n",
    "M=balanced_train[predictors].corr()\n",
    "# check for colinearity: detect those with at least 0.95 (absolute sense)\n",
    "for i in range(M.shape[0]):\n",
    "    for j in range(i):\n",
    "        if M.iloc[i,j]>0.95 or M.iloc[i,j]<-0.95:\n",
    "            print(M.index[i],M.columns[j], M.iloc[i,j])   "
   ]
  },
  {
   "cell_type": "code",
   "execution_count": 78,
   "metadata": {},
   "outputs": [],
   "source": [
    "#Drop the variable with multicolinearity problem.\n",
    "balanced_train = balanced_train.drop(columns='FLAG_EMP_PHONE')"
   ]
  },
  {
   "cell_type": "code",
   "execution_count": 79,
   "metadata": {},
   "outputs": [],
   "source": [
    "balanced_train = balanced_train.drop(columns='ORGANIZATION_TYPE_XNA')"
   ]
  },
  {
   "cell_type": "code",
   "execution_count": 80,
   "metadata": {},
   "outputs": [],
   "source": [
    "balanced_train = balanced_train.drop(columns='DAYS_EMPLOYED')"
   ]
  },
  {
   "cell_type": "code",
   "execution_count": 83,
   "metadata": {},
   "outputs": [],
   "source": [
    "balanced_test = balanced_test.drop(columns='FLAG_EMP_PHONE')\n",
    "balanced_test = balanced_test.drop(columns='ORGANIZATION_TYPE_XNA')\n",
    "balanced_test = balanced_test.drop(columns='DAYS_EMPLOYED')"
   ]
  },
  {
   "cell_type": "code",
   "execution_count": 81,
   "metadata": {},
   "outputs": [
    {
     "data": {
      "text/plain": [
       "EXT_SOURCE_3                                         0.276989\n",
       "EXT_SOURCE_2                                         0.270417\n",
       "DAYS_BIRTH                                           0.143473\n",
       "REGION_RATING_CLIENT_W_CITY                          0.112715\n",
       "REGION_RATING_CLIENT                                 0.107632\n",
       "NAME_EDUCATION_TYPE_Higher education                 0.107554\n",
       "DAYS_LAST_PHONE_CHANGE                               0.100500\n",
       "NAME_INCOME_TYPE_Working                             0.098406\n",
       "NAME_EDUCATION_TYPE_Secondary / secondary special    0.094827\n",
       "DAYS_ID_PUBLISH                                      0.092455\n",
       "MALE_True                                            0.092070\n",
       "NAME_INCOME_TYPE_Pensioner                           0.088799\n",
       "FLAG_DOCUMENT_3                                      0.087773\n",
       "REG_CITY_NOT_WORK_CITY                               0.086238\n",
       "AMT_GOODS_PRICE                                      0.081302\n",
       "DAYS_REGISTRATION                                    0.078690\n",
       "REG_CITY_NOT_LIVE_CITY                               0.072572\n",
       "REGION_POPULATION_RELATIVE                           0.071300\n",
       "DEF_30_CNT_SOCIAL_CIRCLE                             0.063907\n",
       "NAME_CONTRACT_TYPE_Revolving loans                   0.062918\n",
       "AMT_CREDIT                                           0.062649\n",
       "DEF_60_CNT_SOCIAL_CIRCLE                             0.060492\n",
       "LIVE_CITY_NOT_WORK_CITY                              0.055955\n",
       "FLAG_DOCUMENT_6                                      0.055899\n",
       "NAME_FAMILY_STATUS_Single / not married              0.054821\n",
       "ORGANIZATION_TYPE_Self-employed                      0.054240\n",
       "NAME_FAMILY_STATUS_Married                           0.050776\n",
       "NAME_HOUSING_TYPE_With parents                       0.049935\n",
       "NAME_HOUSING_TYPE_House / apartment                  0.048120\n",
       "FLAG_PHONE                                           0.046233\n",
       "Name: TARGET, dtype: float64"
      ]
     },
     "execution_count": 81,
     "metadata": {},
     "output_type": "execute_result"
    }
   ],
   "source": [
    "np.abs(balanced_train.corr()[\"TARGET\"]).sort_values(ascending=False).iloc[1:31]"
   ]
  },
  {
   "cell_type": "code",
   "execution_count": 82,
   "metadata": {},
   "outputs": [
    {
     "name": "stdout",
     "output_type": "stream",
     "text": [
      "REGION_RATING_CLIENT REGION_RATING_CLIENT_W_CITY 0.9518590317009158\n",
      "AMT_CREDIT AMT_GOODS_PRICE 0.9848234175019529\n"
     ]
    }
   ],
   "source": [
    "# Check for collinearity\n",
    "predictors=list(np.abs(balanced_train.corr()[\"TARGET\"]).sort_values(ascending=False).iloc[1:31].index)\n",
    "M=balanced_train[predictors].corr()\n",
    "# check for colinearity: detect those with at least 0.95 (absolute sense)\n",
    "for i in range(M.shape[0]):\n",
    "    for j in range(i):\n",
    "        if M.iloc[i,j]>0.95 or M.iloc[i,j]<-0.95:\n",
    "            print(M.index[i],M.columns[j], M.iloc[i,j])   "
   ]
  },
  {
   "cell_type": "code",
   "execution_count": 84,
   "metadata": {},
   "outputs": [],
   "source": [
    "balanced_train = balanced_train.drop(columns='REGION_RATING_CLIENT')\n",
    "balanced_train = balanced_train.drop(columns='AMT_CREDIT')"
   ]
  },
  {
   "cell_type": "code",
   "execution_count": 85,
   "metadata": {},
   "outputs": [],
   "source": [
    "balanced_test = balanced_test.drop(columns='REGION_RATING_CLIENT')\n",
    "balanced_test = balanced_test.drop(columns='AMT_CREDIT')"
   ]
  },
  {
   "cell_type": "code",
   "execution_count": 86,
   "metadata": {},
   "outputs": [
    {
     "data": {
      "text/plain": [
       "EXT_SOURCE_3                                         0.276989\n",
       "EXT_SOURCE_2                                         0.270417\n",
       "DAYS_BIRTH                                           0.143473\n",
       "REGION_RATING_CLIENT_W_CITY                          0.112715\n",
       "NAME_EDUCATION_TYPE_Higher education                 0.107554\n",
       "DAYS_LAST_PHONE_CHANGE                               0.100500\n",
       "NAME_INCOME_TYPE_Working                             0.098406\n",
       "NAME_EDUCATION_TYPE_Secondary / secondary special    0.094827\n",
       "DAYS_ID_PUBLISH                                      0.092455\n",
       "MALE_True                                            0.092070\n",
       "NAME_INCOME_TYPE_Pensioner                           0.088799\n",
       "FLAG_DOCUMENT_3                                      0.087773\n",
       "REG_CITY_NOT_WORK_CITY                               0.086238\n",
       "AMT_GOODS_PRICE                                      0.081302\n",
       "DAYS_REGISTRATION                                    0.078690\n",
       "REG_CITY_NOT_LIVE_CITY                               0.072572\n",
       "REGION_POPULATION_RELATIVE                           0.071300\n",
       "DEF_30_CNT_SOCIAL_CIRCLE                             0.063907\n",
       "NAME_CONTRACT_TYPE_Revolving loans                   0.062918\n",
       "DEF_60_CNT_SOCIAL_CIRCLE                             0.060492\n",
       "LIVE_CITY_NOT_WORK_CITY                              0.055955\n",
       "FLAG_DOCUMENT_6                                      0.055899\n",
       "NAME_FAMILY_STATUS_Single / not married              0.054821\n",
       "ORGANIZATION_TYPE_Self-employed                      0.054240\n",
       "NAME_FAMILY_STATUS_Married                           0.050776\n",
       "NAME_HOUSING_TYPE_With parents                       0.049935\n",
       "NAME_HOUSING_TYPE_House / apartment                  0.048120\n",
       "FLAG_PHONE                                           0.046233\n",
       "OCCUPATION_TYPE_Low-skill Laborers                   0.045543\n",
       "NAME_INCOME_TYPE_State servant                       0.044985\n",
       "Name: TARGET, dtype: float64"
      ]
     },
     "execution_count": 86,
     "metadata": {},
     "output_type": "execute_result"
    }
   ],
   "source": [
    "np.abs(balanced_train.corr()[\"TARGET\"]).sort_values(ascending=False).iloc[1:31]"
   ]
  },
  {
   "cell_type": "code",
   "execution_count": 87,
   "metadata": {},
   "outputs": [],
   "source": [
    "# Check for collinearity\n",
    "predictors=list(np.abs(balanced_train.corr()[\"TARGET\"]).sort_values(ascending=False).iloc[1:31].index)\n",
    "M=balanced_train[predictors].corr()\n",
    "# check for colinearity: detect those with at least 0.95 (absolute sense)\n",
    "for i in range(M.shape[0]):\n",
    "    for j in range(i):\n",
    "        if M.iloc[i,j]>0.95 or M.iloc[i,j]<-0.95:\n",
    "            print(M.index[i],M.columns[j], M.iloc[i,j]) "
   ]
  },
  {
   "cell_type": "code",
   "execution_count": 90,
   "metadata": {},
   "outputs": [
    {
     "data": {
      "text/plain": [
       "30"
      ]
     },
     "execution_count": 90,
     "metadata": {},
     "output_type": "execute_result"
    }
   ],
   "source": [
    "selected_features=['EXT_SOURCE_3','EXT_SOURCE_2','DAYS_BIRTH','REGION_RATING_CLIENT_W_CITY','NAME_EDUCATION_TYPE_Higher education','DAYS_LAST_PHONE_CHANGE','NAME_INCOME_TYPE_Working','NAME_EDUCATION_TYPE_Secondary / secondary special','DAYS_ID_PUBLISH','MALE_True','NAME_INCOME_TYPE_Pensioner','FLAG_DOCUMENT_3','REG_CITY_NOT_WORK_CITY','AMT_GOODS_PRICE','DAYS_REGISTRATION','REG_CITY_NOT_LIVE_CITY','REGION_POPULATION_RELATIVE','DEF_30_CNT_SOCIAL_CIRCLE','NAME_CONTRACT_TYPE_Revolving loans','DEF_60_CNT_SOCIAL_CIRCLE','LIVE_CITY_NOT_WORK_CITY','FLAG_DOCUMENT_6','NAME_FAMILY_STATUS_Single / not married','ORGANIZATION_TYPE_Self-employed','NAME_FAMILY_STATUS_Married','NAME_HOUSING_TYPE_With parents','NAME_HOUSING_TYPE_House / apartment','FLAG_PHONE','OCCUPATION_TYPE_Low-skill Laborers','NAME_INCOME_TYPE_State servant']\n",
    "len(selected_features)"
   ]
  },
  {
   "cell_type": "markdown",
   "metadata": {},
   "source": [
    "## Build Tree"
   ]
  },
  {
   "cell_type": "code",
   "execution_count": 91,
   "metadata": {},
   "outputs": [],
   "source": [
    "# define independent variables / attirbutes / features\n",
    "features = selected_features\n",
    "# define one single target variable / label\n",
    "target = ['TARGET']\n",
    "\n",
    "# get defined training dataset\n",
    "X = balanced_train[features]\n",
    "y = balanced_train[target]"
   ]
  },
  {
   "cell_type": "code",
   "execution_count": 92,
   "metadata": {},
   "outputs": [
    {
     "name": "stdout",
     "output_type": "stream",
     "text": [
      "<class 'pandas.core.frame.DataFrame'>\n",
      "Int64Index: 31908 entries, 181853 to 404373\n",
      "Data columns (total 30 columns):\n",
      "EXT_SOURCE_3                                         31908 non-null float64\n",
      "EXT_SOURCE_2                                         31908 non-null float64\n",
      "DAYS_BIRTH                                           31908 non-null int64\n",
      "REGION_RATING_CLIENT_W_CITY                          31908 non-null int64\n",
      "NAME_EDUCATION_TYPE_Higher education                 31908 non-null int64\n",
      "DAYS_LAST_PHONE_CHANGE                               31908 non-null float64\n",
      "NAME_INCOME_TYPE_Working                             31908 non-null int64\n",
      "NAME_EDUCATION_TYPE_Secondary / secondary special    31908 non-null int64\n",
      "DAYS_ID_PUBLISH                                      31908 non-null int64\n",
      "MALE_True                                            31908 non-null int64\n",
      "NAME_INCOME_TYPE_Pensioner                           31908 non-null int64\n",
      "FLAG_DOCUMENT_3                                      31908 non-null int64\n",
      "REG_CITY_NOT_WORK_CITY                               31908 non-null int64\n",
      "AMT_GOODS_PRICE                                      31908 non-null float64\n",
      "DAYS_REGISTRATION                                    31908 non-null float64\n",
      "REG_CITY_NOT_LIVE_CITY                               31908 non-null int64\n",
      "REGION_POPULATION_RELATIVE                           31908 non-null float64\n",
      "DEF_30_CNT_SOCIAL_CIRCLE                             31908 non-null float64\n",
      "NAME_CONTRACT_TYPE_Revolving loans                   31908 non-null int64\n",
      "DEF_60_CNT_SOCIAL_CIRCLE                             31908 non-null float64\n",
      "LIVE_CITY_NOT_WORK_CITY                              31908 non-null int64\n",
      "FLAG_DOCUMENT_6                                      31908 non-null int64\n",
      "NAME_FAMILY_STATUS_Single / not married              31908 non-null int64\n",
      "ORGANIZATION_TYPE_Self-employed                      31908 non-null int64\n",
      "NAME_FAMILY_STATUS_Married                           31908 non-null int64\n",
      "NAME_HOUSING_TYPE_With parents                       31908 non-null int64\n",
      "NAME_HOUSING_TYPE_House / apartment                  31908 non-null int64\n",
      "FLAG_PHONE                                           31908 non-null int64\n",
      "OCCUPATION_TYPE_Low-skill Laborers                   31908 non-null int64\n",
      "NAME_INCOME_TYPE_State servant                       31908 non-null int64\n",
      "dtypes: float64(8), int64(22)\n",
      "memory usage: 7.5 MB\n"
     ]
    }
   ],
   "source": [
    "# split data into 80% and 20%, put 20% in testing\n",
    "X_train, X_val, y_train, y_val = train_test_split(X, y, test_size=0.2, random_state=3360)\n",
    "\n",
    "X_train.info()"
   ]
  },
  {
   "cell_type": "code",
   "execution_count": 93,
   "metadata": {},
   "outputs": [],
   "source": [
    "# define our model as a decision tree model\n",
    "model = DecisionTreeClassifier(random_state=3360)"
   ]
  },
  {
   "cell_type": "code",
   "execution_count": 94,
   "metadata": {},
   "outputs": [
    {
     "data": {
      "text/plain": [
       "DecisionTreeClassifier(class_weight=None, criterion='gini', max_depth=None,\n",
       "                       max_features=None, max_leaf_nodes=None,\n",
       "                       min_impurity_decrease=0.0, min_impurity_split=None,\n",
       "                       min_samples_leaf=1, min_samples_split=2,\n",
       "                       min_weight_fraction_leaf=0.0, presort=False,\n",
       "                       random_state=3360, splitter='best')"
      ]
     },
     "execution_count": 94,
     "metadata": {},
     "output_type": "execute_result"
    }
   ],
   "source": [
    "# build the decision tree model based on defalut hyperparameter settings\n",
    "model.fit(X_train, y_train)"
   ]
  },
  {
   "cell_type": "markdown",
   "metadata": {},
   "source": [
    "### Evaluate the model"
   ]
  },
  {
   "cell_type": "code",
   "execution_count": 98,
   "metadata": {},
   "outputs": [],
   "source": [
    "# test model base on 20% data\n",
    "pred_val = model.predict(X_val)"
   ]
  },
  {
   "cell_type": "code",
   "execution_count": 99,
   "metadata": {},
   "outputs": [
    {
     "name": "stdout",
     "output_type": "stream",
     "text": [
      "Accuracy from 20% test data: 0.5833542241163199\n",
      "Confusion Matrix \n",
      " [[2287 1741]\n",
      " [1583 2367]]\n",
      "Classification Report: \n",
      "               precision    recall  f1-score   support\n",
      "\n",
      "           0       0.59      0.57      0.58      4028\n",
      "           1       0.58      0.60      0.59      3950\n",
      "\n",
      "    accuracy                           0.58      7978\n",
      "   macro avg       0.58      0.58      0.58      7978\n",
      "weighted avg       0.58      0.58      0.58      7978\n",
      "\n"
     ]
    }
   ],
   "source": [
    "# print evaluation result for 20% test data\n",
    "print(\"Accuracy from 20% test data:\",accuracy_score(y_val, pred_val, normalize=True, sample_weight=None))\n",
    "print(\"Confusion Matrix\", '\\n', confusion_matrix(y_val, pred_val))\n",
    "print(\"Classification Report:\", '\\n', classification_report(y_val, pred_val))"
   ]
  },
  {
   "cell_type": "code",
   "execution_count": 100,
   "metadata": {},
   "outputs": [],
   "source": [
    "# test model base on 80% data for training\n",
    "pred_val_Xtrain= model.predict(X_train)"
   ]
  },
  {
   "cell_type": "code",
   "execution_count": 101,
   "metadata": {},
   "outputs": [
    {
     "name": "stdout",
     "output_type": "stream",
     "text": [
      "Accuracy from 80% train data: 1.0\n",
      "Confusion Matrix \n",
      " [[15915     0]\n",
      " [    0 15993]]\n",
      "Classification Report: \n",
      "               precision    recall  f1-score   support\n",
      "\n",
      "           0       1.00      1.00      1.00     15915\n",
      "           1       1.00      1.00      1.00     15993\n",
      "\n",
      "    accuracy                           1.00     31908\n",
      "   macro avg       1.00      1.00      1.00     31908\n",
      "weighted avg       1.00      1.00      1.00     31908\n",
      "\n"
     ]
    }
   ],
   "source": [
    "# print evaluation result for 80% train data\n",
    "print(\"Accuracy from 80% train data:\",accuracy_score(y_train, pred_val_Xtrain, normalize=True, sample_weight=None))\n",
    "print(\"Confusion Matrix\", '\\n', confusion_matrix(y_train, pred_val_Xtrain))\n",
    "print(\"Classification Report:\", '\\n', classification_report(y_train, pred_val_Xtrain))"
   ]
  },
  {
   "cell_type": "markdown",
   "metadata": {},
   "source": [
    "### Manual Hyperparameter Tuning (Tuning tree depth)"
   ]
  },
  {
   "cell_type": "code",
   "execution_count": 102,
   "metadata": {},
   "outputs": [],
   "source": [
    "# create an array that holds the max_depth\n",
    "max_depth = np. linspace(1,32,32, endpoint=True)"
   ]
  },
  {
   "cell_type": "code",
   "execution_count": 103,
   "metadata": {},
   "outputs": [
    {
     "data": {
      "text/plain": [
       "array([ 1.,  2.,  3.,  4.,  5.,  6.,  7.,  8.,  9., 10., 11., 12., 13.,\n",
       "       14., 15., 16., 17., 18., 19., 20., 21., 22., 23., 24., 25., 26.,\n",
       "       27., 28., 29., 30., 31., 32.])"
      ]
     },
     "execution_count": 103,
     "metadata": {},
     "output_type": "execute_result"
    }
   ],
   "source": [
    "max_depth"
   ]
  },
  {
   "cell_type": "code",
   "execution_count": 104,
   "metadata": {},
   "outputs": [],
   "source": [
    "# create a loop to try out different depth value\n",
    "train_results =[]\n",
    "test_results = []\n",
    "# create a loop to try out all the number from 1 to 32 for max_depths in a decision tree\n",
    "for max_depth_i in max_depth:\n",
    "    dt = DecisionTreeClassifier(max_depth=max_depth_i)\n",
    "    dt.fit(X_train, y_train)\n",
    "    \n",
    "    train_pred = dt.predict(X_train)\n",
    "    accuracy = accuracy_score(y_train, train_pred, normalize=True, sample_weight=None)\n",
    "    train_results.append(accuracy)\n",
    "    \n",
    "    y_pred = dt.predict(X_val)\n",
    "    accuracy = accuracy_score(y_val, y_pred, normalize=True, sample_weight=None)\n",
    "    test_results.append(accuracy)"
   ]
  },
  {
   "cell_type": "code",
   "execution_count": 105,
   "metadata": {},
   "outputs": [
    {
     "data": {
      "image/png": "[encoded data removed]",
      "text/plain": [
       "<Figure size 432x288 with 1 Axes>"
      ]
     },
     "metadata": {
      "needs_background": "light"
     },
     "output_type": "display_data"
    }
   ],
   "source": [
    "from matplotlib.legend_handler import HandlerLine2D\n",
    "line1, = plt.plot(max_depth, train_results, 'b', label='Train accuracy')\n",
    "line2, = plt.plot(max_depth, test_results, 'r', label='Test accuracy')\n",
    "plt.legend(handler_map={line1: HandlerLine2D(numpoints=2)})\n",
    "plt.ylabel('Accuracy score')\n",
    "plt.xlabel('Tree depth')\n",
    "plt.show()"
   ]
  },
  {
   "cell_type": "markdown",
   "metadata": {},
   "source": [
    "Best result: max_depth = 3"
   ]
  },
  {
   "cell_type": "markdown",
   "metadata": {},
   "source": [
    "### 5-fold Cross validation for tuning min_samples_leaf"
   ]
  },
  {
   "cell_type": "code",
   "execution_count": 115,
   "metadata": {},
   "outputs": [
    {
     "name": "stdout",
     "output_type": "stream",
     "text": [
      "Size of training data: 25526\n",
      "Size of validation data: 7978\n"
     ]
    },
    {
     "data": {
      "image/png": "[encoded data removed]",
      "text/plain": [
       "<Figure size 432x288 with 1 Axes>"
      ]
     },
     "metadata": {
      "needs_background": "light"
     },
     "output_type": "display_data"
    }
   ],
   "source": [
    "# Split into a sub training set and validation set\n",
    "X_strain, X_val2, y_strain, y_val2 = train_test_split(X_train, y_train, test_size=0.2, random_state=3360)\n",
    "print(f\"Size of training data: {X_strain.shape[0]}\")\n",
    "print(f\"Size of validation data: {X_val.shape[0]}\")\n",
    "\n",
    "min_leaves = range(1,600,5)\n",
    "\n",
    "Accuracy_val = []\n",
    "for m in min_leaves:\n",
    "    # We train the model with only a portion of the training data (the 'sub-training' data set)\n",
    "    model_val = DecisionTreeClassifier(min_samples_leaf=m, random_state=3360)\n",
    "    model_val.fit(X_strain, y_strain)\n",
    "    predictions_val = model_val.predict(X_val2)\n",
    "    # And we evaluate in the validation set\n",
    "    accuracy_val = accuracy_score(y_val2, predictions_val,normalize=True, sample_weight=None)\n",
    "    Accuracy_val.append(accuracy_val)\n",
    "\n",
    "results = pd.DataFrame({\"min_leaves\": min_leaves, \"validation\":Accuracy_val})\n",
    "plot_fitting_curves(results)"
   ]
  },
  {
   "cell_type": "code",
   "execution_count": 116,
   "metadata": {},
   "outputs": [
    {
     "data": {
      "image/png": "[encoded data removed]",
      "text/plain": [
       "<Figure size 432x288 with 1 Axes>"
      ]
     },
     "metadata": {
      "needs_background": "light"
     },
     "output_type": "display_data"
    }
   ],
   "source": [
    "from sklearn.model_selection import cross_val_predict\n",
    "\n",
    "Accuracy_cv = []\n",
    "for m in min_leaves:\n",
    "    # Define hyperparamter for complexity control\n",
    "    model_cv = DecisionTreeClassifier(min_samples_leaf=m, random_state=3360)\n",
    "    # Evaluate the performance of the hyperparameter with cross validation. \n",
    "    # The parameter 'cv' is used to determine the number of splits (folds). \n",
    "    predictions_cv = cross_val_predict(model_cv, X_train, y_train, cv=5)\n",
    "    accuracy_cv = accuracy_score(y_train, predictions_cv,normalize=True, sample_weight=None)\n",
    "    Accuracy_cv.append(accuracy_cv)\n",
    "\n",
    "results = pd.DataFrame({\"min_leaves\": min_leaves, \"validation\":Accuracy_val, \"cross-validation\":Accuracy_cv})\n",
    "plot_fitting_curves(results)"
   ]
  },
  {
   "cell_type": "markdown",
   "metadata": {},
   "source": [
    "Best result: min_samples_leaf = 400"
   ]
  },
  {
   "cell_type": "markdown",
   "metadata": {},
   "source": [
    "### GridSearchCV"
   ]
  },
  {
   "cell_type": "markdown",
   "metadata": {},
   "source": [
    "This time, we would not train other hyperparameters, as overtunning might also lead to overfitting and bad accuracy."
   ]
  },
  {
   "cell_type": "code",
   "execution_count": 117,
   "metadata": {},
   "outputs": [],
   "source": [
    "# create try_grid\n",
    "try_grid = [{'max_depth': np. linspace(1,32,32, endpoint=True),         \n",
    "             'min_samples_leaf': range(1,600,5)}]               "
   ]
  },
  {
   "cell_type": "code",
   "execution_count": 118,
   "metadata": {},
   "outputs": [],
   "source": [
    "from sklearn.model_selection import GridSearchCV\n",
    "\n",
    "# create GridSearchCV object\n",
    "DTM = GridSearchCV(DecisionTreeClassifier(random_state=3360), param_grid=try_grid, cv=4)"
   ]
  },
  {
   "cell_type": "code",
   "execution_count": 119,
   "metadata": {},
   "outputs": [
    {
     "data": {
      "text/plain": [
       "GridSearchCV(cv=4, error_score='raise-deprecating',\n",
       "             estimator=DecisionTreeClassifier(class_weight=None,\n",
       "                                              criterion='gini', max_depth=None,\n",
       "                                              max_features=None,\n",
       "                                              max_leaf_nodes=None,\n",
       "                                              min_impurity_decrease=0.0,\n",
       "                                              min_impurity_split=None,\n",
       "                                              min_samples_leaf=1,\n",
       "                                              min_samples_split=2,\n",
       "                                              min_weight_fraction_leaf=0.0,\n",
       "                                              presort=False, random_state=3360,\n",
       "                                              splitter='best'),\n",
       "             iid='warn', n_jobs=None,\n",
       "             param_grid=[{'max_depth': array([ 1.,  2.,  3.,  4.,  5.,  6.,  7.,  8.,  9., 10., 11., 12., 13.,\n",
       "       14., 15., 16., 17., 18., 19., 20., 21., 22., 23., 24., 25., 26.,\n",
       "       27., 28., 29., 30., 31., 32.]),\n",
       "                          'min_samples_leaf': range(1, 600, 5)}],\n",
       "             pre_dispatch='2*n_jobs', refit=True, return_train_score=False,\n",
       "             scoring=None, verbose=0)"
      ]
     },
     "execution_count": 119,
     "metadata": {},
     "output_type": "execute_result"
    }
   ],
   "source": [
    "DTM.fit(X_train,y_train)"
   ]
  },
  {
   "cell_type": "code",
   "execution_count": 120,
   "metadata": {},
   "outputs": [
    {
     "data": {
      "text/plain": [
       "{'max_depth': 10.0, 'min_samples_leaf': 251}"
      ]
     },
     "execution_count": 120,
     "metadata": {},
     "output_type": "execute_result"
    }
   ],
   "source": [
    "# find the best parameters\n",
    "DTM.best_params_"
   ]
  },
  {
   "cell_type": "code",
   "execution_count": 121,
   "metadata": {},
   "outputs": [
    {
     "data": {
      "text/plain": [
       "0.6569198946972546"
      ]
     },
     "execution_count": 121,
     "metadata": {},
     "output_type": "execute_result"
    }
   ],
   "source": [
    "DTM.best_score_"
   ]
  },
  {
   "cell_type": "code",
   "execution_count": 122,
   "metadata": {},
   "outputs": [],
   "source": [
    "my_model = DecisionTreeClassifier(max_depth = 10,min_samples_leaf=251)"
   ]
  },
  {
   "cell_type": "code",
   "execution_count": 123,
   "metadata": {},
   "outputs": [
    {
     "data": {
      "text/plain": [
       "DecisionTreeClassifier(class_weight=None, criterion='gini', max_depth=10,\n",
       "                       max_features=None, max_leaf_nodes=None,\n",
       "                       min_impurity_decrease=0.0, min_impurity_split=None,\n",
       "                       min_samples_leaf=251, min_samples_split=2,\n",
       "                       min_weight_fraction_leaf=0.0, presort=False,\n",
       "                       random_state=None, splitter='best')"
      ]
     },
     "execution_count": 123,
     "metadata": {},
     "output_type": "execute_result"
    }
   ],
   "source": [
    "my_model.fit(X_train,y_train)"
   ]
  },
  {
   "cell_type": "code",
   "execution_count": 124,
   "metadata": {},
   "outputs": [],
   "source": [
    "y_predict = my_model.predict(X_val)"
   ]
  },
  {
   "cell_type": "code",
   "execution_count": 125,
   "metadata": {},
   "outputs": [
    {
     "name": "stdout",
     "output_type": "stream",
     "text": [
      "Accuracy: 0.6580596640762095\n",
      "Confusion Matrix \n",
      " [[2598 1430]\n",
      " [1298 2652]]\n",
      "Classification Report: \n",
      "               precision    recall  f1-score   support\n",
      "\n",
      "           0       0.67      0.64      0.66      4028\n",
      "           1       0.65      0.67      0.66      3950\n",
      "\n",
      "    accuracy                           0.66      7978\n",
      "   macro avg       0.66      0.66      0.66      7978\n",
      "weighted avg       0.66      0.66      0.66      7978\n",
      "\n"
     ]
    }
   ],
   "source": [
    "print(\"Accuracy:\",accuracy_score(y_val, y_predict, normalize=True, sample_weight=None))\n",
    "print(\"Confusion Matrix\", '\\n', confusion_matrix(y_val, y_predict))\n",
    "print(\"Classification Report:\", '\\n', classification_report(y_val, y_predict))"
   ]
  },
  {
   "cell_type": "markdown",
   "metadata": {},
   "source": [
    "## New attempt"
   ]
  },
  {
   "cell_type": "markdown",
   "metadata": {},
   "source": [
    "What if this time we only use 20 features?"
   ]
  },
  {
   "cell_type": "code",
   "execution_count": 126,
   "metadata": {},
   "outputs": [
    {
     "data": {
      "text/plain": [
       "20"
      ]
     },
     "execution_count": 126,
     "metadata": {},
     "output_type": "execute_result"
    }
   ],
   "source": [
    "selected_features=['EXT_SOURCE_3','EXT_SOURCE_2','DAYS_BIRTH','REGION_RATING_CLIENT_W_CITY','NAME_EDUCATION_TYPE_Higher education','DAYS_LAST_PHONE_CHANGE','NAME_INCOME_TYPE_Working','NAME_EDUCATION_TYPE_Secondary / secondary special','DAYS_ID_PUBLISH','MALE_True','NAME_INCOME_TYPE_Pensioner','FLAG_DOCUMENT_3','REG_CITY_NOT_WORK_CITY','AMT_GOODS_PRICE','DAYS_REGISTRATION','REG_CITY_NOT_LIVE_CITY','REGION_POPULATION_RELATIVE','DEF_30_CNT_SOCIAL_CIRCLE','NAME_CONTRACT_TYPE_Revolving loans','DEF_60_CNT_SOCIAL_CIRCLE']\n",
    "len(selected_features)"
   ]
  },
  {
   "cell_type": "code",
   "execution_count": 127,
   "metadata": {},
   "outputs": [],
   "source": [
    "# define independent variables / attirbutes / features\n",
    "features = selected_features\n",
    "# define one single target variable / label\n",
    "target = ['TARGET']\n",
    "\n",
    "# get defined training dataset\n",
    "X = balanced_train[features]\n",
    "y = balanced_train[target]"
   ]
  },
  {
   "cell_type": "code",
   "execution_count": 128,
   "metadata": {},
   "outputs": [
    {
     "name": "stdout",
     "output_type": "stream",
     "text": [
      "<class 'pandas.core.frame.DataFrame'>\n",
      "Int64Index: 31908 entries, 181853 to 404373\n",
      "Data columns (total 20 columns):\n",
      "EXT_SOURCE_3                                         31908 non-null float64\n",
      "EXT_SOURCE_2                                         31908 non-null float64\n",
      "DAYS_BIRTH                                           31908 non-null int64\n",
      "REGION_RATING_CLIENT_W_CITY                          31908 non-null int64\n",
      "NAME_EDUCATION_TYPE_Higher education                 31908 non-null int64\n",
      "DAYS_LAST_PHONE_CHANGE                               31908 non-null float64\n",
      "NAME_INCOME_TYPE_Working                             31908 non-null int64\n",
      "NAME_EDUCATION_TYPE_Secondary / secondary special    31908 non-null int64\n",
      "DAYS_ID_PUBLISH                                      31908 non-null int64\n",
      "MALE_True                                            31908 non-null int64\n",
      "NAME_INCOME_TYPE_Pensioner                           31908 non-null int64\n",
      "FLAG_DOCUMENT_3                                      31908 non-null int64\n",
      "REG_CITY_NOT_WORK_CITY                               31908 non-null int64\n",
      "AMT_GOODS_PRICE                                      31908 non-null float64\n",
      "DAYS_REGISTRATION                                    31908 non-null float64\n",
      "REG_CITY_NOT_LIVE_CITY                               31908 non-null int64\n",
      "REGION_POPULATION_RELATIVE                           31908 non-null float64\n",
      "DEF_30_CNT_SOCIAL_CIRCLE                             31908 non-null float64\n",
      "NAME_CONTRACT_TYPE_Revolving loans                   31908 non-null int64\n",
      "DEF_60_CNT_SOCIAL_CIRCLE                             31908 non-null float64\n",
      "dtypes: float64(8), int64(12)\n",
      "memory usage: 5.1 MB\n"
     ]
    }
   ],
   "source": [
    "# split data into 80% and 20%, put 20% in testing\n",
    "X_train, X_val, y_train, y_val = train_test_split(X, y, test_size=0.2, random_state=3360)\n",
    "\n",
    "X_train.info()"
   ]
  },
  {
   "cell_type": "code",
   "execution_count": 129,
   "metadata": {},
   "outputs": [],
   "source": [
    "# define our model as a decision tree model\n",
    "model = DecisionTreeClassifier(random_state=3360)"
   ]
  },
  {
   "cell_type": "code",
   "execution_count": 130,
   "metadata": {},
   "outputs": [
    {
     "data": {
      "text/plain": [
       "DecisionTreeClassifier(class_weight=None, criterion='gini', max_depth=None,\n",
       "                       max_features=None, max_leaf_nodes=None,\n",
       "                       min_impurity_decrease=0.0, min_impurity_split=None,\n",
       "                       min_samples_leaf=1, min_samples_split=2,\n",
       "                       min_weight_fraction_leaf=0.0, presort=False,\n",
       "                       random_state=3360, splitter='best')"
      ]
     },
     "execution_count": 130,
     "metadata": {},
     "output_type": "execute_result"
    }
   ],
   "source": [
    "# build the decision tree model based on defalut hyperparameter settings\n",
    "model.fit(X_train, y_train)"
   ]
  },
  {
   "cell_type": "code",
   "execution_count": 131,
   "metadata": {},
   "outputs": [],
   "source": [
    "# test model base on 20% data\n",
    "pred_val = model.predict(X_val)"
   ]
  },
  {
   "cell_type": "code",
   "execution_count": 132,
   "metadata": {},
   "outputs": [
    {
     "name": "stdout",
     "output_type": "stream",
     "text": [
      "Accuracy from 20% test data: 0.5822261218350464\n",
      "Confusion Matrix \n",
      " [[2268 1760]\n",
      " [1573 2377]]\n",
      "Classification Report: \n",
      "               precision    recall  f1-score   support\n",
      "\n",
      "           0       0.59      0.56      0.58      4028\n",
      "           1       0.57      0.60      0.59      3950\n",
      "\n",
      "    accuracy                           0.58      7978\n",
      "   macro avg       0.58      0.58      0.58      7978\n",
      "weighted avg       0.58      0.58      0.58      7978\n",
      "\n"
     ]
    }
   ],
   "source": [
    "# print evaluation result for 20% test data\n",
    "print(\"Accuracy from 20% test data:\",accuracy_score(y_val, pred_val, normalize=True, sample_weight=None))\n",
    "print(\"Confusion Matrix\", '\\n', confusion_matrix(y_val, pred_val))\n",
    "print(\"Classification Report:\", '\\n', classification_report(y_val, pred_val))"
   ]
  },
  {
   "cell_type": "code",
   "execution_count": 135,
   "metadata": {},
   "outputs": [],
   "source": [
    "# test model base on 80% data for training\n",
    "pred_val_Xtrain= model.predict(X_train)"
   ]
  },
  {
   "cell_type": "code",
   "execution_count": 136,
   "metadata": {},
   "outputs": [
    {
     "name": "stdout",
     "output_type": "stream",
     "text": [
      "Accuracy from 80% train data: 1.0\n",
      "Confusion Matrix \n",
      " [[15915     0]\n",
      " [    0 15993]]\n",
      "Classification Report: \n",
      "               precision    recall  f1-score   support\n",
      "\n",
      "           0       1.00      1.00      1.00     15915\n",
      "           1       1.00      1.00      1.00     15993\n",
      "\n",
      "    accuracy                           1.00     31908\n",
      "   macro avg       1.00      1.00      1.00     31908\n",
      "weighted avg       1.00      1.00      1.00     31908\n",
      "\n"
     ]
    }
   ],
   "source": [
    "# print evaluation result for 80% train data\n",
    "print(\"Accuracy from 80% train data:\",accuracy_score(y_train, pred_val_Xtrain, normalize=True, sample_weight=None))\n",
    "print(\"Confusion Matrix\", '\\n', confusion_matrix(y_train, pred_val_Xtrain))\n",
    "print(\"Classification Report:\", '\\n', classification_report(y_train, pred_val_Xtrain))"
   ]
  },
  {
   "cell_type": "markdown",
   "metadata": {},
   "source": [
    "### Manual Hyperparameter Tuning (Tuning tree depth)"
   ]
  },
  {
   "cell_type": "code",
   "execution_count": 137,
   "metadata": {},
   "outputs": [],
   "source": [
    "# create an array that holds the max_depth\n",
    "max_depth = np. linspace(1,32,32, endpoint=True)"
   ]
  },
  {
   "cell_type": "code",
   "execution_count": 138,
   "metadata": {},
   "outputs": [
    {
     "data": {
      "text/plain": [
       "array([ 1.,  2.,  3.,  4.,  5.,  6.,  7.,  8.,  9., 10., 11., 12., 13.,\n",
       "       14., 15., 16., 17., 18., 19., 20., 21., 22., 23., 24., 25., 26.,\n",
       "       27., 28., 29., 30., 31., 32.])"
      ]
     },
     "execution_count": 138,
     "metadata": {},
     "output_type": "execute_result"
    }
   ],
   "source": [
    "max_depth"
   ]
  },
  {
   "cell_type": "code",
   "execution_count": 139,
   "metadata": {},
   "outputs": [],
   "source": [
    "# create a loop to try out different depth value\n",
    "train_results =[]\n",
    "test_results = []\n",
    "# create a loop to try out all the number from 1 to 32 for max_depths in a decision tree\n",
    "for max_depth_i in max_depth:\n",
    "    dt = DecisionTreeClassifier(max_depth=max_depth_i)\n",
    "    dt.fit(X_train, y_train)\n",
    "    \n",
    "    train_pred = dt.predict(X_train)\n",
    "    accuracy = accuracy_score(y_train, train_pred, normalize=True, sample_weight=None)\n",
    "    train_results.append(accuracy)\n",
    "    \n",
    "    y_pred = dt.predict(X_val)\n",
    "    accuracy = accuracy_score(y_val, y_pred, normalize=True, sample_weight=None)\n",
    "    test_results.append(accuracy)"
   ]
  },
  {
   "cell_type": "code",
   "execution_count": 140,
   "metadata": {},
   "outputs": [
    {
     "data": {
      "image/png": "[encoded data removed]",
      "text/plain": [
       "<Figure size 432x288 with 1 Axes>"
      ]
     },
     "metadata": {
      "needs_background": "light"
     },
     "output_type": "display_data"
    }
   ],
   "source": [
    "from matplotlib.legend_handler import HandlerLine2D\n",
    "line1, = plt.plot(max_depth, train_results, 'b', label='Train accuracy')\n",
    "line2, = plt.plot(max_depth, test_results, 'r', label='Test accuracy')\n",
    "plt.legend(handler_map={line1: HandlerLine2D(numpoints=2)})\n",
    "plt.ylabel('Accuracy score')\n",
    "plt.xlabel('Tree depth')\n",
    "plt.show()"
   ]
  },
  {
   "cell_type": "markdown",
   "metadata": {},
   "source": [
    "### 5-fold Cross validation for tuning min_samples_leaf"
   ]
  },
  {
   "cell_type": "code",
   "execution_count": 141,
   "metadata": {},
   "outputs": [],
   "source": [
    "# Function to plot the results\n",
    "def plot_fitting_curves(results):\n",
    "    results.plot(\"min_leaves\")\n",
    "    plt.ylabel(\"Accuracy\")\n",
    "    plt.xlabel(\"Min samples per leaf (inverse of complexity)\")\n",
    "    plt.show()"
   ]
  },
  {
   "cell_type": "code",
   "execution_count": 142,
   "metadata": {},
   "outputs": [
    {
     "name": "stdout",
     "output_type": "stream",
     "text": [
      "Size of training data: 25526\n",
      "Size of validation data: 7978\n"
     ]
    },
    {
     "data": {
      "image/png": "[encoded data removed]",
      "text/plain": [
       "<Figure size 432x288 with 1 Axes>"
      ]
     },
     "metadata": {
      "needs_background": "light"
     },
     "output_type": "display_data"
    }
   ],
   "source": [
    "# Split into a sub training set and validation set\n",
    "X_strain, X_val2, y_strain, y_val2 = train_test_split(X_train, y_train, test_size=0.2, random_state=3360)\n",
    "print(f\"Size of training data: {X_strain.shape[0]}\")\n",
    "print(f\"Size of validation data: {X_val.shape[0]}\")\n",
    "\n",
    "min_leaves = range(1,600,5)\n",
    "\n",
    "Accuracy_val = []\n",
    "for m in min_leaves:\n",
    "    # We train the model with only a portion of the training data (the 'sub-training' data set)\n",
    "    model_val = DecisionTreeClassifier(min_samples_leaf=m, random_state=3360)\n",
    "    model_val.fit(X_strain, y_strain)\n",
    "    predictions_val = model_val.predict(X_val2)\n",
    "    # And we evaluate in the validation set\n",
    "    accuracy_val = accuracy_score(y_val2, predictions_val,normalize=True, sample_weight=None)\n",
    "    Accuracy_val.append(accuracy_val)\n",
    "\n",
    "results = pd.DataFrame({\"min_leaves\": min_leaves, \"validation\":Accuracy_val})\n",
    "plot_fitting_curves(results)"
   ]
  },
  {
   "cell_type": "code",
   "execution_count": 143,
   "metadata": {},
   "outputs": [
    {
     "data": {
      "image/png": "[encoded data removed]",
      "text/plain": [
       "<Figure size 432x288 with 1 Axes>"
      ]
     },
     "metadata": {
      "needs_background": "light"
     },
     "output_type": "display_data"
    }
   ],
   "source": [
    "from sklearn.model_selection import cross_val_predict\n",
    "\n",
    "Accuracy_cv = []\n",
    "for m in min_leaves:\n",
    "    # Define hyperparamter for complexity control\n",
    "    model_cv = DecisionTreeClassifier(min_samples_leaf=m, random_state=3360)\n",
    "    # Evaluate the performance of the hyperparameter with cross validation. \n",
    "    # The parameter 'cv' is used to determine the number of splits (folds). \n",
    "    predictions_cv = cross_val_predict(model_cv, X_train, y_train, cv=5)\n",
    "    accuracy_cv = accuracy_score(y_train, predictions_cv,normalize=True, sample_weight=None)\n",
    "    Accuracy_cv.append(accuracy_cv)\n",
    "\n",
    "results = pd.DataFrame({\"min_leaves\": min_leaves, \"validation\":Accuracy_val, \"cross-validation\":Accuracy_cv})\n",
    "plot_fitting_curves(results)"
   ]
  },
  {
   "cell_type": "markdown",
   "metadata": {},
   "source": [
    "### GridSearchCV"
   ]
  },
  {
   "cell_type": "code",
   "execution_count": 144,
   "metadata": {},
   "outputs": [],
   "source": [
    "# create try_grid\n",
    "try_grid = [{'max_depth': np. linspace(1,32,32, endpoint=True),         \n",
    "             'min_samples_leaf': range(1,600,5)}]   "
   ]
  },
  {
   "cell_type": "code",
   "execution_count": 145,
   "metadata": {},
   "outputs": [],
   "source": [
    "from sklearn.model_selection import GridSearchCV\n",
    "\n",
    "# create GridSearchCV object\n",
    "DTM = GridSearchCV(DecisionTreeClassifier(random_state=3360), param_grid=try_grid, cv=4)"
   ]
  },
  {
   "cell_type": "code",
   "execution_count": 146,
   "metadata": {},
   "outputs": [
    {
     "data": {
      "text/plain": [
       "GridSearchCV(cv=4, error_score='raise-deprecating',\n",
       "             estimator=DecisionTreeClassifier(class_weight=None,\n",
       "                                              criterion='gini', max_depth=None,\n",
       "                                              max_features=None,\n",
       "                                              max_leaf_nodes=None,\n",
       "                                              min_impurity_decrease=0.0,\n",
       "                                              min_impurity_split=None,\n",
       "                                              min_samples_leaf=1,\n",
       "                                              min_samples_split=2,\n",
       "                                              min_weight_fraction_leaf=0.0,\n",
       "                                              presort=False, random_state=3360,\n",
       "                                              splitter='best'),\n",
       "             iid='warn', n_jobs=None,\n",
       "             param_grid=[{'max_depth': array([ 1.,  2.,  3.,  4.,  5.,  6.,  7.,  8.,  9., 10., 11., 12., 13.,\n",
       "       14., 15., 16., 17., 18., 19., 20., 21., 22., 23., 24., 25., 26.,\n",
       "       27., 28., 29., 30., 31., 32.]),\n",
       "                          'min_samples_leaf': range(1, 600, 5)}],\n",
       "             pre_dispatch='2*n_jobs', refit=True, return_train_score=False,\n",
       "             scoring=None, verbose=0)"
      ]
     },
     "execution_count": 146,
     "metadata": {},
     "output_type": "execute_result"
    }
   ],
   "source": [
    "DTM.fit(X_train,y_train)"
   ]
  },
  {
   "cell_type": "code",
   "execution_count": 147,
   "metadata": {},
   "outputs": [
    {
     "data": {
      "text/plain": [
       "{'max_depth': 10.0, 'min_samples_leaf': 256}"
      ]
     },
     "execution_count": 147,
     "metadata": {},
     "output_type": "execute_result"
    }
   ],
   "source": [
    "# find the best parameters\n",
    "DTM.best_params_"
   ]
  },
  {
   "cell_type": "code",
   "execution_count": 148,
   "metadata": {},
   "outputs": [
    {
     "data": {
      "text/plain": [
       "0.6564811332581171"
      ]
     },
     "execution_count": 148,
     "metadata": {},
     "output_type": "execute_result"
    }
   ],
   "source": [
    "DTM.best_score_"
   ]
  },
  {
   "cell_type": "code",
   "execution_count": 149,
   "metadata": {},
   "outputs": [],
   "source": [
    "my_model = DecisionTreeClassifier(max_depth = 10,min_samples_leaf=256)"
   ]
  },
  {
   "cell_type": "code",
   "execution_count": 150,
   "metadata": {},
   "outputs": [
    {
     "data": {
      "text/plain": [
       "DecisionTreeClassifier(class_weight=None, criterion='gini', max_depth=10,\n",
       "                       max_features=None, max_leaf_nodes=None,\n",
       "                       min_impurity_decrease=0.0, min_impurity_split=None,\n",
       "                       min_samples_leaf=256, min_samples_split=2,\n",
       "                       min_weight_fraction_leaf=0.0, presort=False,\n",
       "                       random_state=None, splitter='best')"
      ]
     },
     "execution_count": 150,
     "metadata": {},
     "output_type": "execute_result"
    }
   ],
   "source": [
    "my_model.fit(X_train,y_train)"
   ]
  },
  {
   "cell_type": "code",
   "execution_count": 151,
   "metadata": {},
   "outputs": [],
   "source": [
    "y_predict = my_model.predict(X_val)"
   ]
  },
  {
   "cell_type": "code",
   "execution_count": 152,
   "metadata": {},
   "outputs": [
    {
     "name": "stdout",
     "output_type": "stream",
     "text": [
      "Accuracy: 0.6583103534720481\n",
      "Confusion Matrix \n",
      " [[2595 1433]\n",
      " [1293 2657]]\n",
      "Classification Report: \n",
      "               precision    recall  f1-score   support\n",
      "\n",
      "           0       0.67      0.64      0.66      4028\n",
      "           1       0.65      0.67      0.66      3950\n",
      "\n",
      "    accuracy                           0.66      7978\n",
      "   macro avg       0.66      0.66      0.66      7978\n",
      "weighted avg       0.66      0.66      0.66      7978\n",
      "\n"
     ]
    }
   ],
   "source": [
    "print(\"Accuracy:\",accuracy_score(y_val, y_predict, normalize=True, sample_weight=None))\n",
    "print(\"Confusion Matrix\", '\\n', confusion_matrix(y_val, y_predict))\n",
    "print(\"Classification Report:\", '\\n', classification_report(y_val, y_predict))"
   ]
  },
  {
   "cell_type": "markdown",
   "metadata": {},
   "source": [
    "### Conclusion and findings\n",
    "\n",
    "The results are fairly predictive, better than the majority classifier.\n",
    "Good practice of feature selection and data pre-processing would yield better results.\n",
    "The 20-feature model yields similar results to the 30-feature model.\n",
    "We prefer simplicity, so we will take the 20-feature model as the final model for this part."
   ]
  },
  {
   "cell_type": "markdown",
   "metadata": {},
   "source": [
    "## This is the end of Part 2.1 Decision Tree Classifier."
   ]
  }
 ],
 "metadata": {
  "kernelspec": {
   "display_name": "Python 3",
   "language": "python",
   "name": "python3"
  },
  "language_info": {
   "codemirror_mode": {
    "name": "ipython",
    "version": 3
   },
   "file_extension": ".py",
   "mimetype": "text/x-python",
   "name": "python",
   "nbconvert_exporter": "python",
   "pygments_lexer": "ipython3",
   "version": "3.7.4"
  }
 },
 "nbformat": 4,
 "nbformat_minor": 2
}
