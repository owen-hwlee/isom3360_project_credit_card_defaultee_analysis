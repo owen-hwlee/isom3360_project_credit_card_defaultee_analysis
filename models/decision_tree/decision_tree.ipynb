{
 "cells": [
  {
   "cell_type": "markdown",
   "metadata": {},
   "source": [
    "***\n",
    "# ISOM3360 Data Mining for Business Analytics\n",
    "## Group 23 Project Code - Credit Card Defaultee Analysis\n",
    "### Part 2.1 - Decision Tree Classifier\n",
    "***"
   ]
  },
  {
   "cell_type": "markdown",
   "metadata": {},
   "source": [
    "Name: LAM, Ho Chit  \n",
    "ITSC: hclamao  \n",
    "SID: 20607878\n",
    "\n",
    "Name: LEE, Ho Wan Owen  \n",
    "ITSC: hwolee  \n",
    "SID: 20604852\n",
    "\n",
    "Name: LEE, Wai Chung  \n",
    "ITSC: wcleeaj  \n",
    "SID: 20702733"
   ]
  },
  {
   "cell_type": "markdown",
   "metadata": {},
   "source": [
    "### Data preprocessing(cont.)"
   ]
  },
  {
   "cell_type": "code",
   "execution_count": 1,
   "metadata": {},
   "outputs": [],
   "source": [
    "# import libraries\n",
    "import numpy as np\n",
    "import pandas as pd\n",
    "import matplotlib as mpl\n",
    "import matplotlib.pyplot as plt"
   ]
  },
  {
   "cell_type": "code",
   "execution_count": 2,
   "metadata": {},
   "outputs": [],
   "source": [
    "#Load cleaned data\n",
    "#p.s. I first put the cleaned data in data preprocessing part I (before splitting) to the decision tree file before running the code below\n",
    "raw_df = pd.read_csv('raw2.csv',index_col = 'SK_ID_CURR')"
   ]
  },
  {
   "cell_type": "markdown",
   "metadata": {},
   "source": [
    "### Dealing with missing values"
   ]
  },
  {
   "cell_type": "code",
   "execution_count": 3,
   "metadata": {},
   "outputs": [
    {
     "data": {
      "text/plain": [
       "9054490"
      ]
     },
     "execution_count": 3,
     "metadata": {},
     "output_type": "execute_result"
    }
   ],
   "source": [
    "raw_df.isnull().sum().sum()\n",
    "#There're many missing values"
   ]
  },
  {
   "cell_type": "code",
   "execution_count": 4,
   "metadata": {},
   "outputs": [],
   "source": [
    "pd.set_option('display.max_rows', 500)"
   ]
  },
  {
   "cell_type": "code",
   "execution_count": 5,
   "metadata": {},
   "outputs": [
    {
     "data": {
      "text/plain": [
       "TARGET                                                    0\n",
       "NAME_CONTRACT_TYPE                                        0\n",
       "FLAG_OWN_CAR                                              0\n",
       "CNT_CHILDREN                                              0\n",
       "AMT_INCOME_TOTAL                                          0\n",
       "AMT_CREDIT                                                0\n",
       "AMT_ANNUITY                                               0\n",
       "AMT_GOODS_PRICE                                           0\n",
       "REGION_POPULATION_RELATIVE                                0\n",
       "DAYS_BIRTH                                                0\n",
       "DAYS_EMPLOYED                                             0\n",
       "DAYS_REGISTRATION                                         0\n",
       "DAYS_ID_PUBLISH                                           0\n",
       "OWN_CAR_AGE                                          202929\n",
       "FLAG_MOBIL                                                0\n",
       "FLAG_EMP_PHONE                                            0\n",
       "FLAG_WORK_PHONE                                           0\n",
       "FLAG_CONT_MOBILE                                          0\n",
       "FLAG_PHONE                                                0\n",
       "FLAG_EMAIL                                                0\n",
       "OCCUPATION_TYPE                                           0\n",
       "CNT_FAM_MEMBERS                                           0\n",
       "REGION_RATING_CLIENT                                      0\n",
       "REGION_RATING_CLIENT_W_CITY                               0\n",
       "WEEKDAY_APPR_PROCESS_START                                0\n",
       "HOUR_APPR_PROCESS_START                                   0\n",
       "REG_REGION_NOT_LIVE_REGION                                0\n",
       "REG_REGION_NOT_WORK_REGION                                0\n",
       "LIVE_REGION_NOT_WORK_REGION                               0\n",
       "REG_CITY_NOT_LIVE_CITY                                    0\n",
       "REG_CITY_NOT_WORK_CITY                                    0\n",
       "LIVE_CITY_NOT_WORK_CITY                                   0\n",
       "ORGANIZATION_TYPE                                         0\n",
       "EXT_SOURCE_1                                         173378\n",
       "EXT_SOURCE_2                                            660\n",
       "EXT_SOURCE_3                                          60965\n",
       "APARTMENTS_AVG                                       156061\n",
       "BASEMENTAREA_AVG                                     179943\n",
       "YEARS_BEGINEXPLUATATION_AVG                          150007\n",
       "YEARS_BUILD_AVG                                      204488\n",
       "COMMONAREA_AVG                                       214865\n",
       "ELEVATORS_AVG                                        163891\n",
       "ENTRANCES_AVG                                        154828\n",
       "FLOORSMAX_AVG                                        153020\n",
       "FLOORSMIN_AVG                                        208642\n",
       "LANDAREA_AVG                                         182590\n",
       "LIVINGAPARTMENTS_AVG                                 210199\n",
       "LIVINGAREA_AVG                                       154350\n",
       "NONLIVINGAPARTMENTS_AVG                              213514\n",
       "NONLIVINGAREA_AVG                                    169682\n",
       "APARTMENTS_MODE                                      156061\n",
       "BASEMENTAREA_MODE                                    179943\n",
       "YEARS_BEGINEXPLUATATION_MODE                         150007\n",
       "YEARS_BUILD_MODE                                     204488\n",
       "COMMONAREA_MODE                                      214865\n",
       "ELEVATORS_MODE                                       163891\n",
       "ENTRANCES_MODE                                       154828\n",
       "FLOORSMAX_MODE                                       153020\n",
       "FLOORSMIN_MODE                                       208642\n",
       "LANDAREA_MODE                                        182590\n",
       "LIVINGAPARTMENTS_MODE                                210199\n",
       "LIVINGAREA_MODE                                      154350\n",
       "NONLIVINGAPARTMENTS_MODE                             213514\n",
       "NONLIVINGAREA_MODE                                   169682\n",
       "APARTMENTS_MEDI                                      156061\n",
       "BASEMENTAREA_MEDI                                    179943\n",
       "YEARS_BEGINEXPLUATATION_MEDI                         150007\n",
       "YEARS_BUILD_MEDI                                     204488\n",
       "COMMONAREA_MEDI                                      214865\n",
       "ELEVATORS_MEDI                                       163891\n",
       "ENTRANCES_MEDI                                       154828\n",
       "FLOORSMAX_MEDI                                       153020\n",
       "FLOORSMIN_MEDI                                       208642\n",
       "LANDAREA_MEDI                                        182590\n",
       "LIVINGAPARTMENTS_MEDI                                210199\n",
       "LIVINGAREA_MEDI                                      154350\n",
       "NONLIVINGAPARTMENTS_MEDI                             213514\n",
       "NONLIVINGAREA_MEDI                                   169682\n",
       "FONDKAPREMONT_MODE                                   210295\n",
       "HOUSETYPE_MODE                                       154297\n",
       "TOTALAREA_MODE                                       148431\n",
       "WALLSMATERIAL_MODE                                   156341\n",
       "EMERGENCYSTATE_MODE                                  145755\n",
       "OBS_30_CNT_SOCIAL_CIRCLE                               1021\n",
       "DEF_30_CNT_SOCIAL_CIRCLE                               1021\n",
       "OBS_60_CNT_SOCIAL_CIRCLE                               1021\n",
       "DEF_60_CNT_SOCIAL_CIRCLE                               1021\n",
       "DAYS_LAST_PHONE_CHANGE                                    1\n",
       "FLAG_DOCUMENT_2                                           0\n",
       "FLAG_DOCUMENT_3                                           0\n",
       "FLAG_DOCUMENT_4                                           0\n",
       "FLAG_DOCUMENT_5                                           0\n",
       "FLAG_DOCUMENT_6                                           0\n",
       "FLAG_DOCUMENT_7                                           0\n",
       "FLAG_DOCUMENT_8                                           0\n",
       "FLAG_DOCUMENT_9                                           0\n",
       "FLAG_DOCUMENT_10                                          0\n",
       "FLAG_DOCUMENT_11                                          0\n",
       "FLAG_DOCUMENT_12                                          0\n",
       "FLAG_DOCUMENT_13                                          0\n",
       "FLAG_DOCUMENT_14                                          0\n",
       "FLAG_DOCUMENT_15                                          0\n",
       "FLAG_DOCUMENT_16                                          0\n",
       "FLAG_DOCUMENT_17                                          0\n",
       "FLAG_DOCUMENT_18                                          0\n",
       "FLAG_DOCUMENT_19                                          0\n",
       "FLAG_DOCUMENT_20                                          0\n",
       "FLAG_DOCUMENT_21                                          0\n",
       "AMT_REQ_CREDIT_BUREAU_HOUR                            41519\n",
       "AMT_REQ_CREDIT_BUREAU_DAY                             41519\n",
       "AMT_REQ_CREDIT_BUREAU_WEEK                            41519\n",
       "AMT_REQ_CREDIT_BUREAU_MON                             41519\n",
       "AMT_REQ_CREDIT_BUREAU_QRT                             41519\n",
       "AMT_REQ_CREDIT_BUREAU_YEAR                            41519\n",
       "MALE                                                      0\n",
       "FEMALE                                                    0\n",
       "AMT_INCOME_TOTAL_MINMAX                                   0\n",
       "NAME_TYPE_SUITE_Family                                    0\n",
       "NAME_TYPE_SUITE_Group of people                           0\n",
       "NAME_TYPE_SUITE_Other_A                                   0\n",
       "NAME_TYPE_SUITE_Other_B                                   0\n",
       "NAME_TYPE_SUITE_Spouse, partner                           0\n",
       "NAME_TYPE_SUITE_Unaccompanied                             0\n",
       "NAME_INCOME_TYPE_Commercial associate                     0\n",
       "NAME_INCOME_TYPE_Maternity leave                          0\n",
       "NAME_INCOME_TYPE_Pensioner                                0\n",
       "NAME_INCOME_TYPE_State servant                            0\n",
       "NAME_INCOME_TYPE_Student                                  0\n",
       "NAME_INCOME_TYPE_Unemployed                               0\n",
       "NAME_INCOME_TYPE_Working                                  0\n",
       "NAME_EDUCATION_TYPE_Higher education                      0\n",
       "NAME_EDUCATION_TYPE_Incomplete higher                     0\n",
       "NAME_EDUCATION_TYPE_Lower secondary                       0\n",
       "NAME_EDUCATION_TYPE_Secondary / secondary special         0\n",
       "NAME_FAMILY_STATUS_Married                                0\n",
       "NAME_FAMILY_STATUS_Separated                              0\n",
       "NAME_FAMILY_STATUS_Single / not married                   0\n",
       "NAME_FAMILY_STATUS_Unknown                                0\n",
       "NAME_FAMILY_STATUS_Widow                                  0\n",
       "NAME_HOUSING_TYPE_House / apartment                       0\n",
       "NAME_HOUSING_TYPE_Municipal apartment                     0\n",
       "NAME_HOUSING_TYPE_Office apartment                        0\n",
       "NAME_HOUSING_TYPE_Rented apartment                        0\n",
       "NAME_HOUSING_TYPE_With parents                            0\n",
       "dtype: int64"
      ]
     },
     "execution_count": 5,
     "metadata": {},
     "output_type": "execute_result"
    }
   ],
   "source": [
    "raw_df.isnull().sum()"
   ]
  },
  {
   "cell_type": "code",
   "execution_count": 6,
   "metadata": {},
   "outputs": [
    {
     "data": {
      "text/plain": [
       "1.4222454239942575"
      ]
     },
     "execution_count": 6,
     "metadata": {},
     "output_type": "execute_result"
    }
   ],
   "source": [
    "# Filling missing values with mean or mode\n",
    "raw_df['OBS_30_CNT_SOCIAL_CIRCLE'].mean()"
   ]
  },
  {
   "cell_type": "code",
   "execution_count": 7,
   "metadata": {},
   "outputs": [],
   "source": [
    "# replace missing values with mean or mode\n",
    "raw_df['OBS_30_CNT_SOCIAL_CIRCLE'].fillna(raw_df['OBS_30_CNT_SOCIAL_CIRCLE'].mean(),inplace=True)"
   ]
  },
  {
   "cell_type": "code",
   "execution_count": 8,
   "metadata": {},
   "outputs": [
    {
     "data": {
      "text/plain": [
       "0.1434206662533827"
      ]
     },
     "execution_count": 8,
     "metadata": {},
     "output_type": "execute_result"
    }
   ],
   "source": [
    "#Doing the same for other relavent features\n",
    "raw_df['DEF_30_CNT_SOCIAL_CIRCLE'].fillna(raw_df['DEF_30_CNT_SOCIAL_CIRCLE'].mean(),inplace=True)\n",
    "raw_df['DEF_30_CNT_SOCIAL_CIRCLE'].mean()"
   ]
  },
  {
   "cell_type": "code",
   "execution_count": 9,
   "metadata": {},
   "outputs": [
    {
     "data": {
      "text/plain": [
       "1.4052921791902133"
      ]
     },
     "execution_count": 9,
     "metadata": {},
     "output_type": "execute_result"
    }
   ],
   "source": [
    "raw_df['OBS_60_CNT_SOCIAL_CIRCLE'].fillna(raw_df['OBS_60_CNT_SOCIAL_CIRCLE'].mean(),inplace=True)\n",
    "raw_df['OBS_60_CNT_SOCIAL_CIRCLE'].mean()"
   ]
  },
  {
   "cell_type": "code",
   "execution_count": 10,
   "metadata": {},
   "outputs": [
    {
     "data": {
      "text/plain": [
       "0.10004894123788487"
      ]
     },
     "execution_count": 10,
     "metadata": {},
     "output_type": "execute_result"
    }
   ],
   "source": [
    "raw_df['DEF_60_CNT_SOCIAL_CIRCLE'].fillna(raw_df['DEF_60_CNT_SOCIAL_CIRCLE'].mean(),inplace=True)\n",
    "raw_df['DEF_60_CNT_SOCIAL_CIRCLE'].mean()"
   ]
  },
  {
   "cell_type": "code",
   "execution_count": 11,
   "metadata": {},
   "outputs": [
    {
     "data": {
      "text/plain": [
       "0.0"
      ]
     },
     "execution_count": 11,
     "metadata": {},
     "output_type": "execute_result"
    }
   ],
   "source": [
    "# replace missing values with mode\n",
    "raw_df['AMT_REQ_CREDIT_BUREAU_HOUR'].fillna(raw_df['AMT_REQ_CREDIT_BUREAU_HOUR'].mode()[0],inplace=True)\n",
    "raw_df['AMT_REQ_CREDIT_BUREAU_HOUR'].mode()[0]"
   ]
  },
  {
   "cell_type": "code",
   "execution_count": 12,
   "metadata": {},
   "outputs": [
    {
     "data": {
      "text/plain": [
       "0.0"
      ]
     },
     "execution_count": 12,
     "metadata": {},
     "output_type": "execute_result"
    }
   ],
   "source": [
    "raw_df['AMT_REQ_CREDIT_BUREAU_DAY'].fillna(raw_df['AMT_REQ_CREDIT_BUREAU_DAY'].mode()[0],inplace=True)\n",
    "raw_df['AMT_REQ_CREDIT_BUREAU_DAY'].mode()[0]"
   ]
  },
  {
   "cell_type": "code",
   "execution_count": 13,
   "metadata": {},
   "outputs": [
    {
     "data": {
      "text/plain": [
       "0.0"
      ]
     },
     "execution_count": 13,
     "metadata": {},
     "output_type": "execute_result"
    }
   ],
   "source": [
    "raw_df['AMT_REQ_CREDIT_BUREAU_WEEK'].fillna(raw_df['AMT_REQ_CREDIT_BUREAU_WEEK'].mode()[0],inplace=True)\n",
    "raw_df['AMT_REQ_CREDIT_BUREAU_WEEK'].mode()[0]"
   ]
  },
  {
   "cell_type": "code",
   "execution_count": 14,
   "metadata": {},
   "outputs": [
    {
     "data": {
      "text/plain": [
       "0.0"
      ]
     },
     "execution_count": 14,
     "metadata": {},
     "output_type": "execute_result"
    }
   ],
   "source": [
    "raw_df['AMT_REQ_CREDIT_BUREAU_MON'].fillna(raw_df['AMT_REQ_CREDIT_BUREAU_MON'].mode()[0],inplace=True)\n",
    "raw_df['AMT_REQ_CREDIT_BUREAU_MON'].mode()[0]"
   ]
  },
  {
   "cell_type": "code",
   "execution_count": 15,
   "metadata": {},
   "outputs": [
    {
     "data": {
      "text/plain": [
       "0.0"
      ]
     },
     "execution_count": 15,
     "metadata": {},
     "output_type": "execute_result"
    }
   ],
   "source": [
    "raw_df['AMT_REQ_CREDIT_BUREAU_QRT'].fillna(raw_df['AMT_REQ_CREDIT_BUREAU_QRT'].mode()[0],inplace=True)\n",
    "raw_df['AMT_REQ_CREDIT_BUREAU_QRT'].mode()[0]"
   ]
  },
  {
   "cell_type": "code",
   "execution_count": 16,
   "metadata": {},
   "outputs": [
    {
     "data": {
      "text/plain": [
       "0.0"
      ]
     },
     "execution_count": 16,
     "metadata": {},
     "output_type": "execute_result"
    }
   ],
   "source": [
    "raw_df['AMT_REQ_CREDIT_BUREAU_YEAR'].fillna(raw_df['AMT_REQ_CREDIT_BUREAU_YEAR'].mode()[0],inplace=True)\n",
    "raw_df['AMT_REQ_CREDIT_BUREAU_YEAR'].mode()[0]"
   ]
  },
  {
   "cell_type": "code",
   "execution_count": 17,
   "metadata": {},
   "outputs": [
    {
     "data": {
      "text/plain": [
       "-962.8587883320869"
      ]
     },
     "execution_count": 17,
     "metadata": {},
     "output_type": "execute_result"
    }
   ],
   "source": [
    "# replace missing values with mean\n",
    "raw_df['DAYS_LAST_PHONE_CHANGE'].fillna(raw_df['DAYS_LAST_PHONE_CHANGE'].mean(),inplace=True)\n",
    "raw_df['DAYS_LAST_PHONE_CHANGE'].mean()"
   ]
  },
  {
   "cell_type": "code",
   "execution_count": 18,
   "metadata": {},
   "outputs": [
    {
     "data": {
      "text/plain": [
       "0.5143926741308488"
      ]
     },
     "execution_count": 18,
     "metadata": {},
     "output_type": "execute_result"
    }
   ],
   "source": [
    "raw_df['EXT_SOURCE_2'].fillna(raw_df['EXT_SOURCE_2'].mean(),inplace=True)\n",
    "raw_df['EXT_SOURCE_2'].mean()"
   ]
  },
  {
   "cell_type": "code",
   "execution_count": 19,
   "metadata": {},
   "outputs": [
    {
     "data": {
      "text/plain": [
       "0.5108529061805426"
      ]
     },
     "execution_count": 19,
     "metadata": {},
     "output_type": "execute_result"
    }
   ],
   "source": [
    "raw_df['EXT_SOURCE_3'].fillna(raw_df['EXT_SOURCE_3'].mean(),inplace=True)\n",
    "raw_df['EXT_SOURCE_3'].mean()"
   ]
  },
  {
   "cell_type": "code",
   "execution_count": 20,
   "metadata": {},
   "outputs": [
    {
     "data": {
      "text/plain": [
       "TARGET                                                    0\n",
       "NAME_CONTRACT_TYPE                                        0\n",
       "FLAG_OWN_CAR                                              0\n",
       "CNT_CHILDREN                                              0\n",
       "AMT_INCOME_TOTAL                                          0\n",
       "AMT_CREDIT                                                0\n",
       "AMT_ANNUITY                                               0\n",
       "AMT_GOODS_PRICE                                           0\n",
       "REGION_POPULATION_RELATIVE                                0\n",
       "DAYS_BIRTH                                                0\n",
       "DAYS_EMPLOYED                                             0\n",
       "DAYS_REGISTRATION                                         0\n",
       "DAYS_ID_PUBLISH                                           0\n",
       "OWN_CAR_AGE                                          202929\n",
       "FLAG_MOBIL                                                0\n",
       "FLAG_EMP_PHONE                                            0\n",
       "FLAG_WORK_PHONE                                           0\n",
       "FLAG_CONT_MOBILE                                          0\n",
       "FLAG_PHONE                                                0\n",
       "FLAG_EMAIL                                                0\n",
       "OCCUPATION_TYPE                                           0\n",
       "CNT_FAM_MEMBERS                                           0\n",
       "REGION_RATING_CLIENT                                      0\n",
       "REGION_RATING_CLIENT_W_CITY                               0\n",
       "WEEKDAY_APPR_PROCESS_START                                0\n",
       "HOUR_APPR_PROCESS_START                                   0\n",
       "REG_REGION_NOT_LIVE_REGION                                0\n",
       "REG_REGION_NOT_WORK_REGION                                0\n",
       "LIVE_REGION_NOT_WORK_REGION                               0\n",
       "REG_CITY_NOT_LIVE_CITY                                    0\n",
       "REG_CITY_NOT_WORK_CITY                                    0\n",
       "LIVE_CITY_NOT_WORK_CITY                                   0\n",
       "ORGANIZATION_TYPE                                         0\n",
       "EXT_SOURCE_1                                         173378\n",
       "EXT_SOURCE_2                                              0\n",
       "EXT_SOURCE_3                                              0\n",
       "APARTMENTS_AVG                                       156061\n",
       "BASEMENTAREA_AVG                                     179943\n",
       "YEARS_BEGINEXPLUATATION_AVG                          150007\n",
       "YEARS_BUILD_AVG                                      204488\n",
       "COMMONAREA_AVG                                       214865\n",
       "ELEVATORS_AVG                                        163891\n",
       "ENTRANCES_AVG                                        154828\n",
       "FLOORSMAX_AVG                                        153020\n",
       "FLOORSMIN_AVG                                        208642\n",
       "LANDAREA_AVG                                         182590\n",
       "LIVINGAPARTMENTS_AVG                                 210199\n",
       "LIVINGAREA_AVG                                       154350\n",
       "NONLIVINGAPARTMENTS_AVG                              213514\n",
       "NONLIVINGAREA_AVG                                    169682\n",
       "APARTMENTS_MODE                                      156061\n",
       "BASEMENTAREA_MODE                                    179943\n",
       "YEARS_BEGINEXPLUATATION_MODE                         150007\n",
       "YEARS_BUILD_MODE                                     204488\n",
       "COMMONAREA_MODE                                      214865\n",
       "ELEVATORS_MODE                                       163891\n",
       "ENTRANCES_MODE                                       154828\n",
       "FLOORSMAX_MODE                                       153020\n",
       "FLOORSMIN_MODE                                       208642\n",
       "LANDAREA_MODE                                        182590\n",
       "LIVINGAPARTMENTS_MODE                                210199\n",
       "LIVINGAREA_MODE                                      154350\n",
       "NONLIVINGAPARTMENTS_MODE                             213514\n",
       "NONLIVINGAREA_MODE                                   169682\n",
       "APARTMENTS_MEDI                                      156061\n",
       "BASEMENTAREA_MEDI                                    179943\n",
       "YEARS_BEGINEXPLUATATION_MEDI                         150007\n",
       "YEARS_BUILD_MEDI                                     204488\n",
       "COMMONAREA_MEDI                                      214865\n",
       "ELEVATORS_MEDI                                       163891\n",
       "ENTRANCES_MEDI                                       154828\n",
       "FLOORSMAX_MEDI                                       153020\n",
       "FLOORSMIN_MEDI                                       208642\n",
       "LANDAREA_MEDI                                        182590\n",
       "LIVINGAPARTMENTS_MEDI                                210199\n",
       "LIVINGAREA_MEDI                                      154350\n",
       "NONLIVINGAPARTMENTS_MEDI                             213514\n",
       "NONLIVINGAREA_MEDI                                   169682\n",
       "FONDKAPREMONT_MODE                                   210295\n",
       "HOUSETYPE_MODE                                       154297\n",
       "TOTALAREA_MODE                                       148431\n",
       "WALLSMATERIAL_MODE                                   156341\n",
       "EMERGENCYSTATE_MODE                                  145755\n",
       "OBS_30_CNT_SOCIAL_CIRCLE                                  0\n",
       "DEF_30_CNT_SOCIAL_CIRCLE                                  0\n",
       "OBS_60_CNT_SOCIAL_CIRCLE                                  0\n",
       "DEF_60_CNT_SOCIAL_CIRCLE                                  0\n",
       "DAYS_LAST_PHONE_CHANGE                                    0\n",
       "FLAG_DOCUMENT_2                                           0\n",
       "FLAG_DOCUMENT_3                                           0\n",
       "FLAG_DOCUMENT_4                                           0\n",
       "FLAG_DOCUMENT_5                                           0\n",
       "FLAG_DOCUMENT_6                                           0\n",
       "FLAG_DOCUMENT_7                                           0\n",
       "FLAG_DOCUMENT_8                                           0\n",
       "FLAG_DOCUMENT_9                                           0\n",
       "FLAG_DOCUMENT_10                                          0\n",
       "FLAG_DOCUMENT_11                                          0\n",
       "FLAG_DOCUMENT_12                                          0\n",
       "FLAG_DOCUMENT_13                                          0\n",
       "FLAG_DOCUMENT_14                                          0\n",
       "FLAG_DOCUMENT_15                                          0\n",
       "FLAG_DOCUMENT_16                                          0\n",
       "FLAG_DOCUMENT_17                                          0\n",
       "FLAG_DOCUMENT_18                                          0\n",
       "FLAG_DOCUMENT_19                                          0\n",
       "FLAG_DOCUMENT_20                                          0\n",
       "FLAG_DOCUMENT_21                                          0\n",
       "AMT_REQ_CREDIT_BUREAU_HOUR                                0\n",
       "AMT_REQ_CREDIT_BUREAU_DAY                                 0\n",
       "AMT_REQ_CREDIT_BUREAU_WEEK                                0\n",
       "AMT_REQ_CREDIT_BUREAU_MON                                 0\n",
       "AMT_REQ_CREDIT_BUREAU_QRT                                 0\n",
       "AMT_REQ_CREDIT_BUREAU_YEAR                                0\n",
       "MALE                                                      0\n",
       "FEMALE                                                    0\n",
       "AMT_INCOME_TOTAL_MINMAX                                   0\n",
       "NAME_TYPE_SUITE_Family                                    0\n",
       "NAME_TYPE_SUITE_Group of people                           0\n",
       "NAME_TYPE_SUITE_Other_A                                   0\n",
       "NAME_TYPE_SUITE_Other_B                                   0\n",
       "NAME_TYPE_SUITE_Spouse, partner                           0\n",
       "NAME_TYPE_SUITE_Unaccompanied                             0\n",
       "NAME_INCOME_TYPE_Commercial associate                     0\n",
       "NAME_INCOME_TYPE_Maternity leave                          0\n",
       "NAME_INCOME_TYPE_Pensioner                                0\n",
       "NAME_INCOME_TYPE_State servant                            0\n",
       "NAME_INCOME_TYPE_Student                                  0\n",
       "NAME_INCOME_TYPE_Unemployed                               0\n",
       "NAME_INCOME_TYPE_Working                                  0\n",
       "NAME_EDUCATION_TYPE_Higher education                      0\n",
       "NAME_EDUCATION_TYPE_Incomplete higher                     0\n",
       "NAME_EDUCATION_TYPE_Lower secondary                       0\n",
       "NAME_EDUCATION_TYPE_Secondary / secondary special         0\n",
       "NAME_FAMILY_STATUS_Married                                0\n",
       "NAME_FAMILY_STATUS_Separated                              0\n",
       "NAME_FAMILY_STATUS_Single / not married                   0\n",
       "NAME_FAMILY_STATUS_Unknown                                0\n",
       "NAME_FAMILY_STATUS_Widow                                  0\n",
       "NAME_HOUSING_TYPE_House / apartment                       0\n",
       "NAME_HOUSING_TYPE_Municipal apartment                     0\n",
       "NAME_HOUSING_TYPE_Office apartment                        0\n",
       "NAME_HOUSING_TYPE_Rented apartment                        0\n",
       "NAME_HOUSING_TYPE_With parents                            0\n",
       "dtype: int64"
      ]
     },
     "execution_count": 20,
     "metadata": {},
     "output_type": "execute_result"
    }
   ],
   "source": [
    "raw_df.isnull().sum()"
   ]
  },
  {
   "cell_type": "code",
   "execution_count": 21,
   "metadata": {},
   "outputs": [],
   "source": [
    "#Drop the columns that has number of missing values >100000\n",
    "raw_df = raw_df.dropna(axis=1)"
   ]
  },
  {
   "cell_type": "code",
   "execution_count": 22,
   "metadata": {},
   "outputs": [
    {
     "data": {
      "text/plain": [
       "TARGET                                               0\n",
       "NAME_CONTRACT_TYPE                                   0\n",
       "FLAG_OWN_CAR                                         0\n",
       "CNT_CHILDREN                                         0\n",
       "AMT_INCOME_TOTAL                                     0\n",
       "AMT_CREDIT                                           0\n",
       "AMT_ANNUITY                                          0\n",
       "AMT_GOODS_PRICE                                      0\n",
       "REGION_POPULATION_RELATIVE                           0\n",
       "DAYS_BIRTH                                           0\n",
       "DAYS_EMPLOYED                                        0\n",
       "DAYS_REGISTRATION                                    0\n",
       "DAYS_ID_PUBLISH                                      0\n",
       "FLAG_MOBIL                                           0\n",
       "FLAG_EMP_PHONE                                       0\n",
       "FLAG_WORK_PHONE                                      0\n",
       "FLAG_CONT_MOBILE                                     0\n",
       "FLAG_PHONE                                           0\n",
       "FLAG_EMAIL                                           0\n",
       "OCCUPATION_TYPE                                      0\n",
       "CNT_FAM_MEMBERS                                      0\n",
       "REGION_RATING_CLIENT                                 0\n",
       "REGION_RATING_CLIENT_W_CITY                          0\n",
       "WEEKDAY_APPR_PROCESS_START                           0\n",
       "HOUR_APPR_PROCESS_START                              0\n",
       "REG_REGION_NOT_LIVE_REGION                           0\n",
       "REG_REGION_NOT_WORK_REGION                           0\n",
       "LIVE_REGION_NOT_WORK_REGION                          0\n",
       "REG_CITY_NOT_LIVE_CITY                               0\n",
       "REG_CITY_NOT_WORK_CITY                               0\n",
       "LIVE_CITY_NOT_WORK_CITY                              0\n",
       "ORGANIZATION_TYPE                                    0\n",
       "EXT_SOURCE_2                                         0\n",
       "EXT_SOURCE_3                                         0\n",
       "OBS_30_CNT_SOCIAL_CIRCLE                             0\n",
       "DEF_30_CNT_SOCIAL_CIRCLE                             0\n",
       "OBS_60_CNT_SOCIAL_CIRCLE                             0\n",
       "DEF_60_CNT_SOCIAL_CIRCLE                             0\n",
       "DAYS_LAST_PHONE_CHANGE                               0\n",
       "FLAG_DOCUMENT_2                                      0\n",
       "FLAG_DOCUMENT_3                                      0\n",
       "FLAG_DOCUMENT_4                                      0\n",
       "FLAG_DOCUMENT_5                                      0\n",
       "FLAG_DOCUMENT_6                                      0\n",
       "FLAG_DOCUMENT_7                                      0\n",
       "FLAG_DOCUMENT_8                                      0\n",
       "FLAG_DOCUMENT_9                                      0\n",
       "FLAG_DOCUMENT_10                                     0\n",
       "FLAG_DOCUMENT_11                                     0\n",
       "FLAG_DOCUMENT_12                                     0\n",
       "FLAG_DOCUMENT_13                                     0\n",
       "FLAG_DOCUMENT_14                                     0\n",
       "FLAG_DOCUMENT_15                                     0\n",
       "FLAG_DOCUMENT_16                                     0\n",
       "FLAG_DOCUMENT_17                                     0\n",
       "FLAG_DOCUMENT_18                                     0\n",
       "FLAG_DOCUMENT_19                                     0\n",
       "FLAG_DOCUMENT_20                                     0\n",
       "FLAG_DOCUMENT_21                                     0\n",
       "AMT_REQ_CREDIT_BUREAU_HOUR                           0\n",
       "AMT_REQ_CREDIT_BUREAU_DAY                            0\n",
       "AMT_REQ_CREDIT_BUREAU_WEEK                           0\n",
       "AMT_REQ_CREDIT_BUREAU_MON                            0\n",
       "AMT_REQ_CREDIT_BUREAU_QRT                            0\n",
       "AMT_REQ_CREDIT_BUREAU_YEAR                           0\n",
       "MALE                                                 0\n",
       "FEMALE                                               0\n",
       "AMT_INCOME_TOTAL_MINMAX                              0\n",
       "NAME_TYPE_SUITE_Family                               0\n",
       "NAME_TYPE_SUITE_Group of people                      0\n",
       "NAME_TYPE_SUITE_Other_A                              0\n",
       "NAME_TYPE_SUITE_Other_B                              0\n",
       "NAME_TYPE_SUITE_Spouse, partner                      0\n",
       "NAME_TYPE_SUITE_Unaccompanied                        0\n",
       "NAME_INCOME_TYPE_Commercial associate                0\n",
       "NAME_INCOME_TYPE_Maternity leave                     0\n",
       "NAME_INCOME_TYPE_Pensioner                           0\n",
       "NAME_INCOME_TYPE_State servant                       0\n",
       "NAME_INCOME_TYPE_Student                             0\n",
       "NAME_INCOME_TYPE_Unemployed                          0\n",
       "NAME_INCOME_TYPE_Working                             0\n",
       "NAME_EDUCATION_TYPE_Higher education                 0\n",
       "NAME_EDUCATION_TYPE_Incomplete higher                0\n",
       "NAME_EDUCATION_TYPE_Lower secondary                  0\n",
       "NAME_EDUCATION_TYPE_Secondary / secondary special    0\n",
       "NAME_FAMILY_STATUS_Married                           0\n",
       "NAME_FAMILY_STATUS_Separated                         0\n",
       "NAME_FAMILY_STATUS_Single / not married              0\n",
       "NAME_FAMILY_STATUS_Unknown                           0\n",
       "NAME_FAMILY_STATUS_Widow                             0\n",
       "NAME_HOUSING_TYPE_House / apartment                  0\n",
       "NAME_HOUSING_TYPE_Municipal apartment                0\n",
       "NAME_HOUSING_TYPE_Office apartment                   0\n",
       "NAME_HOUSING_TYPE_Rented apartment                   0\n",
       "NAME_HOUSING_TYPE_With parents                       0\n",
       "dtype: int64"
      ]
     },
     "execution_count": 22,
     "metadata": {},
     "output_type": "execute_result"
    }
   ],
   "source": [
    "raw_df.isnull().sum()"
   ]
  },
  {
   "cell_type": "code",
   "execution_count": 23,
   "metadata": {},
   "outputs": [],
   "source": [
    "#Save the data to a new file\n",
    "raw_df.to_csv('raw_no_missing.csv')"
   ]
  },
  {
   "cell_type": "markdown",
   "metadata": {},
   "source": [
    "### Perform one-hot encoding (Not suitable for Naive Bayes Classification)"
   ]
  },
  {
   "cell_type": "code",
   "execution_count": 24,
   "metadata": {},
   "outputs": [],
   "source": [
    "raw_df = pd.get_dummies(raw_df, columns=['NAME_CONTRACT_TYPE','OCCUPATION_TYPE','FLAG_OWN_CAR','WEEKDAY_APPR_PROCESS_START','ORGANIZATION_TYPE','MALE'],drop_first = True)\n",
    "\n",
    "#p.s. for Naive Bayes Classification, set drop_first = False. Also, no need modification on MALE and FEMALE.\n",
    "# Also for NB, do not drop Female\n",
    "raw_df = raw_df.drop(columns='FEMALE')"
   ]
  },
  {
   "cell_type": "code",
   "execution_count": 25,
   "metadata": {},
   "outputs": [
    {
     "data": {
      "text/plain": [
       "TARGET                                               0\n",
       "CNT_CHILDREN                                         0\n",
       "AMT_INCOME_TOTAL                                     0\n",
       "AMT_CREDIT                                           0\n",
       "AMT_ANNUITY                                          0\n",
       "AMT_GOODS_PRICE                                      0\n",
       "REGION_POPULATION_RELATIVE                           0\n",
       "DAYS_BIRTH                                           0\n",
       "DAYS_EMPLOYED                                        0\n",
       "DAYS_REGISTRATION                                    0\n",
       "DAYS_ID_PUBLISH                                      0\n",
       "FLAG_MOBIL                                           0\n",
       "FLAG_EMP_PHONE                                       0\n",
       "FLAG_WORK_PHONE                                      0\n",
       "FLAG_CONT_MOBILE                                     0\n",
       "FLAG_PHONE                                           0\n",
       "FLAG_EMAIL                                           0\n",
       "CNT_FAM_MEMBERS                                      0\n",
       "REGION_RATING_CLIENT                                 0\n",
       "REGION_RATING_CLIENT_W_CITY                          0\n",
       "HOUR_APPR_PROCESS_START                              0\n",
       "REG_REGION_NOT_LIVE_REGION                           0\n",
       "REG_REGION_NOT_WORK_REGION                           0\n",
       "LIVE_REGION_NOT_WORK_REGION                          0\n",
       "REG_CITY_NOT_LIVE_CITY                               0\n",
       "REG_CITY_NOT_WORK_CITY                               0\n",
       "LIVE_CITY_NOT_WORK_CITY                              0\n",
       "EXT_SOURCE_2                                         0\n",
       "EXT_SOURCE_3                                         0\n",
       "OBS_30_CNT_SOCIAL_CIRCLE                             0\n",
       "DEF_30_CNT_SOCIAL_CIRCLE                             0\n",
       "OBS_60_CNT_SOCIAL_CIRCLE                             0\n",
       "DEF_60_CNT_SOCIAL_CIRCLE                             0\n",
       "DAYS_LAST_PHONE_CHANGE                               0\n",
       "FLAG_DOCUMENT_2                                      0\n",
       "FLAG_DOCUMENT_3                                      0\n",
       "FLAG_DOCUMENT_4                                      0\n",
       "FLAG_DOCUMENT_5                                      0\n",
       "FLAG_DOCUMENT_6                                      0\n",
       "FLAG_DOCUMENT_7                                      0\n",
       "FLAG_DOCUMENT_8                                      0\n",
       "FLAG_DOCUMENT_9                                      0\n",
       "FLAG_DOCUMENT_10                                     0\n",
       "FLAG_DOCUMENT_11                                     0\n",
       "FLAG_DOCUMENT_12                                     0\n",
       "FLAG_DOCUMENT_13                                     0\n",
       "FLAG_DOCUMENT_14                                     0\n",
       "FLAG_DOCUMENT_15                                     0\n",
       "FLAG_DOCUMENT_16                                     0\n",
       "FLAG_DOCUMENT_17                                     0\n",
       "FLAG_DOCUMENT_18                                     0\n",
       "FLAG_DOCUMENT_19                                     0\n",
       "FLAG_DOCUMENT_20                                     0\n",
       "FLAG_DOCUMENT_21                                     0\n",
       "AMT_REQ_CREDIT_BUREAU_HOUR                           0\n",
       "AMT_REQ_CREDIT_BUREAU_DAY                            0\n",
       "AMT_REQ_CREDIT_BUREAU_WEEK                           0\n",
       "AMT_REQ_CREDIT_BUREAU_MON                            0\n",
       "AMT_REQ_CREDIT_BUREAU_QRT                            0\n",
       "AMT_REQ_CREDIT_BUREAU_YEAR                           0\n",
       "AMT_INCOME_TOTAL_MINMAX                              0\n",
       "NAME_TYPE_SUITE_Family                               0\n",
       "NAME_TYPE_SUITE_Group of people                      0\n",
       "NAME_TYPE_SUITE_Other_A                              0\n",
       "NAME_TYPE_SUITE_Other_B                              0\n",
       "NAME_TYPE_SUITE_Spouse, partner                      0\n",
       "NAME_TYPE_SUITE_Unaccompanied                        0\n",
       "NAME_INCOME_TYPE_Commercial associate                0\n",
       "NAME_INCOME_TYPE_Maternity leave                     0\n",
       "NAME_INCOME_TYPE_Pensioner                           0\n",
       "NAME_INCOME_TYPE_State servant                       0\n",
       "NAME_INCOME_TYPE_Student                             0\n",
       "NAME_INCOME_TYPE_Unemployed                          0\n",
       "NAME_INCOME_TYPE_Working                             0\n",
       "NAME_EDUCATION_TYPE_Higher education                 0\n",
       "NAME_EDUCATION_TYPE_Incomplete higher                0\n",
       "NAME_EDUCATION_TYPE_Lower secondary                  0\n",
       "NAME_EDUCATION_TYPE_Secondary / secondary special    0\n",
       "NAME_FAMILY_STATUS_Married                           0\n",
       "NAME_FAMILY_STATUS_Separated                         0\n",
       "NAME_FAMILY_STATUS_Single / not married              0\n",
       "NAME_FAMILY_STATUS_Unknown                           0\n",
       "NAME_FAMILY_STATUS_Widow                             0\n",
       "NAME_HOUSING_TYPE_House / apartment                  0\n",
       "NAME_HOUSING_TYPE_Municipal apartment                0\n",
       "NAME_HOUSING_TYPE_Office apartment                   0\n",
       "NAME_HOUSING_TYPE_Rented apartment                   0\n",
       "NAME_HOUSING_TYPE_With parents                       0\n",
       "NAME_CONTRACT_TYPE_Revolving loans                   0\n",
       "OCCUPATION_TYPE_Cleaning staff                       0\n",
       "OCCUPATION_TYPE_Cooking staff                        0\n",
       "OCCUPATION_TYPE_Core staff                           0\n",
       "OCCUPATION_TYPE_Drivers                              0\n",
       "OCCUPATION_TYPE_HR staff                             0\n",
       "OCCUPATION_TYPE_High skill tech staff                0\n",
       "OCCUPATION_TYPE_IT staff                             0\n",
       "OCCUPATION_TYPE_Laborers                             0\n",
       "OCCUPATION_TYPE_Low-skill Laborers                   0\n",
       "OCCUPATION_TYPE_Managers                             0\n",
       "OCCUPATION_TYPE_Medicine staff                       0\n",
       "OCCUPATION_TYPE_Private service staff                0\n",
       "OCCUPATION_TYPE_Realty agents                        0\n",
       "OCCUPATION_TYPE_Sales staff                          0\n",
       "OCCUPATION_TYPE_Secretaries                          0\n",
       "OCCUPATION_TYPE_Security staff                       0\n",
       "OCCUPATION_TYPE_Waiters/barmen staff                 0\n",
       "FLAG_OWN_CAR_Y                                       0\n",
       "WEEKDAY_APPR_PROCESS_START_MONDAY                    0\n",
       "WEEKDAY_APPR_PROCESS_START_SATURDAY                  0\n",
       "WEEKDAY_APPR_PROCESS_START_SUNDAY                    0\n",
       "WEEKDAY_APPR_PROCESS_START_THURSDAY                  0\n",
       "WEEKDAY_APPR_PROCESS_START_TUESDAY                   0\n",
       "WEEKDAY_APPR_PROCESS_START_WEDNESDAY                 0\n",
       "ORGANIZATION_TYPE_Agriculture                        0\n",
       "ORGANIZATION_TYPE_Bank                               0\n",
       "ORGANIZATION_TYPE_Business Entity Type 1             0\n",
       "ORGANIZATION_TYPE_Business Entity Type 2             0\n",
       "ORGANIZATION_TYPE_Business Entity Type 3             0\n",
       "ORGANIZATION_TYPE_Cleaning                           0\n",
       "ORGANIZATION_TYPE_Construction                       0\n",
       "ORGANIZATION_TYPE_Culture                            0\n",
       "ORGANIZATION_TYPE_Electricity                        0\n",
       "ORGANIZATION_TYPE_Emergency                          0\n",
       "ORGANIZATION_TYPE_Government                         0\n",
       "ORGANIZATION_TYPE_Hotel                              0\n",
       "ORGANIZATION_TYPE_Housing                            0\n",
       "ORGANIZATION_TYPE_Industry: type 1                   0\n",
       "ORGANIZATION_TYPE_Industry: type 10                  0\n",
       "ORGANIZATION_TYPE_Industry: type 11                  0\n",
       "ORGANIZATION_TYPE_Industry: type 12                  0\n",
       "ORGANIZATION_TYPE_Industry: type 13                  0\n",
       "ORGANIZATION_TYPE_Industry: type 2                   0\n",
       "ORGANIZATION_TYPE_Industry: type 3                   0\n",
       "ORGANIZATION_TYPE_Industry: type 4                   0\n",
       "ORGANIZATION_TYPE_Industry: type 5                   0\n",
       "ORGANIZATION_TYPE_Industry: type 6                   0\n",
       "ORGANIZATION_TYPE_Industry: type 7                   0\n",
       "ORGANIZATION_TYPE_Industry: type 8                   0\n",
       "ORGANIZATION_TYPE_Industry: type 9                   0\n",
       "ORGANIZATION_TYPE_Insurance                          0\n",
       "ORGANIZATION_TYPE_Kindergarten                       0\n",
       "ORGANIZATION_TYPE_Legal Services                     0\n",
       "ORGANIZATION_TYPE_Medicine                           0\n",
       "ORGANIZATION_TYPE_Military                           0\n",
       "ORGANIZATION_TYPE_Mobile                             0\n",
       "ORGANIZATION_TYPE_Other                              0\n",
       "ORGANIZATION_TYPE_Police                             0\n",
       "ORGANIZATION_TYPE_Postal                             0\n",
       "ORGANIZATION_TYPE_Realtor                            0\n",
       "ORGANIZATION_TYPE_Religion                           0\n",
       "ORGANIZATION_TYPE_Restaurant                         0\n",
       "ORGANIZATION_TYPE_School                             0\n",
       "ORGANIZATION_TYPE_Security                           0\n",
       "ORGANIZATION_TYPE_Security Ministries                0\n",
       "ORGANIZATION_TYPE_Self-employed                      0\n",
       "ORGANIZATION_TYPE_Services                           0\n",
       "ORGANIZATION_TYPE_Telecom                            0\n",
       "ORGANIZATION_TYPE_Trade: type 1                      0\n",
       "ORGANIZATION_TYPE_Trade: type 2                      0\n",
       "ORGANIZATION_TYPE_Trade: type 3                      0\n",
       "ORGANIZATION_TYPE_Trade: type 4                      0\n",
       "ORGANIZATION_TYPE_Trade: type 5                      0\n",
       "ORGANIZATION_TYPE_Trade: type 6                      0\n",
       "ORGANIZATION_TYPE_Trade: type 7                      0\n",
       "ORGANIZATION_TYPE_Transport: type 1                  0\n",
       "ORGANIZATION_TYPE_Transport: type 2                  0\n",
       "ORGANIZATION_TYPE_Transport: type 3                  0\n",
       "ORGANIZATION_TYPE_Transport: type 4                  0\n",
       "ORGANIZATION_TYPE_University                         0\n",
       "ORGANIZATION_TYPE_XNA                                0\n",
       "MALE_True                                            0\n",
       "dtype: int64"
      ]
     },
     "execution_count": 25,
     "metadata": {},
     "output_type": "execute_result"
    }
   ],
   "source": [
    "raw_df.isnull().sum()"
   ]
  },
  {
   "cell_type": "markdown",
   "metadata": {},
   "source": [
    "### Let's build the first Decision Tree\n",
    "we will use all the data to construct the tree and evaluate the model"
   ]
  },
  {
   "cell_type": "code",
   "execution_count": 26,
   "metadata": {},
   "outputs": [],
   "source": [
    "# import libraries\n",
    "import numpy as np\n",
    "import pandas as pd\n",
    "import matplotlib as mpl\n",
    "import matplotlib.pyplot as plt"
   ]
  },
  {
   "cell_type": "markdown",
   "metadata": {},
   "source": [
    "#### Step 1: Define features and target variable"
   ]
  },
  {
   "cell_type": "code",
   "execution_count": 27,
   "metadata": {},
   "outputs": [
    {
     "data": {
      "text/plain": [
       "['AMT_ANNUITY',\n",
       " 'AMT_CREDIT',\n",
       " 'AMT_GOODS_PRICE',\n",
       " 'AMT_INCOME_TOTAL',\n",
       " 'AMT_INCOME_TOTAL_MINMAX',\n",
       " 'AMT_REQ_CREDIT_BUREAU_DAY',\n",
       " 'AMT_REQ_CREDIT_BUREAU_HOUR',\n",
       " 'AMT_REQ_CREDIT_BUREAU_MON',\n",
       " 'AMT_REQ_CREDIT_BUREAU_QRT',\n",
       " 'AMT_REQ_CREDIT_BUREAU_WEEK',\n",
       " 'AMT_REQ_CREDIT_BUREAU_YEAR',\n",
       " 'CNT_CHILDREN',\n",
       " 'CNT_FAM_MEMBERS',\n",
       " 'DAYS_BIRTH',\n",
       " 'DAYS_EMPLOYED',\n",
       " 'DAYS_ID_PUBLISH',\n",
       " 'DAYS_LAST_PHONE_CHANGE',\n",
       " 'DAYS_REGISTRATION',\n",
       " 'DEF_30_CNT_SOCIAL_CIRCLE',\n",
       " 'DEF_60_CNT_SOCIAL_CIRCLE',\n",
       " 'EXT_SOURCE_2',\n",
       " 'EXT_SOURCE_3',\n",
       " 'FLAG_CONT_MOBILE',\n",
       " 'FLAG_DOCUMENT_10',\n",
       " 'FLAG_DOCUMENT_11',\n",
       " 'FLAG_DOCUMENT_12',\n",
       " 'FLAG_DOCUMENT_13',\n",
       " 'FLAG_DOCUMENT_14',\n",
       " 'FLAG_DOCUMENT_15',\n",
       " 'FLAG_DOCUMENT_16',\n",
       " 'FLAG_DOCUMENT_17',\n",
       " 'FLAG_DOCUMENT_18',\n",
       " 'FLAG_DOCUMENT_19',\n",
       " 'FLAG_DOCUMENT_2',\n",
       " 'FLAG_DOCUMENT_20',\n",
       " 'FLAG_DOCUMENT_21',\n",
       " 'FLAG_DOCUMENT_3',\n",
       " 'FLAG_DOCUMENT_4',\n",
       " 'FLAG_DOCUMENT_5',\n",
       " 'FLAG_DOCUMENT_6',\n",
       " 'FLAG_DOCUMENT_7',\n",
       " 'FLAG_DOCUMENT_8',\n",
       " 'FLAG_DOCUMENT_9',\n",
       " 'FLAG_EMAIL',\n",
       " 'FLAG_EMP_PHONE',\n",
       " 'FLAG_MOBIL',\n",
       " 'FLAG_OWN_CAR_Y',\n",
       " 'FLAG_PHONE',\n",
       " 'FLAG_WORK_PHONE',\n",
       " 'HOUR_APPR_PROCESS_START',\n",
       " 'LIVE_CITY_NOT_WORK_CITY',\n",
       " 'LIVE_REGION_NOT_WORK_REGION',\n",
       " 'MALE_True',\n",
       " 'NAME_CONTRACT_TYPE_Revolving loans',\n",
       " 'NAME_EDUCATION_TYPE_Higher education',\n",
       " 'NAME_EDUCATION_TYPE_Incomplete higher',\n",
       " 'NAME_EDUCATION_TYPE_Lower secondary',\n",
       " 'NAME_EDUCATION_TYPE_Secondary / secondary special',\n",
       " 'NAME_FAMILY_STATUS_Married',\n",
       " 'NAME_FAMILY_STATUS_Separated',\n",
       " 'NAME_FAMILY_STATUS_Single / not married',\n",
       " 'NAME_FAMILY_STATUS_Unknown',\n",
       " 'NAME_FAMILY_STATUS_Widow',\n",
       " 'NAME_HOUSING_TYPE_House / apartment',\n",
       " 'NAME_HOUSING_TYPE_Municipal apartment',\n",
       " 'NAME_HOUSING_TYPE_Office apartment',\n",
       " 'NAME_HOUSING_TYPE_Rented apartment',\n",
       " 'NAME_HOUSING_TYPE_With parents',\n",
       " 'NAME_INCOME_TYPE_Commercial associate',\n",
       " 'NAME_INCOME_TYPE_Maternity leave',\n",
       " 'NAME_INCOME_TYPE_Pensioner',\n",
       " 'NAME_INCOME_TYPE_State servant',\n",
       " 'NAME_INCOME_TYPE_Student',\n",
       " 'NAME_INCOME_TYPE_Unemployed',\n",
       " 'NAME_INCOME_TYPE_Working',\n",
       " 'NAME_TYPE_SUITE_Family',\n",
       " 'NAME_TYPE_SUITE_Group of people',\n",
       " 'NAME_TYPE_SUITE_Other_A',\n",
       " 'NAME_TYPE_SUITE_Other_B',\n",
       " 'NAME_TYPE_SUITE_Spouse, partner',\n",
       " 'NAME_TYPE_SUITE_Unaccompanied',\n",
       " 'OBS_30_CNT_SOCIAL_CIRCLE',\n",
       " 'OBS_60_CNT_SOCIAL_CIRCLE',\n",
       " 'OCCUPATION_TYPE_Cleaning staff',\n",
       " 'OCCUPATION_TYPE_Cooking staff',\n",
       " 'OCCUPATION_TYPE_Core staff',\n",
       " 'OCCUPATION_TYPE_Drivers',\n",
       " 'OCCUPATION_TYPE_HR staff',\n",
       " 'OCCUPATION_TYPE_High skill tech staff',\n",
       " 'OCCUPATION_TYPE_IT staff',\n",
       " 'OCCUPATION_TYPE_Laborers',\n",
       " 'OCCUPATION_TYPE_Low-skill Laborers',\n",
       " 'OCCUPATION_TYPE_Managers',\n",
       " 'OCCUPATION_TYPE_Medicine staff',\n",
       " 'OCCUPATION_TYPE_Private service staff',\n",
       " 'OCCUPATION_TYPE_Realty agents',\n",
       " 'OCCUPATION_TYPE_Sales staff',\n",
       " 'OCCUPATION_TYPE_Secretaries',\n",
       " 'OCCUPATION_TYPE_Security staff',\n",
       " 'OCCUPATION_TYPE_Waiters/barmen staff',\n",
       " 'ORGANIZATION_TYPE_Agriculture',\n",
       " 'ORGANIZATION_TYPE_Bank',\n",
       " 'ORGANIZATION_TYPE_Business Entity Type 1',\n",
       " 'ORGANIZATION_TYPE_Business Entity Type 2',\n",
       " 'ORGANIZATION_TYPE_Business Entity Type 3',\n",
       " 'ORGANIZATION_TYPE_Cleaning',\n",
       " 'ORGANIZATION_TYPE_Construction',\n",
       " 'ORGANIZATION_TYPE_Culture',\n",
       " 'ORGANIZATION_TYPE_Electricity',\n",
       " 'ORGANIZATION_TYPE_Emergency',\n",
       " 'ORGANIZATION_TYPE_Government',\n",
       " 'ORGANIZATION_TYPE_Hotel',\n",
       " 'ORGANIZATION_TYPE_Housing',\n",
       " 'ORGANIZATION_TYPE_Industry: type 1',\n",
       " 'ORGANIZATION_TYPE_Industry: type 10',\n",
       " 'ORGANIZATION_TYPE_Industry: type 11',\n",
       " 'ORGANIZATION_TYPE_Industry: type 12',\n",
       " 'ORGANIZATION_TYPE_Industry: type 13',\n",
       " 'ORGANIZATION_TYPE_Industry: type 2',\n",
       " 'ORGANIZATION_TYPE_Industry: type 3',\n",
       " 'ORGANIZATION_TYPE_Industry: type 4',\n",
       " 'ORGANIZATION_TYPE_Industry: type 5',\n",
       " 'ORGANIZATION_TYPE_Industry: type 6',\n",
       " 'ORGANIZATION_TYPE_Industry: type 7',\n",
       " 'ORGANIZATION_TYPE_Industry: type 8',\n",
       " 'ORGANIZATION_TYPE_Industry: type 9',\n",
       " 'ORGANIZATION_TYPE_Insurance',\n",
       " 'ORGANIZATION_TYPE_Kindergarten',\n",
       " 'ORGANIZATION_TYPE_Legal Services',\n",
       " 'ORGANIZATION_TYPE_Medicine',\n",
       " 'ORGANIZATION_TYPE_Military',\n",
       " 'ORGANIZATION_TYPE_Mobile',\n",
       " 'ORGANIZATION_TYPE_Other',\n",
       " 'ORGANIZATION_TYPE_Police',\n",
       " 'ORGANIZATION_TYPE_Postal',\n",
       " 'ORGANIZATION_TYPE_Realtor',\n",
       " 'ORGANIZATION_TYPE_Religion',\n",
       " 'ORGANIZATION_TYPE_Restaurant',\n",
       " 'ORGANIZATION_TYPE_School',\n",
       " 'ORGANIZATION_TYPE_Security',\n",
       " 'ORGANIZATION_TYPE_Security Ministries',\n",
       " 'ORGANIZATION_TYPE_Self-employed',\n",
       " 'ORGANIZATION_TYPE_Services',\n",
       " 'ORGANIZATION_TYPE_Telecom',\n",
       " 'ORGANIZATION_TYPE_Trade: type 1',\n",
       " 'ORGANIZATION_TYPE_Trade: type 2',\n",
       " 'ORGANIZATION_TYPE_Trade: type 3',\n",
       " 'ORGANIZATION_TYPE_Trade: type 4',\n",
       " 'ORGANIZATION_TYPE_Trade: type 5',\n",
       " 'ORGANIZATION_TYPE_Trade: type 6',\n",
       " 'ORGANIZATION_TYPE_Trade: type 7',\n",
       " 'ORGANIZATION_TYPE_Transport: type 1',\n",
       " 'ORGANIZATION_TYPE_Transport: type 2',\n",
       " 'ORGANIZATION_TYPE_Transport: type 3',\n",
       " 'ORGANIZATION_TYPE_Transport: type 4',\n",
       " 'ORGANIZATION_TYPE_University',\n",
       " 'ORGANIZATION_TYPE_XNA',\n",
       " 'REGION_POPULATION_RELATIVE',\n",
       " 'REGION_RATING_CLIENT',\n",
       " 'REGION_RATING_CLIENT_W_CITY',\n",
       " 'REG_CITY_NOT_LIVE_CITY',\n",
       " 'REG_CITY_NOT_WORK_CITY',\n",
       " 'REG_REGION_NOT_LIVE_REGION',\n",
       " 'REG_REGION_NOT_WORK_REGION',\n",
       " 'WEEKDAY_APPR_PROCESS_START_MONDAY',\n",
       " 'WEEKDAY_APPR_PROCESS_START_SATURDAY',\n",
       " 'WEEKDAY_APPR_PROCESS_START_SUNDAY',\n",
       " 'WEEKDAY_APPR_PROCESS_START_THURSDAY',\n",
       " 'WEEKDAY_APPR_PROCESS_START_TUESDAY',\n",
       " 'WEEKDAY_APPR_PROCESS_START_WEDNESDAY']"
      ]
     },
     "execution_count": 27,
     "metadata": {},
     "output_type": "execute_result"
    }
   ],
   "source": [
    "#Get column names\n",
    "attirbutes =sorted(raw_df)\n",
    "attirbutes.remove('TARGET')\n",
    "attirbutes"
   ]
  },
  {
   "cell_type": "code",
   "execution_count": 28,
   "metadata": {},
   "outputs": [],
   "source": [
    "# define independent variables / attirbutes / features\n",
    "features = attirbutes\n",
    "# define one single target variable / label\n",
    "target = ['TARGET']\n",
    "\n",
    "# get defined training dataset\n",
    "X = raw_df[features]\n",
    "y = raw_df[target]"
   ]
  },
  {
   "cell_type": "markdown",
   "metadata": {},
   "source": [
    "#### Step 2: Split data into training and hold-out test set"
   ]
  },
  {
   "cell_type": "code",
   "execution_count": 29,
   "metadata": {},
   "outputs": [
    {
     "name": "stdout",
     "output_type": "stream",
     "text": [
      "<class 'pandas.core.frame.DataFrame'>\n",
      "Int64Index: 246008 entries, 269894 to 228644\n",
      "Columns: 170 entries, AMT_ANNUITY to WEEKDAY_APPR_PROCESS_START_WEDNESDAY\n",
      "dtypes: float64(21), int64(66), uint8(83)\n",
      "memory usage: 184.6 MB\n"
     ]
    }
   ],
   "source": [
    "# import train split function\n",
    "from sklearn.model_selection import train_test_split\n",
    "\n",
    "# split data into 80% and 20%, put 20% in testing\n",
    "X_train, X_val, y_train, y_val = train_test_split(X, y, test_size=0.2, random_state=3360)\n",
    "\n",
    "X_train.info()"
   ]
  },
  {
   "cell_type": "markdown",
   "metadata": {},
   "source": [
    "#### Step 3: Build a Tree based on 80% train data"
   ]
  },
  {
   "cell_type": "code",
   "execution_count": 30,
   "metadata": {},
   "outputs": [],
   "source": [
    "# import DecisionTreeClassifier\n",
    "from sklearn.tree import DecisionTreeClassifier"
   ]
  },
  {
   "cell_type": "code",
   "execution_count": 31,
   "metadata": {},
   "outputs": [],
   "source": [
    "# define our model as a decision tree model\n",
    "model = DecisionTreeClassifier(random_state=3360)"
   ]
  },
  {
   "cell_type": "code",
   "execution_count": 32,
   "metadata": {},
   "outputs": [
    {
     "data": {
      "text/plain": [
       "DecisionTreeClassifier(class_weight=None, criterion='gini', max_depth=None,\n",
       "                       max_features=None, max_leaf_nodes=None,\n",
       "                       min_impurity_decrease=0.0, min_impurity_split=None,\n",
       "                       min_samples_leaf=1, min_samples_split=2,\n",
       "                       min_weight_fraction_leaf=0.0, presort=False,\n",
       "                       random_state=3360, splitter='best')"
      ]
     },
     "execution_count": 32,
     "metadata": {},
     "output_type": "execute_result"
    }
   ],
   "source": [
    "# build the decision tree model based on defalut hyperparameter settings\n",
    "model.fit(X_train, y_train)"
   ]
  },
  {
   "cell_type": "markdown",
   "metadata": {},
   "source": [
    "#### Visualize the Decision Tree? No. Tree is too big to be visualized."
   ]
  },
  {
   "cell_type": "code",
   "execution_count": 33,
   "metadata": {},
   "outputs": [],
   "source": [
    "# import library for visuaiization\n",
    "# from sklearn import tree\n",
    "# import matplotlib.pyplot as plt"
   ]
  },
  {
   "cell_type": "code",
   "execution_count": 34,
   "metadata": {},
   "outputs": [],
   "source": [
    "# plt.figure(figsize = (100,150))\n",
    "# tree.plot_tree(model,ax=None, fontsize=50)\n",
    "# plt.show()"
   ]
  },
  {
   "cell_type": "markdown",
   "metadata": {},
   "source": [
    "#### Step 4: Evaluate the model on 20% validation set"
   ]
  },
  {
   "cell_type": "markdown",
   "metadata": {},
   "source": [
    "- Calculate:\n",
    "  - Accuracy\n",
    "  - Precision\n",
    "  - Recall\n",
    "  <!-- - F1 score -->\n",
    "- Display confusion matrix"
   ]
  },
  {
   "cell_type": "code",
   "execution_count": 35,
   "metadata": {},
   "outputs": [],
   "source": [
    "# import evaluation tools\n",
    "from sklearn.metrics import accuracy_score\n",
    "from sklearn.metrics import classification_report\n",
    "from sklearn.metrics import confusion_matrix\n",
    "from sklearn.metrics import roc_curve, auc"
   ]
  },
  {
   "cell_type": "code",
   "execution_count": 36,
   "metadata": {},
   "outputs": [],
   "source": [
    "# test model base on 20% data\n",
    "pred_val = model.predict(X_val)"
   ]
  },
  {
   "cell_type": "code",
   "execution_count": 37,
   "metadata": {},
   "outputs": [
    {
     "name": "stdout",
     "output_type": "stream",
     "text": [
      "Accuracy from 20% test data: 0.8543323089930572\n",
      "Confusion Matrix \n",
      " [[51735  4886]\n",
      " [ 4073   809]]\n",
      "Classification Report: \n",
      "               precision    recall  f1-score   support\n",
      "\n",
      "           0       0.93      0.91      0.92     56621\n",
      "           1       0.14      0.17      0.15      4882\n",
      "\n",
      "    accuracy                           0.85     61503\n",
      "   macro avg       0.53      0.54      0.54     61503\n",
      "weighted avg       0.86      0.85      0.86     61503\n",
      "\n"
     ]
    }
   ],
   "source": [
    "# print evaluation result for 20% test data\n",
    "print(\"Accuracy from 20% test data:\",accuracy_score(y_val, pred_val, normalize=True, sample_weight=None))\n",
    "print(\"Confusion Matrix\", '\\n', confusion_matrix(y_val, pred_val))\n",
    "print(\"Classification Report:\", '\\n', classification_report(y_val, pred_val))"
   ]
  },
  {
   "cell_type": "code",
   "execution_count": 38,
   "metadata": {},
   "outputs": [],
   "source": [
    "# test model base on 80% data for training\n",
    "pred_val_Xtrain= model.predict(X_train)"
   ]
  },
  {
   "cell_type": "code",
   "execution_count": 39,
   "metadata": {},
   "outputs": [
    {
     "name": "stdout",
     "output_type": "stream",
     "text": [
      "Accuracy from 80% train data: 1.0\n",
      "Confusion Matrix \n",
      " [[226065      0]\n",
      " [     0  19943]]\n",
      "Classification Report: \n",
      "               precision    recall  f1-score   support\n",
      "\n",
      "           0       1.00      1.00      1.00    226065\n",
      "           1       1.00      1.00      1.00     19943\n",
      "\n",
      "    accuracy                           1.00    246008\n",
      "   macro avg       1.00      1.00      1.00    246008\n",
      "weighted avg       1.00      1.00      1.00    246008\n",
      "\n"
     ]
    }
   ],
   "source": [
    "# print evaluation result for 80% train data\n",
    "print(\"Accuracy from 80% train data:\",accuracy_score(y_train, pred_val_Xtrain, normalize=True, sample_weight=None))\n",
    "print(\"Confusion Matrix\", '\\n', confusion_matrix(y_train, pred_val_Xtrain))\n",
    "print(\"Classification Report:\", '\\n', classification_report(y_train, pred_val_Xtrain))"
   ]
  },
  {
   "cell_type": "markdown",
   "metadata": {},
   "source": [
    "Since the difference between training and validation accuracy is substantial and the training accuracy is 100%, overfitting occured in this model with default hyperparameters.  \n",
    "There are 3 methods to reduce overfitting:\n",
    "- Hyperparameter tuning (manual)\n",
    "- Cross validation\n",
    "- Hyperparameter tuning (via GridSearchCV)"
   ]
  },
  {
   "cell_type": "markdown",
   "metadata": {},
   "source": [
    "### Manual Hyperparameter Tuning (Tuning tree depth)"
   ]
  },
  {
   "cell_type": "markdown",
   "metadata": {},
   "source": [
    "#### Let's fit the decision tree with depths ranging from 1 to 32 and plot the train and test accuracy scores"
   ]
  },
  {
   "cell_type": "code",
   "execution_count": 40,
   "metadata": {},
   "outputs": [],
   "source": [
    "# create an array that holds the max_depth\n",
    "max_depth = np. linspace(1,15,15, endpoint=True)"
   ]
  },
  {
   "cell_type": "code",
   "execution_count": 41,
   "metadata": {},
   "outputs": [
    {
     "data": {
      "text/plain": [
       "array([ 1.,  2.,  3.,  4.,  5.,  6.,  7.,  8.,  9., 10., 11., 12., 13.,\n",
       "       14., 15.])"
      ]
     },
     "execution_count": 41,
     "metadata": {},
     "output_type": "execute_result"
    }
   ],
   "source": [
    "max_depth"
   ]
  },
  {
   "cell_type": "code",
   "execution_count": 42,
   "metadata": {},
   "outputs": [],
   "source": [
    "# create a loop to try out different depth value\n",
    "train_results =[]\n",
    "test_results = []\n",
    "# create a loop to try out all the number from 1 to 15 for max_depths in a decision tree\n",
    "for max_depth_i in max_depth:\n",
    "    dt = DecisionTreeClassifier(max_depth=max_depth_i)\n",
    "    dt.fit(X_train, y_train)\n",
    "    \n",
    "    train_pred = dt.predict(X_train)\n",
    "    accuracy = accuracy_score(y_train, train_pred, normalize=True, sample_weight=None)\n",
    "    train_results.append(accuracy)\n",
    "    \n",
    "    y_pred = dt.predict(X_val)\n",
    "    accuracy = accuracy_score(y_val, y_pred, normalize=True, sample_weight=None)\n",
    "    test_results.append(accuracy)"
   ]
  },
  {
   "cell_type": "code",
   "execution_count": 43,
   "metadata": {},
   "outputs": [
    {
     "data": {
      "image/png": "[encoded data removed]",
      "text/plain": [
       "<Figure size 432x288 with 1 Axes>"
      ]
     },
     "metadata": {
      "needs_background": "light"
     },
     "output_type": "display_data"
    }
   ],
   "source": [
    "from matplotlib.legend_handler import HandlerLine2D\n",
    "line1, = plt.plot(max_depth, train_results, 'b', label='Train accuracy')\n",
    "line2, = plt.plot(max_depth, test_results, 'r', label='Test accuracy')\n",
    "plt.legend(handler_map={line1: HandlerLine2D(numpoints=2)})\n",
    "plt.ylabel('Accuracy score')\n",
    "plt.xlabel('Tree depth')\n",
    "plt.show()"
   ]
  },
  {
   "cell_type": "markdown",
   "metadata": {},
   "source": [
    "It seems that max_depth around 2 is appropriate. (There seems to be serious overfitting problem.)"
   ]
  },
  {
   "cell_type": "markdown",
   "metadata": {},
   "source": [
    "### 3-fold Cross validation for tuning min_samples_leaf"
   ]
  },
  {
   "cell_type": "code",
   "execution_count": 44,
   "metadata": {},
   "outputs": [],
   "source": [
    "# Function to plot the results\n",
    "def plot_fitting_curves(results):\n",
    "    results.plot(\"min_leaves\")\n",
    "    plt.ylabel(\"Accuracy\")\n",
    "    plt.xlabel(\"Min samples per leaf (inverse of complexity)\")\n",
    "    plt.show()"
   ]
  },
  {
   "cell_type": "code",
   "execution_count": 45,
   "metadata": {},
   "outputs": [
    {
     "name": "stdout",
     "output_type": "stream",
     "text": [
      "Size of training data: 196806\n",
      "Size of validation data: 61503\n"
     ]
    },
    {
     "data": {
      "image/png": "[encoded data removed]",
      "text/plain": [
       "<Figure size 432x288 with 1 Axes>"
      ]
     },
     "metadata": {
      "needs_background": "light"
     },
     "output_type": "display_data"
    }
   ],
   "source": [
    "# Split into a sub training set and validation set\n",
    "X_strain, X_val2, y_strain, y_val2 = train_test_split(X_train, y_train, test_size=0.2, random_state=3360)\n",
    "print(f\"Size of training data: {X_strain.shape[0]}\")\n",
    "print(f\"Size of validation data: {X_val.shape[0]}\")\n",
    "\n",
    "min_leaves = range(1,80,5)\n",
    "\n",
    "Accuracy_val = []\n",
    "for m in min_leaves:\n",
    "    # We train the model with only a portion of the training data (the 'sub-training' data set)\n",
    "    model_val = DecisionTreeClassifier(min_samples_leaf=m, random_state=3360)\n",
    "    model_val.fit(X_strain, y_strain)\n",
    "    predictions_val = model_val.predict(X_val2)\n",
    "    # And we evaluate in the validation set\n",
    "    accuracy_val = accuracy_score(y_val2, predictions_val,normalize=True, sample_weight=None)\n",
    "    Accuracy_val.append(accuracy_val)\n",
    "\n",
    "results = pd.DataFrame({\"min_leaves\": min_leaves, \"validation\":Accuracy_val})\n",
    "plot_fitting_curves(results)"
   ]
  },
  {
   "cell_type": "code",
   "execution_count": 46,
   "metadata": {},
   "outputs": [
    {
     "data": {
      "image/png": "[encoded data removed]",
      "text/plain": [
       "<Figure size 432x288 with 1 Axes>"
      ]
     },
     "metadata": {
      "needs_background": "light"
     },
     "output_type": "display_data"
    }
   ],
   "source": [
    "from sklearn.model_selection import cross_val_predict\n",
    "\n",
    "Accuracy_cv = []\n",
    "for m in min_leaves:\n",
    "    # Define hyperparamter for complexity control\n",
    "    model_cv = DecisionTreeClassifier(min_samples_leaf=m, random_state=3360)\n",
    "    # Evaluate the performance of the hyperparameter with cross validation. \n",
    "    # The parameter 'cv' is used to determine the number of splits (folds). \n",
    "    predictions_cv = cross_val_predict(model_cv, X_train, y_train, cv=3)\n",
    "    accuracy_cv = accuracy_score(y_train, predictions_cv,normalize=True, sample_weight=None)\n",
    "    Accuracy_cv.append(accuracy_cv)\n",
    "\n",
    "results = pd.DataFrame({\"min_leaves\": min_leaves, \"validation\":Accuracy_val, \"cross-validation\":Accuracy_cv})\n",
    "plot_fitting_curves(results)"
   ]
  },
  {
   "cell_type": "markdown",
   "metadata": {},
   "source": [
    "Again, there seems to be serious overfitting problem."
   ]
  },
  {
   "cell_type": "markdown",
   "metadata": {},
   "source": [
    "### GridSearchCV"
   ]
  },
  {
   "cell_type": "code",
   "execution_count": 48,
   "metadata": {},
   "outputs": [],
   "source": [
    "# create try_grid\n",
    "try_grid = [{'max_leaf_nodes': np.arange(1, 4)*20,                   \n",
    "             'min_samples_split': np.arange(2, 4)}]                  "
   ]
  },
  {
   "cell_type": "code",
   "execution_count": 49,
   "metadata": {},
   "outputs": [],
   "source": [
    "from sklearn.model_selection import GridSearchCV\n",
    "\n",
    "# create GridSearchCV object\n",
    "DTM = GridSearchCV(DecisionTreeClassifier(random_state=3360), param_grid=try_grid, cv=3)"
   ]
  },
  {
   "cell_type": "code",
   "execution_count": 50,
   "metadata": {},
   "outputs": [
    {
     "data": {
      "text/plain": [
       "GridSearchCV(cv=3, error_score='raise-deprecating',\n",
       "             estimator=DecisionTreeClassifier(class_weight=None,\n",
       "                                              criterion='gini', max_depth=None,\n",
       "                                              max_features=None,\n",
       "                                              max_leaf_nodes=None,\n",
       "                                              min_impurity_decrease=0.0,\n",
       "                                              min_impurity_split=None,\n",
       "                                              min_samples_leaf=1,\n",
       "                                              min_samples_split=2,\n",
       "                                              min_weight_fraction_leaf=0.0,\n",
       "                                              presort=False, random_state=3360,\n",
       "                                              splitter='best'),\n",
       "             iid='warn', n_jobs=None,\n",
       "             param_grid=[{'max_leaf_nodes': array([20, 40, 60]),\n",
       "                          'min_samples_split': array([2, 3])}],\n",
       "             pre_dispatch='2*n_jobs', refit=True, return_train_score=False,\n",
       "             scoring=None, verbose=0)"
      ]
     },
     "execution_count": 50,
     "metadata": {},
     "output_type": "execute_result"
    }
   ],
   "source": [
    "DTM.fit(X_train,y_train)"
   ]
  },
  {
   "cell_type": "code",
   "execution_count": 51,
   "metadata": {},
   "outputs": [
    {
     "data": {
      "text/plain": [
       "{'max_leaf_nodes': 20, 'min_samples_split': 2}"
      ]
     },
     "execution_count": 51,
     "metadata": {},
     "output_type": "execute_result"
    }
   ],
   "source": [
    "# find the best parameters\n",
    "DTM.best_params_"
   ]
  },
  {
   "cell_type": "code",
   "execution_count": 52,
   "metadata": {},
   "outputs": [
    {
     "data": {
      "text/plain": [
       "0.918941660433807"
      ]
     },
     "execution_count": 52,
     "metadata": {},
     "output_type": "execute_result"
    }
   ],
   "source": [
    "DTM.best_score_"
   ]
  },
  {
   "cell_type": "code",
   "execution_count": 53,
   "metadata": {},
   "outputs": [],
   "source": [
    "my_model = DecisionTreeClassifier(max_depth = 2,max_leaf_nodes = 20,min_samples_split=2)"
   ]
  },
  {
   "cell_type": "code",
   "execution_count": 54,
   "metadata": {},
   "outputs": [
    {
     "data": {
      "text/plain": [
       "DecisionTreeClassifier(class_weight=None, criterion='gini', max_depth=2,\n",
       "                       max_features=None, max_leaf_nodes=20,\n",
       "                       min_impurity_decrease=0.0, min_impurity_split=None,\n",
       "                       min_samples_leaf=1, min_samples_split=2,\n",
       "                       min_weight_fraction_leaf=0.0, presort=False,\n",
       "                       random_state=None, splitter='best')"
      ]
     },
     "execution_count": 54,
     "metadata": {},
     "output_type": "execute_result"
    }
   ],
   "source": [
    "my_model.fit(X_train,y_train)"
   ]
  },
  {
   "cell_type": "code",
   "execution_count": 55,
   "metadata": {},
   "outputs": [],
   "source": [
    "y_predict = my_model.predict(X_val)"
   ]
  },
  {
   "cell_type": "code",
   "execution_count": 56,
   "metadata": {},
   "outputs": [
    {
     "data": {
      "text/plain": [
       "0.9206217582882136"
      ]
     },
     "execution_count": 56,
     "metadata": {},
     "output_type": "execute_result"
    }
   ],
   "source": [
    "accuracy_score(y_val, y_predict, normalize=True, sample_weight=None)"
   ]
  },
  {
   "cell_type": "code",
   "execution_count": 57,
   "metadata": {},
   "outputs": [
    {
     "name": "stdout",
     "output_type": "stream",
     "text": [
      "Accuracy: 0.9206217582882136\n",
      "Confusion Matrix \n",
      " [[56621     0]\n",
      " [ 4882     0]]\n",
      "Classification Report: \n",
      "               precision    recall  f1-score   support\n",
      "\n",
      "           0       0.92      1.00      0.96     56621\n",
      "           1       0.00      0.00      0.00      4882\n",
      "\n",
      "    accuracy                           0.92     61503\n",
      "   macro avg       0.46      0.50      0.48     61503\n",
      "weighted avg       0.85      0.92      0.88     61503\n",
      "\n"
     ]
    },
    {
     "name": "stderr",
     "output_type": "stream",
     "text": [
      "C:\\Users\\wclee\\Anaconda3\\lib\\site-packages\\sklearn\\metrics\\classification.py:1437: UndefinedMetricWarning: Precision and F-score are ill-defined and being set to 0.0 in labels with no predicted samples.\n",
      "  'precision', 'predicted', average, warn_for)\n"
     ]
    }
   ],
   "source": [
    "print(\"Accuracy:\",accuracy_score(y_val, y_predict, normalize=True, sample_weight=None))\n",
    "print(\"Confusion Matrix\", '\\n', confusion_matrix(y_val, y_predict))\n",
    "print(\"Classification Report:\", '\\n', classification_report(y_val, y_predict))"
   ]
  },
  {
   "cell_type": "markdown",
   "metadata": {},
   "source": [
    "Something wrong with the model: The model is making predictions of all 0s. That means the model is not doing anything better than the majority classifier!!\n",
    "Diagnosis: There might exist some irrelevant variables which lead to\n",
    "unnecessary complexity"
   ]
  },
  {
   "cell_type": "markdown",
   "metadata": {},
   "source": [
    "## Balancing the data"
   ]
  },
  {
   "cell_type": "code",
   "execution_count": 58,
   "metadata": {},
   "outputs": [
    {
     "name": "stdout",
     "output_type": "stream",
     "text": [
      "Out of  307511  customers, only 24825  cutomers default!\n"
     ]
    }
   ],
   "source": [
    "print(\"Out of \", raw_df.shape[0], \" customers, only\", raw_df['TARGET'].sum(), \" cutomers default!\")"
   ]
  },
  {
   "cell_type": "markdown",
   "metadata": {},
   "source": [
    "### Downsample the nondefault cases"
   ]
  },
  {
   "cell_type": "code",
   "execution_count": 59,
   "metadata": {},
   "outputs": [
    {
     "name": "stdout",
     "output_type": "stream",
     "text": [
      "Out of  49650  customers,  24825  customers default!\n"
     ]
    }
   ],
   "source": [
    "balanced_train = raw_df.drop(raw_df[raw_df.TARGET==0].index[0:257861])\n",
    "print(\"Out of \", balanced_train.shape[0], \" customers, \", balanced_train['TARGET'].sum(), \" customers default!\")"
   ]
  },
  {
   "cell_type": "markdown",
   "metadata": {},
   "source": [
    "## Feature selection"
   ]
  },
  {
   "cell_type": "code",
   "execution_count": 60,
   "metadata": {},
   "outputs": [],
   "source": [
    "import pandas as pd\n",
    "import numpy as np\n",
    "import seaborn as sn\n",
    "import matplotlib.pyplot as plt\n",
    "%matplotlib inline\n",
    "import statsmodels.api as smf\n",
    "from scipy.stats import chi2_contingency"
   ]
  },
  {
   "cell_type": "markdown",
   "metadata": {},
   "source": [
    "#### Use  correlation coefficient to find 30 most important features which have higher associations with response variable Y."
   ]
  },
  {
   "cell_type": "code",
   "execution_count": 61,
   "metadata": {},
   "outputs": [
    {
     "data": {
      "text/plain": [
       "EXT_SOURCE_2                                         0.268228\n",
       "EXT_SOURCE_3                                         0.262588\n",
       "DAYS_BIRTH                                           0.146374\n",
       "REGION_RATING_CLIENT_W_CITY                          0.110686\n",
       "NAME_EDUCATION_TYPE_Higher education                 0.110609\n",
       "NAME_INCOME_TYPE_Working                             0.106680\n",
       "REGION_RATING_CLIENT                                 0.106072\n",
       "DAYS_LAST_PHONE_CHANGE                               0.104813\n",
       "NAME_EDUCATION_TYPE_Secondary / secondary special    0.096849\n",
       "MALE_True                                            0.096572\n",
       "DAYS_ID_PUBLISH                                      0.093701\n",
       "NAME_INCOME_TYPE_Pensioner                           0.091515\n",
       "ORGANIZATION_TYPE_XNA                                0.091029\n",
       "FLAG_EMP_PHONE                                       0.091019\n",
       "REG_CITY_NOT_WORK_CITY                               0.090096\n",
       "DAYS_EMPLOYED                                        0.089132\n",
       "FLAG_DOCUMENT_3                                      0.085894\n",
       "DAYS_REGISTRATION                                    0.079501\n",
       "REG_CITY_NOT_LIVE_CITY                               0.076710\n",
       "AMT_GOODS_PRICE                                      0.074462\n",
       "REGION_POPULATION_RELATIVE                           0.073908\n",
       "NAME_CONTRACT_TYPE_Revolving loans                   0.064612\n",
       "LIVE_CITY_NOT_WORK_CITY                              0.058226\n",
       "AMT_CREDIT                                           0.055841\n",
       "FLAG_DOCUMENT_6                                      0.055613\n",
       "DEF_30_CNT_SOCIAL_CIRCLE                             0.053951\n",
       "DEF_60_CNT_SOCIAL_CIRCLE                             0.051826\n",
       "OCCUPATION_TYPE_Drivers                              0.051650\n",
       "FLAG_WORK_PHONE                                      0.051586\n",
       "ORGANIZATION_TYPE_Self-employed                      0.051310\n",
       "Name: TARGET, dtype: float64"
      ]
     },
     "execution_count": 61,
     "metadata": {},
     "output_type": "execute_result"
    }
   ],
   "source": [
    "np.abs(balanced_train.corr()[\"TARGET\"]).sort_values(ascending=False).iloc[1:31]"
   ]
  },
  {
   "cell_type": "code",
   "execution_count": 62,
   "metadata": {},
   "outputs": [
    {
     "name": "stdout",
     "output_type": "stream",
     "text": [
      "REGION_RATING_CLIENT REGION_RATING_CLIENT_W_CITY 0.9520013077529532\n",
      "ORGANIZATION_TYPE_XNA NAME_INCOME_TYPE_Pensioner 0.9992237267820715\n",
      "FLAG_EMP_PHONE NAME_INCOME_TYPE_Pensioner -0.9990686422966573\n",
      "FLAG_EMP_PHONE ORGANIZATION_TYPE_XNA -0.9998448024263294\n",
      "DAYS_EMPLOYED NAME_INCOME_TYPE_Pensioner 0.9991157917645016\n",
      "DAYS_EMPLOYED ORGANIZATION_TYPE_XNA 0.9998917992912195\n",
      "DAYS_EMPLOYED FLAG_EMP_PHONE -0.9997359694589643\n",
      "AMT_CREDIT AMT_GOODS_PRICE 0.984792833970495\n"
     ]
    }
   ],
   "source": [
    "# Check for collinearity\n",
    "predictors=list(np.abs(balanced_train.corr()[\"TARGET\"]).sort_values(ascending=False).iloc[1:31].index)\n",
    "M=balanced_train[predictors].corr()\n",
    "# check for colinearity: detect those with at least 0.95 (absolute sense)\n",
    "for i in range(M.shape[0]):\n",
    "    for j in range(i):\n",
    "        if M.iloc[i,j]>0.95 or M.iloc[i,j]<-0.95:\n",
    "            print(M.index[i],M.columns[j], M.iloc[i,j])   "
   ]
  },
  {
   "cell_type": "code",
   "execution_count": 63,
   "metadata": {},
   "outputs": [],
   "source": [
    "#Drop the variable with multicolinearity problem.\n",
    "balanced_train = balanced_train.drop(columns='FLAG_EMP_PHONE')"
   ]
  },
  {
   "cell_type": "code",
   "execution_count": 64,
   "metadata": {},
   "outputs": [],
   "source": [
    "balanced_train = balanced_train.drop(columns='ORGANIZATION_TYPE_XNA')"
   ]
  },
  {
   "cell_type": "code",
   "execution_count": 65,
   "metadata": {},
   "outputs": [],
   "source": [
    "balanced_train = balanced_train.drop(columns='DAYS_EMPLOYED')"
   ]
  },
  {
   "cell_type": "code",
   "execution_count": 66,
   "metadata": {},
   "outputs": [
    {
     "data": {
      "text/plain": [
       "EXT_SOURCE_2                                         0.268228\n",
       "EXT_SOURCE_3                                         0.262588\n",
       "DAYS_BIRTH                                           0.146374\n",
       "REGION_RATING_CLIENT_W_CITY                          0.110686\n",
       "NAME_EDUCATION_TYPE_Higher education                 0.110609\n",
       "NAME_INCOME_TYPE_Working                             0.106680\n",
       "REGION_RATING_CLIENT                                 0.106072\n",
       "DAYS_LAST_PHONE_CHANGE                               0.104813\n",
       "NAME_EDUCATION_TYPE_Secondary / secondary special    0.096849\n",
       "MALE_True                                            0.096572\n",
       "DAYS_ID_PUBLISH                                      0.093701\n",
       "NAME_INCOME_TYPE_Pensioner                           0.091515\n",
       "REG_CITY_NOT_WORK_CITY                               0.090096\n",
       "FLAG_DOCUMENT_3                                      0.085894\n",
       "DAYS_REGISTRATION                                    0.079501\n",
       "REG_CITY_NOT_LIVE_CITY                               0.076710\n",
       "AMT_GOODS_PRICE                                      0.074462\n",
       "REGION_POPULATION_RELATIVE                           0.073908\n",
       "NAME_CONTRACT_TYPE_Revolving loans                   0.064612\n",
       "LIVE_CITY_NOT_WORK_CITY                              0.058226\n",
       "AMT_CREDIT                                           0.055841\n",
       "FLAG_DOCUMENT_6                                      0.055613\n",
       "DEF_30_CNT_SOCIAL_CIRCLE                             0.053951\n",
       "DEF_60_CNT_SOCIAL_CIRCLE                             0.051826\n",
       "OCCUPATION_TYPE_Drivers                              0.051650\n",
       "FLAG_WORK_PHONE                                      0.051586\n",
       "ORGANIZATION_TYPE_Self-employed                      0.051310\n",
       "NAME_HOUSING_TYPE_With parents                       0.051197\n",
       "NAME_FAMILY_STATUS_Single / not married              0.050760\n",
       "NAME_HOUSING_TYPE_House / apartment                  0.049538\n",
       "Name: TARGET, dtype: float64"
      ]
     },
     "execution_count": 66,
     "metadata": {},
     "output_type": "execute_result"
    }
   ],
   "source": [
    "np.abs(balanced_train.corr()[\"TARGET\"]).sort_values(ascending=False).iloc[1:31]"
   ]
  },
  {
   "cell_type": "code",
   "execution_count": 67,
   "metadata": {},
   "outputs": [
    {
     "name": "stdout",
     "output_type": "stream",
     "text": [
      "REGION_RATING_CLIENT REGION_RATING_CLIENT_W_CITY 0.9520013077529532\n",
      "AMT_CREDIT AMT_GOODS_PRICE 0.984792833970495\n"
     ]
    }
   ],
   "source": [
    "# Check for collinearity\n",
    "predictors=list(np.abs(balanced_train.corr()[\"TARGET\"]).sort_values(ascending=False).iloc[1:31].index)\n",
    "M=balanced_train[predictors].corr()\n",
    "# check for colinearity: detect those with at least 0.95 (absolute sense)\n",
    "for i in range(M.shape[0]):\n",
    "    for j in range(i):\n",
    "        if M.iloc[i,j]>0.95 or M.iloc[i,j]<-0.95:\n",
    "            print(M.index[i],M.columns[j], M.iloc[i,j])   "
   ]
  },
  {
   "cell_type": "code",
   "execution_count": 68,
   "metadata": {},
   "outputs": [],
   "source": [
    "#Drop the variables with multicolinearity problem.\n",
    "balanced_train = balanced_train.drop(columns='REGION_RATING_CLIENT')\n",
    "balanced_train = balanced_train.drop(columns='AMT_CREDIT')"
   ]
  },
  {
   "cell_type": "code",
   "execution_count": 69,
   "metadata": {},
   "outputs": [
    {
     "data": {
      "text/plain": [
       "EXT_SOURCE_2                                         0.268228\n",
       "EXT_SOURCE_3                                         0.262588\n",
       "DAYS_BIRTH                                           0.146374\n",
       "REGION_RATING_CLIENT_W_CITY                          0.110686\n",
       "NAME_EDUCATION_TYPE_Higher education                 0.110609\n",
       "NAME_INCOME_TYPE_Working                             0.106680\n",
       "DAYS_LAST_PHONE_CHANGE                               0.104813\n",
       "NAME_EDUCATION_TYPE_Secondary / secondary special    0.096849\n",
       "MALE_True                                            0.096572\n",
       "DAYS_ID_PUBLISH                                      0.093701\n",
       "NAME_INCOME_TYPE_Pensioner                           0.091515\n",
       "REG_CITY_NOT_WORK_CITY                               0.090096\n",
       "FLAG_DOCUMENT_3                                      0.085894\n",
       "DAYS_REGISTRATION                                    0.079501\n",
       "REG_CITY_NOT_LIVE_CITY                               0.076710\n",
       "AMT_GOODS_PRICE                                      0.074462\n",
       "REGION_POPULATION_RELATIVE                           0.073908\n",
       "NAME_CONTRACT_TYPE_Revolving loans                   0.064612\n",
       "LIVE_CITY_NOT_WORK_CITY                              0.058226\n",
       "FLAG_DOCUMENT_6                                      0.055613\n",
       "DEF_30_CNT_SOCIAL_CIRCLE                             0.053951\n",
       "DEF_60_CNT_SOCIAL_CIRCLE                             0.051826\n",
       "OCCUPATION_TYPE_Drivers                              0.051650\n",
       "FLAG_WORK_PHONE                                      0.051586\n",
       "ORGANIZATION_TYPE_Self-employed                      0.051310\n",
       "NAME_HOUSING_TYPE_With parents                       0.051197\n",
       "NAME_FAMILY_STATUS_Single / not married              0.050760\n",
       "NAME_HOUSING_TYPE_House / apartment                  0.049538\n",
       "NAME_INCOME_TYPE_State servant                       0.046455\n",
       "NAME_FAMILY_STATUS_Married                           0.043890\n",
       "Name: TARGET, dtype: float64"
      ]
     },
     "execution_count": 69,
     "metadata": {},
     "output_type": "execute_result"
    }
   ],
   "source": [
    "np.abs(balanced_train.corr()[\"TARGET\"]).sort_values(ascending=False).iloc[1:31]"
   ]
  },
  {
   "cell_type": "code",
   "execution_count": 70,
   "metadata": {},
   "outputs": [],
   "source": [
    "# Check for collinearity\n",
    "predictors=list(np.abs(balanced_train.corr()[\"TARGET\"]).sort_values(ascending=False).iloc[1:31].index)\n",
    "M=balanced_train[predictors].corr()\n",
    "# check for colinearity: detect those with at least 0.95 (absolute sense)\n",
    "for i in range(M.shape[0]):\n",
    "    for j in range(i):\n",
    "        if M.iloc[i,j]>0.95 or M.iloc[i,j]<-0.95:\n",
    "            print(M.index[i],M.columns[j], M.iloc[i,j]) "
   ]
  },
  {
   "cell_type": "code",
   "execution_count": 71,
   "metadata": {},
   "outputs": [],
   "source": [
    "#Drop unexplicable features\n",
    "balanced_train = balanced_train.drop(columns='FLAG_DOCUMENT_3')\n",
    "balanced_train = balanced_train.drop(columns='FLAG_DOCUMENT_6')"
   ]
  },
  {
   "cell_type": "code",
   "execution_count": 72,
   "metadata": {},
   "outputs": [
    {
     "data": {
      "text/plain": [
       "EXT_SOURCE_2                                         0.268228\n",
       "EXT_SOURCE_3                                         0.262588\n",
       "DAYS_BIRTH                                           0.146374\n",
       "REGION_RATING_CLIENT_W_CITY                          0.110686\n",
       "NAME_EDUCATION_TYPE_Higher education                 0.110609\n",
       "NAME_INCOME_TYPE_Working                             0.106680\n",
       "DAYS_LAST_PHONE_CHANGE                               0.104813\n",
       "NAME_EDUCATION_TYPE_Secondary / secondary special    0.096849\n",
       "MALE_True                                            0.096572\n",
       "DAYS_ID_PUBLISH                                      0.093701\n",
       "NAME_INCOME_TYPE_Pensioner                           0.091515\n",
       "REG_CITY_NOT_WORK_CITY                               0.090096\n",
       "DAYS_REGISTRATION                                    0.079501\n",
       "REG_CITY_NOT_LIVE_CITY                               0.076710\n",
       "AMT_GOODS_PRICE                                      0.074462\n",
       "REGION_POPULATION_RELATIVE                           0.073908\n",
       "NAME_CONTRACT_TYPE_Revolving loans                   0.064612\n",
       "LIVE_CITY_NOT_WORK_CITY                              0.058226\n",
       "DEF_30_CNT_SOCIAL_CIRCLE                             0.053951\n",
       "DEF_60_CNT_SOCIAL_CIRCLE                             0.051826\n",
       "OCCUPATION_TYPE_Drivers                              0.051650\n",
       "FLAG_WORK_PHONE                                      0.051586\n",
       "ORGANIZATION_TYPE_Self-employed                      0.051310\n",
       "NAME_HOUSING_TYPE_With parents                       0.051197\n",
       "NAME_FAMILY_STATUS_Single / not married              0.050760\n",
       "NAME_HOUSING_TYPE_House / apartment                  0.049538\n",
       "NAME_INCOME_TYPE_State servant                       0.046455\n",
       "NAME_FAMILY_STATUS_Married                           0.043890\n",
       "FLAG_OWN_CAR_Y                                       0.042060\n",
       "ORGANIZATION_TYPE_Business Entity Type 3             0.041778\n",
       "Name: TARGET, dtype: float64"
      ]
     },
     "execution_count": 72,
     "metadata": {},
     "output_type": "execute_result"
    }
   ],
   "source": [
    "np.abs(balanced_train.corr()[\"TARGET\"]).sort_values(ascending=False).iloc[1:31]"
   ]
  },
  {
   "cell_type": "code",
   "execution_count": 73,
   "metadata": {},
   "outputs": [],
   "source": [
    "#Drop the unexplicable features\n",
    "balanced_train = balanced_train.drop(columns='ORGANIZATION_TYPE_Business Entity Type 3')"
   ]
  },
  {
   "cell_type": "code",
   "execution_count": 74,
   "metadata": {},
   "outputs": [
    {
     "data": {
      "text/plain": [
       "EXT_SOURCE_2                                         0.268228\n",
       "EXT_SOURCE_3                                         0.262588\n",
       "DAYS_BIRTH                                           0.146374\n",
       "REGION_RATING_CLIENT_W_CITY                          0.110686\n",
       "NAME_EDUCATION_TYPE_Higher education                 0.110609\n",
       "NAME_INCOME_TYPE_Working                             0.106680\n",
       "DAYS_LAST_PHONE_CHANGE                               0.104813\n",
       "NAME_EDUCATION_TYPE_Secondary / secondary special    0.096849\n",
       "MALE_True                                            0.096572\n",
       "DAYS_ID_PUBLISH                                      0.093701\n",
       "NAME_INCOME_TYPE_Pensioner                           0.091515\n",
       "REG_CITY_NOT_WORK_CITY                               0.090096\n",
       "DAYS_REGISTRATION                                    0.079501\n",
       "REG_CITY_NOT_LIVE_CITY                               0.076710\n",
       "AMT_GOODS_PRICE                                      0.074462\n",
       "REGION_POPULATION_RELATIVE                           0.073908\n",
       "NAME_CONTRACT_TYPE_Revolving loans                   0.064612\n",
       "LIVE_CITY_NOT_WORK_CITY                              0.058226\n",
       "DEF_30_CNT_SOCIAL_CIRCLE                             0.053951\n",
       "DEF_60_CNT_SOCIAL_CIRCLE                             0.051826\n",
       "OCCUPATION_TYPE_Drivers                              0.051650\n",
       "FLAG_WORK_PHONE                                      0.051586\n",
       "ORGANIZATION_TYPE_Self-employed                      0.051310\n",
       "NAME_HOUSING_TYPE_With parents                       0.051197\n",
       "NAME_FAMILY_STATUS_Single / not married              0.050760\n",
       "NAME_HOUSING_TYPE_House / apartment                  0.049538\n",
       "NAME_INCOME_TYPE_State servant                       0.046455\n",
       "NAME_FAMILY_STATUS_Married                           0.043890\n",
       "FLAG_OWN_CAR_Y                                       0.042060\n",
       "FLAG_PHONE                                           0.040856\n",
       "Name: TARGET, dtype: float64"
      ]
     },
     "execution_count": 74,
     "metadata": {},
     "output_type": "execute_result"
    }
   ],
   "source": [
    "np.abs(balanced_train.corr()[\"TARGET\"]).sort_values(ascending=False).iloc[1:31]"
   ]
  },
  {
   "cell_type": "code",
   "execution_count": 75,
   "metadata": {},
   "outputs": [],
   "source": [
    "# Check for collinearity\n",
    "predictors=list(np.abs(balanced_train.corr()[\"TARGET\"]).sort_values(ascending=False).iloc[1:31].index)\n",
    "M=balanced_train[predictors].corr()\n",
    "# check for colinearity: detect those with at least 0.95 (absolute sense)\n",
    "for i in range(M.shape[0]):\n",
    "    for j in range(i):\n",
    "        if M.iloc[i,j]>0.95 or M.iloc[i,j]<-0.95:\n",
    "            print(M.index[i],M.columns[j], M.iloc[i,j]) "
   ]
  },
  {
   "cell_type": "code",
   "execution_count": 76,
   "metadata": {},
   "outputs": [],
   "source": [
    "#Drop unexplicable features\n",
    "balanced_train = balanced_train.drop(columns='FLAG_PHONE')"
   ]
  },
  {
   "cell_type": "code",
   "execution_count": 77,
   "metadata": {},
   "outputs": [
    {
     "data": {
      "text/plain": [
       "EXT_SOURCE_2                                         0.268228\n",
       "EXT_SOURCE_3                                         0.262588\n",
       "DAYS_BIRTH                                           0.146374\n",
       "REGION_RATING_CLIENT_W_CITY                          0.110686\n",
       "NAME_EDUCATION_TYPE_Higher education                 0.110609\n",
       "NAME_INCOME_TYPE_Working                             0.106680\n",
       "DAYS_LAST_PHONE_CHANGE                               0.104813\n",
       "NAME_EDUCATION_TYPE_Secondary / secondary special    0.096849\n",
       "MALE_True                                            0.096572\n",
       "DAYS_ID_PUBLISH                                      0.093701\n",
       "NAME_INCOME_TYPE_Pensioner                           0.091515\n",
       "REG_CITY_NOT_WORK_CITY                               0.090096\n",
       "DAYS_REGISTRATION                                    0.079501\n",
       "REG_CITY_NOT_LIVE_CITY                               0.076710\n",
       "AMT_GOODS_PRICE                                      0.074462\n",
       "REGION_POPULATION_RELATIVE                           0.073908\n",
       "NAME_CONTRACT_TYPE_Revolving loans                   0.064612\n",
       "LIVE_CITY_NOT_WORK_CITY                              0.058226\n",
       "DEF_30_CNT_SOCIAL_CIRCLE                             0.053951\n",
       "DEF_60_CNT_SOCIAL_CIRCLE                             0.051826\n",
       "OCCUPATION_TYPE_Drivers                              0.051650\n",
       "FLAG_WORK_PHONE                                      0.051586\n",
       "ORGANIZATION_TYPE_Self-employed                      0.051310\n",
       "NAME_HOUSING_TYPE_With parents                       0.051197\n",
       "NAME_FAMILY_STATUS_Single / not married              0.050760\n",
       "NAME_HOUSING_TYPE_House / apartment                  0.049538\n",
       "NAME_INCOME_TYPE_State servant                       0.046455\n",
       "NAME_FAMILY_STATUS_Married                           0.043890\n",
       "FLAG_OWN_CAR_Y                                       0.042060\n",
       "HOUR_APPR_PROCESS_START                              0.039624\n",
       "Name: TARGET, dtype: float64"
      ]
     },
     "execution_count": 77,
     "metadata": {},
     "output_type": "execute_result"
    }
   ],
   "source": [
    "np.abs(balanced_train.corr()[\"TARGET\"]).sort_values(ascending=False).iloc[1:31]"
   ]
  },
  {
   "cell_type": "code",
   "execution_count": 78,
   "metadata": {},
   "outputs": [],
   "source": [
    "# Check for collinearity\n",
    "predictors=list(np.abs(balanced_train.corr()[\"TARGET\"]).sort_values(ascending=False).iloc[1:31].index)\n",
    "M=balanced_train[predictors].corr()\n",
    "# check for colinearity: detect those with at least 0.95 (absolute sense)\n",
    "for i in range(M.shape[0]):\n",
    "    for j in range(i):\n",
    "        if M.iloc[i,j]>0.95 or M.iloc[i,j]<-0.95:\n",
    "            print(M.index[i],M.columns[j], M.iloc[i,j]) "
   ]
  },
  {
   "cell_type": "code",
   "execution_count": 79,
   "metadata": {},
   "outputs": [
    {
     "data": {
      "text/plain": [
       "30"
      ]
     },
     "execution_count": 79,
     "metadata": {},
     "output_type": "execute_result"
    }
   ],
   "source": [
    "#Store the chosen features\n",
    "selected_features=['EXT_SOURCE_3','EXT_SOURCE_2','DAYS_BIRTH','REGION_RATING_CLIENT_W_CITY','NAME_EDUCATION_TYPE_Higher education','NAME_INCOME_TYPE_Working','DAYS_LAST_PHONE_CHANGE','NAME_EDUCATION_TYPE_Secondary / secondary special','MALE_True','DAYS_ID_PUBLISH','NAME_INCOME_TYPE_Pensioner','REG_CITY_NOT_WORK_CITY','DAYS_REGISTRATION','REG_CITY_NOT_LIVE_CITY','AMT_GOODS_PRICE','REGION_POPULATION_RELATIVE','NAME_CONTRACT_TYPE_Revolving loans','LIVE_CITY_NOT_WORK_CITY','DEF_30_CNT_SOCIAL_CIRCLE','DEF_60_CNT_SOCIAL_CIRCLE','OCCUPATION_TYPE_Drivers','FLAG_WORK_PHONE','ORGANIZATION_TYPE_Self-employed','NAME_HOUSING_TYPE_With parents','NAME_FAMILY_STATUS_Single / not married','NAME_HOUSING_TYPE_House / apartment','NAME_INCOME_TYPE_State servant','NAME_FAMILY_STATUS_Married','FLAG_OWN_CAR_Y','HOUR_APPR_PROCESS_START']\n",
    "len(selected_features)"
   ]
  },
  {
   "cell_type": "markdown",
   "metadata": {},
   "source": [
    "## Build Tree"
   ]
  },
  {
   "cell_type": "code",
   "execution_count": 80,
   "metadata": {},
   "outputs": [],
   "source": [
    "# define independent variables / attirbutes / features\n",
    "features = selected_features\n",
    "# define one single target variable / label\n",
    "target = ['TARGET']\n",
    "\n",
    "# get defined training dataset\n",
    "X = balanced_train[features]\n",
    "y = balanced_train[target]"
   ]
  },
  {
   "cell_type": "code",
   "execution_count": 81,
   "metadata": {},
   "outputs": [
    {
     "name": "stdout",
     "output_type": "stream",
     "text": [
      "<class 'pandas.core.frame.DataFrame'>\n",
      "Int64Index: 39720 entries, 115152 to 431276\n",
      "Data columns (total 30 columns):\n",
      "EXT_SOURCE_3                                         39720 non-null float64\n",
      "EXT_SOURCE_2                                         39720 non-null float64\n",
      "DAYS_BIRTH                                           39720 non-null int64\n",
      "REGION_RATING_CLIENT_W_CITY                          39720 non-null int64\n",
      "NAME_EDUCATION_TYPE_Higher education                 39720 non-null int64\n",
      "NAME_INCOME_TYPE_Working                             39720 non-null int64\n",
      "DAYS_LAST_PHONE_CHANGE                               39720 non-null float64\n",
      "NAME_EDUCATION_TYPE_Secondary / secondary special    39720 non-null int64\n",
      "MALE_True                                            39720 non-null uint8\n",
      "DAYS_ID_PUBLISH                                      39720 non-null int64\n",
      "NAME_INCOME_TYPE_Pensioner                           39720 non-null int64\n",
      "REG_CITY_NOT_WORK_CITY                               39720 non-null int64\n",
      "DAYS_REGISTRATION                                    39720 non-null float64\n",
      "REG_CITY_NOT_LIVE_CITY                               39720 non-null int64\n",
      "AMT_GOODS_PRICE                                      39720 non-null float64\n",
      "REGION_POPULATION_RELATIVE                           39720 non-null float64\n",
      "NAME_CONTRACT_TYPE_Revolving loans                   39720 non-null uint8\n",
      "LIVE_CITY_NOT_WORK_CITY                              39720 non-null int64\n",
      "DEF_30_CNT_SOCIAL_CIRCLE                             39720 non-null float64\n",
      "DEF_60_CNT_SOCIAL_CIRCLE                             39720 non-null float64\n",
      "OCCUPATION_TYPE_Drivers                              39720 non-null uint8\n",
      "FLAG_WORK_PHONE                                      39720 non-null int64\n",
      "ORGANIZATION_TYPE_Self-employed                      39720 non-null uint8\n",
      "NAME_HOUSING_TYPE_With parents                       39720 non-null int64\n",
      "NAME_FAMILY_STATUS_Single / not married              39720 non-null int64\n",
      "NAME_HOUSING_TYPE_House / apartment                  39720 non-null int64\n",
      "NAME_INCOME_TYPE_State servant                       39720 non-null int64\n",
      "NAME_FAMILY_STATUS_Married                           39720 non-null int64\n",
      "FLAG_OWN_CAR_Y                                       39720 non-null uint8\n",
      "HOUR_APPR_PROCESS_START                              39720 non-null int64\n",
      "dtypes: float64(8), int64(17), uint8(5)\n",
      "memory usage: 8.1 MB\n"
     ]
    }
   ],
   "source": [
    "# split data into 80% and 20%, put 20% in testing\n",
    "X_train, X_val, y_train, y_val = train_test_split(X, y, test_size=0.2, random_state=3360)\n",
    "\n",
    "X_train.info()"
   ]
  },
  {
   "cell_type": "code",
   "execution_count": 82,
   "metadata": {},
   "outputs": [],
   "source": [
    "# define our model as a decision tree model\n",
    "model = DecisionTreeClassifier(random_state=3360)"
   ]
  },
  {
   "cell_type": "code",
   "execution_count": 83,
   "metadata": {},
   "outputs": [
    {
     "data": {
      "text/plain": [
       "DecisionTreeClassifier(class_weight=None, criterion='gini', max_depth=None,\n",
       "                       max_features=None, max_leaf_nodes=None,\n",
       "                       min_impurity_decrease=0.0, min_impurity_split=None,\n",
       "                       min_samples_leaf=1, min_samples_split=2,\n",
       "                       min_weight_fraction_leaf=0.0, presort=False,\n",
       "                       random_state=3360, splitter='best')"
      ]
     },
     "execution_count": 83,
     "metadata": {},
     "output_type": "execute_result"
    }
   ],
   "source": [
    "# build the decision tree model based on defalut hyperparameter settings\n",
    "model.fit(X_train, y_train)"
   ]
  },
  {
   "cell_type": "markdown",
   "metadata": {},
   "source": [
    "### Evaluate the model"
   ]
  },
  {
   "cell_type": "code",
   "execution_count": 84,
   "metadata": {},
   "outputs": [],
   "source": [
    "# test model base on 20% data\n",
    "pred_val = model.predict(X_val)"
   ]
  },
  {
   "cell_type": "code",
   "execution_count": 85,
   "metadata": {},
   "outputs": [
    {
     "name": "stdout",
     "output_type": "stream",
     "text": [
      "Accuracy from 20% test data: 0.5736153071500504\n",
      "Confusion Matrix \n",
      " [[2893 2077]\n",
      " [2157 2803]]\n",
      "Classification Report: \n",
      "               precision    recall  f1-score   support\n",
      "\n",
      "           0       0.57      0.58      0.58      4970\n",
      "           1       0.57      0.57      0.57      4960\n",
      "\n",
      "    accuracy                           0.57      9930\n",
      "   macro avg       0.57      0.57      0.57      9930\n",
      "weighted avg       0.57      0.57      0.57      9930\n",
      "\n"
     ]
    }
   ],
   "source": [
    "# print evaluation result for 20% test data\n",
    "print(\"Accuracy from 20% test data:\",accuracy_score(y_val, pred_val, normalize=True, sample_weight=None))\n",
    "print(\"Confusion Matrix\", '\\n', confusion_matrix(y_val, pred_val))\n",
    "print(\"Classification Report:\", '\\n', classification_report(y_val, pred_val))"
   ]
  },
  {
   "cell_type": "code",
   "execution_count": 86,
   "metadata": {},
   "outputs": [],
   "source": [
    "# test model base on 80% data for training\n",
    "pred_val_Xtrain= model.predict(X_train)"
   ]
  },
  {
   "cell_type": "code",
   "execution_count": 87,
   "metadata": {},
   "outputs": [
    {
     "name": "stdout",
     "output_type": "stream",
     "text": [
      "Accuracy from 80% train data: 1.0\n",
      "Confusion Matrix \n",
      " [[19855     0]\n",
      " [    0 19865]]\n",
      "Classification Report: \n",
      "               precision    recall  f1-score   support\n",
      "\n",
      "           0       1.00      1.00      1.00     19855\n",
      "           1       1.00      1.00      1.00     19865\n",
      "\n",
      "    accuracy                           1.00     39720\n",
      "   macro avg       1.00      1.00      1.00     39720\n",
      "weighted avg       1.00      1.00      1.00     39720\n",
      "\n"
     ]
    }
   ],
   "source": [
    "# print evaluation result for 80% train data\n",
    "print(\"Accuracy from 80% train data:\",accuracy_score(y_train, pred_val_Xtrain, normalize=True, sample_weight=None))\n",
    "print(\"Confusion Matrix\", '\\n', confusion_matrix(y_train, pred_val_Xtrain))\n",
    "print(\"Classification Report:\", '\\n', classification_report(y_train, pred_val_Xtrain))"
   ]
  },
  {
   "cell_type": "markdown",
   "metadata": {},
   "source": [
    "### Manual Hyperparameter Tuning (Tuning tree depth)"
   ]
  },
  {
   "cell_type": "code",
   "execution_count": 88,
   "metadata": {},
   "outputs": [],
   "source": [
    "# create an array that holds the max_depth\n",
    "max_depth = np. linspace(1,10,10, endpoint=True)"
   ]
  },
  {
   "cell_type": "code",
   "execution_count": 89,
   "metadata": {},
   "outputs": [
    {
     "data": {
      "text/plain": [
       "array([ 1.,  2.,  3.,  4.,  5.,  6.,  7.,  8.,  9., 10.])"
      ]
     },
     "execution_count": 89,
     "metadata": {},
     "output_type": "execute_result"
    }
   ],
   "source": [
    "max_depth"
   ]
  },
  {
   "cell_type": "code",
   "execution_count": 90,
   "metadata": {},
   "outputs": [],
   "source": [
    "# create a loop to try out different depth value\n",
    "train_results =[]\n",
    "test_results = []\n",
    "# create a loop to try out all the number from 1 to 32 for max_depths in a decision tree\n",
    "for max_depth_i in max_depth:\n",
    "    dt = DecisionTreeClassifier(max_depth=max_depth_i)\n",
    "    dt.fit(X_train, y_train)\n",
    "    \n",
    "    train_pred = dt.predict(X_train)\n",
    "    accuracy = accuracy_score(y_train, train_pred, normalize=True, sample_weight=None)\n",
    "    train_results.append(accuracy)\n",
    "    \n",
    "    y_pred = dt.predict(X_val)\n",
    "    accuracy = accuracy_score(y_val, y_pred, normalize=True, sample_weight=None)\n",
    "    test_results.append(accuracy)"
   ]
  },
  {
   "cell_type": "code",
   "execution_count": 91,
   "metadata": {},
   "outputs": [
    {
     "data": {
      "image/png": "[encoded data removed]",
      "text/plain": [
       "<Figure size 432x288 with 1 Axes>"
      ]
     },
     "metadata": {
      "needs_background": "light"
     },
     "output_type": "display_data"
    }
   ],
   "source": [
    "from matplotlib.legend_handler import HandlerLine2D\n",
    "line1, = plt.plot(max_depth, train_results, 'b', label='Train accuracy')\n",
    "line2, = plt.plot(max_depth, test_results, 'r', label='Test accuracy')\n",
    "plt.legend(handler_map={line1: HandlerLine2D(numpoints=2)})\n",
    "plt.ylabel('Accuracy score')\n",
    "plt.xlabel('Tree depth')\n",
    "plt.show()"
   ]
  },
  {
   "cell_type": "markdown",
   "metadata": {},
   "source": [
    "Best result: max_depth = 7"
   ]
  },
  {
   "cell_type": "markdown",
   "metadata": {},
   "source": [
    "### 3-fold Cross validation for tuning min_samples_leaf"
   ]
  },
  {
   "cell_type": "code",
   "execution_count": 92,
   "metadata": {},
   "outputs": [
    {
     "name": "stdout",
     "output_type": "stream",
     "text": [
      "Size of training data: 31776\n",
      "Size of validation data: 9930\n"
     ]
    },
    {
     "data": {
      "image/png": "[encoded data removed]",
      "text/plain": [
       "<Figure size 432x288 with 1 Axes>"
      ]
     },
     "metadata": {
      "needs_background": "light"
     },
     "output_type": "display_data"
    }
   ],
   "source": [
    "# Split into a sub training set and validation set\n",
    "X_strain, X_val2, y_strain, y_val2 = train_test_split(X_train, y_train, test_size=0.2, random_state=3360)\n",
    "print(f\"Size of training data: {X_strain.shape[0]}\")\n",
    "print(f\"Size of validation data: {X_val.shape[0]}\")\n",
    "\n",
    "min_leaves = range(1,400,5)\n",
    "\n",
    "Accuracy_val = []\n",
    "for m in min_leaves:\n",
    "    # We train the model with only a portion of the training data (the 'sub-training' data set)\n",
    "    model_val = DecisionTreeClassifier(min_samples_leaf=m, random_state=3360)\n",
    "    model_val.fit(X_strain, y_strain)\n",
    "    predictions_val = model_val.predict(X_val2)\n",
    "    # And we evaluate in the validation set\n",
    "    accuracy_val = accuracy_score(y_val2, predictions_val,normalize=True, sample_weight=None)\n",
    "    Accuracy_val.append(accuracy_val)\n",
    "\n",
    "results = pd.DataFrame({\"min_leaves\": min_leaves, \"validation\":Accuracy_val})\n",
    "plot_fitting_curves(results)"
   ]
  },
  {
   "cell_type": "code",
   "execution_count": 93,
   "metadata": {},
   "outputs": [
    {
     "data": {
      "image/png": "[encoded data removed]",
      "text/plain": [
       "<Figure size 432x288 with 1 Axes>"
      ]
     },
     "metadata": {
      "needs_background": "light"
     },
     "output_type": "display_data"
    }
   ],
   "source": [
    "from sklearn.model_selection import cross_val_predict\n",
    "\n",
    "Accuracy_cv = []\n",
    "for m in min_leaves:\n",
    "    # Define hyperparamter for complexity control\n",
    "    model_cv = DecisionTreeClassifier(min_samples_leaf=m, random_state=3360)\n",
    "    # Evaluate the performance of the hyperparameter with cross validation. \n",
    "    # The parameter 'cv' is used to determine the number of splits (folds). \n",
    "    predictions_cv = cross_val_predict(model_cv, X_train, y_train, cv=3)\n",
    "    accuracy_cv = accuracy_score(y_train, predictions_cv,normalize=True, sample_weight=None)\n",
    "    Accuracy_cv.append(accuracy_cv)\n",
    "\n",
    "results = pd.DataFrame({\"min_leaves\": min_leaves, \"validation\":Accuracy_val, \"cross-validation\":Accuracy_cv})\n",
    "plot_fitting_curves(results)"
   ]
  },
  {
   "cell_type": "markdown",
   "metadata": {},
   "source": [
    "Best result: min_samples_leaf = 100"
   ]
  },
  {
   "cell_type": "markdown",
   "metadata": {},
   "source": [
    "### GridSearchCV"
   ]
  },
  {
   "cell_type": "markdown",
   "metadata": {},
   "source": [
    "This time, we would not train other hyperparameters, as overtunning might also lead to overfitting and bad accuracy."
   ]
  },
  {
   "cell_type": "code",
   "execution_count": 94,
   "metadata": {},
   "outputs": [],
   "source": [
    "# create try_grid\n",
    "try_grid = [{'max_depth': np. linspace(1,10,10, endpoint=True),         \n",
    "             'min_samples_leaf': range(1,300,3)}]               "
   ]
  },
  {
   "cell_type": "code",
   "execution_count": 95,
   "metadata": {},
   "outputs": [],
   "source": [
    "from sklearn.model_selection import GridSearchCV\n",
    "\n",
    "# create GridSearchCV object\n",
    "DTM = GridSearchCV(DecisionTreeClassifier(random_state=3360), param_grid=try_grid, cv=3)"
   ]
  },
  {
   "cell_type": "code",
   "execution_count": 96,
   "metadata": {},
   "outputs": [
    {
     "data": {
      "text/plain": [
       "GridSearchCV(cv=3, error_score='raise-deprecating',\n",
       "             estimator=DecisionTreeClassifier(class_weight=None,\n",
       "                                              criterion='gini', max_depth=None,\n",
       "                                              max_features=None,\n",
       "                                              max_leaf_nodes=None,\n",
       "                                              min_impurity_decrease=0.0,\n",
       "                                              min_impurity_split=None,\n",
       "                                              min_samples_leaf=1,\n",
       "                                              min_samples_split=2,\n",
       "                                              min_weight_fraction_leaf=0.0,\n",
       "                                              presort=False, random_state=3360,\n",
       "                                              splitter='best'),\n",
       "             iid='warn', n_jobs=None,\n",
       "             param_grid=[{'max_depth': array([ 1.,  2.,  3.,  4.,  5.,  6.,  7.,  8.,  9., 10.]),\n",
       "                          'min_samples_leaf': range(1, 300, 3)}],\n",
       "             pre_dispatch='2*n_jobs', refit=True, return_train_score=False,\n",
       "             scoring=None, verbose=0)"
      ]
     },
     "execution_count": 96,
     "metadata": {},
     "output_type": "execute_result"
    }
   ],
   "source": [
    "DTM.fit(X_train,y_train)"
   ]
  },
  {
   "cell_type": "code",
   "execution_count": 97,
   "metadata": {},
   "outputs": [
    {
     "data": {
      "text/plain": [
       "{'max_depth': 9.0, 'min_samples_leaf': 196}"
      ]
     },
     "execution_count": 97,
     "metadata": {},
     "output_type": "execute_result"
    }
   ],
   "source": [
    "# find the best parameters\n",
    "DTM.best_params_"
   ]
  },
  {
   "cell_type": "code",
   "execution_count": 98,
   "metadata": {},
   "outputs": [
    {
     "data": {
      "text/plain": [
       "0.6539526686807654"
      ]
     },
     "execution_count": 98,
     "metadata": {},
     "output_type": "execute_result"
    }
   ],
   "source": [
    "DTM.best_score_"
   ]
  },
  {
   "cell_type": "code",
   "execution_count": 99,
   "metadata": {},
   "outputs": [],
   "source": [
    "my_model = DecisionTreeClassifier(max_depth = 9,min_samples_leaf=196)"
   ]
  },
  {
   "cell_type": "code",
   "execution_count": 100,
   "metadata": {},
   "outputs": [
    {
     "data": {
      "text/plain": [
       "DecisionTreeClassifier(class_weight=None, criterion='gini', max_depth=9,\n",
       "                       max_features=None, max_leaf_nodes=None,\n",
       "                       min_impurity_decrease=0.0, min_impurity_split=None,\n",
       "                       min_samples_leaf=196, min_samples_split=2,\n",
       "                       min_weight_fraction_leaf=0.0, presort=False,\n",
       "                       random_state=None, splitter='best')"
      ]
     },
     "execution_count": 100,
     "metadata": {},
     "output_type": "execute_result"
    }
   ],
   "source": [
    "my_model.fit(X_train,y_train)"
   ]
  },
  {
   "cell_type": "code",
   "execution_count": 101,
   "metadata": {},
   "outputs": [],
   "source": [
    "y_predict = my_model.predict(X_val)"
   ]
  },
  {
   "cell_type": "code",
   "execution_count": 102,
   "metadata": {},
   "outputs": [
    {
     "name": "stdout",
     "output_type": "stream",
     "text": [
      "Accuracy: 0.6620342396777442\n",
      "Confusion Matrix \n",
      " [[3249 1721]\n",
      " [1635 3325]]\n",
      "Classification Report: \n",
      "               precision    recall  f1-score   support\n",
      "\n",
      "           0       0.67      0.65      0.66      4970\n",
      "           1       0.66      0.67      0.66      4960\n",
      "\n",
      "    accuracy                           0.66      9930\n",
      "   macro avg       0.66      0.66      0.66      9930\n",
      "weighted avg       0.66      0.66      0.66      9930\n",
      "\n"
     ]
    }
   ],
   "source": [
    "print(\"Accuracy:\",accuracy_score(y_val, y_predict, normalize=True, sample_weight=None))\n",
    "print(\"Confusion Matrix\", '\\n', confusion_matrix(y_val, y_predict))\n",
    "print(\"Classification Report:\", '\\n', classification_report(y_val, y_predict))"
   ]
  },
  {
   "cell_type": "markdown",
   "metadata": {},
   "source": [
    "## New attempt"
   ]
  },
  {
   "cell_type": "markdown",
   "metadata": {},
   "source": [
    "What if this time we only use 20 features?"
   ]
  },
  {
   "cell_type": "code",
   "execution_count": 103,
   "metadata": {},
   "outputs": [
    {
     "data": {
      "text/plain": [
       "20"
      ]
     },
     "execution_count": 103,
     "metadata": {},
     "output_type": "execute_result"
    }
   ],
   "source": [
    "selected_features=['EXT_SOURCE_3','EXT_SOURCE_2','DAYS_BIRTH','REGION_RATING_CLIENT_W_CITY','NAME_EDUCATION_TYPE_Higher education','NAME_INCOME_TYPE_Working','DAYS_LAST_PHONE_CHANGE','NAME_EDUCATION_TYPE_Secondary / secondary special','MALE_True','DAYS_ID_PUBLISH','NAME_INCOME_TYPE_Pensioner','REG_CITY_NOT_WORK_CITY','DAYS_REGISTRATION','REG_CITY_NOT_LIVE_CITY','AMT_GOODS_PRICE','REGION_POPULATION_RELATIVE','NAME_CONTRACT_TYPE_Revolving loans','LIVE_CITY_NOT_WORK_CITY','DEF_30_CNT_SOCIAL_CIRCLE','DEF_60_CNT_SOCIAL_CIRCLE']\n",
    "len(selected_features)"
   ]
  },
  {
   "cell_type": "code",
   "execution_count": 104,
   "metadata": {},
   "outputs": [],
   "source": [
    "# define independent variables / attirbutes / features\n",
    "features = selected_features\n",
    "# define one single target variable / label\n",
    "target = ['TARGET']\n",
    "\n",
    "# get defined training dataset\n",
    "X = balanced_train[features]\n",
    "y = balanced_train[target]"
   ]
  },
  {
   "cell_type": "code",
   "execution_count": 105,
   "metadata": {},
   "outputs": [
    {
     "name": "stdout",
     "output_type": "stream",
     "text": [
      "<class 'pandas.core.frame.DataFrame'>\n",
      "Int64Index: 39720 entries, 115152 to 431276\n",
      "Data columns (total 20 columns):\n",
      "EXT_SOURCE_3                                         39720 non-null float64\n",
      "EXT_SOURCE_2                                         39720 non-null float64\n",
      "DAYS_BIRTH                                           39720 non-null int64\n",
      "REGION_RATING_CLIENT_W_CITY                          39720 non-null int64\n",
      "NAME_EDUCATION_TYPE_Higher education                 39720 non-null int64\n",
      "NAME_INCOME_TYPE_Working                             39720 non-null int64\n",
      "DAYS_LAST_PHONE_CHANGE                               39720 non-null float64\n",
      "NAME_EDUCATION_TYPE_Secondary / secondary special    39720 non-null int64\n",
      "MALE_True                                            39720 non-null uint8\n",
      "DAYS_ID_PUBLISH                                      39720 non-null int64\n",
      "NAME_INCOME_TYPE_Pensioner                           39720 non-null int64\n",
      "REG_CITY_NOT_WORK_CITY                               39720 non-null int64\n",
      "DAYS_REGISTRATION                                    39720 non-null float64\n",
      "REG_CITY_NOT_LIVE_CITY                               39720 non-null int64\n",
      "AMT_GOODS_PRICE                                      39720 non-null float64\n",
      "REGION_POPULATION_RELATIVE                           39720 non-null float64\n",
      "NAME_CONTRACT_TYPE_Revolving loans                   39720 non-null uint8\n",
      "LIVE_CITY_NOT_WORK_CITY                              39720 non-null int64\n",
      "DEF_30_CNT_SOCIAL_CIRCLE                             39720 non-null float64\n",
      "DEF_60_CNT_SOCIAL_CIRCLE                             39720 non-null float64\n",
      "dtypes: float64(8), int64(10), uint8(2)\n",
      "memory usage: 5.8 MB\n"
     ]
    }
   ],
   "source": [
    "# split data into 80% and 20%, put 20% in testing\n",
    "X_train, X_val, y_train, y_val = train_test_split(X, y, test_size=0.2, random_state=3360)\n",
    "\n",
    "X_train.info()"
   ]
  },
  {
   "cell_type": "code",
   "execution_count": 106,
   "metadata": {},
   "outputs": [],
   "source": [
    "# define our model as a decision tree model\n",
    "model = DecisionTreeClassifier(random_state=3360)"
   ]
  },
  {
   "cell_type": "code",
   "execution_count": 107,
   "metadata": {},
   "outputs": [
    {
     "data": {
      "text/plain": [
       "DecisionTreeClassifier(class_weight=None, criterion='gini', max_depth=None,\n",
       "                       max_features=None, max_leaf_nodes=None,\n",
       "                       min_impurity_decrease=0.0, min_impurity_split=None,\n",
       "                       min_samples_leaf=1, min_samples_split=2,\n",
       "                       min_weight_fraction_leaf=0.0, presort=False,\n",
       "                       random_state=3360, splitter='best')"
      ]
     },
     "execution_count": 107,
     "metadata": {},
     "output_type": "execute_result"
    }
   ],
   "source": [
    "# build the decision tree model based on defalut hyperparameter settings\n",
    "model.fit(X_train, y_train)"
   ]
  },
  {
   "cell_type": "code",
   "execution_count": 108,
   "metadata": {},
   "outputs": [],
   "source": [
    "# test model base on 20% data\n",
    "pred_val = model.predict(X_val)"
   ]
  },
  {
   "cell_type": "code",
   "execution_count": 109,
   "metadata": {},
   "outputs": [
    {
     "name": "stdout",
     "output_type": "stream",
     "text": [
      "Accuracy from 20% test data: 0.5726082578046324\n",
      "Confusion Matrix \n",
      " [[2868 2102]\n",
      " [2142 2818]]\n",
      "Classification Report: \n",
      "               precision    recall  f1-score   support\n",
      "\n",
      "           0       0.57      0.58      0.57      4970\n",
      "           1       0.57      0.57      0.57      4960\n",
      "\n",
      "    accuracy                           0.57      9930\n",
      "   macro avg       0.57      0.57      0.57      9930\n",
      "weighted avg       0.57      0.57      0.57      9930\n",
      "\n"
     ]
    }
   ],
   "source": [
    "# print evaluation result for 20% test data\n",
    "print(\"Accuracy from 20% test data:\",accuracy_score(y_val, pred_val, normalize=True, sample_weight=None))\n",
    "print(\"Confusion Matrix\", '\\n', confusion_matrix(y_val, pred_val))\n",
    "print(\"Classification Report:\", '\\n', classification_report(y_val, pred_val))"
   ]
  },
  {
   "cell_type": "code",
   "execution_count": 110,
   "metadata": {},
   "outputs": [],
   "source": [
    "# test model base on 80% data for training\n",
    "pred_val_Xtrain= model.predict(X_train)"
   ]
  },
  {
   "cell_type": "code",
   "execution_count": 111,
   "metadata": {},
   "outputs": [
    {
     "name": "stdout",
     "output_type": "stream",
     "text": [
      "Accuracy from 80% train data: 1.0\n",
      "Confusion Matrix \n",
      " [[19855     0]\n",
      " [    0 19865]]\n",
      "Classification Report: \n",
      "               precision    recall  f1-score   support\n",
      "\n",
      "           0       1.00      1.00      1.00     19855\n",
      "           1       1.00      1.00      1.00     19865\n",
      "\n",
      "    accuracy                           1.00     39720\n",
      "   macro avg       1.00      1.00      1.00     39720\n",
      "weighted avg       1.00      1.00      1.00     39720\n",
      "\n"
     ]
    }
   ],
   "source": [
    "# print evaluation result for 80% train data\n",
    "print(\"Accuracy from 80% train data:\",accuracy_score(y_train, pred_val_Xtrain, normalize=True, sample_weight=None))\n",
    "print(\"Confusion Matrix\", '\\n', confusion_matrix(y_train, pred_val_Xtrain))\n",
    "print(\"Classification Report:\", '\\n', classification_report(y_train, pred_val_Xtrain))"
   ]
  },
  {
   "cell_type": "markdown",
   "metadata": {},
   "source": [
    "### Manual Hyperparameter Tuning (Tuning tree depth)"
   ]
  },
  {
   "cell_type": "code",
   "execution_count": 112,
   "metadata": {},
   "outputs": [],
   "source": [
    "# create an array that holds the max_depth\n",
    "max_depth = np. linspace(1,10,10, endpoint=True)"
   ]
  },
  {
   "cell_type": "code",
   "execution_count": 113,
   "metadata": {},
   "outputs": [
    {
     "data": {
      "text/plain": [
       "array([ 1.,  2.,  3.,  4.,  5.,  6.,  7.,  8.,  9., 10.])"
      ]
     },
     "execution_count": 113,
     "metadata": {},
     "output_type": "execute_result"
    }
   ],
   "source": [
    "max_depth"
   ]
  },
  {
   "cell_type": "code",
   "execution_count": 114,
   "metadata": {},
   "outputs": [],
   "source": [
    "# create a loop to try out different depth value\n",
    "train_results =[]\n",
    "test_results = []\n",
    "# create a loop to try out all the number from 1 to 32 for max_depths in a decision tree\n",
    "for max_depth_i in max_depth:\n",
    "    dt = DecisionTreeClassifier(max_depth=max_depth_i)\n",
    "    dt.fit(X_train, y_train)\n",
    "    \n",
    "    train_pred = dt.predict(X_train)\n",
    "    accuracy = accuracy_score(y_train, train_pred, normalize=True, sample_weight=None)\n",
    "    train_results.append(accuracy)\n",
    "    \n",
    "    y_pred = dt.predict(X_val)\n",
    "    accuracy = accuracy_score(y_val, y_pred, normalize=True, sample_weight=None)\n",
    "    test_results.append(accuracy)"
   ]
  },
  {
   "cell_type": "code",
   "execution_count": 115,
   "metadata": {},
   "outputs": [
    {
     "data": {
      "image/png": "[encoded data removed]",
      "text/plain": [
       "<Figure size 432x288 with 1 Axes>"
      ]
     },
     "metadata": {
      "needs_background": "light"
     },
     "output_type": "display_data"
    }
   ],
   "source": [
    "from matplotlib.legend_handler import HandlerLine2D\n",
    "line1, = plt.plot(max_depth, train_results, 'b', label='Train accuracy')\n",
    "line2, = plt.plot(max_depth, test_results, 'r', label='Test accuracy')\n",
    "plt.legend(handler_map={line1: HandlerLine2D(numpoints=2)})\n",
    "plt.ylabel('Accuracy score')\n",
    "plt.xlabel('Tree depth')\n",
    "plt.show()"
   ]
  },
  {
   "cell_type": "markdown",
   "metadata": {},
   "source": [
    "Optimal tree depth is around 6"
   ]
  },
  {
   "cell_type": "markdown",
   "metadata": {},
   "source": [
    "### 5-fold Cross validation for tuning min_samples_leaf"
   ]
  },
  {
   "cell_type": "code",
   "execution_count": 116,
   "metadata": {},
   "outputs": [],
   "source": [
    "# Function to plot the results\n",
    "def plot_fitting_curves(results):\n",
    "    results.plot(\"min_leaves\")\n",
    "    plt.ylabel(\"Accuracy\")\n",
    "    plt.xlabel(\"Min samples per leaf (inverse of complexity)\")\n",
    "    plt.show()"
   ]
  },
  {
   "cell_type": "code",
   "execution_count": 117,
   "metadata": {},
   "outputs": [
    {
     "name": "stdout",
     "output_type": "stream",
     "text": [
      "Size of training data: 31776\n",
      "Size of validation data: 9930\n"
     ]
    },
    {
     "data": {
      "image/png": "[encoded data removed]",
      "text/plain": [
       "<Figure size 432x288 with 1 Axes>"
      ]
     },
     "metadata": {
      "needs_background": "light"
     },
     "output_type": "display_data"
    }
   ],
   "source": [
    "# Split into a sub training set and validation set\n",
    "X_strain, X_val2, y_strain, y_val2 = train_test_split(X_train, y_train, test_size=0.2, random_state=3360)\n",
    "print(f\"Size of training data: {X_strain.shape[0]}\")\n",
    "print(f\"Size of validation data: {X_val.shape[0]}\")\n",
    "\n",
    "min_leaves = range(1,300,5)\n",
    "\n",
    "Accuracy_val = []\n",
    "for m in min_leaves:\n",
    "    # We train the model with only a portion of the training data (the 'sub-training' data set)\n",
    "    model_val = DecisionTreeClassifier(min_samples_leaf=m, random_state=3360)\n",
    "    model_val.fit(X_strain, y_strain)\n",
    "    predictions_val = model_val.predict(X_val2)\n",
    "    # And we evaluate in the validation set\n",
    "    accuracy_val = accuracy_score(y_val2, predictions_val,normalize=True, sample_weight=None)\n",
    "    Accuracy_val.append(accuracy_val)\n",
    "\n",
    "results = pd.DataFrame({\"min_leaves\": min_leaves, \"validation\":Accuracy_val})\n",
    "plot_fitting_curves(results)"
   ]
  },
  {
   "cell_type": "code",
   "execution_count": 118,
   "metadata": {},
   "outputs": [
    {
     "data": {
      "image/png": "[encoded data removed]",
      "text/plain": [
       "<Figure size 432x288 with 1 Axes>"
      ]
     },
     "metadata": {
      "needs_background": "light"
     },
     "output_type": "display_data"
    }
   ],
   "source": [
    "from sklearn.model_selection import cross_val_predict\n",
    "\n",
    "Accuracy_cv = []\n",
    "for m in min_leaves:\n",
    "    # Define hyperparamter for complexity control\n",
    "    model_cv = DecisionTreeClassifier(min_samples_leaf=m, random_state=3360)\n",
    "    # Evaluate the performance of the hyperparameter with cross validation. \n",
    "    # The parameter 'cv' is used to determine the number of splits (folds). \n",
    "    predictions_cv = cross_val_predict(model_cv, X_train, y_train, cv=3)\n",
    "    accuracy_cv = accuracy_score(y_train, predictions_cv,normalize=True, sample_weight=None)\n",
    "    Accuracy_cv.append(accuracy_cv)\n",
    "\n",
    "results = pd.DataFrame({\"min_leaves\": min_leaves, \"validation\":Accuracy_val, \"cross-validation\":Accuracy_cv})\n",
    "plot_fitting_curves(results)"
   ]
  },
  {
   "cell_type": "markdown",
   "metadata": {},
   "source": [
    "100 is fine."
   ]
  },
  {
   "cell_type": "markdown",
   "metadata": {},
   "source": [
    "### GridSearchCV with cost analysis"
   ]
  },
  {
   "cell_type": "code",
   "execution_count": 119,
   "metadata": {},
   "outputs": [],
   "source": [
    "# create try_grid\n",
    "try_grid = [{'max_depth': np. linspace(1,10,10, endpoint=True),         \n",
    "             'min_samples_leaf': range(1,300,3)}]   "
   ]
  },
  {
   "cell_type": "code",
   "execution_count": 133,
   "metadata": {},
   "outputs": [],
   "source": [
    "import sys\n",
    "sys.path.insert(0,\"../..\")"
   ]
  },
  {
   "cell_type": "code",
   "execution_count": 135,
   "metadata": {},
   "outputs": [],
   "source": [
    "from utils.custom_cost import custom_loss"
   ]
  },
  {
   "cell_type": "code",
   "execution_count": 139,
   "metadata": {},
   "outputs": [],
   "source": [
    "from sklearn.model_selection import GridSearchCV\n",
    "\n",
    "# create GridSearchCV object\n",
    "DTM = GridSearchCV(DecisionTreeClassifier(random_state=3360), param_grid=try_grid, cv=2, scoring = custom_loss)"
   ]
  },
  {
   "cell_type": "code",
   "execution_count": 140,
   "metadata": {},
   "outputs": [
    {
     "ename": "KeyError",
     "evalue": "0",
     "output_type": "error",
     "traceback": [
      "\u001b[1;31m---------------------------------------------------------------------------\u001b[0m",
      "\u001b[1;31mKeyError\u001b[0m                                  Traceback (most recent call last)",
      "\u001b[1;32m~\\Anaconda3\\lib\\site-packages\\pandas\\core\\indexes\\base.py\u001b[0m in \u001b[0;36mget_loc\u001b[1;34m(self, key, method, tolerance)\u001b[0m\n\u001b[0;32m   2896\u001b[0m             \u001b[1;32mtry\u001b[0m\u001b[1;33m:\u001b[0m\u001b[1;33m\u001b[0m\u001b[1;33m\u001b[0m\u001b[0m\n\u001b[1;32m-> 2897\u001b[1;33m                 \u001b[1;32mreturn\u001b[0m \u001b[0mself\u001b[0m\u001b[1;33m.\u001b[0m\u001b[0m_engine\u001b[0m\u001b[1;33m.\u001b[0m\u001b[0mget_loc\u001b[0m\u001b[1;33m(\u001b[0m\u001b[0mkey\u001b[0m\u001b[1;33m)\u001b[0m\u001b[1;33m\u001b[0m\u001b[1;33m\u001b[0m\u001b[0m\n\u001b[0m\u001b[0;32m   2898\u001b[0m             \u001b[1;32mexcept\u001b[0m \u001b[0mKeyError\u001b[0m\u001b[1;33m:\u001b[0m\u001b[1;33m\u001b[0m\u001b[1;33m\u001b[0m\u001b[0m\n",
      "\u001b[1;32mpandas\\_libs\\index.pyx\u001b[0m in \u001b[0;36mpandas._libs.index.IndexEngine.get_loc\u001b[1;34m()\u001b[0m\n",
      "\u001b[1;32mpandas\\_libs\\index.pyx\u001b[0m in \u001b[0;36mpandas._libs.index.IndexEngine.get_loc\u001b[1;34m()\u001b[0m\n",
      "\u001b[1;32mpandas\\_libs\\hashtable_class_helper.pxi\u001b[0m in \u001b[0;36mpandas._libs.hashtable.PyObjectHashTable.get_item\u001b[1;34m()\u001b[0m\n",
      "\u001b[1;32mpandas\\_libs\\hashtable_class_helper.pxi\u001b[0m in \u001b[0;36mpandas._libs.hashtable.PyObjectHashTable.get_item\u001b[1;34m()\u001b[0m\n",
      "\u001b[1;31mKeyError\u001b[0m: 0",
      "\nDuring handling of the above exception, another exception occurred:\n",
      "\u001b[1;31mKeyError\u001b[0m                                  Traceback (most recent call last)",
      "\u001b[1;32m<ipython-input-140-96ac08fe3bf7>\u001b[0m in \u001b[0;36m<module>\u001b[1;34m\u001b[0m\n\u001b[1;32m----> 1\u001b[1;33m \u001b[0mDTM\u001b[0m\u001b[1;33m.\u001b[0m\u001b[0mfit\u001b[0m\u001b[1;33m(\u001b[0m\u001b[0mX_train\u001b[0m\u001b[1;33m,\u001b[0m\u001b[0my_train\u001b[0m\u001b[1;33m)\u001b[0m\u001b[1;33m\u001b[0m\u001b[1;33m\u001b[0m\u001b[0m\n\u001b[0m",
      "\u001b[1;32m~\\Anaconda3\\lib\\site-packages\\sklearn\\model_selection\\_search.py\u001b[0m in \u001b[0;36mfit\u001b[1;34m(self, X, y, groups, **fit_params)\u001b[0m\n\u001b[0;32m    686\u001b[0m                 \u001b[1;32mreturn\u001b[0m \u001b[0mresults\u001b[0m\u001b[1;33m\u001b[0m\u001b[1;33m\u001b[0m\u001b[0m\n\u001b[0;32m    687\u001b[0m \u001b[1;33m\u001b[0m\u001b[0m\n\u001b[1;32m--> 688\u001b[1;33m             \u001b[0mself\u001b[0m\u001b[1;33m.\u001b[0m\u001b[0m_run_search\u001b[0m\u001b[1;33m(\u001b[0m\u001b[0mevaluate_candidates\u001b[0m\u001b[1;33m)\u001b[0m\u001b[1;33m\u001b[0m\u001b[1;33m\u001b[0m\u001b[0m\n\u001b[0m\u001b[0;32m    689\u001b[0m \u001b[1;33m\u001b[0m\u001b[0m\n\u001b[0;32m    690\u001b[0m         \u001b[1;31m# For multi-metric evaluation, store the best_index_, best_params_ and\u001b[0m\u001b[1;33m\u001b[0m\u001b[1;33m\u001b[0m\u001b[1;33m\u001b[0m\u001b[0m\n",
      "\u001b[1;32m~\\Anaconda3\\lib\\site-packages\\sklearn\\model_selection\\_search.py\u001b[0m in \u001b[0;36m_run_search\u001b[1;34m(self, evaluate_candidates)\u001b[0m\n\u001b[0;32m   1147\u001b[0m     \u001b[1;32mdef\u001b[0m \u001b[0m_run_search\u001b[0m\u001b[1;33m(\u001b[0m\u001b[0mself\u001b[0m\u001b[1;33m,\u001b[0m \u001b[0mevaluate_candidates\u001b[0m\u001b[1;33m)\u001b[0m\u001b[1;33m:\u001b[0m\u001b[1;33m\u001b[0m\u001b[1;33m\u001b[0m\u001b[0m\n\u001b[0;32m   1148\u001b[0m         \u001b[1;34m\"\"\"Search all candidates in param_grid\"\"\"\u001b[0m\u001b[1;33m\u001b[0m\u001b[1;33m\u001b[0m\u001b[0m\n\u001b[1;32m-> 1149\u001b[1;33m         \u001b[0mevaluate_candidates\u001b[0m\u001b[1;33m(\u001b[0m\u001b[0mParameterGrid\u001b[0m\u001b[1;33m(\u001b[0m\u001b[0mself\u001b[0m\u001b[1;33m.\u001b[0m\u001b[0mparam_grid\u001b[0m\u001b[1;33m)\u001b[0m\u001b[1;33m)\u001b[0m\u001b[1;33m\u001b[0m\u001b[1;33m\u001b[0m\u001b[0m\n\u001b[0m\u001b[0;32m   1150\u001b[0m \u001b[1;33m\u001b[0m\u001b[0m\n\u001b[0;32m   1151\u001b[0m \u001b[1;33m\u001b[0m\u001b[0m\n",
      "\u001b[1;32m~\\Anaconda3\\lib\\site-packages\\sklearn\\model_selection\\_search.py\u001b[0m in \u001b[0;36mevaluate_candidates\u001b[1;34m(candidate_params)\u001b[0m\n\u001b[0;32m    665\u001b[0m                                \u001b[1;32mfor\u001b[0m \u001b[0mparameters\u001b[0m\u001b[1;33m,\u001b[0m \u001b[1;33m(\u001b[0m\u001b[0mtrain\u001b[0m\u001b[1;33m,\u001b[0m \u001b[0mtest\u001b[0m\u001b[1;33m)\u001b[0m\u001b[1;33m\u001b[0m\u001b[1;33m\u001b[0m\u001b[0m\n\u001b[0;32m    666\u001b[0m                                in product(candidate_params,\n\u001b[1;32m--> 667\u001b[1;33m                                           cv.split(X, y, groups)))\n\u001b[0m\u001b[0;32m    668\u001b[0m \u001b[1;33m\u001b[0m\u001b[0m\n\u001b[0;32m    669\u001b[0m                 \u001b[1;32mif\u001b[0m \u001b[0mlen\u001b[0m\u001b[1;33m(\u001b[0m\u001b[0mout\u001b[0m\u001b[1;33m)\u001b[0m \u001b[1;33m<\u001b[0m \u001b[1;36m1\u001b[0m\u001b[1;33m:\u001b[0m\u001b[1;33m\u001b[0m\u001b[1;33m\u001b[0m\u001b[0m\n",
      "\u001b[1;32m~\\Anaconda3\\lib\\site-packages\\joblib\\parallel.py\u001b[0m in \u001b[0;36m__call__\u001b[1;34m(self, iterable)\u001b[0m\n\u001b[0;32m    919\u001b[0m             \u001b[1;31m# remaining jobs.\u001b[0m\u001b[1;33m\u001b[0m\u001b[1;33m\u001b[0m\u001b[1;33m\u001b[0m\u001b[0m\n\u001b[0;32m    920\u001b[0m             \u001b[0mself\u001b[0m\u001b[1;33m.\u001b[0m\u001b[0m_iterating\u001b[0m \u001b[1;33m=\u001b[0m \u001b[1;32mFalse\u001b[0m\u001b[1;33m\u001b[0m\u001b[1;33m\u001b[0m\u001b[0m\n\u001b[1;32m--> 921\u001b[1;33m             \u001b[1;32mif\u001b[0m \u001b[0mself\u001b[0m\u001b[1;33m.\u001b[0m\u001b[0mdispatch_one_batch\u001b[0m\u001b[1;33m(\u001b[0m\u001b[0miterator\u001b[0m\u001b[1;33m)\u001b[0m\u001b[1;33m:\u001b[0m\u001b[1;33m\u001b[0m\u001b[1;33m\u001b[0m\u001b[0m\n\u001b[0m\u001b[0;32m    922\u001b[0m                 \u001b[0mself\u001b[0m\u001b[1;33m.\u001b[0m\u001b[0m_iterating\u001b[0m \u001b[1;33m=\u001b[0m \u001b[0mself\u001b[0m\u001b[1;33m.\u001b[0m\u001b[0m_original_iterator\u001b[0m \u001b[1;32mis\u001b[0m \u001b[1;32mnot\u001b[0m \u001b[1;32mNone\u001b[0m\u001b[1;33m\u001b[0m\u001b[1;33m\u001b[0m\u001b[0m\n\u001b[0;32m    923\u001b[0m \u001b[1;33m\u001b[0m\u001b[0m\n",
      "\u001b[1;32m~\\Anaconda3\\lib\\site-packages\\joblib\\parallel.py\u001b[0m in \u001b[0;36mdispatch_one_batch\u001b[1;34m(self, iterator)\u001b[0m\n\u001b[0;32m    757\u001b[0m                 \u001b[1;32mreturn\u001b[0m \u001b[1;32mFalse\u001b[0m\u001b[1;33m\u001b[0m\u001b[1;33m\u001b[0m\u001b[0m\n\u001b[0;32m    758\u001b[0m             \u001b[1;32melse\u001b[0m\u001b[1;33m:\u001b[0m\u001b[1;33m\u001b[0m\u001b[1;33m\u001b[0m\u001b[0m\n\u001b[1;32m--> 759\u001b[1;33m                 \u001b[0mself\u001b[0m\u001b[1;33m.\u001b[0m\u001b[0m_dispatch\u001b[0m\u001b[1;33m(\u001b[0m\u001b[0mtasks\u001b[0m\u001b[1;33m)\u001b[0m\u001b[1;33m\u001b[0m\u001b[1;33m\u001b[0m\u001b[0m\n\u001b[0m\u001b[0;32m    760\u001b[0m                 \u001b[1;32mreturn\u001b[0m \u001b[1;32mTrue\u001b[0m\u001b[1;33m\u001b[0m\u001b[1;33m\u001b[0m\u001b[0m\n\u001b[0;32m    761\u001b[0m \u001b[1;33m\u001b[0m\u001b[0m\n",
      "\u001b[1;32m~\\Anaconda3\\lib\\site-packages\\joblib\\parallel.py\u001b[0m in \u001b[0;36m_dispatch\u001b[1;34m(self, batch)\u001b[0m\n\u001b[0;32m    714\u001b[0m         \u001b[1;32mwith\u001b[0m \u001b[0mself\u001b[0m\u001b[1;33m.\u001b[0m\u001b[0m_lock\u001b[0m\u001b[1;33m:\u001b[0m\u001b[1;33m\u001b[0m\u001b[1;33m\u001b[0m\u001b[0m\n\u001b[0;32m    715\u001b[0m             \u001b[0mjob_idx\u001b[0m \u001b[1;33m=\u001b[0m \u001b[0mlen\u001b[0m\u001b[1;33m(\u001b[0m\u001b[0mself\u001b[0m\u001b[1;33m.\u001b[0m\u001b[0m_jobs\u001b[0m\u001b[1;33m)\u001b[0m\u001b[1;33m\u001b[0m\u001b[1;33m\u001b[0m\u001b[0m\n\u001b[1;32m--> 716\u001b[1;33m             \u001b[0mjob\u001b[0m \u001b[1;33m=\u001b[0m \u001b[0mself\u001b[0m\u001b[1;33m.\u001b[0m\u001b[0m_backend\u001b[0m\u001b[1;33m.\u001b[0m\u001b[0mapply_async\u001b[0m\u001b[1;33m(\u001b[0m\u001b[0mbatch\u001b[0m\u001b[1;33m,\u001b[0m \u001b[0mcallback\u001b[0m\u001b[1;33m=\u001b[0m\u001b[0mcb\u001b[0m\u001b[1;33m)\u001b[0m\u001b[1;33m\u001b[0m\u001b[1;33m\u001b[0m\u001b[0m\n\u001b[0m\u001b[0;32m    717\u001b[0m             \u001b[1;31m# A job can complete so quickly than its callback is\u001b[0m\u001b[1;33m\u001b[0m\u001b[1;33m\u001b[0m\u001b[1;33m\u001b[0m\u001b[0m\n\u001b[0;32m    718\u001b[0m             \u001b[1;31m# called before we get here, causing self._jobs to\u001b[0m\u001b[1;33m\u001b[0m\u001b[1;33m\u001b[0m\u001b[1;33m\u001b[0m\u001b[0m\n",
      "\u001b[1;32m~\\Anaconda3\\lib\\site-packages\\joblib\\_parallel_backends.py\u001b[0m in \u001b[0;36mapply_async\u001b[1;34m(self, func, callback)\u001b[0m\n\u001b[0;32m    180\u001b[0m     \u001b[1;32mdef\u001b[0m \u001b[0mapply_async\u001b[0m\u001b[1;33m(\u001b[0m\u001b[0mself\u001b[0m\u001b[1;33m,\u001b[0m \u001b[0mfunc\u001b[0m\u001b[1;33m,\u001b[0m \u001b[0mcallback\u001b[0m\u001b[1;33m=\u001b[0m\u001b[1;32mNone\u001b[0m\u001b[1;33m)\u001b[0m\u001b[1;33m:\u001b[0m\u001b[1;33m\u001b[0m\u001b[1;33m\u001b[0m\u001b[0m\n\u001b[0;32m    181\u001b[0m         \u001b[1;34m\"\"\"Schedule a func to be run\"\"\"\u001b[0m\u001b[1;33m\u001b[0m\u001b[1;33m\u001b[0m\u001b[0m\n\u001b[1;32m--> 182\u001b[1;33m         \u001b[0mresult\u001b[0m \u001b[1;33m=\u001b[0m \u001b[0mImmediateResult\u001b[0m\u001b[1;33m(\u001b[0m\u001b[0mfunc\u001b[0m\u001b[1;33m)\u001b[0m\u001b[1;33m\u001b[0m\u001b[1;33m\u001b[0m\u001b[0m\n\u001b[0m\u001b[0;32m    183\u001b[0m         \u001b[1;32mif\u001b[0m \u001b[0mcallback\u001b[0m\u001b[1;33m:\u001b[0m\u001b[1;33m\u001b[0m\u001b[1;33m\u001b[0m\u001b[0m\n\u001b[0;32m    184\u001b[0m             \u001b[0mcallback\u001b[0m\u001b[1;33m(\u001b[0m\u001b[0mresult\u001b[0m\u001b[1;33m)\u001b[0m\u001b[1;33m\u001b[0m\u001b[1;33m\u001b[0m\u001b[0m\n",
      "\u001b[1;32m~\\Anaconda3\\lib\\site-packages\\joblib\\_parallel_backends.py\u001b[0m in \u001b[0;36m__init__\u001b[1;34m(self, batch)\u001b[0m\n\u001b[0;32m    547\u001b[0m         \u001b[1;31m# Don't delay the application, to avoid keeping the input\u001b[0m\u001b[1;33m\u001b[0m\u001b[1;33m\u001b[0m\u001b[1;33m\u001b[0m\u001b[0m\n\u001b[0;32m    548\u001b[0m         \u001b[1;31m# arguments in memory\u001b[0m\u001b[1;33m\u001b[0m\u001b[1;33m\u001b[0m\u001b[1;33m\u001b[0m\u001b[0m\n\u001b[1;32m--> 549\u001b[1;33m         \u001b[0mself\u001b[0m\u001b[1;33m.\u001b[0m\u001b[0mresults\u001b[0m \u001b[1;33m=\u001b[0m \u001b[0mbatch\u001b[0m\u001b[1;33m(\u001b[0m\u001b[1;33m)\u001b[0m\u001b[1;33m\u001b[0m\u001b[1;33m\u001b[0m\u001b[0m\n\u001b[0m\u001b[0;32m    550\u001b[0m \u001b[1;33m\u001b[0m\u001b[0m\n\u001b[0;32m    551\u001b[0m     \u001b[1;32mdef\u001b[0m \u001b[0mget\u001b[0m\u001b[1;33m(\u001b[0m\u001b[0mself\u001b[0m\u001b[1;33m)\u001b[0m\u001b[1;33m:\u001b[0m\u001b[1;33m\u001b[0m\u001b[1;33m\u001b[0m\u001b[0m\n",
      "\u001b[1;32m~\\Anaconda3\\lib\\site-packages\\joblib\\parallel.py\u001b[0m in \u001b[0;36m__call__\u001b[1;34m(self)\u001b[0m\n\u001b[0;32m    223\u001b[0m         \u001b[1;32mwith\u001b[0m \u001b[0mparallel_backend\u001b[0m\u001b[1;33m(\u001b[0m\u001b[0mself\u001b[0m\u001b[1;33m.\u001b[0m\u001b[0m_backend\u001b[0m\u001b[1;33m,\u001b[0m \u001b[0mn_jobs\u001b[0m\u001b[1;33m=\u001b[0m\u001b[0mself\u001b[0m\u001b[1;33m.\u001b[0m\u001b[0m_n_jobs\u001b[0m\u001b[1;33m)\u001b[0m\u001b[1;33m:\u001b[0m\u001b[1;33m\u001b[0m\u001b[1;33m\u001b[0m\u001b[0m\n\u001b[0;32m    224\u001b[0m             return [func(*args, **kwargs)\n\u001b[1;32m--> 225\u001b[1;33m                     for func, args, kwargs in self.items]\n\u001b[0m\u001b[0;32m    226\u001b[0m \u001b[1;33m\u001b[0m\u001b[0m\n\u001b[0;32m    227\u001b[0m     \u001b[1;32mdef\u001b[0m \u001b[0m__len__\u001b[0m\u001b[1;33m(\u001b[0m\u001b[0mself\u001b[0m\u001b[1;33m)\u001b[0m\u001b[1;33m:\u001b[0m\u001b[1;33m\u001b[0m\u001b[1;33m\u001b[0m\u001b[0m\n",
      "\u001b[1;32m~\\Anaconda3\\lib\\site-packages\\joblib\\parallel.py\u001b[0m in \u001b[0;36m<listcomp>\u001b[1;34m(.0)\u001b[0m\n\u001b[0;32m    223\u001b[0m         \u001b[1;32mwith\u001b[0m \u001b[0mparallel_backend\u001b[0m\u001b[1;33m(\u001b[0m\u001b[0mself\u001b[0m\u001b[1;33m.\u001b[0m\u001b[0m_backend\u001b[0m\u001b[1;33m,\u001b[0m \u001b[0mn_jobs\u001b[0m\u001b[1;33m=\u001b[0m\u001b[0mself\u001b[0m\u001b[1;33m.\u001b[0m\u001b[0m_n_jobs\u001b[0m\u001b[1;33m)\u001b[0m\u001b[1;33m:\u001b[0m\u001b[1;33m\u001b[0m\u001b[1;33m\u001b[0m\u001b[0m\n\u001b[0;32m    224\u001b[0m             return [func(*args, **kwargs)\n\u001b[1;32m--> 225\u001b[1;33m                     for func, args, kwargs in self.items]\n\u001b[0m\u001b[0;32m    226\u001b[0m \u001b[1;33m\u001b[0m\u001b[0m\n\u001b[0;32m    227\u001b[0m     \u001b[1;32mdef\u001b[0m \u001b[0m__len__\u001b[0m\u001b[1;33m(\u001b[0m\u001b[0mself\u001b[0m\u001b[1;33m)\u001b[0m\u001b[1;33m:\u001b[0m\u001b[1;33m\u001b[0m\u001b[1;33m\u001b[0m\u001b[0m\n",
      "\u001b[1;32m~\\Anaconda3\\lib\\site-packages\\sklearn\\model_selection\\_validation.py\u001b[0m in \u001b[0;36m_fit_and_score\u001b[1;34m(estimator, X, y, scorer, train, test, verbose, parameters, fit_params, return_train_score, return_parameters, return_n_test_samples, return_times, return_estimator, error_score)\u001b[0m\n\u001b[0;32m    554\u001b[0m         \u001b[0mfit_time\u001b[0m \u001b[1;33m=\u001b[0m \u001b[0mtime\u001b[0m\u001b[1;33m.\u001b[0m\u001b[0mtime\u001b[0m\u001b[1;33m(\u001b[0m\u001b[1;33m)\u001b[0m \u001b[1;33m-\u001b[0m \u001b[0mstart_time\u001b[0m\u001b[1;33m\u001b[0m\u001b[1;33m\u001b[0m\u001b[0m\n\u001b[0;32m    555\u001b[0m         \u001b[1;31m# _score will return dict if is_multimetric is True\u001b[0m\u001b[1;33m\u001b[0m\u001b[1;33m\u001b[0m\u001b[1;33m\u001b[0m\u001b[0m\n\u001b[1;32m--> 556\u001b[1;33m         \u001b[0mtest_scores\u001b[0m \u001b[1;33m=\u001b[0m \u001b[0m_score\u001b[0m\u001b[1;33m(\u001b[0m\u001b[0mestimator\u001b[0m\u001b[1;33m,\u001b[0m \u001b[0mX_test\u001b[0m\u001b[1;33m,\u001b[0m \u001b[0my_test\u001b[0m\u001b[1;33m,\u001b[0m \u001b[0mscorer\u001b[0m\u001b[1;33m,\u001b[0m \u001b[0mis_multimetric\u001b[0m\u001b[1;33m)\u001b[0m\u001b[1;33m\u001b[0m\u001b[1;33m\u001b[0m\u001b[0m\n\u001b[0m\u001b[0;32m    557\u001b[0m         \u001b[0mscore_time\u001b[0m \u001b[1;33m=\u001b[0m \u001b[0mtime\u001b[0m\u001b[1;33m.\u001b[0m\u001b[0mtime\u001b[0m\u001b[1;33m(\u001b[0m\u001b[1;33m)\u001b[0m \u001b[1;33m-\u001b[0m \u001b[0mstart_time\u001b[0m \u001b[1;33m-\u001b[0m \u001b[0mfit_time\u001b[0m\u001b[1;33m\u001b[0m\u001b[1;33m\u001b[0m\u001b[0m\n\u001b[0;32m    558\u001b[0m         \u001b[1;32mif\u001b[0m \u001b[0mreturn_train_score\u001b[0m\u001b[1;33m:\u001b[0m\u001b[1;33m\u001b[0m\u001b[1;33m\u001b[0m\u001b[0m\n",
      "\u001b[1;32m~\\Anaconda3\\lib\\site-packages\\sklearn\\model_selection\\_validation.py\u001b[0m in \u001b[0;36m_score\u001b[1;34m(estimator, X_test, y_test, scorer, is_multimetric)\u001b[0m\n\u001b[0;32m    597\u001b[0m     \"\"\"\n\u001b[0;32m    598\u001b[0m     \u001b[1;32mif\u001b[0m \u001b[0mis_multimetric\u001b[0m\u001b[1;33m:\u001b[0m\u001b[1;33m\u001b[0m\u001b[1;33m\u001b[0m\u001b[0m\n\u001b[1;32m--> 599\u001b[1;33m         \u001b[1;32mreturn\u001b[0m \u001b[0m_multimetric_score\u001b[0m\u001b[1;33m(\u001b[0m\u001b[0mestimator\u001b[0m\u001b[1;33m,\u001b[0m \u001b[0mX_test\u001b[0m\u001b[1;33m,\u001b[0m \u001b[0my_test\u001b[0m\u001b[1;33m,\u001b[0m \u001b[0mscorer\u001b[0m\u001b[1;33m)\u001b[0m\u001b[1;33m\u001b[0m\u001b[1;33m\u001b[0m\u001b[0m\n\u001b[0m\u001b[0;32m    600\u001b[0m     \u001b[1;32melse\u001b[0m\u001b[1;33m:\u001b[0m\u001b[1;33m\u001b[0m\u001b[1;33m\u001b[0m\u001b[0m\n\u001b[0;32m    601\u001b[0m         \u001b[1;32mif\u001b[0m \u001b[0my_test\u001b[0m \u001b[1;32mis\u001b[0m \u001b[1;32mNone\u001b[0m\u001b[1;33m:\u001b[0m\u001b[1;33m\u001b[0m\u001b[1;33m\u001b[0m\u001b[0m\n",
      "\u001b[1;32m~\\Anaconda3\\lib\\site-packages\\sklearn\\model_selection\\_validation.py\u001b[0m in \u001b[0;36m_multimetric_score\u001b[1;34m(estimator, X_test, y_test, scorers)\u001b[0m\n\u001b[0;32m    627\u001b[0m             \u001b[0mscore\u001b[0m \u001b[1;33m=\u001b[0m \u001b[0mscorer\u001b[0m\u001b[1;33m(\u001b[0m\u001b[0mestimator\u001b[0m\u001b[1;33m,\u001b[0m \u001b[0mX_test\u001b[0m\u001b[1;33m)\u001b[0m\u001b[1;33m\u001b[0m\u001b[1;33m\u001b[0m\u001b[0m\n\u001b[0;32m    628\u001b[0m         \u001b[1;32melse\u001b[0m\u001b[1;33m:\u001b[0m\u001b[1;33m\u001b[0m\u001b[1;33m\u001b[0m\u001b[0m\n\u001b[1;32m--> 629\u001b[1;33m             \u001b[0mscore\u001b[0m \u001b[1;33m=\u001b[0m \u001b[0mscorer\u001b[0m\u001b[1;33m(\u001b[0m\u001b[0mestimator\u001b[0m\u001b[1;33m,\u001b[0m \u001b[0mX_test\u001b[0m\u001b[1;33m,\u001b[0m \u001b[0my_test\u001b[0m\u001b[1;33m)\u001b[0m\u001b[1;33m\u001b[0m\u001b[1;33m\u001b[0m\u001b[0m\n\u001b[0m\u001b[0;32m    630\u001b[0m \u001b[1;33m\u001b[0m\u001b[0m\n\u001b[0;32m    631\u001b[0m         \u001b[1;32mif\u001b[0m \u001b[0mhasattr\u001b[0m\u001b[1;33m(\u001b[0m\u001b[0mscore\u001b[0m\u001b[1;33m,\u001b[0m \u001b[1;34m'item'\u001b[0m\u001b[1;33m)\u001b[0m\u001b[1;33m:\u001b[0m\u001b[1;33m\u001b[0m\u001b[1;33m\u001b[0m\u001b[0m\n",
      "\u001b[1;32m~\\Anaconda3\\lib\\site-packages\\sklearn\\metrics\\scorer.py\u001b[0m in \u001b[0;36m__call__\u001b[1;34m(self, estimator, X, y_true, sample_weight)\u001b[0m\n\u001b[0;32m     95\u001b[0m         \u001b[1;32melse\u001b[0m\u001b[1;33m:\u001b[0m\u001b[1;33m\u001b[0m\u001b[1;33m\u001b[0m\u001b[0m\n\u001b[0;32m     96\u001b[0m             return self._sign * self._score_func(y_true, y_pred,\n\u001b[1;32m---> 97\u001b[1;33m                                                  **self._kwargs)\n\u001b[0m\u001b[0;32m     98\u001b[0m \u001b[1;33m\u001b[0m\u001b[0m\n\u001b[0;32m     99\u001b[0m \u001b[1;33m\u001b[0m\u001b[0m\n",
      "\u001b[1;32m~\\Downloads\\ISOM3360project\\isom3360_project_credit_card_defaultee_analysis\\utils\\custom_cost.py\u001b[0m in \u001b[0;36mcost\u001b[1;34m(y_true, y_pred)\u001b[0m\n\u001b[0;32m     31\u001b[0m     \u001b[1;32mfor\u001b[0m \u001b[0mi\u001b[0m \u001b[1;32min\u001b[0m \u001b[0mrange\u001b[0m\u001b[1;33m(\u001b[0m\u001b[0mlen\u001b[0m\u001b[1;33m(\u001b[0m\u001b[0my_true\u001b[0m\u001b[1;33m)\u001b[0m\u001b[1;33m)\u001b[0m\u001b[1;33m:\u001b[0m\u001b[1;33m\u001b[0m\u001b[1;33m\u001b[0m\u001b[0m\n\u001b[0;32m     32\u001b[0m         \u001b[1;31m# FP, true=0, pred=1\u001b[0m\u001b[1;33m\u001b[0m\u001b[1;33m\u001b[0m\u001b[1;33m\u001b[0m\u001b[0m\n\u001b[1;32m---> 33\u001b[1;33m         \u001b[1;32mif\u001b[0m \u001b[0my_pred\u001b[0m\u001b[1;33m[\u001b[0m\u001b[0mi\u001b[0m\u001b[1;33m]\u001b[0m \u001b[1;33m>\u001b[0m \u001b[0my_true\u001b[0m\u001b[1;33m[\u001b[0m\u001b[0mi\u001b[0m\u001b[1;33m]\u001b[0m\u001b[1;33m:\u001b[0m\u001b[1;33m\u001b[0m\u001b[1;33m\u001b[0m\u001b[0m\n\u001b[0m\u001b[0;32m     34\u001b[0m             \u001b[0mtotal\u001b[0m \u001b[1;33m+=\u001b[0m \u001b[0mcost_fp\u001b[0m\u001b[1;33m\u001b[0m\u001b[1;33m\u001b[0m\u001b[0m\n\u001b[0;32m     35\u001b[0m         \u001b[1;31m# FN, true=1, pred=0\u001b[0m\u001b[1;33m\u001b[0m\u001b[1;33m\u001b[0m\u001b[1;33m\u001b[0m\u001b[0m\n",
      "\u001b[1;32m~\\Anaconda3\\lib\\site-packages\\pandas\\core\\frame.py\u001b[0m in \u001b[0;36m__getitem__\u001b[1;34m(self, key)\u001b[0m\n\u001b[0;32m   2978\u001b[0m             \u001b[1;32mif\u001b[0m \u001b[0mself\u001b[0m\u001b[1;33m.\u001b[0m\u001b[0mcolumns\u001b[0m\u001b[1;33m.\u001b[0m\u001b[0mnlevels\u001b[0m \u001b[1;33m>\u001b[0m \u001b[1;36m1\u001b[0m\u001b[1;33m:\u001b[0m\u001b[1;33m\u001b[0m\u001b[1;33m\u001b[0m\u001b[0m\n\u001b[0;32m   2979\u001b[0m                 \u001b[1;32mreturn\u001b[0m \u001b[0mself\u001b[0m\u001b[1;33m.\u001b[0m\u001b[0m_getitem_multilevel\u001b[0m\u001b[1;33m(\u001b[0m\u001b[0mkey\u001b[0m\u001b[1;33m)\u001b[0m\u001b[1;33m\u001b[0m\u001b[1;33m\u001b[0m\u001b[0m\n\u001b[1;32m-> 2980\u001b[1;33m             \u001b[0mindexer\u001b[0m \u001b[1;33m=\u001b[0m \u001b[0mself\u001b[0m\u001b[1;33m.\u001b[0m\u001b[0mcolumns\u001b[0m\u001b[1;33m.\u001b[0m\u001b[0mget_loc\u001b[0m\u001b[1;33m(\u001b[0m\u001b[0mkey\u001b[0m\u001b[1;33m)\u001b[0m\u001b[1;33m\u001b[0m\u001b[1;33m\u001b[0m\u001b[0m\n\u001b[0m\u001b[0;32m   2981\u001b[0m             \u001b[1;32mif\u001b[0m \u001b[0mis_integer\u001b[0m\u001b[1;33m(\u001b[0m\u001b[0mindexer\u001b[0m\u001b[1;33m)\u001b[0m\u001b[1;33m:\u001b[0m\u001b[1;33m\u001b[0m\u001b[1;33m\u001b[0m\u001b[0m\n\u001b[0;32m   2982\u001b[0m                 \u001b[0mindexer\u001b[0m \u001b[1;33m=\u001b[0m \u001b[1;33m[\u001b[0m\u001b[0mindexer\u001b[0m\u001b[1;33m]\u001b[0m\u001b[1;33m\u001b[0m\u001b[1;33m\u001b[0m\u001b[0m\n",
      "\u001b[1;32m~\\Anaconda3\\lib\\site-packages\\pandas\\core\\indexes\\base.py\u001b[0m in \u001b[0;36mget_loc\u001b[1;34m(self, key, method, tolerance)\u001b[0m\n\u001b[0;32m   2897\u001b[0m                 \u001b[1;32mreturn\u001b[0m \u001b[0mself\u001b[0m\u001b[1;33m.\u001b[0m\u001b[0m_engine\u001b[0m\u001b[1;33m.\u001b[0m\u001b[0mget_loc\u001b[0m\u001b[1;33m(\u001b[0m\u001b[0mkey\u001b[0m\u001b[1;33m)\u001b[0m\u001b[1;33m\u001b[0m\u001b[1;33m\u001b[0m\u001b[0m\n\u001b[0;32m   2898\u001b[0m             \u001b[1;32mexcept\u001b[0m \u001b[0mKeyError\u001b[0m\u001b[1;33m:\u001b[0m\u001b[1;33m\u001b[0m\u001b[1;33m\u001b[0m\u001b[0m\n\u001b[1;32m-> 2899\u001b[1;33m                 \u001b[1;32mreturn\u001b[0m \u001b[0mself\u001b[0m\u001b[1;33m.\u001b[0m\u001b[0m_engine\u001b[0m\u001b[1;33m.\u001b[0m\u001b[0mget_loc\u001b[0m\u001b[1;33m(\u001b[0m\u001b[0mself\u001b[0m\u001b[1;33m.\u001b[0m\u001b[0m_maybe_cast_indexer\u001b[0m\u001b[1;33m(\u001b[0m\u001b[0mkey\u001b[0m\u001b[1;33m)\u001b[0m\u001b[1;33m)\u001b[0m\u001b[1;33m\u001b[0m\u001b[1;33m\u001b[0m\u001b[0m\n\u001b[0m\u001b[0;32m   2900\u001b[0m         \u001b[0mindexer\u001b[0m \u001b[1;33m=\u001b[0m \u001b[0mself\u001b[0m\u001b[1;33m.\u001b[0m\u001b[0mget_indexer\u001b[0m\u001b[1;33m(\u001b[0m\u001b[1;33m[\u001b[0m\u001b[0mkey\u001b[0m\u001b[1;33m]\u001b[0m\u001b[1;33m,\u001b[0m \u001b[0mmethod\u001b[0m\u001b[1;33m=\u001b[0m\u001b[0mmethod\u001b[0m\u001b[1;33m,\u001b[0m \u001b[0mtolerance\u001b[0m\u001b[1;33m=\u001b[0m\u001b[0mtolerance\u001b[0m\u001b[1;33m)\u001b[0m\u001b[1;33m\u001b[0m\u001b[1;33m\u001b[0m\u001b[0m\n\u001b[0;32m   2901\u001b[0m         \u001b[1;32mif\u001b[0m \u001b[0mindexer\u001b[0m\u001b[1;33m.\u001b[0m\u001b[0mndim\u001b[0m \u001b[1;33m>\u001b[0m \u001b[1;36m1\u001b[0m \u001b[1;32mor\u001b[0m \u001b[0mindexer\u001b[0m\u001b[1;33m.\u001b[0m\u001b[0msize\u001b[0m \u001b[1;33m>\u001b[0m \u001b[1;36m1\u001b[0m\u001b[1;33m:\u001b[0m\u001b[1;33m\u001b[0m\u001b[1;33m\u001b[0m\u001b[0m\n",
      "\u001b[1;32mpandas\\_libs\\index.pyx\u001b[0m in \u001b[0;36mpandas._libs.index.IndexEngine.get_loc\u001b[1;34m()\u001b[0m\n",
      "\u001b[1;32mpandas\\_libs\\index.pyx\u001b[0m in \u001b[0;36mpandas._libs.index.IndexEngine.get_loc\u001b[1;34m()\u001b[0m\n",
      "\u001b[1;32mpandas\\_libs\\hashtable_class_helper.pxi\u001b[0m in \u001b[0;36mpandas._libs.hashtable.PyObjectHashTable.get_item\u001b[1;34m()\u001b[0m\n",
      "\u001b[1;32mpandas\\_libs\\hashtable_class_helper.pxi\u001b[0m in \u001b[0;36mpandas._libs.hashtable.PyObjectHashTable.get_item\u001b[1;34m()\u001b[0m\n",
      "\u001b[1;31mKeyError\u001b[0m: 0"
     ]
    }
   ],
   "source": [
    "DTM.fit(X_train,y_train)"
   ]
  },
  {
   "cell_type": "code",
   "execution_count": 122,
   "metadata": {},
   "outputs": [
    {
     "data": {
      "text/plain": [
       "{'max_depth': 7.0, 'min_samples_leaf': 109}"
      ]
     },
     "execution_count": 122,
     "metadata": {},
     "output_type": "execute_result"
    }
   ],
   "source": [
    "# find the best parameters\n",
    "DTM.best_params_"
   ]
  },
  {
   "cell_type": "code",
   "execution_count": 123,
   "metadata": {},
   "outputs": [
    {
     "data": {
      "text/plain": [
       "0.65365055387714"
      ]
     },
     "execution_count": 123,
     "metadata": {},
     "output_type": "execute_result"
    }
   ],
   "source": [
    "DTM.best_score_"
   ]
  },
  {
   "cell_type": "code",
   "execution_count": 124,
   "metadata": {},
   "outputs": [],
   "source": [
    "my_model = DecisionTreeClassifier(max_depth = 7,min_samples_leaf=109)"
   ]
  },
  {
   "cell_type": "code",
   "execution_count": 125,
   "metadata": {},
   "outputs": [
    {
     "data": {
      "text/plain": [
       "DecisionTreeClassifier(class_weight=None, criterion='gini', max_depth=7,\n",
       "                       max_features=None, max_leaf_nodes=None,\n",
       "                       min_impurity_decrease=0.0, min_impurity_split=None,\n",
       "                       min_samples_leaf=109, min_samples_split=2,\n",
       "                       min_weight_fraction_leaf=0.0, presort=False,\n",
       "                       random_state=None, splitter='best')"
      ]
     },
     "execution_count": 125,
     "metadata": {},
     "output_type": "execute_result"
    }
   ],
   "source": [
    "my_model.fit(X_train,y_train)"
   ]
  },
  {
   "cell_type": "code",
   "execution_count": 126,
   "metadata": {},
   "outputs": [],
   "source": [
    "y_predict = my_model.predict(X_val)"
   ]
  },
  {
   "cell_type": "code",
   "execution_count": 127,
   "metadata": {},
   "outputs": [
    {
     "name": "stdout",
     "output_type": "stream",
     "text": [
      "Accuracy: 0.6576032225579054\n",
      "Confusion Matrix \n",
      " [[3363 1607]\n",
      " [1793 3167]]\n",
      "Classification Report: \n",
      "               precision    recall  f1-score   support\n",
      "\n",
      "           0       0.65      0.68      0.66      4970\n",
      "           1       0.66      0.64      0.65      4960\n",
      "\n",
      "    accuracy                           0.66      9930\n",
      "   macro avg       0.66      0.66      0.66      9930\n",
      "weighted avg       0.66      0.66      0.66      9930\n",
      "\n"
     ]
    }
   ],
   "source": [
    "print(\"Accuracy:\",accuracy_score(y_val, y_predict, normalize=True, sample_weight=None))\n",
    "print(\"Confusion Matrix\", '\\n', confusion_matrix(y_val, y_predict))\n",
    "print(\"Classification Report:\", '\\n', classification_report(y_val, y_predict))"
   ]
  },
  {
   "cell_type": "markdown",
   "metadata": {},
   "source": [
    "### Conclusion and findings\n",
    "\n",
    "The results are fairly predictive, better than the majority classifier.\n",
    "The 20-feature model yields similar results to the 30-feature model.\n",
    "We prefer simplicity, so we will take the 20-feature model as the final model for this part.\n",
    "\n",
    "p.s. We've been thinking of using k-means clustering to detect outliers and remove them. But there are several reasons we did not implement it. 1.We have no idea how to choose the value of k. 2. There are too many features so that curse of dimensionality will occur. We want to preserve as many data instances as possible. 3. Since the dataset is extremely imbalance, and the default cases are actually outliers, we want to find out those outliers more than to remove them."
   ]
  },
  {
   "cell_type": "markdown",
   "metadata": {},
   "source": [
    "## This is the end of Part 2.1 Decision Tree Classifier."
   ]
  }
 ],
 "metadata": {
  "kernelspec": {
   "display_name": "Python 3",
   "language": "python",
   "name": "python3"
  },
  "language_info": {
   "codemirror_mode": {
    "name": "ipython",
    "version": 3
   },
   "file_extension": ".py",
   "mimetype": "text/x-python",
   "name": "python",
   "nbconvert_exporter": "python",
   "pygments_lexer": "ipython3",
   "version": "3.8.8"
  }
 },
 "nbformat": 4,
 "nbformat_minor": 2
}
