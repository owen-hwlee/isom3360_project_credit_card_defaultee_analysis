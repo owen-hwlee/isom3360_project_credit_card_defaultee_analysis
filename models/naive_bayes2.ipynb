{
 "cells": [
  {
   "cell_type": "markdown",
   "metadata": {},
   "source": [
    "***\n",
    "# ISOM3360 Data Mining for Business Analytics\n",
    "## Group 23 Project Code - Credit Card Defaultee Analysis\n",
    "### Part 2.3 - Naive Bayes Classifier\n",
    "***"
   ]
  },
  {
   "cell_type": "markdown",
   "metadata": {},
   "source": [
    "Name: LAM, Ho Chit  \n",
    "ITSC: hclamao  \n",
    "SID: 20607878\n",
    "\n",
    "Name: LEE, Ho Wan Owen  \n",
    "ITSC: hwolee  \n",
    "SID: 20604852\n",
    "\n",
    "Name: LEE, Wai Chung  \n",
    "ITSC: wcleeaj  \n",
    "SID: 20702733"
   ]
  },
  {
   "cell_type": "markdown",
   "metadata": {},
   "source": [
    "### Workflow of this notebook (TBC)\n",
    "\n",
    "1. Explore features and characteristics of dataset\n",
    "2. Drop columns of low data quality (e.g. large amounts of empty values)\n",
    "3. Determine $k$ columns to keep in the dataset (feature selection)\n",
    "4. Perform one-hot encoding\n",
    "5. Split into training and testing sets\n",
    "6. Perform data cleaning\n",
    "   - Dealing with missing values\n",
    "7. Perform data standardization / normalization\n",
    "8. Export preprocessed data to .csv files at `./data_preprocessed/`"
   ]
  },
  {
   "cell_type": "markdown",
   "metadata": {},
   "source": [
    "### Naive Bayes\n",
    "we will use all the train data (891 examples) to construct the tree and evaluate the model"
   ]
  },
  {
   "cell_type": "markdown",
   "metadata": {},
   "source": [
    "## Data preprocessing (con't)"
   ]
  },
  {
   "cell_type": "code",
   "execution_count": 1,
   "metadata": {},
   "outputs": [],
   "source": [
    "%load_ext autoreload\n",
    "%autoreload 2"
   ]
  },
  {
   "cell_type": "code",
   "execution_count": 3,
   "metadata": {},
   "outputs": [],
   "source": [
    "# import libraries\n",
    "import numpy as np\n",
    "import pandas as pd\n",
    "import matplotlib as mpl\n",
    "import matplotlib.pyplot as plt"
   ]
  },
  {
   "cell_type": "code",
   "execution_count": 4,
   "metadata": {},
   "outputs": [],
   "source": [
    "pd.set_option('display.max_rows', 500)"
   ]
  },
  {
   "cell_type": "code",
   "execution_count": 7,
   "metadata": {},
   "outputs": [],
   "source": [
    "#Load cleaned data\n",
    "raw_df = pd.read_csv('../data_preprocessed/raw2nb.csv',index_col = 'SK_ID_CURR')"
   ]
  },
  {
   "cell_type": "markdown",
   "metadata": {},
   "source": [
    "### Dealing with missing values"
   ]
  },
  {
   "cell_type": "code",
   "execution_count": 8,
   "metadata": {},
   "outputs": [],
   "source": [
    "raw_df['OBS_30_CNT_SOCIAL_CIRCLE'].fillna(raw_df['OBS_30_CNT_SOCIAL_CIRCLE'].mean(),inplace=True)\n",
    "raw_df['DEF_30_CNT_SOCIAL_CIRCLE'].fillna(raw_df['DEF_30_CNT_SOCIAL_CIRCLE'].mean(),inplace=True)\n",
    "raw_df['OBS_60_CNT_SOCIAL_CIRCLE'].fillna(raw_df['OBS_60_CNT_SOCIAL_CIRCLE'].mean(),inplace=True)\n",
    "raw_df['DEF_60_CNT_SOCIAL_CIRCLE'].fillna(raw_df['DEF_60_CNT_SOCIAL_CIRCLE'].mean(),inplace=True)\n",
    "raw_df['AMT_REQ_CREDIT_BUREAU_HOUR'].fillna(raw_df['AMT_REQ_CREDIT_BUREAU_HOUR'].mode()[0],inplace=True)\n",
    "raw_df['AMT_REQ_CREDIT_BUREAU_DAY'].fillna(raw_df['AMT_REQ_CREDIT_BUREAU_DAY'].mode()[0],inplace=True)\n",
    "raw_df['AMT_REQ_CREDIT_BUREAU_WEEK'].fillna(raw_df['AMT_REQ_CREDIT_BUREAU_WEEK'].mode()[0],inplace=True)\n",
    "raw_df['AMT_REQ_CREDIT_BUREAU_MON'].fillna(raw_df['AMT_REQ_CREDIT_BUREAU_MON'].mode()[0],inplace=True)\n",
    "raw_df['AMT_REQ_CREDIT_BUREAU_QRT'].fillna(raw_df['AMT_REQ_CREDIT_BUREAU_QRT'].mode()[0],inplace=True)\n",
    "raw_df['AMT_REQ_CREDIT_BUREAU_YEAR'].fillna(raw_df['AMT_REQ_CREDIT_BUREAU_YEAR'].mode()[0],inplace=True)\n",
    "raw_df['DAYS_LAST_PHONE_CHANGE'].fillna(raw_df['DAYS_LAST_PHONE_CHANGE'].mean(),inplace=True)\n",
    "raw_df['EXT_SOURCE_2'].fillna(raw_df['EXT_SOURCE_2'].mean(),inplace=True)\n",
    "raw_df['EXT_SOURCE_3'].fillna(raw_df['EXT_SOURCE_3'].mean(),inplace=True)"
   ]
  },
  {
   "cell_type": "code",
   "execution_count": 9,
   "metadata": {},
   "outputs": [],
   "source": [
    "#Drop the columns that has number of missing values >100000\n",
    "raw_df = raw_df.dropna(axis=1)"
   ]
  },
  {
   "cell_type": "code",
   "execution_count": 10,
   "metadata": {},
   "outputs": [],
   "source": [
    "#Save the data to a new file\n",
    "raw_df.to_csv('raw_no_missingNB.csv')"
   ]
  },
  {
   "cell_type": "code",
   "execution_count": 11,
   "metadata": {},
   "outputs": [
    {
     "data": {
      "text/plain": [
       "TARGET                                               0\n",
       "NAME_CONTRACT_TYPE                                   0\n",
       "CNT_CHILDREN                                         0\n",
       "AMT_INCOME_TOTAL                                     0\n",
       "AMT_CREDIT                                           0\n",
       "AMT_ANNUITY                                          0\n",
       "AMT_GOODS_PRICE                                      0\n",
       "REGION_POPULATION_RELATIVE                           0\n",
       "DAYS_BIRTH                                           0\n",
       "DAYS_EMPLOYED                                        0\n",
       "DAYS_REGISTRATION                                    0\n",
       "DAYS_ID_PUBLISH                                      0\n",
       "FLAG_MOBIL                                           0\n",
       "FLAG_EMP_PHONE                                       0\n",
       "FLAG_WORK_PHONE                                      0\n",
       "FLAG_CONT_MOBILE                                     0\n",
       "FLAG_PHONE                                           0\n",
       "FLAG_EMAIL                                           0\n",
       "OCCUPATION_TYPE                                      0\n",
       "CNT_FAM_MEMBERS                                      0\n",
       "REGION_RATING_CLIENT                                 0\n",
       "REGION_RATING_CLIENT_W_CITY                          0\n",
       "WEEKDAY_APPR_PROCESS_START                           0\n",
       "HOUR_APPR_PROCESS_START                              0\n",
       "REG_REGION_NOT_LIVE_REGION                           0\n",
       "REG_REGION_NOT_WORK_REGION                           0\n",
       "LIVE_REGION_NOT_WORK_REGION                          0\n",
       "REG_CITY_NOT_LIVE_CITY                               0\n",
       "REG_CITY_NOT_WORK_CITY                               0\n",
       "LIVE_CITY_NOT_WORK_CITY                              0\n",
       "ORGANIZATION_TYPE                                    0\n",
       "EXT_SOURCE_2                                         0\n",
       "EXT_SOURCE_3                                         0\n",
       "OBS_30_CNT_SOCIAL_CIRCLE                             0\n",
       "DEF_30_CNT_SOCIAL_CIRCLE                             0\n",
       "OBS_60_CNT_SOCIAL_CIRCLE                             0\n",
       "DEF_60_CNT_SOCIAL_CIRCLE                             0\n",
       "DAYS_LAST_PHONE_CHANGE                               0\n",
       "FLAG_DOCUMENT_2                                      0\n",
       "FLAG_DOCUMENT_3                                      0\n",
       "FLAG_DOCUMENT_4                                      0\n",
       "FLAG_DOCUMENT_5                                      0\n",
       "FLAG_DOCUMENT_6                                      0\n",
       "FLAG_DOCUMENT_7                                      0\n",
       "FLAG_DOCUMENT_8                                      0\n",
       "FLAG_DOCUMENT_9                                      0\n",
       "FLAG_DOCUMENT_10                                     0\n",
       "FLAG_DOCUMENT_11                                     0\n",
       "FLAG_DOCUMENT_12                                     0\n",
       "FLAG_DOCUMENT_13                                     0\n",
       "FLAG_DOCUMENT_14                                     0\n",
       "FLAG_DOCUMENT_15                                     0\n",
       "FLAG_DOCUMENT_16                                     0\n",
       "FLAG_DOCUMENT_17                                     0\n",
       "FLAG_DOCUMENT_18                                     0\n",
       "FLAG_DOCUMENT_19                                     0\n",
       "FLAG_DOCUMENT_20                                     0\n",
       "FLAG_DOCUMENT_21                                     0\n",
       "AMT_REQ_CREDIT_BUREAU_HOUR                           0\n",
       "AMT_REQ_CREDIT_BUREAU_DAY                            0\n",
       "AMT_REQ_CREDIT_BUREAU_WEEK                           0\n",
       "AMT_REQ_CREDIT_BUREAU_MON                            0\n",
       "AMT_REQ_CREDIT_BUREAU_QRT                            0\n",
       "AMT_REQ_CREDIT_BUREAU_YEAR                           0\n",
       "AMT_INCOME_TOTAL_MINMAX                              0\n",
       "NAME_TYPE_SUITE_Children                             0\n",
       "NAME_TYPE_SUITE_Family                               0\n",
       "NAME_TYPE_SUITE_Group of people                      0\n",
       "NAME_TYPE_SUITE_Other_A                              0\n",
       "NAME_TYPE_SUITE_Other_B                              0\n",
       "NAME_TYPE_SUITE_Spouse, partner                      0\n",
       "NAME_TYPE_SUITE_Unaccompanied                        0\n",
       "NAME_INCOME_TYPE_Businessman                         0\n",
       "NAME_INCOME_TYPE_Commercial associate                0\n",
       "NAME_INCOME_TYPE_Maternity leave                     0\n",
       "NAME_INCOME_TYPE_Pensioner                           0\n",
       "NAME_INCOME_TYPE_State servant                       0\n",
       "NAME_INCOME_TYPE_Student                             0\n",
       "NAME_INCOME_TYPE_Unemployed                          0\n",
       "NAME_INCOME_TYPE_Working                             0\n",
       "NAME_EDUCATION_TYPE_Academic degree                  0\n",
       "NAME_EDUCATION_TYPE_Higher education                 0\n",
       "NAME_EDUCATION_TYPE_Incomplete higher                0\n",
       "NAME_EDUCATION_TYPE_Lower secondary                  0\n",
       "NAME_EDUCATION_TYPE_Secondary / secondary special    0\n",
       "NAME_FAMILY_STATUS_Civil marriage                    0\n",
       "NAME_FAMILY_STATUS_Married                           0\n",
       "NAME_FAMILY_STATUS_Separated                         0\n",
       "NAME_FAMILY_STATUS_Single / not married              0\n",
       "NAME_FAMILY_STATUS_Unknown                           0\n",
       "NAME_FAMILY_STATUS_Widow                             0\n",
       "NAME_HOUSING_TYPE_Co-op apartment                    0\n",
       "NAME_HOUSING_TYPE_House / apartment                  0\n",
       "NAME_HOUSING_TYPE_Municipal apartment                0\n",
       "NAME_HOUSING_TYPE_Office apartment                   0\n",
       "NAME_HOUSING_TYPE_Rented apartment                   0\n",
       "NAME_HOUSING_TYPE_With parents                       0\n",
       "CODE_GENDER_F                                        0\n",
       "CODE_GENDER_M                                        0\n",
       "CODE_GENDER_XNA                                      0\n",
       "FLAG_OWN_CAR_N                                       0\n",
       "FLAG_OWN_CAR_Y                                       0\n",
       "FLAG_OWN_REALTY_N                                    0\n",
       "FLAG_OWN_REALTY_Y                                    0\n",
       "dtype: int64"
      ]
     },
     "execution_count": 11,
     "metadata": {},
     "output_type": "execute_result"
    }
   ],
   "source": [
    "raw_df.isnull().sum()"
   ]
  },
  {
   "cell_type": "markdown",
   "metadata": {},
   "source": [
    "## Perform one-hot encoding"
   ]
  },
  {
   "cell_type": "code",
   "execution_count": 12,
   "metadata": {},
   "outputs": [],
   "source": [
    "raw_df = pd.get_dummies(raw_df, columns=['NAME_CONTRACT_TYPE','OCCUPATION_TYPE','WEEKDAY_APPR_PROCESS_START','ORGANIZATION_TYPE'],drop_first = False)\n",
    "\n",
    "#p.s. for Naive Bayes Classification, set drop_first = False. Also, no need modification on MALE and FEMALE."
   ]
  },
  {
   "cell_type": "markdown",
   "metadata": {},
   "source": [
    "### Select 20 predictors used (same as in decision tree)"
   ]
  },
  {
   "cell_type": "code",
   "execution_count": 14,
   "metadata": {},
   "outputs": [
    {
     "name": "stdout",
     "output_type": "stream",
     "text": [
      "<class 'pandas.core.frame.DataFrame'>\n",
      "Int64Index: 307511 entries, 100002 to 456255\n",
      "Data columns (total 21 columns):\n",
      "EXT_SOURCE_3                                         307511 non-null float64\n",
      "EXT_SOURCE_2                                         307511 non-null float64\n",
      "DAYS_BIRTH                                           307511 non-null int64\n",
      "REGION_RATING_CLIENT_W_CITY                          307511 non-null int64\n",
      "NAME_EDUCATION_TYPE_Higher education                 307511 non-null int64\n",
      "NAME_INCOME_TYPE_Working                             307511 non-null int64\n",
      "DAYS_LAST_PHONE_CHANGE                               307511 non-null float64\n",
      "NAME_EDUCATION_TYPE_Secondary / secondary special    307511 non-null int64\n",
      "CODE_GENDER_M                                        307511 non-null int64\n",
      "DAYS_ID_PUBLISH                                      307511 non-null int64\n",
      "NAME_INCOME_TYPE_Pensioner                           307511 non-null int64\n",
      "REG_CITY_NOT_WORK_CITY                               307511 non-null int64\n",
      "DAYS_REGISTRATION                                    307511 non-null float64\n",
      "REG_CITY_NOT_LIVE_CITY                               307511 non-null int64\n",
      "AMT_GOODS_PRICE                                      307511 non-null float64\n",
      "REGION_POPULATION_RELATIVE                           307511 non-null float64\n",
      "NAME_CONTRACT_TYPE_Revolving loans                   307511 non-null uint8\n",
      "LIVE_CITY_NOT_WORK_CITY                              307511 non-null int64\n",
      "DEF_30_CNT_SOCIAL_CIRCLE                             307511 non-null float64\n",
      "DEF_60_CNT_SOCIAL_CIRCLE                             307511 non-null float64\n",
      "TARGET                                               307511 non-null int64\n",
      "dtypes: float64(8), int64(12), uint8(1)\n",
      "memory usage: 49.6 MB\n"
     ]
    }
   ],
   "source": [
    "columns = ['EXT_SOURCE_3','EXT_SOURCE_2','DAYS_BIRTH','REGION_RATING_CLIENT_W_CITY','NAME_EDUCATION_TYPE_Higher education','NAME_INCOME_TYPE_Working','DAYS_LAST_PHONE_CHANGE','NAME_EDUCATION_TYPE_Secondary / secondary special','CODE_GENDER_M','DAYS_ID_PUBLISH','NAME_INCOME_TYPE_Pensioner','REG_CITY_NOT_WORK_CITY','DAYS_REGISTRATION','REG_CITY_NOT_LIVE_CITY','AMT_GOODS_PRICE','REGION_POPULATION_RELATIVE','NAME_CONTRACT_TYPE_Revolving loans','LIVE_CITY_NOT_WORK_CITY','DEF_30_CNT_SOCIAL_CIRCLE','DEF_60_CNT_SOCIAL_CIRCLE', 'TARGET']\n",
    "raw_df = raw_df[columns]\n",
    "raw_df.info()"
   ]
  },
  {
   "cell_type": "markdown",
   "metadata": {},
   "source": [
    "### Balancing the data by downscalling"
   ]
  },
  {
   "cell_type": "code",
   "execution_count": 15,
   "metadata": {},
   "outputs": [
    {
     "name": "stdout",
     "output_type": "stream",
     "text": [
      "Out of  307511  customers, only 24825  customers default!\n"
     ]
    }
   ],
   "source": [
    "print(\"Out of \", raw_df.shape[0], \" customers, only\", raw_df['TARGET'].sum(), \" customers default!\")"
   ]
  },
  {
   "cell_type": "code",
   "execution_count": 16,
   "metadata": {},
   "outputs": [
    {
     "name": "stdout",
     "output_type": "stream",
     "text": [
      "Out of  49650  customers,  24825  customers default!\n"
     ]
    }
   ],
   "source": [
    "balanced_train = raw_df.drop(raw_df[raw_df.TARGET==0].index[0:257861])\n",
    "print(\"Out of \", balanced_train.shape[0], \" customers, \", balanced_train['TARGET'].sum(), \" customers default!\")"
   ]
  },
  {
   "cell_type": "markdown",
   "metadata": {},
   "source": [
    "### Normalization"
   ]
  },
  {
   "cell_type": "code",
   "execution_count": 17,
   "metadata": {},
   "outputs": [
    {
     "data": {
      "text/plain": [
       "['EXT_SOURCE_3',\n",
       " 'EXT_SOURCE_2',\n",
       " 'DAYS_BIRTH',\n",
       " 'REGION_RATING_CLIENT_W_CITY',\n",
       " 'DAYS_LAST_PHONE_CHANGE',\n",
       " 'DAYS_ID_PUBLISH',\n",
       " 'DAYS_REGISTRATION',\n",
       " 'AMT_GOODS_PRICE',\n",
       " 'REGION_POPULATION_RELATIVE',\n",
       " 'DEF_30_CNT_SOCIAL_CIRCLE',\n",
       " 'DEF_60_CNT_SOCIAL_CIRCLE']"
      ]
     },
     "execution_count": 17,
     "metadata": {},
     "output_type": "execute_result"
    }
   ],
   "source": [
    "numerlist = []\n",
    "\n",
    "for col in raw_df:\n",
    "    if raw_df[col].nunique() > 2:\n",
    "        numerlist.append(col)\n",
    "    # print(f\"{col} has unique values of {raw_df[col].unique()}\" if raw_df[col].nunique() < 3 else f\"{col} is definitely not dummy.\")\n",
    "        \n",
    "numerlist"
   ]
  },
  {
   "cell_type": "code",
   "execution_count": 18,
   "metadata": {},
   "outputs": [
    {
     "data": {
      "text/html": [
       "<div>\n",
       "<style scoped>\n",
       "    .dataframe tbody tr th:only-of-type {\n",
       "        vertical-align: middle;\n",
       "    }\n",
       "\n",
       "    .dataframe tbody tr th {\n",
       "        vertical-align: top;\n",
       "    }\n",
       "\n",
       "    .dataframe thead th {\n",
       "        text-align: right;\n",
       "    }\n",
       "</style>\n",
       "<table border=\"1\" class=\"dataframe\">\n",
       "  <thead>\n",
       "    <tr style=\"text-align: right;\">\n",
       "      <th></th>\n",
       "      <th>EXT_SOURCE_3</th>\n",
       "      <th>EXT_SOURCE_2</th>\n",
       "      <th>DAYS_BIRTH</th>\n",
       "      <th>REGION_RATING_CLIENT_W_CITY</th>\n",
       "      <th>NAME_EDUCATION_TYPE_Higher education</th>\n",
       "      <th>NAME_INCOME_TYPE_Working</th>\n",
       "      <th>DAYS_LAST_PHONE_CHANGE</th>\n",
       "      <th>NAME_EDUCATION_TYPE_Secondary / secondary special</th>\n",
       "      <th>CODE_GENDER_M</th>\n",
       "      <th>DAYS_ID_PUBLISH</th>\n",
       "      <th>...</th>\n",
       "      <th>REG_CITY_NOT_WORK_CITY</th>\n",
       "      <th>DAYS_REGISTRATION</th>\n",
       "      <th>REG_CITY_NOT_LIVE_CITY</th>\n",
       "      <th>AMT_GOODS_PRICE</th>\n",
       "      <th>REGION_POPULATION_RELATIVE</th>\n",
       "      <th>NAME_CONTRACT_TYPE_Revolving loans</th>\n",
       "      <th>LIVE_CITY_NOT_WORK_CITY</th>\n",
       "      <th>DEF_30_CNT_SOCIAL_CIRCLE</th>\n",
       "      <th>DEF_60_CNT_SOCIAL_CIRCLE</th>\n",
       "      <th>TARGET</th>\n",
       "    </tr>\n",
       "  </thead>\n",
       "  <tbody>\n",
       "    <tr>\n",
       "      <td>count</td>\n",
       "      <td>49650.000000</td>\n",
       "      <td>49650.000000</td>\n",
       "      <td>49650.000000</td>\n",
       "      <td>49650.000000</td>\n",
       "      <td>49650.000000</td>\n",
       "      <td>49650.000000</td>\n",
       "      <td>49650.000000</td>\n",
       "      <td>49650.000000</td>\n",
       "      <td>49650.000000</td>\n",
       "      <td>49650.000000</td>\n",
       "      <td>...</td>\n",
       "      <td>49650.000000</td>\n",
       "      <td>49650.000000</td>\n",
       "      <td>49650.000000</td>\n",
       "      <td>49650.000000</td>\n",
       "      <td>49650.000000</td>\n",
       "      <td>49650.000000</td>\n",
       "      <td>49650.000000</td>\n",
       "      <td>49650.000000</td>\n",
       "      <td>49650.000000</td>\n",
       "      <td>49650.000000</td>\n",
       "    </tr>\n",
       "    <tr>\n",
       "      <td>mean</td>\n",
       "      <td>0.521109</td>\n",
       "      <td>0.546019</td>\n",
       "      <td>0.552565</td>\n",
       "      <td>0.539476</td>\n",
       "      <td>0.206244</td>\n",
       "      <td>0.560302</td>\n",
       "      <td>0.786139</td>\n",
       "      <td>0.744209</td>\n",
       "      <td>0.382276</td>\n",
       "      <td>0.538404</td>\n",
       "      <td>...</td>\n",
       "      <td>0.263243</td>\n",
       "      <td>0.792387</td>\n",
       "      <td>0.095811</td>\n",
       "      <td>0.118231</td>\n",
       "      <td>0.271758</td>\n",
       "      <td>0.082377</td>\n",
       "      <td>0.198449</td>\n",
       "      <td>0.027685</td>\n",
       "      <td>0.019638</td>\n",
       "      <td>0.500000</td>\n",
       "    </tr>\n",
       "    <tr>\n",
       "      <td>std</td>\n",
       "      <td>0.208307</td>\n",
       "      <td>0.242866</td>\n",
       "      <td>0.246220</td>\n",
       "      <td>0.252388</td>\n",
       "      <td>0.404612</td>\n",
       "      <td>0.496355</td>\n",
       "      <td>0.191244</td>\n",
       "      <td>0.436309</td>\n",
       "      <td>0.485948</td>\n",
       "      <td>0.243818</td>\n",
       "      <td>...</td>\n",
       "      <td>0.440397</td>\n",
       "      <td>0.149787</td>\n",
       "      <td>0.294334</td>\n",
       "      <td>0.085527</td>\n",
       "      <td>0.180882</td>\n",
       "      <td>0.274940</td>\n",
       "      <td>0.398836</td>\n",
       "      <td>0.079704</td>\n",
       "      <td>0.065490</td>\n",
       "      <td>0.500005</td>\n",
       "    </tr>\n",
       "    <tr>\n",
       "      <td>min</td>\n",
       "      <td>0.000000</td>\n",
       "      <td>0.000000</td>\n",
       "      <td>0.000000</td>\n",
       "      <td>0.000000</td>\n",
       "      <td>0.000000</td>\n",
       "      <td>0.000000</td>\n",
       "      <td>0.000000</td>\n",
       "      <td>0.000000</td>\n",
       "      <td>0.000000</td>\n",
       "      <td>0.000000</td>\n",
       "      <td>...</td>\n",
       "      <td>0.000000</td>\n",
       "      <td>0.000000</td>\n",
       "      <td>0.000000</td>\n",
       "      <td>0.000000</td>\n",
       "      <td>0.000000</td>\n",
       "      <td>0.000000</td>\n",
       "      <td>0.000000</td>\n",
       "      <td>0.000000</td>\n",
       "      <td>0.000000</td>\n",
       "      <td>0.000000</td>\n",
       "    </tr>\n",
       "    <tr>\n",
       "      <td>25%</td>\n",
       "      <td>0.380107</td>\n",
       "      <td>0.360559</td>\n",
       "      <td>0.352951</td>\n",
       "      <td>0.500000</td>\n",
       "      <td>0.000000</td>\n",
       "      <td>0.000000</td>\n",
       "      <td>0.645099</td>\n",
       "      <td>0.000000</td>\n",
       "      <td>0.000000</td>\n",
       "      <td>0.322467</td>\n",
       "      <td>...</td>\n",
       "      <td>0.000000</td>\n",
       "      <td>0.689419</td>\n",
       "      <td>0.000000</td>\n",
       "      <td>0.049383</td>\n",
       "      <td>0.126766</td>\n",
       "      <td>0.000000</td>\n",
       "      <td>0.000000</td>\n",
       "      <td>0.000000</td>\n",
       "      <td>0.000000</td>\n",
       "      <td>0.000000</td>\n",
       "    </tr>\n",
       "    <tr>\n",
       "      <td>50%</td>\n",
       "      <td>0.569889</td>\n",
       "      <td>0.602987</td>\n",
       "      <td>0.576892</td>\n",
       "      <td>0.500000</td>\n",
       "      <td>0.000000</td>\n",
       "      <td>1.000000</td>\n",
       "      <td>0.837048</td>\n",
       "      <td>1.000000</td>\n",
       "      <td>0.000000</td>\n",
       "      <td>0.511803</td>\n",
       "      <td>...</td>\n",
       "      <td>0.000000</td>\n",
       "      <td>0.812805</td>\n",
       "      <td>0.000000</td>\n",
       "      <td>0.102132</td>\n",
       "      <td>0.253810</td>\n",
       "      <td>0.000000</td>\n",
       "      <td>0.000000</td>\n",
       "      <td>0.000000</td>\n",
       "      <td>0.000000</td>\n",
       "      <td>0.500000</td>\n",
       "    </tr>\n",
       "    <tr>\n",
       "      <td>75%</td>\n",
       "      <td>0.654145</td>\n",
       "      <td>0.744940</td>\n",
       "      <td>0.759490</td>\n",
       "      <td>0.500000</td>\n",
       "      <td>0.000000</td>\n",
       "      <td>1.000000</td>\n",
       "      <td>0.942727</td>\n",
       "      <td>1.000000</td>\n",
       "      <td>1.000000</td>\n",
       "      <td>0.749599</td>\n",
       "      <td>...</td>\n",
       "      <td>1.000000</td>\n",
       "      <td>0.919007</td>\n",
       "      <td>0.000000</td>\n",
       "      <td>0.158249</td>\n",
       "      <td>0.359278</td>\n",
       "      <td>0.000000</td>\n",
       "      <td>0.000000</td>\n",
       "      <td>0.000000</td>\n",
       "      <td>0.000000</td>\n",
       "      <td>1.000000</td>\n",
       "    </tr>\n",
       "    <tr>\n",
       "      <td>max</td>\n",
       "      <td>1.000000</td>\n",
       "      <td>1.000000</td>\n",
       "      <td>1.000000</td>\n",
       "      <td>1.000000</td>\n",
       "      <td>1.000000</td>\n",
       "      <td>1.000000</td>\n",
       "      <td>1.000000</td>\n",
       "      <td>1.000000</td>\n",
       "      <td>1.000000</td>\n",
       "      <td>1.000000</td>\n",
       "      <td>...</td>\n",
       "      <td>1.000000</td>\n",
       "      <td>1.000000</td>\n",
       "      <td>1.000000</td>\n",
       "      <td>1.000000</td>\n",
       "      <td>1.000000</td>\n",
       "      <td>1.000000</td>\n",
       "      <td>1.000000</td>\n",
       "      <td>1.000000</td>\n",
       "      <td>1.000000</td>\n",
       "      <td>1.000000</td>\n",
       "    </tr>\n",
       "  </tbody>\n",
       "</table>\n",
       "<p>8 rows × 21 columns</p>\n",
       "</div>"
      ],
      "text/plain": [
       "       EXT_SOURCE_3  EXT_SOURCE_2    DAYS_BIRTH  REGION_RATING_CLIENT_W_CITY  \\\n",
       "count  49650.000000  49650.000000  49650.000000                 49650.000000   \n",
       "mean       0.521109      0.546019      0.552565                     0.539476   \n",
       "std        0.208307      0.242866      0.246220                     0.252388   \n",
       "min        0.000000      0.000000      0.000000                     0.000000   \n",
       "25%        0.380107      0.360559      0.352951                     0.500000   \n",
       "50%        0.569889      0.602987      0.576892                     0.500000   \n",
       "75%        0.654145      0.744940      0.759490                     0.500000   \n",
       "max        1.000000      1.000000      1.000000                     1.000000   \n",
       "\n",
       "       NAME_EDUCATION_TYPE_Higher education  NAME_INCOME_TYPE_Working  \\\n",
       "count                          49650.000000              49650.000000   \n",
       "mean                               0.206244                  0.560302   \n",
       "std                                0.404612                  0.496355   \n",
       "min                                0.000000                  0.000000   \n",
       "25%                                0.000000                  0.000000   \n",
       "50%                                0.000000                  1.000000   \n",
       "75%                                0.000000                  1.000000   \n",
       "max                                1.000000                  1.000000   \n",
       "\n",
       "       DAYS_LAST_PHONE_CHANGE  \\\n",
       "count            49650.000000   \n",
       "mean                 0.786139   \n",
       "std                  0.191244   \n",
       "min                  0.000000   \n",
       "25%                  0.645099   \n",
       "50%                  0.837048   \n",
       "75%                  0.942727   \n",
       "max                  1.000000   \n",
       "\n",
       "       NAME_EDUCATION_TYPE_Secondary / secondary special  CODE_GENDER_M  \\\n",
       "count                                       49650.000000   49650.000000   \n",
       "mean                                            0.744209       0.382276   \n",
       "std                                             0.436309       0.485948   \n",
       "min                                             0.000000       0.000000   \n",
       "25%                                             0.000000       0.000000   \n",
       "50%                                             1.000000       0.000000   \n",
       "75%                                             1.000000       1.000000   \n",
       "max                                             1.000000       1.000000   \n",
       "\n",
       "       DAYS_ID_PUBLISH  ...  REG_CITY_NOT_WORK_CITY  DAYS_REGISTRATION  \\\n",
       "count     49650.000000  ...            49650.000000       49650.000000   \n",
       "mean          0.538404  ...                0.263243           0.792387   \n",
       "std           0.243818  ...                0.440397           0.149787   \n",
       "min           0.000000  ...                0.000000           0.000000   \n",
       "25%           0.322467  ...                0.000000           0.689419   \n",
       "50%           0.511803  ...                0.000000           0.812805   \n",
       "75%           0.749599  ...                1.000000           0.919007   \n",
       "max           1.000000  ...                1.000000           1.000000   \n",
       "\n",
       "       REG_CITY_NOT_LIVE_CITY  AMT_GOODS_PRICE  REGION_POPULATION_RELATIVE  \\\n",
       "count            49650.000000     49650.000000                49650.000000   \n",
       "mean                 0.095811         0.118231                    0.271758   \n",
       "std                  0.294334         0.085527                    0.180882   \n",
       "min                  0.000000         0.000000                    0.000000   \n",
       "25%                  0.000000         0.049383                    0.126766   \n",
       "50%                  0.000000         0.102132                    0.253810   \n",
       "75%                  0.000000         0.158249                    0.359278   \n",
       "max                  1.000000         1.000000                    1.000000   \n",
       "\n",
       "       NAME_CONTRACT_TYPE_Revolving loans  LIVE_CITY_NOT_WORK_CITY  \\\n",
       "count                        49650.000000             49650.000000   \n",
       "mean                             0.082377                 0.198449   \n",
       "std                              0.274940                 0.398836   \n",
       "min                              0.000000                 0.000000   \n",
       "25%                              0.000000                 0.000000   \n",
       "50%                              0.000000                 0.000000   \n",
       "75%                              0.000000                 0.000000   \n",
       "max                              1.000000                 1.000000   \n",
       "\n",
       "       DEF_30_CNT_SOCIAL_CIRCLE  DEF_60_CNT_SOCIAL_CIRCLE        TARGET  \n",
       "count              49650.000000              49650.000000  49650.000000  \n",
       "mean                   0.027685                  0.019638      0.500000  \n",
       "std                    0.079704                  0.065490      0.500005  \n",
       "min                    0.000000                  0.000000      0.000000  \n",
       "25%                    0.000000                  0.000000      0.000000  \n",
       "50%                    0.000000                  0.000000      0.500000  \n",
       "75%                    0.000000                  0.000000      1.000000  \n",
       "max                    1.000000                  1.000000      1.000000  \n",
       "\n",
       "[8 rows x 21 columns]"
      ]
     },
     "execution_count": 18,
     "metadata": {},
     "output_type": "execute_result"
    }
   ],
   "source": [
    "# normalization\n",
    "\n",
    "for i in numerlist:\n",
    "    amt4max = balanced_train[i].max()\n",
    "    amt4min = balanced_train[i].min()\n",
    "    balanced_train[i] = (balanced_train[i] - amt4min) / (amt4max - amt4min)\n",
    "balanced_train.describe()"
   ]
  },
  {
   "cell_type": "markdown",
   "metadata": {},
   "source": [
    "## Building the NB model"
   ]
  },
  {
   "cell_type": "code",
   "execution_count": 19,
   "metadata": {},
   "outputs": [],
   "source": [
    "import sys\n",
    "sys.path.insert(0, \"..\")"
   ]
  },
  {
   "cell_type": "code",
   "execution_count": 23,
   "metadata": {},
   "outputs": [],
   "source": [
    "import pandas as pd\n",
    "import numpy as np\n",
    "#Import Gaussian Naive Bayes model from sklearn\n",
    "from sklearn.naive_bayes import GaussianNB\n",
    "gnb = GaussianNB()"
   ]
  },
  {
   "cell_type": "markdown",
   "metadata": {},
   "source": [
    "#### Step 3: Data Splitting"
   ]
  },
  {
   "cell_type": "code",
   "execution_count": 21,
   "metadata": {},
   "outputs": [],
   "source": [
    "from utils.constants import random_state\n",
    "from sklearn.model_selection import train_test_split\n",
    "# Split the data into training and test.\n",
    "\n",
    "y = balanced_train[['TARGET']]\n",
    "X = balanced_train.drop(columns=['TARGET'])\n",
    "X_train, X_test, y_train, y_test = train_test_split(X, y, test_size=0.2, random_state=random_state)"
   ]
  },
  {
   "cell_type": "markdown",
   "metadata": {},
   "source": [
    "#### NB Gaussian"
   ]
  },
  {
   "cell_type": "code",
   "execution_count": 24,
   "metadata": {},
   "outputs": [
    {
     "name": "stderr",
     "output_type": "stream",
     "text": [
      "C:\\Users\\wclee\\Anaconda3\\lib\\site-packages\\sklearn\\utils\\validation.py:724: DataConversionWarning: A column-vector y was passed when a 1d array was expected. Please change the shape of y to (n_samples, ), for example using ravel().\n",
      "  y = column_or_1d(y, warn=True)\n",
      "C:\\Users\\wclee\\Anaconda3\\lib\\site-packages\\sklearn\\utils\\validation.py:724: DataConversionWarning: A column-vector y was passed when a 1d array was expected. Please change the shape of y to (n_samples, ), for example using ravel().\n",
      "  y = column_or_1d(y, warn=True)\n",
      "C:\\Users\\wclee\\Anaconda3\\lib\\site-packages\\sklearn\\utils\\validation.py:724: DataConversionWarning: A column-vector y was passed when a 1d array was expected. Please change the shape of y to (n_samples, ), for example using ravel().\n",
      "  y = column_or_1d(y, warn=True)\n",
      "C:\\Users\\wclee\\Anaconda3\\lib\\site-packages\\sklearn\\utils\\validation.py:724: DataConversionWarning: A column-vector y was passed when a 1d array was expected. Please change the shape of y to (n_samples, ), for example using ravel().\n",
      "  y = column_or_1d(y, warn=True)\n",
      "C:\\Users\\wclee\\Anaconda3\\lib\\site-packages\\sklearn\\utils\\validation.py:724: DataConversionWarning: A column-vector y was passed when a 1d array was expected. Please change the shape of y to (n_samples, ), for example using ravel().\n",
      "  y = column_or_1d(y, warn=True)\n"
     ]
    },
    {
     "data": {
      "text/plain": [
       "0.6435800604229607"
      ]
     },
     "execution_count": 24,
     "metadata": {},
     "output_type": "execute_result"
    }
   ],
   "source": [
    "# import cross validation\n",
    "from sklearn.model_selection import cross_val_predict, cross_val_score\n",
    "\n",
    "score = cross_val_score(gnb,X_train,y_train,cv=5).mean()\n",
    "score"
   ]
  },
  {
   "cell_type": "code",
   "execution_count": 25,
   "metadata": {},
   "outputs": [
    {
     "name": "stderr",
     "output_type": "stream",
     "text": [
      "C:\\Users\\wclee\\Anaconda3\\lib\\site-packages\\sklearn\\utils\\validation.py:724: DataConversionWarning: A column-vector y was passed when a 1d array was expected. Please change the shape of y to (n_samples, ), for example using ravel().\n",
      "  y = column_or_1d(y, warn=True)\n",
      "C:\\Users\\wclee\\Anaconda3\\lib\\site-packages\\sklearn\\utils\\validation.py:724: DataConversionWarning: A column-vector y was passed when a 1d array was expected. Please change the shape of y to (n_samples, ), for example using ravel().\n",
      "  y = column_or_1d(y, warn=True)\n",
      "C:\\Users\\wclee\\Anaconda3\\lib\\site-packages\\sklearn\\utils\\validation.py:724: DataConversionWarning: A column-vector y was passed when a 1d array was expected. Please change the shape of y to (n_samples, ), for example using ravel().\n",
      "  y = column_or_1d(y, warn=True)\n",
      "C:\\Users\\wclee\\Anaconda3\\lib\\site-packages\\sklearn\\utils\\validation.py:724: DataConversionWarning: A column-vector y was passed when a 1d array was expected. Please change the shape of y to (n_samples, ), for example using ravel().\n",
      "  y = column_or_1d(y, warn=True)\n",
      "C:\\Users\\wclee\\Anaconda3\\lib\\site-packages\\sklearn\\utils\\validation.py:724: DataConversionWarning: A column-vector y was passed when a 1d array was expected. Please change the shape of y to (n_samples, ), for example using ravel().\n",
      "  y = column_or_1d(y, warn=True)\n",
      "C:\\Users\\wclee\\Anaconda3\\lib\\site-packages\\sklearn\\utils\\validation.py:724: DataConversionWarning: A column-vector y was passed when a 1d array was expected. Please change the shape of y to (n_samples, ), for example using ravel().\n",
      "  y = column_or_1d(y, warn=True)\n",
      "C:\\Users\\wclee\\Anaconda3\\lib\\site-packages\\sklearn\\utils\\validation.py:724: DataConversionWarning: A column-vector y was passed when a 1d array was expected. Please change the shape of y to (n_samples, ), for example using ravel().\n",
      "  y = column_or_1d(y, warn=True)\n",
      "C:\\Users\\wclee\\Anaconda3\\lib\\site-packages\\sklearn\\utils\\validation.py:724: DataConversionWarning: A column-vector y was passed when a 1d array was expected. Please change the shape of y to (n_samples, ), for example using ravel().\n",
      "  y = column_or_1d(y, warn=True)\n",
      "C:\\Users\\wclee\\Anaconda3\\lib\\site-packages\\sklearn\\utils\\validation.py:724: DataConversionWarning: A column-vector y was passed when a 1d array was expected. Please change the shape of y to (n_samples, ), for example using ravel().\n",
      "  y = column_or_1d(y, warn=True)\n",
      "C:\\Users\\wclee\\Anaconda3\\lib\\site-packages\\sklearn\\utils\\validation.py:724: DataConversionWarning: A column-vector y was passed when a 1d array was expected. Please change the shape of y to (n_samples, ), for example using ravel().\n",
      "  y = column_or_1d(y, warn=True)\n"
     ]
    },
    {
     "data": {
      "text/plain": [
       "array([1, 1, 1, ..., 1, 0, 1], dtype=int64)"
      ]
     },
     "execution_count": 25,
     "metadata": {},
     "output_type": "execute_result"
    }
   ],
   "source": [
    "pred_y = cross_val_predict(gnb,X_train,y_train,cv=10)\n",
    "pred_y"
   ]
  },
  {
   "cell_type": "code",
   "execution_count": 26,
   "metadata": {},
   "outputs": [
    {
     "name": "stdout",
     "output_type": "stream",
     "text": [
      "Accuracy of Benchmark Model: \n",
      " 0.49987411883182276\n",
      "Accuracy of Naive Bayes Model: \n",
      " 0.6435548841893253\n"
     ]
    }
   ],
   "source": [
    "from sklearn.metrics import accuracy_score, confusion_matrix,classification_report\n",
    "\n",
    "# Do majority-class prediction (not accept: 0) -> Benchmark model\n",
    "# https://docs.scipy.org/doc/numpy/reference/generated/numpy.zeros.htm\n",
    "pred_val_maj = np.zeros((X_train.shape[0],),dtype=int)\n",
    "# https://scikit-learn.org/stable/modules/generated/sklearn.metrics.accuracy_score.html\n",
    "print(\"Accuracy of Benchmark Model:\",\"\\n\", accuracy_score(y_train, pred_val_maj, normalize=True, sample_weight=None))\n",
    "print(\"Accuracy of Naive Bayes Model:\",\"\\n\", accuracy_score(y_train, pred_y, normalize=True, sample_weight=None))"
   ]
  },
  {
   "cell_type": "code",
   "execution_count": 27,
   "metadata": {},
   "outputs": [
    {
     "name": "stdout",
     "output_type": "stream",
     "text": [
      "Confusion Matrix of Benchmark Model: \n",
      " [[19855     0]\n",
      " [19865     0]]\n",
      "Confusion Matrix of Naive Bayes Model: \n",
      " [[12973  6882]\n",
      " [ 7276 12589]]\n"
     ]
    }
   ],
   "source": [
    "# print the confusion matrix\n",
    "# https://scikit-learn.org/stable/modules/generated/sklearn.metrics.confusion_matrix.html\n",
    "print(\"Confusion Matrix of Benchmark Model:\", \"\\n\", confusion_matrix(y_train, pred_val_maj))\n",
    "print(\"Confusion Matrix of Naive Bayes Model:\", \"\\n\", confusion_matrix(y_train, pred_y))"
   ]
  },
  {
   "cell_type": "code",
   "execution_count": 28,
   "metadata": {},
   "outputs": [
    {
     "name": "stdout",
     "output_type": "stream",
     "text": [
      "Classification Report of Benchmark Model: \n",
      "               precision    recall  f1-score   support\n",
      "\n",
      "           0       0.50      1.00      0.67     19855\n",
      "           1       0.00      0.00      0.00     19865\n",
      "\n",
      "    accuracy                           0.50     39720\n",
      "   macro avg       0.25      0.50      0.33     39720\n",
      "weighted avg       0.25      0.50      0.33     39720\n",
      "\n",
      "Classification Report of Naive Bayes Model: \n",
      "               precision    recall  f1-score   support\n",
      "\n",
      "           0       0.64      0.65      0.65     19855\n",
      "           1       0.65      0.63      0.64     19865\n",
      "\n",
      "    accuracy                           0.64     39720\n",
      "   macro avg       0.64      0.64      0.64     39720\n",
      "weighted avg       0.64      0.64      0.64     39720\n",
      "\n"
     ]
    },
    {
     "name": "stderr",
     "output_type": "stream",
     "text": [
      "C:\\Users\\wclee\\Anaconda3\\lib\\site-packages\\sklearn\\metrics\\classification.py:1437: UndefinedMetricWarning: Precision and F-score are ill-defined and being set to 0.0 in labels with no predicted samples.\n",
      "  'precision', 'predicted', average, warn_for)\n"
     ]
    }
   ],
   "source": [
    "# print the classification report with precision, recall\n",
    "# https://scikit-learn.org/stable/modules/generated/sklearn.metrics.classification_report.html\n",
    "print(\"Classification Report of Benchmark Model:\", \"\\n\", classification_report(y_train, pred_val_maj))\n",
    "print(\"Classification Report of Naive Bayes Model:\",\"\\n\",classification_report(y_train, pred_y))"
   ]
  },
  {
   "cell_type": "code",
   "execution_count": 29,
   "metadata": {},
   "outputs": [
    {
     "name": "stderr",
     "output_type": "stream",
     "text": [
      "C:\\Users\\wclee\\Anaconda3\\lib\\site-packages\\sklearn\\utils\\validation.py:724: DataConversionWarning: A column-vector y was passed when a 1d array was expected. Please change the shape of y to (n_samples, ), for example using ravel().\n",
      "  y = column_or_1d(y, warn=True)\n"
     ]
    },
    {
     "data": {
      "text/plain": [
       "GaussianNB(priors=None, var_smoothing=1e-09)"
      ]
     },
     "execution_count": 29,
     "metadata": {},
     "output_type": "execute_result"
    }
   ],
   "source": [
    "# train model using all training dataset\n",
    "# https://scikit-learn.org/stable/modules/generated/sklearn.naive_bayes.GaussianNB.html#sklearn.naive_bayes.GaussianNB.fit\n",
    "gnb.fit(X_train, y_train)"
   ]
  },
  {
   "cell_type": "code",
   "execution_count": 30,
   "metadata": {},
   "outputs": [
    {
     "data": {
      "text/plain": [
       "array([[0.99351646, 0.00648354],\n",
       "       [0.40999289, 0.59000711],\n",
       "       [0.40853247, 0.59146753],\n",
       "       ...,\n",
       "       [0.13769627, 0.86230373],\n",
       "       [0.32042201, 0.67957799],\n",
       "       [0.22315791, 0.77684209]])"
      ]
     },
     "execution_count": 30,
     "metadata": {},
     "output_type": "execute_result"
    }
   ],
   "source": [
    "from sklearn.metrics import roc_curve\n",
    "from sklearn.metrics import auc\n",
    "\n",
    "# test model (output probability estimate)\n",
    "# https://scikit-learn.org/stable/modules/generated/sklearn.naive_bayes.GaussianNB.html#sklearn.naive_bayes.GaussianNB.predict_proba\n",
    "pred_prob = gnb.predict_proba(X_test)\n",
    "\n",
    "# show the probability of belonging to class 0 and class 1\n",
    "pred_prob"
   ]
  },
  {
   "cell_type": "code",
   "execution_count": 31,
   "metadata": {},
   "outputs": [
    {
     "data": {
      "text/plain": [
       "array([0.00648354, 0.59000711, 0.59146753, ..., 0.86230373, 0.67957799,\n",
       "       0.77684209])"
      ]
     },
     "execution_count": 31,
     "metadata": {},
     "output_type": "execute_result"
    }
   ],
   "source": [
    "pred_prob[:,1]"
   ]
  },
  {
   "cell_type": "code",
   "execution_count": 32,
   "metadata": {},
   "outputs": [],
   "source": [
    "# y is the true label, pred_prob[:,1] measures the predicted probability of belonging to class 1 (which is defined as positive class)\n",
    "# https://scikit-learn.org/stable/modules/generated/sklearn.metrics.roc_curve.html\n",
    "fpr, tpr, thresholds = roc_curve(y_test, pred_prob[:,1], pos_label=1)"
   ]
  },
  {
   "cell_type": "code",
   "execution_count": 33,
   "metadata": {},
   "outputs": [
    {
     "data": {
      "text/plain": [
       "0.6903456626857921"
      ]
     },
     "execution_count": 33,
     "metadata": {},
     "output_type": "execute_result"
    }
   ],
   "source": [
    "# Aread under ROC curve\n",
    "roc_auc=auc(fpr,tpr)\n",
    "roc_auc"
   ]
  },
  {
   "cell_type": "code",
   "execution_count": 34,
   "metadata": {},
   "outputs": [
    {
     "data": {
      "image/png": "[encoded data removed]",
      "text/plain": [
       "<Figure size 432x288 with 1 Axes>"
      ]
     },
     "metadata": {
      "needs_background": "light"
     },
     "output_type": "display_data"
    }
   ],
   "source": [
    "import matplotlib.pyplot as plt\n",
    "%matplotlib inline\n",
    "\n",
    "plt.figure()\n",
    "lw = 2\n",
    "plt.plot(fpr, tpr, marker='o',color='darkorange',\n",
    "         lw=lw, label='ROC curve (area = %0.2f)' % roc_auc)\n",
    "plt.plot([0, 1], [0, 1], color='navy', lw=lw, linestyle='--')\n",
    "plt.xlim([-0.05, 1.0])\n",
    "plt.ylim([0.0, 1.05])\n",
    "plt.xlabel('False Positive Rate')\n",
    "plt.ylabel('True Positive Rate')\n",
    "plt.title('Receiver operating characteristic')\n",
    "plt.legend(loc=\"lower right\")\n",
    "plt.show()"
   ]
  },
  {
   "cell_type": "markdown",
   "metadata": {},
   "source": [
    "### Grid Search and Cost Analysis"
   ]
  },
  {
   "cell_type": "code",
   "execution_count": 43,
   "metadata": {},
   "outputs": [],
   "source": [
    "#import homemade cost function\n",
    "import sys\n",
    "sys.path.insert(0, '..')\n",
    "from utils.custom_cost import custom_loss\n",
    "# create try_grid\n",
    "param_grid_nb = {\n",
    "    'var_smoothing': np.logspace(0,-9, num=10)\n",
    "}"
   ]
  },
  {
   "cell_type": "code",
   "execution_count": 44,
   "metadata": {},
   "outputs": [
    {
     "name": "stdout",
     "output_type": "stream",
     "text": [
      "Fitting 10 folds for each of 10 candidates, totalling 100 fits\n"
     ]
    },
    {
     "name": "stderr",
     "output_type": "stream",
     "text": [
      "[Parallel(n_jobs=-1)]: Using backend LokyBackend with 12 concurrent workers.\n",
      "[Parallel(n_jobs=-1)]: Done  26 tasks      | elapsed:    3.8s\n"
     ]
    },
    {
     "name": "stdout",
     "output_type": "stream",
     "text": [
      "GaussianNB(priors=None, var_smoothing=0.01)\n"
     ]
    },
    {
     "name": "stderr",
     "output_type": "stream",
     "text": [
      "[Parallel(n_jobs=-1)]: Done 100 out of 100 | elapsed:    4.6s finished\n",
      "C:\\Users\\wclee\\Anaconda3\\lib\\site-packages\\sklearn\\utils\\validation.py:724: DataConversionWarning: A column-vector y was passed when a 1d array was expected. Please change the shape of y to (n_samples, ), for example using ravel().\n",
      "  y = column_or_1d(y, warn=True)\n"
     ]
    }
   ],
   "source": [
    "from sklearn.model_selection import GridSearchCV\n",
    "\n",
    "nbModel_grid = GridSearchCV(estimator=GaussianNB(), param_grid=param_grid_nb, verbose=1, cv=10, n_jobs=-1, \n",
    "                            scoring=\"roc_auc\")\n",
    "nbModel_grid.fit(X_train, y_train)\n",
    "print(nbModel_grid.best_estimator_)"
   ]
  },
  {
   "cell_type": "code",
   "execution_count": 45,
   "metadata": {},
   "outputs": [
    {
     "data": {
      "text/plain": [
       "0.6897729276133595"
      ]
     },
     "execution_count": 45,
     "metadata": {},
     "output_type": "execute_result"
    }
   ],
   "source": [
    "nbModel_grid.best_score_"
   ]
  },
  {
   "cell_type": "code",
   "execution_count": 46,
   "metadata": {},
   "outputs": [],
   "source": [
    "best_model = GaussianNB(var_smoothing=0.01)"
   ]
  },
  {
   "cell_type": "code",
   "execution_count": 47,
   "metadata": {},
   "outputs": [
    {
     "name": "stderr",
     "output_type": "stream",
     "text": [
      "C:\\Users\\wclee\\Anaconda3\\lib\\site-packages\\sklearn\\utils\\validation.py:724: DataConversionWarning: A column-vector y was passed when a 1d array was expected. Please change the shape of y to (n_samples, ), for example using ravel().\n",
      "  y = column_or_1d(y, warn=True)\n"
     ]
    },
    {
     "data": {
      "text/plain": [
       "GaussianNB(priors=None, var_smoothing=0.01)"
      ]
     },
     "execution_count": 47,
     "metadata": {},
     "output_type": "execute_result"
    }
   ],
   "source": [
    "best_model.fit(X_train,y_train)"
   ]
  },
  {
   "cell_type": "code",
   "execution_count": 48,
   "metadata": {},
   "outputs": [],
   "source": [
    "y_predict = best_model.predict(X_test)"
   ]
  },
  {
   "cell_type": "code",
   "execution_count": 49,
   "metadata": {},
   "outputs": [
    {
     "name": "stdout",
     "output_type": "stream",
     "text": [
      "Accuracy: 0.6450151057401813\n",
      "Confusion Matrix \n",
      " [[3195 1775]\n",
      " [1750 3210]]\n",
      "Classification Report: \n",
      "               precision    recall  f1-score   support\n",
      "\n",
      "           0       0.65      0.64      0.64      4970\n",
      "           1       0.64      0.65      0.65      4960\n",
      "\n",
      "    accuracy                           0.65      9930\n",
      "   macro avg       0.65      0.65      0.65      9930\n",
      "weighted avg       0.65      0.65      0.65      9930\n",
      "\n"
     ]
    }
   ],
   "source": [
    "print(\"Accuracy:\",accuracy_score(y_test, y_predict, normalize=True, sample_weight=None))\n",
    "print(\"Confusion Matrix\", '\\n', confusion_matrix(y_test, y_predict))\n",
    "print(\"Classification Report:\", '\\n', classification_report(y_test, y_predict))"
   ]
  },
  {
   "cell_type": "markdown",
   "metadata": {},
   "source": [
    "### Using economic loss estimation to determine decision threshold"
   ]
  },
  {
   "cell_type": "code",
   "execution_count": 50,
   "metadata": {},
   "outputs": [],
   "source": [
    "from utils.custom_cost import economic_analysis"
   ]
  },
  {
   "cell_type": "code",
   "execution_count": 51,
   "metadata": {},
   "outputs": [],
   "source": [
    "# obtain estimated probability of default\n",
    "y_train_proba = best_model.predict_proba(X_train)"
   ]
  },
  {
   "cell_type": "code",
   "execution_count": 52,
   "metadata": {},
   "outputs": [
    {
     "name": "stdout",
     "output_type": "stream",
     "text": [
      "The estimated economic cost at decision threshold 0.250 = $63078934\n",
      "The estimated economic cost at decision threshold 0.275 = $63568914\n",
      "The estimated economic cost at decision threshold 0.300 = $64245992\n",
      "The estimated economic cost at decision threshold 0.325 = $64524778\n",
      "The estimated economic cost at decision threshold 0.350 = $65263214\n",
      "The estimated economic cost at decision threshold 0.375 = $65670150\n",
      "The estimated economic cost at decision threshold 0.400 = $66124714\n",
      "The estimated economic cost at decision threshold 0.425 = $66609986\n",
      "The estimated economic cost at decision threshold 0.450 = $67246774\n",
      "The estimated economic cost at decision threshold 0.475 = $68079682\n",
      "The estimated economic cost at decision threshold 0.500 = $69271210\n",
      "The estimated economic cost at decision threshold 0.525 = $70255410\n",
      "The estimated economic cost at decision threshold 0.550 = $71542252\n",
      "The estimated economic cost at decision threshold 0.575 = $72857168\n",
      "The estimated economic cost at decision threshold 0.600 = $74060576\n",
      "The estimated economic cost at decision threshold 0.625 = $75389052\n",
      "The estimated economic cost at decision threshold 0.650 = $76801580\n",
      "The estimated economic cost at decision threshold 0.675 = $78136668\n",
      "The estimated economic cost at decision threshold 0.700 = $79951860\n",
      "Optimal threshold = 0.25, at estimated economic loss of $63078934.\n"
     ]
    }
   ],
   "source": [
    "# loop through 10 decision thresholds to determine the optimal threshold\n",
    "optimal_threshold = 1\n",
    "optimal_cost = sys.maxsize\n",
    "\n",
    "# search for optimal threshold on training set\n",
    "for i in np.linspace(0.25, 0.7, num=19, endpoint=True):\n",
    "    cost = economic_analysis(y_train, y_train_proba, threshold=i)\n",
    "    if cost < optimal_cost:\n",
    "        optimal_threshold = i\n",
    "        optimal_cost = cost\n",
    "        \n",
    "print(\"Optimal threshold = {0:.3}, at estimated economic loss of ${1}.\".format(optimal_threshold, optimal_cost))"
   ]
  },
  {
   "cell_type": "code",
   "execution_count": 53,
   "metadata": {},
   "outputs": [
    {
     "name": "stdout",
     "output_type": "stream",
     "text": [
      "The estimated economic cost at decision threshold 0.250 = $15794626\n"
     ]
    },
    {
     "data": {
      "text/plain": [
       "15794626"
      ]
     },
     "execution_count": 53,
     "metadata": {},
     "output_type": "execute_result"
    }
   ],
   "source": [
    "# obtain optimal economic loss on test set\n",
    "y_test_proba = best_model.predict_proba(X_test)\n",
    "\n",
    "economic_analysis(y_test, y_test_proba, threshold=optimal_threshold)"
   ]
  },
  {
   "cell_type": "markdown",
   "metadata": {},
   "source": [
    "### Conclusion and findings\n",
    "\n",
    "The accuracy of the NB model is higher than the majority classifier. But this model performed worse than the other 2 models."
   ]
  },
  {
   "cell_type": "markdown",
   "metadata": {},
   "source": [
    "One of the reasons for the poor behaviour of the Naive Bayes Classifier is that the features seems to be correlated, where the independence assumption doesn't hold."
   ]
  },
  {
   "cell_type": "markdown",
   "metadata": {},
   "source": [
    "## This is the end of Part 2.3 Naive Bayes Classifier."
   ]
  }
 ],
 "metadata": {
  "kernelspec": {
   "display_name": "Python 3",
   "language": "python",
   "name": "python3"
  },
  "language_info": {
   "codemirror_mode": {
    "name": "ipython",
    "version": 3
   },
   "file_extension": ".py",
   "mimetype": "text/x-python",
   "name": "python",
   "nbconvert_exporter": "python",
   "pygments_lexer": "ipython3",
   "version": "3.7.4"
  }
 },
 "nbformat": 4,
 "nbformat_minor": 2
}
