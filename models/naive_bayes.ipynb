{
 "cells": [
  {
   "cell_type": "markdown",
   "metadata": {},
   "source": [
    "***\n",
    "# ISOM3360 Data Mining for Business Analytics\n",
    "## Group 23 Project Code - Credit Card Defaultee Analysis\n",
    "### Part 2.3 - Naive Bayes Classifier\n",
    "***"
   ]
  },
  {
   "cell_type": "markdown",
   "metadata": {},
   "source": [
    "Name: LAM, Ho Chit  \n",
    "ITSC: hclamao  \n",
    "SID: 20607878\n",
    "\n",
    "Name: LEE, Ho Wan Owen  \n",
    "ITSC: hwolee  \n",
    "SID: 20604852\n",
    "\n",
    "Name: LEE, Wai Chung  \n",
    "ITSC: wcleeaj  \n",
    "SID: 20702733"
   ]
  },
  {
   "cell_type": "markdown",
   "metadata": {},
   "source": [
    "### Workflow of this notebook (TBC)\n",
    "\n",
    "1. Explore features and characteristics of dataset\n",
    "2. Drop columns of low data quality (e.g. large amounts of empty values)\n",
    "3. Determine $k$ columns to keep in the dataset (feature selection)\n",
    "4. Perform one-hot encoding\n",
    "5. Split into training and testing sets\n",
    "6. Perform data cleaning\n",
    "   - Dealing with missing values\n",
    "7. Perform data standardization / normalization\n",
    "8. Export preprocessed data to .csv files at `./data_preprocessed/`"
   ]
  },
  {
   "cell_type": "markdown",
   "metadata": {},
   "source": [
    "### Naive Bayes\n",
    "we will use all the train data (891 examples) to construct the tree and evaluate the model"
   ]
  },
  {
   "cell_type": "markdown",
   "metadata": {},
   "source": [
    "#### Step 1: Import the training and testing set and modules"
   ]
  },
  {
   "cell_type": "code",
   "execution_count": 1,
   "metadata": {},
   "outputs": [],
   "source": [
    "import pandas as pd\n",
    "import numpy as np\n",
    "#Import Gaussian Naive Bayes model from sklearn\n",
    "from sklearn.naive_bayes import GaussianNB\n",
    "\n",
    "#Create a Gaussian Naive Bayes Classifier\n",
    "# https://scikit-learn.org/stable/modules/generated/sklearn.naive_bayes.GaussianNB.html\n",
    "gnb = GaussianNB()\n",
    "\n",
    "pd.set_option('display.max_rows', 500)\n",
    "raw_df = pd.read_csv('../data_preprocessed/raw2.csv', index_col='SK_ID_CURR')"
   ]
  },
  {
   "cell_type": "code",
   "execution_count": 2,
   "metadata": {},
   "outputs": [
    {
     "data": {
      "text/html": [
       "<div>\n",
       "<style scoped>\n",
       "    .dataframe tbody tr th:only-of-type {\n",
       "        vertical-align: middle;\n",
       "    }\n",
       "\n",
       "    .dataframe tbody tr th {\n",
       "        vertical-align: top;\n",
       "    }\n",
       "\n",
       "    .dataframe thead th {\n",
       "        text-align: right;\n",
       "    }\n",
       "</style>\n",
       "<table border=\"1\" class=\"dataframe\">\n",
       "  <thead>\n",
       "    <tr style=\"text-align: right;\">\n",
       "      <th></th>\n",
       "      <th>TARGET</th>\n",
       "      <th>CNT_CHILDREN</th>\n",
       "      <th>AMT_INCOME_TOTAL</th>\n",
       "      <th>AMT_CREDIT</th>\n",
       "      <th>AMT_ANNUITY</th>\n",
       "      <th>AMT_GOODS_PRICE</th>\n",
       "      <th>REGION_POPULATION_RELATIVE</th>\n",
       "      <th>DAYS_BIRTH</th>\n",
       "      <th>DAYS_EMPLOYED</th>\n",
       "      <th>DAYS_REGISTRATION</th>\n",
       "      <th>...</th>\n",
       "      <th>NAME_FAMILY_STATUS_Married</th>\n",
       "      <th>NAME_FAMILY_STATUS_Separated</th>\n",
       "      <th>NAME_FAMILY_STATUS_Single / not married</th>\n",
       "      <th>NAME_FAMILY_STATUS_Unknown</th>\n",
       "      <th>NAME_FAMILY_STATUS_Widow</th>\n",
       "      <th>NAME_HOUSING_TYPE_House / apartment</th>\n",
       "      <th>NAME_HOUSING_TYPE_Municipal apartment</th>\n",
       "      <th>NAME_HOUSING_TYPE_Office apartment</th>\n",
       "      <th>NAME_HOUSING_TYPE_Rented apartment</th>\n",
       "      <th>NAME_HOUSING_TYPE_With parents</th>\n",
       "    </tr>\n",
       "  </thead>\n",
       "  <tbody>\n",
       "    <tr>\n",
       "      <th>count</th>\n",
       "      <td>307511.000000</td>\n",
       "      <td>307511.000000</td>\n",
       "      <td>3.075110e+05</td>\n",
       "      <td>3.075110e+05</td>\n",
       "      <td>307511.000000</td>\n",
       "      <td>3.075110e+05</td>\n",
       "      <td>307511.000000</td>\n",
       "      <td>307511.000000</td>\n",
       "      <td>307511.000000</td>\n",
       "      <td>307511.000000</td>\n",
       "      <td>...</td>\n",
       "      <td>307511.000000</td>\n",
       "      <td>307511.00000</td>\n",
       "      <td>307511.000000</td>\n",
       "      <td>307511.000000</td>\n",
       "      <td>307511.000000</td>\n",
       "      <td>307511.000000</td>\n",
       "      <td>307511.000000</td>\n",
       "      <td>307511.000000</td>\n",
       "      <td>307511.000000</td>\n",
       "      <td>307511.000000</td>\n",
       "    </tr>\n",
       "    <tr>\n",
       "      <th>mean</th>\n",
       "      <td>0.080729</td>\n",
       "      <td>0.417052</td>\n",
       "      <td>1.687979e+05</td>\n",
       "      <td>5.990260e+05</td>\n",
       "      <td>27108.573909</td>\n",
       "      <td>5.383962e+05</td>\n",
       "      <td>0.020868</td>\n",
       "      <td>-16036.995067</td>\n",
       "      <td>63815.045904</td>\n",
       "      <td>-4986.120328</td>\n",
       "      <td>...</td>\n",
       "      <td>0.638780</td>\n",
       "      <td>0.06429</td>\n",
       "      <td>0.147780</td>\n",
       "      <td>0.000007</td>\n",
       "      <td>0.052317</td>\n",
       "      <td>0.887344</td>\n",
       "      <td>0.036366</td>\n",
       "      <td>0.008510</td>\n",
       "      <td>0.015873</td>\n",
       "      <td>0.048258</td>\n",
       "    </tr>\n",
       "    <tr>\n",
       "      <th>std</th>\n",
       "      <td>0.272419</td>\n",
       "      <td>0.722121</td>\n",
       "      <td>2.371231e+05</td>\n",
       "      <td>4.024908e+05</td>\n",
       "      <td>14493.454517</td>\n",
       "      <td>3.692794e+05</td>\n",
       "      <td>0.013831</td>\n",
       "      <td>4363.988632</td>\n",
       "      <td>141275.766519</td>\n",
       "      <td>3522.886321</td>\n",
       "      <td>...</td>\n",
       "      <td>0.480355</td>\n",
       "      <td>0.24527</td>\n",
       "      <td>0.354882</td>\n",
       "      <td>0.002550</td>\n",
       "      <td>0.222666</td>\n",
       "      <td>0.316173</td>\n",
       "      <td>0.187200</td>\n",
       "      <td>0.091858</td>\n",
       "      <td>0.124983</td>\n",
       "      <td>0.214312</td>\n",
       "    </tr>\n",
       "    <tr>\n",
       "      <th>min</th>\n",
       "      <td>0.000000</td>\n",
       "      <td>0.000000</td>\n",
       "      <td>2.565000e+04</td>\n",
       "      <td>4.500000e+04</td>\n",
       "      <td>1615.500000</td>\n",
       "      <td>4.050000e+04</td>\n",
       "      <td>0.000290</td>\n",
       "      <td>-25229.000000</td>\n",
       "      <td>-17912.000000</td>\n",
       "      <td>-24672.000000</td>\n",
       "      <td>...</td>\n",
       "      <td>0.000000</td>\n",
       "      <td>0.00000</td>\n",
       "      <td>0.000000</td>\n",
       "      <td>0.000000</td>\n",
       "      <td>0.000000</td>\n",
       "      <td>0.000000</td>\n",
       "      <td>0.000000</td>\n",
       "      <td>0.000000</td>\n",
       "      <td>0.000000</td>\n",
       "      <td>0.000000</td>\n",
       "    </tr>\n",
       "    <tr>\n",
       "      <th>25%</th>\n",
       "      <td>0.000000</td>\n",
       "      <td>0.000000</td>\n",
       "      <td>1.125000e+05</td>\n",
       "      <td>2.700000e+05</td>\n",
       "      <td>16524.000000</td>\n",
       "      <td>2.385000e+05</td>\n",
       "      <td>0.010006</td>\n",
       "      <td>-19682.000000</td>\n",
       "      <td>-2760.000000</td>\n",
       "      <td>-7479.500000</td>\n",
       "      <td>...</td>\n",
       "      <td>0.000000</td>\n",
       "      <td>0.00000</td>\n",
       "      <td>0.000000</td>\n",
       "      <td>0.000000</td>\n",
       "      <td>0.000000</td>\n",
       "      <td>1.000000</td>\n",
       "      <td>0.000000</td>\n",
       "      <td>0.000000</td>\n",
       "      <td>0.000000</td>\n",
       "      <td>0.000000</td>\n",
       "    </tr>\n",
       "    <tr>\n",
       "      <th>50%</th>\n",
       "      <td>0.000000</td>\n",
       "      <td>0.000000</td>\n",
       "      <td>1.471500e+05</td>\n",
       "      <td>5.135310e+05</td>\n",
       "      <td>24903.000000</td>\n",
       "      <td>4.500000e+05</td>\n",
       "      <td>0.018850</td>\n",
       "      <td>-15750.000000</td>\n",
       "      <td>-1213.000000</td>\n",
       "      <td>-4504.000000</td>\n",
       "      <td>...</td>\n",
       "      <td>1.000000</td>\n",
       "      <td>0.00000</td>\n",
       "      <td>0.000000</td>\n",
       "      <td>0.000000</td>\n",
       "      <td>0.000000</td>\n",
       "      <td>1.000000</td>\n",
       "      <td>0.000000</td>\n",
       "      <td>0.000000</td>\n",
       "      <td>0.000000</td>\n",
       "      <td>0.000000</td>\n",
       "    </tr>\n",
       "    <tr>\n",
       "      <th>75%</th>\n",
       "      <td>0.000000</td>\n",
       "      <td>1.000000</td>\n",
       "      <td>2.025000e+05</td>\n",
       "      <td>8.086500e+05</td>\n",
       "      <td>34596.000000</td>\n",
       "      <td>6.795000e+05</td>\n",
       "      <td>0.028663</td>\n",
       "      <td>-12413.000000</td>\n",
       "      <td>-289.000000</td>\n",
       "      <td>-2010.000000</td>\n",
       "      <td>...</td>\n",
       "      <td>1.000000</td>\n",
       "      <td>0.00000</td>\n",
       "      <td>0.000000</td>\n",
       "      <td>0.000000</td>\n",
       "      <td>0.000000</td>\n",
       "      <td>1.000000</td>\n",
       "      <td>0.000000</td>\n",
       "      <td>0.000000</td>\n",
       "      <td>0.000000</td>\n",
       "      <td>0.000000</td>\n",
       "    </tr>\n",
       "    <tr>\n",
       "      <th>max</th>\n",
       "      <td>1.000000</td>\n",
       "      <td>19.000000</td>\n",
       "      <td>1.170000e+08</td>\n",
       "      <td>4.050000e+06</td>\n",
       "      <td>258025.500000</td>\n",
       "      <td>4.050000e+06</td>\n",
       "      <td>0.072508</td>\n",
       "      <td>-7489.000000</td>\n",
       "      <td>365243.000000</td>\n",
       "      <td>0.000000</td>\n",
       "      <td>...</td>\n",
       "      <td>1.000000</td>\n",
       "      <td>1.00000</td>\n",
       "      <td>1.000000</td>\n",
       "      <td>1.000000</td>\n",
       "      <td>1.000000</td>\n",
       "      <td>1.000000</td>\n",
       "      <td>1.000000</td>\n",
       "      <td>1.000000</td>\n",
       "      <td>1.000000</td>\n",
       "      <td>1.000000</td>\n",
       "    </tr>\n",
       "  </tbody>\n",
       "</table>\n",
       "<p>8 rows × 133 columns</p>\n",
       "</div>"
      ],
      "text/plain": [
       "              TARGET   CNT_CHILDREN  AMT_INCOME_TOTAL    AMT_CREDIT  \\\n",
       "count  307511.000000  307511.000000      3.075110e+05  3.075110e+05   \n",
       "mean        0.080729       0.417052      1.687979e+05  5.990260e+05   \n",
       "std         0.272419       0.722121      2.371231e+05  4.024908e+05   \n",
       "min         0.000000       0.000000      2.565000e+04  4.500000e+04   \n",
       "25%         0.000000       0.000000      1.125000e+05  2.700000e+05   \n",
       "50%         0.000000       0.000000      1.471500e+05  5.135310e+05   \n",
       "75%         0.000000       1.000000      2.025000e+05  8.086500e+05   \n",
       "max         1.000000      19.000000      1.170000e+08  4.050000e+06   \n",
       "\n",
       "         AMT_ANNUITY  AMT_GOODS_PRICE  REGION_POPULATION_RELATIVE  \\\n",
       "count  307511.000000     3.075110e+05               307511.000000   \n",
       "mean    27108.573909     5.383962e+05                    0.020868   \n",
       "std     14493.454517     3.692794e+05                    0.013831   \n",
       "min      1615.500000     4.050000e+04                    0.000290   \n",
       "25%     16524.000000     2.385000e+05                    0.010006   \n",
       "50%     24903.000000     4.500000e+05                    0.018850   \n",
       "75%     34596.000000     6.795000e+05                    0.028663   \n",
       "max    258025.500000     4.050000e+06                    0.072508   \n",
       "\n",
       "          DAYS_BIRTH  DAYS_EMPLOYED  DAYS_REGISTRATION  ...  \\\n",
       "count  307511.000000  307511.000000      307511.000000  ...   \n",
       "mean   -16036.995067   63815.045904       -4986.120328  ...   \n",
       "std      4363.988632  141275.766519        3522.886321  ...   \n",
       "min    -25229.000000  -17912.000000      -24672.000000  ...   \n",
       "25%    -19682.000000   -2760.000000       -7479.500000  ...   \n",
       "50%    -15750.000000   -1213.000000       -4504.000000  ...   \n",
       "75%    -12413.000000    -289.000000       -2010.000000  ...   \n",
       "max     -7489.000000  365243.000000           0.000000  ...   \n",
       "\n",
       "       NAME_FAMILY_STATUS_Married  NAME_FAMILY_STATUS_Separated  \\\n",
       "count               307511.000000                  307511.00000   \n",
       "mean                     0.638780                       0.06429   \n",
       "std                      0.480355                       0.24527   \n",
       "min                      0.000000                       0.00000   \n",
       "25%                      0.000000                       0.00000   \n",
       "50%                      1.000000                       0.00000   \n",
       "75%                      1.000000                       0.00000   \n",
       "max                      1.000000                       1.00000   \n",
       "\n",
       "       NAME_FAMILY_STATUS_Single / not married  NAME_FAMILY_STATUS_Unknown  \\\n",
       "count                            307511.000000               307511.000000   \n",
       "mean                                  0.147780                    0.000007   \n",
       "std                                   0.354882                    0.002550   \n",
       "min                                   0.000000                    0.000000   \n",
       "25%                                   0.000000                    0.000000   \n",
       "50%                                   0.000000                    0.000000   \n",
       "75%                                   0.000000                    0.000000   \n",
       "max                                   1.000000                    1.000000   \n",
       "\n",
       "       NAME_FAMILY_STATUS_Widow  NAME_HOUSING_TYPE_House / apartment  \\\n",
       "count             307511.000000                        307511.000000   \n",
       "mean                   0.052317                             0.887344   \n",
       "std                    0.222666                             0.316173   \n",
       "min                    0.000000                             0.000000   \n",
       "25%                    0.000000                             1.000000   \n",
       "50%                    0.000000                             1.000000   \n",
       "75%                    0.000000                             1.000000   \n",
       "max                    1.000000                             1.000000   \n",
       "\n",
       "       NAME_HOUSING_TYPE_Municipal apartment  \\\n",
       "count                          307511.000000   \n",
       "mean                                0.036366   \n",
       "std                                 0.187200   \n",
       "min                                 0.000000   \n",
       "25%                                 0.000000   \n",
       "50%                                 0.000000   \n",
       "75%                                 0.000000   \n",
       "max                                 1.000000   \n",
       "\n",
       "       NAME_HOUSING_TYPE_Office apartment  NAME_HOUSING_TYPE_Rented apartment  \\\n",
       "count                       307511.000000                       307511.000000   \n",
       "mean                             0.008510                            0.015873   \n",
       "std                              0.091858                            0.124983   \n",
       "min                              0.000000                            0.000000   \n",
       "25%                              0.000000                            0.000000   \n",
       "50%                              0.000000                            0.000000   \n",
       "75%                              0.000000                            0.000000   \n",
       "max                              1.000000                            1.000000   \n",
       "\n",
       "       NAME_HOUSING_TYPE_With parents  \n",
       "count                   307511.000000  \n",
       "mean                         0.048258  \n",
       "std                          0.214312  \n",
       "min                          0.000000  \n",
       "25%                          0.000000  \n",
       "50%                          0.000000  \n",
       "75%                          0.000000  \n",
       "max                          1.000000  \n",
       "\n",
       "[8 rows x 133 columns]"
      ]
     },
     "execution_count": 2,
     "metadata": {},
     "output_type": "execute_result"
    }
   ],
   "source": [
    "raw_df.describe()"
   ]
  },
  {
   "cell_type": "markdown",
   "metadata": {},
   "source": [
    "#### Step 2: Define useful features"
   ]
  },
  {
   "cell_type": "code",
   "execution_count": 3,
   "metadata": {},
   "outputs": [
    {
     "data": {
      "text/plain": [
       "['AMT_ANNUITY',\n",
       " 'AMT_CREDIT',\n",
       " 'AMT_GOODS_PRICE',\n",
       " 'AMT_INCOME_TOTAL',\n",
       " 'AMT_INCOME_TOTAL_MINMAX',\n",
       " 'AMT_REQ_CREDIT_BUREAU_DAY',\n",
       " 'AMT_REQ_CREDIT_BUREAU_HOUR',\n",
       " 'AMT_REQ_CREDIT_BUREAU_MON',\n",
       " 'AMT_REQ_CREDIT_BUREAU_QRT',\n",
       " 'AMT_REQ_CREDIT_BUREAU_WEEK',\n",
       " 'AMT_REQ_CREDIT_BUREAU_YEAR',\n",
       " 'APARTMENTS_AVG',\n",
       " 'APARTMENTS_MEDI',\n",
       " 'APARTMENTS_MODE',\n",
       " 'BASEMENTAREA_AVG',\n",
       " 'BASEMENTAREA_MEDI',\n",
       " 'BASEMENTAREA_MODE',\n",
       " 'CNT_CHILDREN',\n",
       " 'CNT_FAM_MEMBERS',\n",
       " 'COMMONAREA_AVG',\n",
       " 'COMMONAREA_MEDI',\n",
       " 'COMMONAREA_MODE',\n",
       " 'DAYS_BIRTH',\n",
       " 'DAYS_EMPLOYED',\n",
       " 'DAYS_ID_PUBLISH',\n",
       " 'DAYS_LAST_PHONE_CHANGE',\n",
       " 'DAYS_REGISTRATION',\n",
       " 'DEF_30_CNT_SOCIAL_CIRCLE',\n",
       " 'DEF_60_CNT_SOCIAL_CIRCLE',\n",
       " 'ELEVATORS_AVG',\n",
       " 'ELEVATORS_MEDI',\n",
       " 'ELEVATORS_MODE',\n",
       " 'EMERGENCYSTATE_MODE',\n",
       " 'ENTRANCES_AVG',\n",
       " 'ENTRANCES_MEDI',\n",
       " 'ENTRANCES_MODE',\n",
       " 'EXT_SOURCE_1',\n",
       " 'EXT_SOURCE_2',\n",
       " 'EXT_SOURCE_3',\n",
       " 'FEMALE',\n",
       " 'FLAG_CONT_MOBILE',\n",
       " 'FLAG_DOCUMENT_10',\n",
       " 'FLAG_DOCUMENT_11',\n",
       " 'FLAG_DOCUMENT_12',\n",
       " 'FLAG_DOCUMENT_13',\n",
       " 'FLAG_DOCUMENT_14',\n",
       " 'FLAG_DOCUMENT_15',\n",
       " 'FLAG_DOCUMENT_16',\n",
       " 'FLAG_DOCUMENT_17',\n",
       " 'FLAG_DOCUMENT_18',\n",
       " 'FLAG_DOCUMENT_19',\n",
       " 'FLAG_DOCUMENT_2',\n",
       " 'FLAG_DOCUMENT_20',\n",
       " 'FLAG_DOCUMENT_21',\n",
       " 'FLAG_DOCUMENT_3',\n",
       " 'FLAG_DOCUMENT_4',\n",
       " 'FLAG_DOCUMENT_5',\n",
       " 'FLAG_DOCUMENT_6',\n",
       " 'FLAG_DOCUMENT_7',\n",
       " 'FLAG_DOCUMENT_8',\n",
       " 'FLAG_DOCUMENT_9',\n",
       " 'FLAG_EMAIL',\n",
       " 'FLAG_EMP_PHONE',\n",
       " 'FLAG_MOBIL',\n",
       " 'FLAG_OWN_CAR',\n",
       " 'FLAG_PHONE',\n",
       " 'FLAG_WORK_PHONE',\n",
       " 'FLOORSMAX_AVG',\n",
       " 'FLOORSMAX_MEDI',\n",
       " 'FLOORSMAX_MODE',\n",
       " 'FLOORSMIN_AVG',\n",
       " 'FLOORSMIN_MEDI',\n",
       " 'FLOORSMIN_MODE',\n",
       " 'FONDKAPREMONT_MODE',\n",
       " 'HOUR_APPR_PROCESS_START',\n",
       " 'HOUSETYPE_MODE',\n",
       " 'LANDAREA_AVG',\n",
       " 'LANDAREA_MEDI',\n",
       " 'LANDAREA_MODE',\n",
       " 'LIVE_CITY_NOT_WORK_CITY',\n",
       " 'LIVE_REGION_NOT_WORK_REGION',\n",
       " 'LIVINGAPARTMENTS_AVG',\n",
       " 'LIVINGAPARTMENTS_MEDI',\n",
       " 'LIVINGAPARTMENTS_MODE',\n",
       " 'LIVINGAREA_AVG',\n",
       " 'LIVINGAREA_MEDI',\n",
       " 'LIVINGAREA_MODE',\n",
       " 'MALE',\n",
       " 'NAME_CONTRACT_TYPE',\n",
       " 'NAME_EDUCATION_TYPE_Higher education',\n",
       " 'NAME_EDUCATION_TYPE_Incomplete higher',\n",
       " 'NAME_EDUCATION_TYPE_Lower secondary',\n",
       " 'NAME_EDUCATION_TYPE_Secondary / secondary special',\n",
       " 'NAME_FAMILY_STATUS_Married',\n",
       " 'NAME_FAMILY_STATUS_Separated',\n",
       " 'NAME_FAMILY_STATUS_Single / not married',\n",
       " 'NAME_FAMILY_STATUS_Unknown',\n",
       " 'NAME_FAMILY_STATUS_Widow',\n",
       " 'NAME_HOUSING_TYPE_House / apartment',\n",
       " 'NAME_HOUSING_TYPE_Municipal apartment',\n",
       " 'NAME_HOUSING_TYPE_Office apartment',\n",
       " 'NAME_HOUSING_TYPE_Rented apartment',\n",
       " 'NAME_HOUSING_TYPE_With parents',\n",
       " 'NAME_INCOME_TYPE_Commercial associate',\n",
       " 'NAME_INCOME_TYPE_Maternity leave',\n",
       " 'NAME_INCOME_TYPE_Pensioner',\n",
       " 'NAME_INCOME_TYPE_State servant',\n",
       " 'NAME_INCOME_TYPE_Student',\n",
       " 'NAME_INCOME_TYPE_Unemployed',\n",
       " 'NAME_INCOME_TYPE_Working',\n",
       " 'NAME_TYPE_SUITE_Family',\n",
       " 'NAME_TYPE_SUITE_Group of people',\n",
       " 'NAME_TYPE_SUITE_Other_A',\n",
       " 'NAME_TYPE_SUITE_Other_B',\n",
       " 'NAME_TYPE_SUITE_Spouse, partner',\n",
       " 'NAME_TYPE_SUITE_Unaccompanied',\n",
       " 'NONLIVINGAPARTMENTS_AVG',\n",
       " 'NONLIVINGAPARTMENTS_MEDI',\n",
       " 'NONLIVINGAPARTMENTS_MODE',\n",
       " 'NONLIVINGAREA_AVG',\n",
       " 'NONLIVINGAREA_MEDI',\n",
       " 'NONLIVINGAREA_MODE',\n",
       " 'OBS_30_CNT_SOCIAL_CIRCLE',\n",
       " 'OBS_60_CNT_SOCIAL_CIRCLE',\n",
       " 'OCCUPATION_TYPE',\n",
       " 'ORGANIZATION_TYPE',\n",
       " 'OWN_CAR_AGE',\n",
       " 'REGION_POPULATION_RELATIVE',\n",
       " 'REGION_RATING_CLIENT',\n",
       " 'REGION_RATING_CLIENT_W_CITY',\n",
       " 'REG_CITY_NOT_LIVE_CITY',\n",
       " 'REG_CITY_NOT_WORK_CITY',\n",
       " 'REG_REGION_NOT_LIVE_REGION',\n",
       " 'REG_REGION_NOT_WORK_REGION',\n",
       " 'TARGET',\n",
       " 'TOTALAREA_MODE',\n",
       " 'WALLSMATERIAL_MODE',\n",
       " 'WEEKDAY_APPR_PROCESS_START',\n",
       " 'YEARS_BEGINEXPLUATATION_AVG',\n",
       " 'YEARS_BEGINEXPLUATATION_MEDI',\n",
       " 'YEARS_BEGINEXPLUATATION_MODE',\n",
       " 'YEARS_BUILD_AVG',\n",
       " 'YEARS_BUILD_MEDI',\n",
       " 'YEARS_BUILD_MODE']"
      ]
     },
     "execution_count": 3,
     "metadata": {},
     "output_type": "execute_result"
    }
   ],
   "source": [
    "# define independent attributes \n",
    "features = sorted(raw_df)\n",
    "features"
   ]
  },
  {
   "cell_type": "code",
   "execution_count": 4,
   "metadata": {},
   "outputs": [
    {
     "data": {
      "text/plain": [
       "TARGET                                                    0\n",
       "NAME_CONTRACT_TYPE                                        0\n",
       "FLAG_OWN_CAR                                              0\n",
       "CNT_CHILDREN                                              0\n",
       "AMT_INCOME_TOTAL                                          0\n",
       "AMT_CREDIT                                                0\n",
       "AMT_ANNUITY                                               0\n",
       "AMT_GOODS_PRICE                                           0\n",
       "REGION_POPULATION_RELATIVE                                0\n",
       "DAYS_BIRTH                                                0\n",
       "DAYS_EMPLOYED                                             0\n",
       "DAYS_REGISTRATION                                         0\n",
       "DAYS_ID_PUBLISH                                           0\n",
       "OWN_CAR_AGE                                          202929\n",
       "FLAG_MOBIL                                                0\n",
       "FLAG_EMP_PHONE                                            0\n",
       "FLAG_WORK_PHONE                                           0\n",
       "FLAG_CONT_MOBILE                                          0\n",
       "FLAG_PHONE                                                0\n",
       "FLAG_EMAIL                                                0\n",
       "OCCUPATION_TYPE                                           0\n",
       "CNT_FAM_MEMBERS                                           0\n",
       "REGION_RATING_CLIENT                                      0\n",
       "REGION_RATING_CLIENT_W_CITY                               0\n",
       "WEEKDAY_APPR_PROCESS_START                                0\n",
       "HOUR_APPR_PROCESS_START                                   0\n",
       "REG_REGION_NOT_LIVE_REGION                                0\n",
       "REG_REGION_NOT_WORK_REGION                                0\n",
       "LIVE_REGION_NOT_WORK_REGION                               0\n",
       "REG_CITY_NOT_LIVE_CITY                                    0\n",
       "REG_CITY_NOT_WORK_CITY                                    0\n",
       "LIVE_CITY_NOT_WORK_CITY                                   0\n",
       "ORGANIZATION_TYPE                                         0\n",
       "EXT_SOURCE_1                                         173378\n",
       "EXT_SOURCE_2                                            660\n",
       "EXT_SOURCE_3                                          60965\n",
       "APARTMENTS_AVG                                       156061\n",
       "BASEMENTAREA_AVG                                     179943\n",
       "YEARS_BEGINEXPLUATATION_AVG                          150007\n",
       "YEARS_BUILD_AVG                                      204488\n",
       "COMMONAREA_AVG                                       214865\n",
       "ELEVATORS_AVG                                        163891\n",
       "ENTRANCES_AVG                                        154828\n",
       "FLOORSMAX_AVG                                        153020\n",
       "FLOORSMIN_AVG                                        208642\n",
       "LANDAREA_AVG                                         182590\n",
       "LIVINGAPARTMENTS_AVG                                 210199\n",
       "LIVINGAREA_AVG                                       154350\n",
       "NONLIVINGAPARTMENTS_AVG                              213514\n",
       "NONLIVINGAREA_AVG                                    169682\n",
       "APARTMENTS_MODE                                      156061\n",
       "BASEMENTAREA_MODE                                    179943\n",
       "YEARS_BEGINEXPLUATATION_MODE                         150007\n",
       "YEARS_BUILD_MODE                                     204488\n",
       "COMMONAREA_MODE                                      214865\n",
       "ELEVATORS_MODE                                       163891\n",
       "ENTRANCES_MODE                                       154828\n",
       "FLOORSMAX_MODE                                       153020\n",
       "FLOORSMIN_MODE                                       208642\n",
       "LANDAREA_MODE                                        182590\n",
       "LIVINGAPARTMENTS_MODE                                210199\n",
       "LIVINGAREA_MODE                                      154350\n",
       "NONLIVINGAPARTMENTS_MODE                             213514\n",
       "NONLIVINGAREA_MODE                                   169682\n",
       "APARTMENTS_MEDI                                      156061\n",
       "BASEMENTAREA_MEDI                                    179943\n",
       "YEARS_BEGINEXPLUATATION_MEDI                         150007\n",
       "YEARS_BUILD_MEDI                                     204488\n",
       "COMMONAREA_MEDI                                      214865\n",
       "ELEVATORS_MEDI                                       163891\n",
       "ENTRANCES_MEDI                                       154828\n",
       "FLOORSMAX_MEDI                                       153020\n",
       "FLOORSMIN_MEDI                                       208642\n",
       "LANDAREA_MEDI                                        182590\n",
       "LIVINGAPARTMENTS_MEDI                                210199\n",
       "LIVINGAREA_MEDI                                      154350\n",
       "NONLIVINGAPARTMENTS_MEDI                             213514\n",
       "NONLIVINGAREA_MEDI                                   169682\n",
       "FONDKAPREMONT_MODE                                   210295\n",
       "HOUSETYPE_MODE                                       154297\n",
       "TOTALAREA_MODE                                       148431\n",
       "WALLSMATERIAL_MODE                                   156341\n",
       "EMERGENCYSTATE_MODE                                  145755\n",
       "OBS_30_CNT_SOCIAL_CIRCLE                               1021\n",
       "DEF_30_CNT_SOCIAL_CIRCLE                               1021\n",
       "OBS_60_CNT_SOCIAL_CIRCLE                               1021\n",
       "DEF_60_CNT_SOCIAL_CIRCLE                               1021\n",
       "DAYS_LAST_PHONE_CHANGE                                    1\n",
       "FLAG_DOCUMENT_2                                           0\n",
       "FLAG_DOCUMENT_3                                           0\n",
       "FLAG_DOCUMENT_4                                           0\n",
       "FLAG_DOCUMENT_5                                           0\n",
       "FLAG_DOCUMENT_6                                           0\n",
       "FLAG_DOCUMENT_7                                           0\n",
       "FLAG_DOCUMENT_8                                           0\n",
       "FLAG_DOCUMENT_9                                           0\n",
       "FLAG_DOCUMENT_10                                          0\n",
       "FLAG_DOCUMENT_11                                          0\n",
       "FLAG_DOCUMENT_12                                          0\n",
       "FLAG_DOCUMENT_13                                          0\n",
       "FLAG_DOCUMENT_14                                          0\n",
       "FLAG_DOCUMENT_15                                          0\n",
       "FLAG_DOCUMENT_16                                          0\n",
       "FLAG_DOCUMENT_17                                          0\n",
       "FLAG_DOCUMENT_18                                          0\n",
       "FLAG_DOCUMENT_19                                          0\n",
       "FLAG_DOCUMENT_20                                          0\n",
       "FLAG_DOCUMENT_21                                          0\n",
       "AMT_REQ_CREDIT_BUREAU_HOUR                            41519\n",
       "AMT_REQ_CREDIT_BUREAU_DAY                             41519\n",
       "AMT_REQ_CREDIT_BUREAU_WEEK                            41519\n",
       "AMT_REQ_CREDIT_BUREAU_MON                             41519\n",
       "AMT_REQ_CREDIT_BUREAU_QRT                             41519\n",
       "AMT_REQ_CREDIT_BUREAU_YEAR                            41519\n",
       "MALE                                                      0\n",
       "FEMALE                                                    0\n",
       "AMT_INCOME_TOTAL_MINMAX                                   0\n",
       "NAME_TYPE_SUITE_Family                                    0\n",
       "NAME_TYPE_SUITE_Group of people                           0\n",
       "NAME_TYPE_SUITE_Other_A                                   0\n",
       "NAME_TYPE_SUITE_Other_B                                   0\n",
       "NAME_TYPE_SUITE_Spouse, partner                           0\n",
       "NAME_TYPE_SUITE_Unaccompanied                             0\n",
       "NAME_INCOME_TYPE_Commercial associate                     0\n",
       "NAME_INCOME_TYPE_Maternity leave                          0\n",
       "NAME_INCOME_TYPE_Pensioner                                0\n",
       "NAME_INCOME_TYPE_State servant                            0\n",
       "NAME_INCOME_TYPE_Student                                  0\n",
       "NAME_INCOME_TYPE_Unemployed                               0\n",
       "NAME_INCOME_TYPE_Working                                  0\n",
       "NAME_EDUCATION_TYPE_Higher education                      0\n",
       "NAME_EDUCATION_TYPE_Incomplete higher                     0\n",
       "NAME_EDUCATION_TYPE_Lower secondary                       0\n",
       "NAME_EDUCATION_TYPE_Secondary / secondary special         0\n",
       "NAME_FAMILY_STATUS_Married                                0\n",
       "NAME_FAMILY_STATUS_Separated                              0\n",
       "NAME_FAMILY_STATUS_Single / not married                   0\n",
       "NAME_FAMILY_STATUS_Unknown                                0\n",
       "NAME_FAMILY_STATUS_Widow                                  0\n",
       "NAME_HOUSING_TYPE_House / apartment                       0\n",
       "NAME_HOUSING_TYPE_Municipal apartment                     0\n",
       "NAME_HOUSING_TYPE_Office apartment                        0\n",
       "NAME_HOUSING_TYPE_Rented apartment                        0\n",
       "NAME_HOUSING_TYPE_With parents                            0\n",
       "dtype: int64"
      ]
     },
     "execution_count": 4,
     "metadata": {},
     "output_type": "execute_result"
    }
   ],
   "source": [
    "raw_df.isnull().sum()"
   ]
  },
  {
   "cell_type": "code",
   "execution_count": 5,
   "metadata": {},
   "outputs": [],
   "source": [
    "raw_df['DAYS_LAST_PHONE_CHANGE'].fillna(raw_df['DAYS_LAST_PHONE_CHANGE'].mean(), inplace=True)"
   ]
  },
  {
   "cell_type": "code",
   "execution_count": 6,
   "metadata": {},
   "outputs": [
    {
     "data": {
      "text/plain": [
       "0.5108529061805426"
      ]
     },
     "execution_count": 6,
     "metadata": {},
     "output_type": "execute_result"
    }
   ],
   "source": [
    "raw_df['EXT_SOURCE_3'].fillna(raw_df['EXT_SOURCE_3'].mean(),inplace=True)\n",
    "raw_df['EXT_SOURCE_3'].mean()"
   ]
  },
  {
   "cell_type": "code",
   "execution_count": 7,
   "metadata": {},
   "outputs": [
    {
     "data": {
      "text/plain": [
       "0.5143926741308488"
      ]
     },
     "execution_count": 7,
     "metadata": {},
     "output_type": "execute_result"
    }
   ],
   "source": [
    "raw_df['EXT_SOURCE_2'].fillna(raw_df['EXT_SOURCE_2'].mean(),inplace=True)\n",
    "raw_df['EXT_SOURCE_2'].mean()"
   ]
  },
  {
   "cell_type": "code",
   "execution_count": 8,
   "metadata": {},
   "outputs": [
    {
     "data": {
      "text/plain": [
       "0.10004894123788487"
      ]
     },
     "execution_count": 8,
     "metadata": {},
     "output_type": "execute_result"
    }
   ],
   "source": [
    "raw_df['DEF_60_CNT_SOCIAL_CIRCLE'].fillna(raw_df['DEF_60_CNT_SOCIAL_CIRCLE'].mean(),inplace=True)\n",
    "raw_df['DEF_60_CNT_SOCIAL_CIRCLE'].mean()"
   ]
  },
  {
   "cell_type": "code",
   "execution_count": 9,
   "metadata": {},
   "outputs": [
    {
     "data": {
      "text/plain": [
       "0.1434206662533827"
      ]
     },
     "execution_count": 9,
     "metadata": {},
     "output_type": "execute_result"
    }
   ],
   "source": [
    "raw_df['DEF_30_CNT_SOCIAL_CIRCLE'].fillna(raw_df['DEF_30_CNT_SOCIAL_CIRCLE'].mean(),inplace=True)\n",
    "raw_df['DEF_30_CNT_SOCIAL_CIRCLE'].mean()"
   ]
  },
  {
   "cell_type": "code",
   "execution_count": 10,
   "metadata": {},
   "outputs": [],
   "source": [
    "raw_df = pd.get_dummies(raw_df, columns=['NAME_CONTRACT_TYPE','OCCUPATION_TYPE','FLAG_OWN_CAR','WEEKDAY_APPR_PROCESS_START','ORGANIZATION_TYPE','MALE'],drop_first=False)"
   ]
  },
  {
   "cell_type": "code",
   "execution_count": 11,
   "metadata": {},
   "outputs": [],
   "source": [
    "# Remove apparent null and useless columns\n",
    "raw_df.dropna(axis=1, inplace=True)"
   ]
  },
  {
   "cell_type": "code",
   "execution_count": 12,
   "metadata": {
    "scrolled": true
   },
   "outputs": [
    {
     "data": {
      "text/html": [
       "<div>\n",
       "<style scoped>\n",
       "    .dataframe tbody tr th:only-of-type {\n",
       "        vertical-align: middle;\n",
       "    }\n",
       "\n",
       "    .dataframe tbody tr th {\n",
       "        vertical-align: top;\n",
       "    }\n",
       "\n",
       "    .dataframe thead th {\n",
       "        text-align: right;\n",
       "    }\n",
       "</style>\n",
       "<table border=\"1\" class=\"dataframe\">\n",
       "  <thead>\n",
       "    <tr style=\"text-align: right;\">\n",
       "      <th></th>\n",
       "      <th>TARGET</th>\n",
       "      <th>CNT_CHILDREN</th>\n",
       "      <th>AMT_INCOME_TOTAL</th>\n",
       "      <th>AMT_CREDIT</th>\n",
       "      <th>AMT_ANNUITY</th>\n",
       "      <th>AMT_GOODS_PRICE</th>\n",
       "      <th>REGION_POPULATION_RELATIVE</th>\n",
       "      <th>DAYS_BIRTH</th>\n",
       "      <th>DAYS_EMPLOYED</th>\n",
       "      <th>DAYS_REGISTRATION</th>\n",
       "      <th>...</th>\n",
       "      <th>ORGANIZATION_TYPE_Trade: type 6</th>\n",
       "      <th>ORGANIZATION_TYPE_Trade: type 7</th>\n",
       "      <th>ORGANIZATION_TYPE_Transport: type 1</th>\n",
       "      <th>ORGANIZATION_TYPE_Transport: type 2</th>\n",
       "      <th>ORGANIZATION_TYPE_Transport: type 3</th>\n",
       "      <th>ORGANIZATION_TYPE_Transport: type 4</th>\n",
       "      <th>ORGANIZATION_TYPE_University</th>\n",
       "      <th>ORGANIZATION_TYPE_XNA</th>\n",
       "      <th>MALE_False</th>\n",
       "      <th>MALE_True</th>\n",
       "    </tr>\n",
       "    <tr>\n",
       "      <th>SK_ID_CURR</th>\n",
       "      <th></th>\n",
       "      <th></th>\n",
       "      <th></th>\n",
       "      <th></th>\n",
       "      <th></th>\n",
       "      <th></th>\n",
       "      <th></th>\n",
       "      <th></th>\n",
       "      <th></th>\n",
       "      <th></th>\n",
       "      <th></th>\n",
       "      <th></th>\n",
       "      <th></th>\n",
       "      <th></th>\n",
       "      <th></th>\n",
       "      <th></th>\n",
       "      <th></th>\n",
       "      <th></th>\n",
       "      <th></th>\n",
       "      <th></th>\n",
       "      <th></th>\n",
       "    </tr>\n",
       "  </thead>\n",
       "  <tbody>\n",
       "    <tr>\n",
       "      <th>100002</th>\n",
       "      <td>1</td>\n",
       "      <td>0</td>\n",
       "      <td>202500.0</td>\n",
       "      <td>406597.5</td>\n",
       "      <td>24700.5</td>\n",
       "      <td>351000.0</td>\n",
       "      <td>0.018801</td>\n",
       "      <td>-9461</td>\n",
       "      <td>-637</td>\n",
       "      <td>-3648.0</td>\n",
       "      <td>...</td>\n",
       "      <td>0</td>\n",
       "      <td>0</td>\n",
       "      <td>0</td>\n",
       "      <td>0</td>\n",
       "      <td>0</td>\n",
       "      <td>0</td>\n",
       "      <td>0</td>\n",
       "      <td>0</td>\n",
       "      <td>0</td>\n",
       "      <td>1</td>\n",
       "    </tr>\n",
       "    <tr>\n",
       "      <th>100003</th>\n",
       "      <td>0</td>\n",
       "      <td>0</td>\n",
       "      <td>270000.0</td>\n",
       "      <td>1293502.5</td>\n",
       "      <td>35698.5</td>\n",
       "      <td>1129500.0</td>\n",
       "      <td>0.003541</td>\n",
       "      <td>-16765</td>\n",
       "      <td>-1188</td>\n",
       "      <td>-1186.0</td>\n",
       "      <td>...</td>\n",
       "      <td>0</td>\n",
       "      <td>0</td>\n",
       "      <td>0</td>\n",
       "      <td>0</td>\n",
       "      <td>0</td>\n",
       "      <td>0</td>\n",
       "      <td>0</td>\n",
       "      <td>0</td>\n",
       "      <td>1</td>\n",
       "      <td>0</td>\n",
       "    </tr>\n",
       "    <tr>\n",
       "      <th>100004</th>\n",
       "      <td>0</td>\n",
       "      <td>0</td>\n",
       "      <td>67500.0</td>\n",
       "      <td>135000.0</td>\n",
       "      <td>6750.0</td>\n",
       "      <td>135000.0</td>\n",
       "      <td>0.010032</td>\n",
       "      <td>-19046</td>\n",
       "      <td>-225</td>\n",
       "      <td>-4260.0</td>\n",
       "      <td>...</td>\n",
       "      <td>0</td>\n",
       "      <td>0</td>\n",
       "      <td>0</td>\n",
       "      <td>0</td>\n",
       "      <td>0</td>\n",
       "      <td>0</td>\n",
       "      <td>0</td>\n",
       "      <td>0</td>\n",
       "      <td>0</td>\n",
       "      <td>1</td>\n",
       "    </tr>\n",
       "    <tr>\n",
       "      <th>100006</th>\n",
       "      <td>0</td>\n",
       "      <td>0</td>\n",
       "      <td>135000.0</td>\n",
       "      <td>312682.5</td>\n",
       "      <td>29686.5</td>\n",
       "      <td>297000.0</td>\n",
       "      <td>0.008019</td>\n",
       "      <td>-19005</td>\n",
       "      <td>-3039</td>\n",
       "      <td>-9833.0</td>\n",
       "      <td>...</td>\n",
       "      <td>0</td>\n",
       "      <td>0</td>\n",
       "      <td>0</td>\n",
       "      <td>0</td>\n",
       "      <td>0</td>\n",
       "      <td>0</td>\n",
       "      <td>0</td>\n",
       "      <td>0</td>\n",
       "      <td>1</td>\n",
       "      <td>0</td>\n",
       "    </tr>\n",
       "    <tr>\n",
       "      <th>100007</th>\n",
       "      <td>0</td>\n",
       "      <td>0</td>\n",
       "      <td>121500.0</td>\n",
       "      <td>513000.0</td>\n",
       "      <td>21865.5</td>\n",
       "      <td>513000.0</td>\n",
       "      <td>0.028663</td>\n",
       "      <td>-19932</td>\n",
       "      <td>-3038</td>\n",
       "      <td>-4311.0</td>\n",
       "      <td>...</td>\n",
       "      <td>0</td>\n",
       "      <td>0</td>\n",
       "      <td>0</td>\n",
       "      <td>0</td>\n",
       "      <td>0</td>\n",
       "      <td>0</td>\n",
       "      <td>0</td>\n",
       "      <td>0</td>\n",
       "      <td>0</td>\n",
       "      <td>1</td>\n",
       "    </tr>\n",
       "  </tbody>\n",
       "</table>\n",
       "<p>5 rows × 170 columns</p>\n",
       "</div>"
      ],
      "text/plain": [
       "            TARGET  CNT_CHILDREN  AMT_INCOME_TOTAL  AMT_CREDIT  AMT_ANNUITY  \\\n",
       "SK_ID_CURR                                                                    \n",
       "100002           1             0          202500.0    406597.5      24700.5   \n",
       "100003           0             0          270000.0   1293502.5      35698.5   \n",
       "100004           0             0           67500.0    135000.0       6750.0   \n",
       "100006           0             0          135000.0    312682.5      29686.5   \n",
       "100007           0             0          121500.0    513000.0      21865.5   \n",
       "\n",
       "            AMT_GOODS_PRICE  REGION_POPULATION_RELATIVE  DAYS_BIRTH  \\\n",
       "SK_ID_CURR                                                            \n",
       "100002             351000.0                    0.018801       -9461   \n",
       "100003            1129500.0                    0.003541      -16765   \n",
       "100004             135000.0                    0.010032      -19046   \n",
       "100006             297000.0                    0.008019      -19005   \n",
       "100007             513000.0                    0.028663      -19932   \n",
       "\n",
       "            DAYS_EMPLOYED  DAYS_REGISTRATION  ...  \\\n",
       "SK_ID_CURR                                    ...   \n",
       "100002               -637            -3648.0  ...   \n",
       "100003              -1188            -1186.0  ...   \n",
       "100004               -225            -4260.0  ...   \n",
       "100006              -3039            -9833.0  ...   \n",
       "100007              -3038            -4311.0  ...   \n",
       "\n",
       "            ORGANIZATION_TYPE_Trade: type 6  ORGANIZATION_TYPE_Trade: type 7  \\\n",
       "SK_ID_CURR                                                                     \n",
       "100002                                    0                                0   \n",
       "100003                                    0                                0   \n",
       "100004                                    0                                0   \n",
       "100006                                    0                                0   \n",
       "100007                                    0                                0   \n",
       "\n",
       "            ORGANIZATION_TYPE_Transport: type 1  \\\n",
       "SK_ID_CURR                                        \n",
       "100002                                        0   \n",
       "100003                                        0   \n",
       "100004                                        0   \n",
       "100006                                        0   \n",
       "100007                                        0   \n",
       "\n",
       "            ORGANIZATION_TYPE_Transport: type 2  \\\n",
       "SK_ID_CURR                                        \n",
       "100002                                        0   \n",
       "100003                                        0   \n",
       "100004                                        0   \n",
       "100006                                        0   \n",
       "100007                                        0   \n",
       "\n",
       "            ORGANIZATION_TYPE_Transport: type 3  \\\n",
       "SK_ID_CURR                                        \n",
       "100002                                        0   \n",
       "100003                                        0   \n",
       "100004                                        0   \n",
       "100006                                        0   \n",
       "100007                                        0   \n",
       "\n",
       "            ORGANIZATION_TYPE_Transport: type 4  ORGANIZATION_TYPE_University  \\\n",
       "SK_ID_CURR                                                                      \n",
       "100002                                        0                             0   \n",
       "100003                                        0                             0   \n",
       "100004                                        0                             0   \n",
       "100006                                        0                             0   \n",
       "100007                                        0                             0   \n",
       "\n",
       "            ORGANIZATION_TYPE_XNA  MALE_False  MALE_True  \n",
       "SK_ID_CURR                                                \n",
       "100002                          0           0          1  \n",
       "100003                          0           1          0  \n",
       "100004                          0           0          1  \n",
       "100006                          0           1          0  \n",
       "100007                          0           0          1  \n",
       "\n",
       "[5 rows x 170 columns]"
      ]
     },
     "execution_count": 12,
     "metadata": {},
     "output_type": "execute_result"
    }
   ],
   "source": [
    "raw_df.head()"
   ]
  },
  {
   "cell_type": "markdown",
   "metadata": {},
   "source": [
    "#### Step 3: Data Splitting"
   ]
  },
  {
   "cell_type": "code",
   "execution_count": 13,
   "metadata": {},
   "outputs": [],
   "source": [
    "# define independent variables / attirbutes / features\n",
    "\n",
    "features = raw_df.columns\n",
    "features = features.drop('TARGET')\n",
    "\n",
    "# Applying featurs used in decision tree\n",
    "# features = ['EXT_SOURCE_3', 'EXT_SOURCE_2', 'DAYS_BIRTH', 'REGION_RATING_CLIENT_W_CITY', \n",
    "#             'NAME_EDUCATION_TYPE_Higher education', 'NAME_INCOME_TYPE_Working', 'DAYS_LAST_PHONE_CHANGE', \n",
    "#             'NAME_EDUCATION_TYPE_Secondary / secondary special', 'MALE_True', 'DAYS_ID_PUBLISH', \n",
    "#             'NAME_INCOME_TYPE_Pensioner', 'REG_CITY_NOT_WORK_CITY', 'DAYS_REGISTRATION', 'REG_CITY_NOT_LIVE_CITY', \n",
    "#             'AMT_GOODS_PRICE', 'REGION_POPULATION_RELATIVE', 'NAME_CONTRACT_TYPE_Revolving loans', \n",
    "#             'LIVE_CITY_NOT_WORK_CITY', 'DEF_30_CNT_SOCIAL_CIRCLE', 'DEF_60_CNT_SOCIAL_CIRCLE']\n",
    "\n",
    "# define one single target variable / label\n",
    "target = ['TARGET']\n",
    "\n",
    "# get defined training dataset\n",
    "X = raw_df[features]\n",
    "y = raw_df[target]"
   ]
  },
  {
   "cell_type": "code",
   "execution_count": 14,
   "metadata": {},
   "outputs": [
    {
     "name": "stdout",
     "output_type": "stream",
     "text": [
      "<class 'pandas.core.frame.DataFrame'>\n",
      "Int64Index: 246008 entries, 269894 to 228644\n",
      "Columns: 169 entries, CNT_CHILDREN to MALE_True\n",
      "dtypes: bool(1), float64(13), int64(66), uint8(89)\n",
      "memory usage: 171.3 MB\n"
     ]
    }
   ],
   "source": [
    "# import train split function\n",
    "from sklearn.model_selection import train_test_split\n",
    "\n",
    "# split data into 80% and 20%, put 20% in testing\n",
    "X_train, X_test, y_train, y_test = train_test_split(X, y, test_size=0.2, random_state=3360)\n",
    "\n",
    "X_train.info()"
   ]
  },
  {
   "cell_type": "markdown",
   "metadata": {},
   "source": [
    "#### NB Gaussian"
   ]
  },
  {
   "cell_type": "code",
   "execution_count": 15,
   "metadata": {},
   "outputs": [
    {
     "name": "stderr",
     "output_type": "stream",
     "text": [
      "/Users/lamhochit/opt/anaconda3/lib/python3.8/site-packages/sklearn/utils/validation.py:63: DataConversionWarning: A column-vector y was passed when a 1d array was expected. Please change the shape of y to (n_samples, ), for example using ravel().\n",
      "  return f(*args, **kwargs)\n",
      "/Users/lamhochit/opt/anaconda3/lib/python3.8/site-packages/sklearn/utils/validation.py:63: DataConversionWarning: A column-vector y was passed when a 1d array was expected. Please change the shape of y to (n_samples, ), for example using ravel().\n",
      "  return f(*args, **kwargs)\n",
      "/Users/lamhochit/opt/anaconda3/lib/python3.8/site-packages/sklearn/utils/validation.py:63: DataConversionWarning: A column-vector y was passed when a 1d array was expected. Please change the shape of y to (n_samples, ), for example using ravel().\n",
      "  return f(*args, **kwargs)\n",
      "/Users/lamhochit/opt/anaconda3/lib/python3.8/site-packages/sklearn/utils/validation.py:63: DataConversionWarning: A column-vector y was passed when a 1d array was expected. Please change the shape of y to (n_samples, ), for example using ravel().\n",
      "  return f(*args, **kwargs)\n",
      "/Users/lamhochit/opt/anaconda3/lib/python3.8/site-packages/sklearn/utils/validation.py:63: DataConversionWarning: A column-vector y was passed when a 1d array was expected. Please change the shape of y to (n_samples, ), for example using ravel().\n",
      "  return f(*args, **kwargs)\n"
     ]
    },
    {
     "data": {
      "text/plain": [
       "0.9137385843237642"
      ]
     },
     "execution_count": 15,
     "metadata": {},
     "output_type": "execute_result"
    }
   ],
   "source": [
    "# import cross validation\n",
    "from sklearn.model_selection import cross_val_predict, cross_val_score\n",
    "\n",
    "score = cross_val_score(gnb,X_train,y_train,cv=5).mean()\n",
    "score"
   ]
  },
  {
   "cell_type": "code",
   "execution_count": 16,
   "metadata": {},
   "outputs": [
    {
     "name": "stderr",
     "output_type": "stream",
     "text": [
      "/Users/lamhochit/opt/anaconda3/lib/python3.8/site-packages/sklearn/utils/validation.py:63: DataConversionWarning: A column-vector y was passed when a 1d array was expected. Please change the shape of y to (n_samples, ), for example using ravel().\n",
      "  return f(*args, **kwargs)\n",
      "/Users/lamhochit/opt/anaconda3/lib/python3.8/site-packages/sklearn/utils/validation.py:63: DataConversionWarning: A column-vector y was passed when a 1d array was expected. Please change the shape of y to (n_samples, ), for example using ravel().\n",
      "  return f(*args, **kwargs)\n",
      "/Users/lamhochit/opt/anaconda3/lib/python3.8/site-packages/sklearn/utils/validation.py:63: DataConversionWarning: A column-vector y was passed when a 1d array was expected. Please change the shape of y to (n_samples, ), for example using ravel().\n",
      "  return f(*args, **kwargs)\n",
      "/Users/lamhochit/opt/anaconda3/lib/python3.8/site-packages/sklearn/utils/validation.py:63: DataConversionWarning: A column-vector y was passed when a 1d array was expected. Please change the shape of y to (n_samples, ), for example using ravel().\n",
      "  return f(*args, **kwargs)\n",
      "/Users/lamhochit/opt/anaconda3/lib/python3.8/site-packages/sklearn/utils/validation.py:63: DataConversionWarning: A column-vector y was passed when a 1d array was expected. Please change the shape of y to (n_samples, ), for example using ravel().\n",
      "  return f(*args, **kwargs)\n",
      "/Users/lamhochit/opt/anaconda3/lib/python3.8/site-packages/sklearn/utils/validation.py:63: DataConversionWarning: A column-vector y was passed when a 1d array was expected. Please change the shape of y to (n_samples, ), for example using ravel().\n",
      "  return f(*args, **kwargs)\n",
      "/Users/lamhochit/opt/anaconda3/lib/python3.8/site-packages/sklearn/utils/validation.py:63: DataConversionWarning: A column-vector y was passed when a 1d array was expected. Please change the shape of y to (n_samples, ), for example using ravel().\n",
      "  return f(*args, **kwargs)\n",
      "/Users/lamhochit/opt/anaconda3/lib/python3.8/site-packages/sklearn/utils/validation.py:63: DataConversionWarning: A column-vector y was passed when a 1d array was expected. Please change the shape of y to (n_samples, ), for example using ravel().\n",
      "  return f(*args, **kwargs)\n",
      "/Users/lamhochit/opt/anaconda3/lib/python3.8/site-packages/sklearn/utils/validation.py:63: DataConversionWarning: A column-vector y was passed when a 1d array was expected. Please change the shape of y to (n_samples, ), for example using ravel().\n",
      "  return f(*args, **kwargs)\n",
      "/Users/lamhochit/opt/anaconda3/lib/python3.8/site-packages/sklearn/utils/validation.py:63: DataConversionWarning: A column-vector y was passed when a 1d array was expected. Please change the shape of y to (n_samples, ), for example using ravel().\n",
      "  return f(*args, **kwargs)\n"
     ]
    },
    {
     "data": {
      "text/plain": [
       "array([0, 0, 0, ..., 0, 0, 0])"
      ]
     },
     "execution_count": 16,
     "metadata": {},
     "output_type": "execute_result"
    }
   ],
   "source": [
    "pred_y = cross_val_predict(gnb,X_train,y_train,cv=10)\n",
    "pred_y"
   ]
  },
  {
   "cell_type": "code",
   "execution_count": 17,
   "metadata": {},
   "outputs": [
    {
     "name": "stdout",
     "output_type": "stream",
     "text": [
      "Accuracy of Benchmark Model: \n",
      " 0.9189335306168905\n",
      "Accuracy of Naive Bayes Model: \n",
      " 0.9131776202399922\n"
     ]
    }
   ],
   "source": [
    "from sklearn.metrics import accuracy_score, confusion_matrix,classification_report\n",
    "\n",
    "# Do majority-class prediction (not accept: 0) -> Benchmark model\n",
    "# https://docs.scipy.org/doc/numpy/reference/generated/numpy.zeros.htm\n",
    "pred_val_maj = np.zeros((X_train.shape[0],),dtype=int)\n",
    "# https://scikit-learn.org/stable/modules/generated/sklearn.metrics.accuracy_score.html\n",
    "print(\"Accuracy of Benchmark Model:\",\"\\n\", accuracy_score(y_train, pred_val_maj, normalize=True, sample_weight=None))\n",
    "print(\"Accuracy of Naive Bayes Model:\",\"\\n\", accuracy_score(y_train, pred_y, normalize=True, sample_weight=None))"
   ]
  },
  {
   "cell_type": "code",
   "execution_count": 18,
   "metadata": {},
   "outputs": [
    {
     "name": "stdout",
     "output_type": "stream",
     "text": [
      "Confusion Matrix of Benchmark Model: \n",
      " [[226065      0]\n",
      " [ 19943      0]]\n",
      "Confusion Matrix of Naive Bayes Model: \n",
      " [[224543   1522]\n",
      " [ 19837    106]]\n"
     ]
    }
   ],
   "source": [
    "# print the confusion matrix\n",
    "# https://scikit-learn.org/stable/modules/generated/sklearn.metrics.confusion_matrix.html\n",
    "print(\"Confusion Matrix of Benchmark Model:\", \"\\n\", confusion_matrix(y_train, pred_val_maj))\n",
    "print(\"Confusion Matrix of Naive Bayes Model:\", \"\\n\", confusion_matrix(y_train, pred_y))"
   ]
  },
  {
   "cell_type": "code",
   "execution_count": 19,
   "metadata": {},
   "outputs": [
    {
     "name": "stdout",
     "output_type": "stream",
     "text": [
      "Classification Report of Benchmark Model: \n",
      "               precision    recall  f1-score   support\n",
      "\n",
      "           0       0.92      1.00      0.96    226065\n",
      "           1       0.00      0.00      0.00     19943\n",
      "\n",
      "    accuracy                           0.92    246008\n",
      "   macro avg       0.46      0.50      0.48    246008\n",
      "weighted avg       0.84      0.92      0.88    246008\n",
      "\n"
     ]
    },
    {
     "name": "stderr",
     "output_type": "stream",
     "text": [
      "/Users/lamhochit/opt/anaconda3/lib/python3.8/site-packages/sklearn/metrics/_classification.py:1245: UndefinedMetricWarning: Precision and F-score are ill-defined and being set to 0.0 in labels with no predicted samples. Use `zero_division` parameter to control this behavior.\n",
      "  _warn_prf(average, modifier, msg_start, len(result))\n",
      "/Users/lamhochit/opt/anaconda3/lib/python3.8/site-packages/sklearn/metrics/_classification.py:1245: UndefinedMetricWarning: Precision and F-score are ill-defined and being set to 0.0 in labels with no predicted samples. Use `zero_division` parameter to control this behavior.\n",
      "  _warn_prf(average, modifier, msg_start, len(result))\n",
      "/Users/lamhochit/opt/anaconda3/lib/python3.8/site-packages/sklearn/metrics/_classification.py:1245: UndefinedMetricWarning: Precision and F-score are ill-defined and being set to 0.0 in labels with no predicted samples. Use `zero_division` parameter to control this behavior.\n",
      "  _warn_prf(average, modifier, msg_start, len(result))\n"
     ]
    },
    {
     "name": "stdout",
     "output_type": "stream",
     "text": [
      "Classification Report of Naive Bayes Model: \n",
      "               precision    recall  f1-score   support\n",
      "\n",
      "           0       0.92      0.99      0.95    226065\n",
      "           1       0.07      0.01      0.01     19943\n",
      "\n",
      "    accuracy                           0.91    246008\n",
      "   macro avg       0.49      0.50      0.48    246008\n",
      "weighted avg       0.85      0.91      0.88    246008\n",
      "\n"
     ]
    }
   ],
   "source": [
    "# print the classification report with precision, recall\n",
    "# https://scikit-learn.org/stable/modules/generated/sklearn.metrics.classification_report.html\n",
    "print(\"Classification Report of Benchmark Model:\", \"\\n\", classification_report(y_train, pred_val_maj))\n",
    "print(\"Classification Report of Naive Bayes Model:\",\"\\n\",classification_report(y_train, pred_y))"
   ]
  },
  {
   "cell_type": "code",
   "execution_count": 20,
   "metadata": {},
   "outputs": [
    {
     "name": "stderr",
     "output_type": "stream",
     "text": [
      "/Users/lamhochit/opt/anaconda3/lib/python3.8/site-packages/sklearn/utils/validation.py:63: DataConversionWarning: A column-vector y was passed when a 1d array was expected. Please change the shape of y to (n_samples, ), for example using ravel().\n",
      "  return f(*args, **kwargs)\n"
     ]
    },
    {
     "data": {
      "text/plain": [
       "GaussianNB()"
      ]
     },
     "execution_count": 20,
     "metadata": {},
     "output_type": "execute_result"
    }
   ],
   "source": [
    "# train model using all training dataset\n",
    "# https://scikit-learn.org/stable/modules/generated/sklearn.naive_bayes.GaussianNB.html#sklearn.naive_bayes.GaussianNB.fit\n",
    "gnb.fit(X_train, y_train)"
   ]
  },
  {
   "cell_type": "code",
   "execution_count": 21,
   "metadata": {},
   "outputs": [
    {
     "data": {
      "text/plain": [
       "array([[9.89165870e-01, 1.08341301e-02],\n",
       "       [9.67481845e-01, 3.25181547e-02],\n",
       "       [9.99363363e-01, 6.36637063e-04],\n",
       "       ...,\n",
       "       [9.86484455e-01, 1.35155454e-02],\n",
       "       [9.72364862e-01, 2.76351379e-02],\n",
       "       [9.84303652e-01, 1.56963485e-02]])"
      ]
     },
     "execution_count": 21,
     "metadata": {},
     "output_type": "execute_result"
    }
   ],
   "source": [
    "from sklearn.metrics import roc_curve\n",
    "from sklearn.metrics import auc\n",
    "\n",
    "# test model (output probability estimate)\n",
    "# https://scikit-learn.org/stable/modules/generated/sklearn.naive_bayes.GaussianNB.html#sklearn.naive_bayes.GaussianNB.predict_proba\n",
    "pred_prob = gnb.predict_proba(X_test)\n",
    "\n",
    "# show the probability of belonging to class 0 and class 1\n",
    "pred_prob"
   ]
  },
  {
   "cell_type": "code",
   "execution_count": 22,
   "metadata": {},
   "outputs": [
    {
     "data": {
      "text/plain": [
       "array([0.01083413, 0.03251815, 0.00063664, ..., 0.01351555, 0.02763514,\n",
       "       0.01569635])"
      ]
     },
     "execution_count": 22,
     "metadata": {},
     "output_type": "execute_result"
    }
   ],
   "source": [
    "pred_prob[:,1]"
   ]
  },
  {
   "cell_type": "code",
   "execution_count": 23,
   "metadata": {},
   "outputs": [],
   "source": [
    "# y is the true label, pred_prob[:,1] measures the predicted probability of belonging to class 1 (which is defined as positive class)\n",
    "# https://scikit-learn.org/stable/modules/generated/sklearn.metrics.roc_curve.html\n",
    "fpr, tpr, thresholds = roc_curve(y_test, pred_prob[:,1], pos_label=1)"
   ]
  },
  {
   "cell_type": "code",
   "execution_count": 24,
   "metadata": {},
   "outputs": [
    {
     "data": {
      "text/plain": [
       "0.60555123593915"
      ]
     },
     "execution_count": 24,
     "metadata": {},
     "output_type": "execute_result"
    }
   ],
   "source": [
    "# Aread under ROC curve\n",
    "roc_auc=auc(fpr,tpr)\n",
    "roc_auc"
   ]
  },
  {
   "cell_type": "code",
   "execution_count": 25,
   "metadata": {},
   "outputs": [
    {
     "data": {
      "image/png": "[encoded data removed]",
      "text/plain": [
       "<Figure size 432x288 with 1 Axes>"
      ]
     },
     "metadata": {
      "needs_background": "light"
     },
     "output_type": "display_data"
    }
   ],
   "source": [
    "import matplotlib.pyplot as plt\n",
    "%matplotlib inline\n",
    "\n",
    "plt.figure()\n",
    "lw = 2\n",
    "plt.plot(fpr, tpr, marker='o',color='darkorange',\n",
    "         lw=lw, label='ROC curve (area = %0.2f)' % roc_auc)\n",
    "plt.plot([0, 1], [0, 1], color='navy', lw=lw, linestyle='--')\n",
    "plt.xlim([-0.05, 1.0])\n",
    "plt.ylim([0.0, 1.05])\n",
    "plt.xlabel('False Positive Rate')\n",
    "plt.ylabel('True Positive Rate')\n",
    "plt.title('Receiver operating characteristic')\n",
    "plt.legend(loc=\"lower right\")\n",
    "plt.show()"
   ]
  },
  {
   "cell_type": "markdown",
   "metadata": {},
   "source": [
    "### Grid Search and Cost Analysis"
   ]
  },
  {
   "cell_type": "code",
   "execution_count": 26,
   "metadata": {},
   "outputs": [],
   "source": [
    "#import homemade cost function\n",
    "import sys\n",
    "sys.path.insert(0, '..')\n",
    "from utils.custom_cost import custom_loss\n",
    "# create try_grid\n",
    "param_grid_nb = {\n",
    "    'var_smoothing': np.logspace(0,-9, num=10)\n",
    "}"
   ]
  },
  {
   "cell_type": "code",
   "execution_count": 27,
   "metadata": {},
   "outputs": [
    {
     "name": "stdout",
     "output_type": "stream",
     "text": [
      "Fitting 10 folds for each of 10 candidates, totalling 100 fits\n"
     ]
    },
    {
     "name": "stderr",
     "output_type": "stream",
     "text": [
      "/Users/lamhochit/opt/anaconda3/lib/python3.8/site-packages/sklearn/utils/validation.py:63: DataConversionWarning: A column-vector y was passed when a 1d array was expected. Please change the shape of y to (n_samples, ), for example using ravel().\n",
      "  return f(*args, **kwargs)\n"
     ]
    },
    {
     "name": "stdout",
     "output_type": "stream",
     "text": [
      "GaussianNB(var_smoothing=1.0)\n"
     ]
    }
   ],
   "source": [
    "from sklearn.model_selection import GridSearchCV\n",
    "\n",
    "nbModel_grid = GridSearchCV(estimator=GaussianNB(), param_grid=param_grid_nb, verbose=1, cv=10, n_jobs=-1, \n",
    "                            scoring=custom_loss)\n",
    "nbModel_grid.fit(X_train, y_train)\n",
    "print(nbModel_grid.best_estimator_)"
   ]
  },
  {
   "cell_type": "code",
   "execution_count": 30,
   "metadata": {},
   "outputs": [
    {
     "data": {
      "text/plain": [
       "-12985806.2"
      ]
     },
     "execution_count": 30,
     "metadata": {},
     "output_type": "execute_result"
    }
   ],
   "source": [
    "nbModel_grid.best_score_"
   ]
  },
  {
   "cell_type": "code",
   "execution_count": 31,
   "metadata": {},
   "outputs": [],
   "source": [
    "best_model = GaussianNB(var_smoothing=1)"
   ]
  },
  {
   "cell_type": "code",
   "execution_count": 32,
   "metadata": {},
   "outputs": [
    {
     "name": "stderr",
     "output_type": "stream",
     "text": [
      "/Users/lamhochit/opt/anaconda3/lib/python3.8/site-packages/sklearn/utils/validation.py:63: DataConversionWarning: A column-vector y was passed when a 1d array was expected. Please change the shape of y to (n_samples, ), for example using ravel().\n",
      "  return f(*args, **kwargs)\n"
     ]
    },
    {
     "data": {
      "text/plain": [
       "GaussianNB(var_smoothing=1)"
      ]
     },
     "execution_count": 32,
     "metadata": {},
     "output_type": "execute_result"
    }
   ],
   "source": [
    "best_model.fit(X_train,y_train)"
   ]
  },
  {
   "cell_type": "code",
   "execution_count": 36,
   "metadata": {},
   "outputs": [],
   "source": [
    "y_predict = best_model.predict(X_test)"
   ]
  },
  {
   "cell_type": "code",
   "execution_count": 37,
   "metadata": {},
   "outputs": [
    {
     "name": "stdout",
     "output_type": "stream",
     "text": [
      "Accuracy: 0.9203941271157504\n",
      "Confusion Matrix \n",
      " [[56606    15]\n",
      " [ 4881     1]]\n",
      "Classification Report: \n",
      "               precision    recall  f1-score   support\n",
      "\n",
      "           0       0.92      1.00      0.96     56621\n",
      "           1       0.06      0.00      0.00      4882\n",
      "\n",
      "    accuracy                           0.92     61503\n",
      "   macro avg       0.49      0.50      0.48     61503\n",
      "weighted avg       0.85      0.92      0.88     61503\n",
      "\n"
     ]
    }
   ],
   "source": [
    "print(\"Accuracy:\",accuracy_score(y_test, y_predict, normalize=True, sample_weight=None))\n",
    "print(\"Confusion Matrix\", '\\n', confusion_matrix(y_test, y_predict))\n",
    "print(\"Classification Report:\", '\\n', classification_report(y_test, y_predict))"
   ]
  },
  {
   "cell_type": "markdown",
   "metadata": {},
   "source": [
    "### Estimated economic loss"
   ]
  },
  {
   "cell_type": "code",
   "execution_count": 39,
   "metadata": {},
   "outputs": [
    {
     "name": "stdout",
     "output_type": "stream",
     "text": [
      "Estimated economic loss on test set: $-31776090\n"
     ]
    }
   ],
   "source": [
    "print(f\"Estimated economic loss on test set: ${custom_loss(best_model, X_test, y_test)}\")"
   ]
  },
  {
   "cell_type": "markdown",
   "metadata": {},
   "source": [
    "### Conclusion and findings\n",
    "\n",
    "The accuracy of the model is actually lower than the majority classifier. However, the reason for this is that as the data is skewed towards non-default, it is quite easy to achieve a high accuracy with the majority classifier. With our naive bayes classifer, we can see that we actually have more true positive cases which can be used to reduce the firm's cost."
   ]
  },
  {
   "cell_type": "markdown",
   "metadata": {},
   "source": [
    "The false negatvie rate is lower than the benchmark model. This is particularly useful in our usecase as it will cost the issuer a lot of money if the client defaults."
   ]
  },
  {
   "cell_type": "markdown",
   "metadata": {},
   "source": [
    "One of the reasons for the poor behaviour of the Naive Bayes Classifier is that the features seems to be correlated, where the independence assumption doesn't hold"
   ]
  },
  {
   "cell_type": "markdown",
   "metadata": {},
   "source": [
    "## This is the end of Part 2.3 Naive Bayes Classifier."
   ]
  }
 ],
 "metadata": {
  "kernelspec": {
   "display_name": "Python 3",
   "language": "python",
   "name": "python3"
  },
  "language_info": {
   "codemirror_mode": {
    "name": "ipython",
    "version": 3
   },
   "file_extension": ".py",
   "mimetype": "text/x-python",
   "name": "python",
   "nbconvert_exporter": "python",
   "pygments_lexer": "ipython3",
   "version": "3.7.4"
  }
 },
 "nbformat": 4,
 "nbformat_minor": 2
}
