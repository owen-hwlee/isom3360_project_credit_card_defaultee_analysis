{
 "cells": [
  {
   "cell_type": "markdown",
   "metadata": {},
   "source": [
    "***\n",
    "# ISOM3360 Data Mining for Business Analytics\n",
    "## Group 23 Project Code - Credit Card Defaultee Analysis\n",
    "### Part 2.2 - Logistic Regression Classifier\n",
    "***"
   ]
  },
  {
   "cell_type": "markdown",
   "metadata": {},
   "source": [
    "Name: LAM, Ho Chit  \n",
    "ITSC: hclamao   \n",
    "SID: 20607878 \n",
    "\n",
    "Name: LEE, Ho Wan Owen  \n",
    "ITSC: hwolee  \n",
    "SID: 20604852\n",
    "\n",
    "Name: LEE, Wai Chung  \n",
    "ITSC: wcleeaj  \n",
    "SID: 20702733"
   ]
  },
  {
   "cell_type": "markdown",
   "metadata": {},
   "source": [
    "### Workflow of this notebook (TBC)\n",
    "\n",
    "1. Perform data preprocessing specific to Logistic Regression Model\n",
    "   - However, logistic regression can use the exact same data preprocessing workflow as for decision tree.\n",
    "   - To save computation time, the preprocessed final version of data from decision tree is used.\n",
    "   - For effective model comparison, the 20 predictors used in the final decision tree shall be the only predictors used in this analysis.\n",
    "2. Create Logistic Regression model\n",
    "3. Evaluate model\n",
    "4. Experiment with L1 (Lasso) and L2 (Ridge) regularization\n",
    "5. GridSearchCV hyperparameter tuning"
   ]
  },
  {
   "cell_type": "markdown",
   "metadata": {},
   "source": [
    "### Data preprocessing (con't)"
   ]
  },
  {
   "cell_type": "code",
   "execution_count": 1,
   "metadata": {},
   "outputs": [],
   "source": [
    "%load_ext autoreload\n",
    "%autoreload 2"
   ]
  },
  {
   "cell_type": "code",
   "execution_count": 2,
   "metadata": {},
   "outputs": [],
   "source": [
    "# import libraries\n",
    "import numpy as np\n",
    "import pandas as pd\n",
    "import matplotlib as mpl\n",
    "from matplotlib import pyplot as plt"
   ]
  },
  {
   "cell_type": "code",
   "execution_count": 3,
   "metadata": {},
   "outputs": [],
   "source": [
    "pd.set_option('display.max_rows', 500)"
   ]
  },
  {
   "cell_type": "code",
   "execution_count": 4,
   "metadata": {},
   "outputs": [],
   "source": [
    "# train = pd.read_csv('train.csv', index_col = 'SK_ID_CURR')\n",
    "raw_df = pd.read_csv('decision_tree/raw_no_missing.csv', index_col='SK_ID_CURR')"
   ]
  },
  {
   "cell_type": "markdown",
   "metadata": {},
   "source": [
    "### Perform one-hot encoding"
   ]
  },
  {
   "cell_type": "code",
   "execution_count": 5,
   "metadata": {},
   "outputs": [],
   "source": [
    "raw_df = pd.get_dummies(raw_df, columns=['NAME_CONTRACT_TYPE','OCCUPATION_TYPE','FLAG_OWN_CAR','WEEKDAY_APPR_PROCESS_START','ORGANIZATION_TYPE','MALE'],drop_first = True)\n",
    "\n",
    "#p.s. for Naive Bayes Classification, set drop_first = False. Also, no need modification on MALE and FEMALE.\n",
    "# Also for NB, do not drop Female\n",
    "raw_df = raw_df.drop(columns='FEMALE')"
   ]
  },
  {
   "cell_type": "code",
   "execution_count": 6,
   "metadata": {},
   "outputs": [
    {
     "data": {
      "text/plain": [
       "TARGET                                               0\n",
       "CNT_CHILDREN                                         0\n",
       "AMT_INCOME_TOTAL                                     0\n",
       "AMT_CREDIT                                           0\n",
       "AMT_ANNUITY                                          0\n",
       "AMT_GOODS_PRICE                                      0\n",
       "REGION_POPULATION_RELATIVE                           0\n",
       "DAYS_BIRTH                                           0\n",
       "DAYS_EMPLOYED                                        0\n",
       "DAYS_REGISTRATION                                    0\n",
       "DAYS_ID_PUBLISH                                      0\n",
       "FLAG_MOBIL                                           0\n",
       "FLAG_EMP_PHONE                                       0\n",
       "FLAG_WORK_PHONE                                      0\n",
       "FLAG_CONT_MOBILE                                     0\n",
       "FLAG_PHONE                                           0\n",
       "FLAG_EMAIL                                           0\n",
       "CNT_FAM_MEMBERS                                      0\n",
       "REGION_RATING_CLIENT                                 0\n",
       "REGION_RATING_CLIENT_W_CITY                          0\n",
       "HOUR_APPR_PROCESS_START                              0\n",
       "REG_REGION_NOT_LIVE_REGION                           0\n",
       "REG_REGION_NOT_WORK_REGION                           0\n",
       "LIVE_REGION_NOT_WORK_REGION                          0\n",
       "REG_CITY_NOT_LIVE_CITY                               0\n",
       "REG_CITY_NOT_WORK_CITY                               0\n",
       "LIVE_CITY_NOT_WORK_CITY                              0\n",
       "EXT_SOURCE_2                                         0\n",
       "EXT_SOURCE_3                                         0\n",
       "OBS_30_CNT_SOCIAL_CIRCLE                             0\n",
       "DEF_30_CNT_SOCIAL_CIRCLE                             0\n",
       "OBS_60_CNT_SOCIAL_CIRCLE                             0\n",
       "DEF_60_CNT_SOCIAL_CIRCLE                             0\n",
       "DAYS_LAST_PHONE_CHANGE                               0\n",
       "FLAG_DOCUMENT_2                                      0\n",
       "FLAG_DOCUMENT_3                                      0\n",
       "FLAG_DOCUMENT_4                                      0\n",
       "FLAG_DOCUMENT_5                                      0\n",
       "FLAG_DOCUMENT_6                                      0\n",
       "FLAG_DOCUMENT_7                                      0\n",
       "FLAG_DOCUMENT_8                                      0\n",
       "FLAG_DOCUMENT_9                                      0\n",
       "FLAG_DOCUMENT_10                                     0\n",
       "FLAG_DOCUMENT_11                                     0\n",
       "FLAG_DOCUMENT_12                                     0\n",
       "FLAG_DOCUMENT_13                                     0\n",
       "FLAG_DOCUMENT_14                                     0\n",
       "FLAG_DOCUMENT_15                                     0\n",
       "FLAG_DOCUMENT_16                                     0\n",
       "FLAG_DOCUMENT_17                                     0\n",
       "FLAG_DOCUMENT_18                                     0\n",
       "FLAG_DOCUMENT_19                                     0\n",
       "FLAG_DOCUMENT_20                                     0\n",
       "FLAG_DOCUMENT_21                                     0\n",
       "AMT_REQ_CREDIT_BUREAU_HOUR                           0\n",
       "AMT_REQ_CREDIT_BUREAU_DAY                            0\n",
       "AMT_REQ_CREDIT_BUREAU_WEEK                           0\n",
       "AMT_REQ_CREDIT_BUREAU_MON                            0\n",
       "AMT_REQ_CREDIT_BUREAU_QRT                            0\n",
       "AMT_REQ_CREDIT_BUREAU_YEAR                           0\n",
       "AMT_INCOME_TOTAL_MINMAX                              0\n",
       "NAME_TYPE_SUITE_Family                               0\n",
       "NAME_TYPE_SUITE_Group of people                      0\n",
       "NAME_TYPE_SUITE_Other_A                              0\n",
       "NAME_TYPE_SUITE_Other_B                              0\n",
       "NAME_TYPE_SUITE_Spouse, partner                      0\n",
       "NAME_TYPE_SUITE_Unaccompanied                        0\n",
       "NAME_INCOME_TYPE_Commercial associate                0\n",
       "NAME_INCOME_TYPE_Maternity leave                     0\n",
       "NAME_INCOME_TYPE_Pensioner                           0\n",
       "NAME_INCOME_TYPE_State servant                       0\n",
       "NAME_INCOME_TYPE_Student                             0\n",
       "NAME_INCOME_TYPE_Unemployed                          0\n",
       "NAME_INCOME_TYPE_Working                             0\n",
       "NAME_EDUCATION_TYPE_Higher education                 0\n",
       "NAME_EDUCATION_TYPE_Incomplete higher                0\n",
       "NAME_EDUCATION_TYPE_Lower secondary                  0\n",
       "NAME_EDUCATION_TYPE_Secondary / secondary special    0\n",
       "NAME_FAMILY_STATUS_Married                           0\n",
       "NAME_FAMILY_STATUS_Separated                         0\n",
       "NAME_FAMILY_STATUS_Single / not married              0\n",
       "NAME_FAMILY_STATUS_Unknown                           0\n",
       "NAME_FAMILY_STATUS_Widow                             0\n",
       "NAME_HOUSING_TYPE_House / apartment                  0\n",
       "NAME_HOUSING_TYPE_Municipal apartment                0\n",
       "NAME_HOUSING_TYPE_Office apartment                   0\n",
       "NAME_HOUSING_TYPE_Rented apartment                   0\n",
       "NAME_HOUSING_TYPE_With parents                       0\n",
       "NAME_CONTRACT_TYPE_Revolving loans                   0\n",
       "OCCUPATION_TYPE_Cleaning staff                       0\n",
       "OCCUPATION_TYPE_Cooking staff                        0\n",
       "OCCUPATION_TYPE_Core staff                           0\n",
       "OCCUPATION_TYPE_Drivers                              0\n",
       "OCCUPATION_TYPE_HR staff                             0\n",
       "OCCUPATION_TYPE_High skill tech staff                0\n",
       "OCCUPATION_TYPE_IT staff                             0\n",
       "OCCUPATION_TYPE_Laborers                             0\n",
       "OCCUPATION_TYPE_Low-skill Laborers                   0\n",
       "OCCUPATION_TYPE_Managers                             0\n",
       "OCCUPATION_TYPE_Medicine staff                       0\n",
       "OCCUPATION_TYPE_Private service staff                0\n",
       "OCCUPATION_TYPE_Realty agents                        0\n",
       "OCCUPATION_TYPE_Sales staff                          0\n",
       "OCCUPATION_TYPE_Secretaries                          0\n",
       "OCCUPATION_TYPE_Security staff                       0\n",
       "OCCUPATION_TYPE_Waiters/barmen staff                 0\n",
       "FLAG_OWN_CAR_Y                                       0\n",
       "WEEKDAY_APPR_PROCESS_START_MONDAY                    0\n",
       "WEEKDAY_APPR_PROCESS_START_SATURDAY                  0\n",
       "WEEKDAY_APPR_PROCESS_START_SUNDAY                    0\n",
       "WEEKDAY_APPR_PROCESS_START_THURSDAY                  0\n",
       "WEEKDAY_APPR_PROCESS_START_TUESDAY                   0\n",
       "WEEKDAY_APPR_PROCESS_START_WEDNESDAY                 0\n",
       "ORGANIZATION_TYPE_Agriculture                        0\n",
       "ORGANIZATION_TYPE_Bank                               0\n",
       "ORGANIZATION_TYPE_Business Entity Type 1             0\n",
       "ORGANIZATION_TYPE_Business Entity Type 2             0\n",
       "ORGANIZATION_TYPE_Business Entity Type 3             0\n",
       "ORGANIZATION_TYPE_Cleaning                           0\n",
       "ORGANIZATION_TYPE_Construction                       0\n",
       "ORGANIZATION_TYPE_Culture                            0\n",
       "ORGANIZATION_TYPE_Electricity                        0\n",
       "ORGANIZATION_TYPE_Emergency                          0\n",
       "ORGANIZATION_TYPE_Government                         0\n",
       "ORGANIZATION_TYPE_Hotel                              0\n",
       "ORGANIZATION_TYPE_Housing                            0\n",
       "ORGANIZATION_TYPE_Industry: type 1                   0\n",
       "ORGANIZATION_TYPE_Industry: type 10                  0\n",
       "ORGANIZATION_TYPE_Industry: type 11                  0\n",
       "ORGANIZATION_TYPE_Industry: type 12                  0\n",
       "ORGANIZATION_TYPE_Industry: type 13                  0\n",
       "ORGANIZATION_TYPE_Industry: type 2                   0\n",
       "ORGANIZATION_TYPE_Industry: type 3                   0\n",
       "ORGANIZATION_TYPE_Industry: type 4                   0\n",
       "ORGANIZATION_TYPE_Industry: type 5                   0\n",
       "ORGANIZATION_TYPE_Industry: type 6                   0\n",
       "ORGANIZATION_TYPE_Industry: type 7                   0\n",
       "ORGANIZATION_TYPE_Industry: type 8                   0\n",
       "ORGANIZATION_TYPE_Industry: type 9                   0\n",
       "ORGANIZATION_TYPE_Insurance                          0\n",
       "ORGANIZATION_TYPE_Kindergarten                       0\n",
       "ORGANIZATION_TYPE_Legal Services                     0\n",
       "ORGANIZATION_TYPE_Medicine                           0\n",
       "ORGANIZATION_TYPE_Military                           0\n",
       "ORGANIZATION_TYPE_Mobile                             0\n",
       "ORGANIZATION_TYPE_Other                              0\n",
       "ORGANIZATION_TYPE_Police                             0\n",
       "ORGANIZATION_TYPE_Postal                             0\n",
       "ORGANIZATION_TYPE_Realtor                            0\n",
       "ORGANIZATION_TYPE_Religion                           0\n",
       "ORGANIZATION_TYPE_Restaurant                         0\n",
       "ORGANIZATION_TYPE_School                             0\n",
       "ORGANIZATION_TYPE_Security                           0\n",
       "ORGANIZATION_TYPE_Security Ministries                0\n",
       "ORGANIZATION_TYPE_Self-employed                      0\n",
       "ORGANIZATION_TYPE_Services                           0\n",
       "ORGANIZATION_TYPE_Telecom                            0\n",
       "ORGANIZATION_TYPE_Trade: type 1                      0\n",
       "ORGANIZATION_TYPE_Trade: type 2                      0\n",
       "ORGANIZATION_TYPE_Trade: type 3                      0\n",
       "ORGANIZATION_TYPE_Trade: type 4                      0\n",
       "ORGANIZATION_TYPE_Trade: type 5                      0\n",
       "ORGANIZATION_TYPE_Trade: type 6                      0\n",
       "ORGANIZATION_TYPE_Trade: type 7                      0\n",
       "ORGANIZATION_TYPE_Transport: type 1                  0\n",
       "ORGANIZATION_TYPE_Transport: type 2                  0\n",
       "ORGANIZATION_TYPE_Transport: type 3                  0\n",
       "ORGANIZATION_TYPE_Transport: type 4                  0\n",
       "ORGANIZATION_TYPE_University                         0\n",
       "ORGANIZATION_TYPE_XNA                                0\n",
       "MALE_True                                            0\n",
       "dtype: int64"
      ]
     },
     "execution_count": 6,
     "metadata": {},
     "output_type": "execute_result"
    }
   ],
   "source": [
    "raw_df.isnull().sum()"
   ]
  },
  {
   "cell_type": "markdown",
   "metadata": {},
   "source": [
    "### Select 20 predictors used (same as in decision tree)"
   ]
  },
  {
   "cell_type": "code",
   "execution_count": 7,
   "metadata": {},
   "outputs": [
    {
     "name": "stdout",
     "output_type": "stream",
     "text": [
      "<class 'pandas.core.frame.DataFrame'>\n",
      "Int64Index: 307511 entries, 100002 to 456255\n",
      "Data columns (total 21 columns):\n",
      " #   Column                                             Non-Null Count   Dtype  \n",
      "---  ------                                             --------------   -----  \n",
      " 0   EXT_SOURCE_3                                       307511 non-null  float64\n",
      " 1   EXT_SOURCE_2                                       307511 non-null  float64\n",
      " 2   DAYS_BIRTH                                         307511 non-null  int64  \n",
      " 3   REGION_RATING_CLIENT_W_CITY                        307511 non-null  int64  \n",
      " 4   NAME_EDUCATION_TYPE_Higher education               307511 non-null  int64  \n",
      " 5   NAME_INCOME_TYPE_Working                           307511 non-null  int64  \n",
      " 6   DAYS_LAST_PHONE_CHANGE                             307511 non-null  float64\n",
      " 7   NAME_EDUCATION_TYPE_Secondary / secondary special  307511 non-null  int64  \n",
      " 8   MALE_True                                          307511 non-null  uint8  \n",
      " 9   DAYS_ID_PUBLISH                                    307511 non-null  int64  \n",
      " 10  NAME_INCOME_TYPE_Pensioner                         307511 non-null  int64  \n",
      " 11  REG_CITY_NOT_WORK_CITY                             307511 non-null  int64  \n",
      " 12  DAYS_REGISTRATION                                  307511 non-null  float64\n",
      " 13  REG_CITY_NOT_LIVE_CITY                             307511 non-null  int64  \n",
      " 14  AMT_GOODS_PRICE                                    307511 non-null  float64\n",
      " 15  REGION_POPULATION_RELATIVE                         307511 non-null  float64\n",
      " 16  NAME_CONTRACT_TYPE_Revolving loans                 307511 non-null  uint8  \n",
      " 17  LIVE_CITY_NOT_WORK_CITY                            307511 non-null  int64  \n",
      " 18  DEF_30_CNT_SOCIAL_CIRCLE                           307511 non-null  float64\n",
      " 19  DEF_60_CNT_SOCIAL_CIRCLE                           307511 non-null  float64\n",
      " 20  TARGET                                             307511 non-null  int64  \n",
      "dtypes: float64(8), int64(11), uint8(2)\n",
      "memory usage: 47.5 MB\n"
     ]
    }
   ],
   "source": [
    "columns = ['EXT_SOURCE_3','EXT_SOURCE_2','DAYS_BIRTH','REGION_RATING_CLIENT_W_CITY','NAME_EDUCATION_TYPE_Higher education','NAME_INCOME_TYPE_Working','DAYS_LAST_PHONE_CHANGE','NAME_EDUCATION_TYPE_Secondary / secondary special','MALE_True','DAYS_ID_PUBLISH','NAME_INCOME_TYPE_Pensioner','REG_CITY_NOT_WORK_CITY','DAYS_REGISTRATION','REG_CITY_NOT_LIVE_CITY','AMT_GOODS_PRICE','REGION_POPULATION_RELATIVE','NAME_CONTRACT_TYPE_Revolving loans','LIVE_CITY_NOT_WORK_CITY','DEF_30_CNT_SOCIAL_CIRCLE','DEF_60_CNT_SOCIAL_CIRCLE', 'TARGET']\n",
    "raw_df = raw_df[columns]\n",
    "raw_df.info()"
   ]
  },
  {
   "cell_type": "markdown",
   "metadata": {},
   "source": [
    "### Balancing the data"
   ]
  },
  {
   "cell_type": "code",
   "execution_count": 8,
   "metadata": {},
   "outputs": [
    {
     "name": "stdout",
     "output_type": "stream",
     "text": [
      "Out of  307511  customers, only 24825  customers default!\n"
     ]
    }
   ],
   "source": [
    "print(\"Out of \", raw_df.shape[0], \" customers, only\", raw_df['TARGET'].sum(), \" customers default!\")"
   ]
  },
  {
   "cell_type": "markdown",
   "metadata": {},
   "source": [
    "#### Downsample the non-default cases"
   ]
  },
  {
   "cell_type": "code",
   "execution_count": 9,
   "metadata": {},
   "outputs": [
    {
     "name": "stdout",
     "output_type": "stream",
     "text": [
      "Out of  49650  customers,  24825  customers default!\n"
     ]
    }
   ],
   "source": [
    "balanced_train = raw_df.drop(raw_df[raw_df.TARGET==0].index[0:257861])\n",
    "print(\"Out of \", balanced_train.shape[0], \" customers, \", balanced_train['TARGET'].sum(), \" customers default!\")"
   ]
  },
  {
   "cell_type": "code",
   "execution_count": 10,
   "metadata": {},
   "outputs": [
    {
     "data": {
      "text/plain": [
       "['EXT_SOURCE_3',\n",
       " 'EXT_SOURCE_2',\n",
       " 'DAYS_BIRTH',\n",
       " 'REGION_RATING_CLIENT_W_CITY',\n",
       " 'DAYS_LAST_PHONE_CHANGE',\n",
       " 'DAYS_ID_PUBLISH',\n",
       " 'DAYS_REGISTRATION',\n",
       " 'AMT_GOODS_PRICE',\n",
       " 'REGION_POPULATION_RELATIVE',\n",
       " 'DEF_30_CNT_SOCIAL_CIRCLE',\n",
       " 'DEF_60_CNT_SOCIAL_CIRCLE']"
      ]
     },
     "execution_count": 10,
     "metadata": {},
     "output_type": "execute_result"
    }
   ],
   "source": [
    "numerlist = []\n",
    "\n",
    "for col in raw_df:\n",
    "    if raw_df[col].nunique() > 2:\n",
    "        numerlist.append(col)\n",
    "    # print(f\"{col} has unique values of {raw_df[col].unique()}\" if raw_df[col].nunique() < 3 else f\"{col} is definitely not dummy.\")\n",
    "        \n",
    "numerlist\n"
   ]
  },
  {
   "cell_type": "code",
   "execution_count": 11,
   "metadata": {},
   "outputs": [
    {
     "data": {
      "text/html": [
       "<div>\n",
       "<style scoped>\n",
       "    .dataframe tbody tr th:only-of-type {\n",
       "        vertical-align: middle;\n",
       "    }\n",
       "\n",
       "    .dataframe tbody tr th {\n",
       "        vertical-align: top;\n",
       "    }\n",
       "\n",
       "    .dataframe thead th {\n",
       "        text-align: right;\n",
       "    }\n",
       "</style>\n",
       "<table border=\"1\" class=\"dataframe\">\n",
       "  <thead>\n",
       "    <tr style=\"text-align: right;\">\n",
       "      <th></th>\n",
       "      <th>EXT_SOURCE_3</th>\n",
       "      <th>EXT_SOURCE_2</th>\n",
       "      <th>DAYS_BIRTH</th>\n",
       "      <th>REGION_RATING_CLIENT_W_CITY</th>\n",
       "      <th>NAME_EDUCATION_TYPE_Higher education</th>\n",
       "      <th>NAME_INCOME_TYPE_Working</th>\n",
       "      <th>DAYS_LAST_PHONE_CHANGE</th>\n",
       "      <th>NAME_EDUCATION_TYPE_Secondary / secondary special</th>\n",
       "      <th>MALE_True</th>\n",
       "      <th>DAYS_ID_PUBLISH</th>\n",
       "      <th>...</th>\n",
       "      <th>REG_CITY_NOT_WORK_CITY</th>\n",
       "      <th>DAYS_REGISTRATION</th>\n",
       "      <th>REG_CITY_NOT_LIVE_CITY</th>\n",
       "      <th>AMT_GOODS_PRICE</th>\n",
       "      <th>REGION_POPULATION_RELATIVE</th>\n",
       "      <th>NAME_CONTRACT_TYPE_Revolving loans</th>\n",
       "      <th>LIVE_CITY_NOT_WORK_CITY</th>\n",
       "      <th>DEF_30_CNT_SOCIAL_CIRCLE</th>\n",
       "      <th>DEF_60_CNT_SOCIAL_CIRCLE</th>\n",
       "      <th>TARGET</th>\n",
       "    </tr>\n",
       "  </thead>\n",
       "  <tbody>\n",
       "    <tr>\n",
       "      <th>count</th>\n",
       "      <td>49650.000000</td>\n",
       "      <td>49650.000000</td>\n",
       "      <td>49650.000000</td>\n",
       "      <td>49650.000000</td>\n",
       "      <td>49650.000000</td>\n",
       "      <td>49650.000000</td>\n",
       "      <td>49650.000000</td>\n",
       "      <td>49650.000000</td>\n",
       "      <td>49650.000000</td>\n",
       "      <td>49650.000000</td>\n",
       "      <td>...</td>\n",
       "      <td>49650.000000</td>\n",
       "      <td>49650.000000</td>\n",
       "      <td>49650.000000</td>\n",
       "      <td>49650.000000</td>\n",
       "      <td>49650.000000</td>\n",
       "      <td>49650.000000</td>\n",
       "      <td>49650.000000</td>\n",
       "      <td>49650.000000</td>\n",
       "      <td>49650.000000</td>\n",
       "      <td>49650.000000</td>\n",
       "    </tr>\n",
       "    <tr>\n",
       "      <th>mean</th>\n",
       "      <td>0.521109</td>\n",
       "      <td>0.546019</td>\n",
       "      <td>0.552565</td>\n",
       "      <td>0.539476</td>\n",
       "      <td>0.206244</td>\n",
       "      <td>0.560302</td>\n",
       "      <td>0.786139</td>\n",
       "      <td>0.744209</td>\n",
       "      <td>0.382276</td>\n",
       "      <td>0.538404</td>\n",
       "      <td>...</td>\n",
       "      <td>0.263243</td>\n",
       "      <td>0.792387</td>\n",
       "      <td>0.095811</td>\n",
       "      <td>0.118231</td>\n",
       "      <td>0.271758</td>\n",
       "      <td>0.082377</td>\n",
       "      <td>0.198449</td>\n",
       "      <td>0.027685</td>\n",
       "      <td>0.019638</td>\n",
       "      <td>0.500000</td>\n",
       "    </tr>\n",
       "    <tr>\n",
       "      <th>std</th>\n",
       "      <td>0.208307</td>\n",
       "      <td>0.242866</td>\n",
       "      <td>0.246220</td>\n",
       "      <td>0.252388</td>\n",
       "      <td>0.404612</td>\n",
       "      <td>0.496355</td>\n",
       "      <td>0.191244</td>\n",
       "      <td>0.436309</td>\n",
       "      <td>0.485948</td>\n",
       "      <td>0.243818</td>\n",
       "      <td>...</td>\n",
       "      <td>0.440397</td>\n",
       "      <td>0.149787</td>\n",
       "      <td>0.294334</td>\n",
       "      <td>0.085527</td>\n",
       "      <td>0.180882</td>\n",
       "      <td>0.274940</td>\n",
       "      <td>0.398836</td>\n",
       "      <td>0.079704</td>\n",
       "      <td>0.065490</td>\n",
       "      <td>0.500005</td>\n",
       "    </tr>\n",
       "    <tr>\n",
       "      <th>min</th>\n",
       "      <td>0.000000</td>\n",
       "      <td>0.000000</td>\n",
       "      <td>0.000000</td>\n",
       "      <td>0.000000</td>\n",
       "      <td>0.000000</td>\n",
       "      <td>0.000000</td>\n",
       "      <td>0.000000</td>\n",
       "      <td>0.000000</td>\n",
       "      <td>0.000000</td>\n",
       "      <td>0.000000</td>\n",
       "      <td>...</td>\n",
       "      <td>0.000000</td>\n",
       "      <td>0.000000</td>\n",
       "      <td>0.000000</td>\n",
       "      <td>0.000000</td>\n",
       "      <td>0.000000</td>\n",
       "      <td>0.000000</td>\n",
       "      <td>0.000000</td>\n",
       "      <td>0.000000</td>\n",
       "      <td>0.000000</td>\n",
       "      <td>0.000000</td>\n",
       "    </tr>\n",
       "    <tr>\n",
       "      <th>25%</th>\n",
       "      <td>0.380107</td>\n",
       "      <td>0.360559</td>\n",
       "      <td>0.352951</td>\n",
       "      <td>0.500000</td>\n",
       "      <td>0.000000</td>\n",
       "      <td>0.000000</td>\n",
       "      <td>0.645099</td>\n",
       "      <td>0.000000</td>\n",
       "      <td>0.000000</td>\n",
       "      <td>0.322467</td>\n",
       "      <td>...</td>\n",
       "      <td>0.000000</td>\n",
       "      <td>0.689419</td>\n",
       "      <td>0.000000</td>\n",
       "      <td>0.049383</td>\n",
       "      <td>0.126766</td>\n",
       "      <td>0.000000</td>\n",
       "      <td>0.000000</td>\n",
       "      <td>0.000000</td>\n",
       "      <td>0.000000</td>\n",
       "      <td>0.000000</td>\n",
       "    </tr>\n",
       "    <tr>\n",
       "      <th>50%</th>\n",
       "      <td>0.569889</td>\n",
       "      <td>0.602987</td>\n",
       "      <td>0.576892</td>\n",
       "      <td>0.500000</td>\n",
       "      <td>0.000000</td>\n",
       "      <td>1.000000</td>\n",
       "      <td>0.837048</td>\n",
       "      <td>1.000000</td>\n",
       "      <td>0.000000</td>\n",
       "      <td>0.511803</td>\n",
       "      <td>...</td>\n",
       "      <td>0.000000</td>\n",
       "      <td>0.812805</td>\n",
       "      <td>0.000000</td>\n",
       "      <td>0.102132</td>\n",
       "      <td>0.253810</td>\n",
       "      <td>0.000000</td>\n",
       "      <td>0.000000</td>\n",
       "      <td>0.000000</td>\n",
       "      <td>0.000000</td>\n",
       "      <td>0.500000</td>\n",
       "    </tr>\n",
       "    <tr>\n",
       "      <th>75%</th>\n",
       "      <td>0.654145</td>\n",
       "      <td>0.744940</td>\n",
       "      <td>0.759490</td>\n",
       "      <td>0.500000</td>\n",
       "      <td>0.000000</td>\n",
       "      <td>1.000000</td>\n",
       "      <td>0.942727</td>\n",
       "      <td>1.000000</td>\n",
       "      <td>1.000000</td>\n",
       "      <td>0.749599</td>\n",
       "      <td>...</td>\n",
       "      <td>1.000000</td>\n",
       "      <td>0.919007</td>\n",
       "      <td>0.000000</td>\n",
       "      <td>0.158249</td>\n",
       "      <td>0.359278</td>\n",
       "      <td>0.000000</td>\n",
       "      <td>0.000000</td>\n",
       "      <td>0.000000</td>\n",
       "      <td>0.000000</td>\n",
       "      <td>1.000000</td>\n",
       "    </tr>\n",
       "    <tr>\n",
       "      <th>max</th>\n",
       "      <td>1.000000</td>\n",
       "      <td>1.000000</td>\n",
       "      <td>1.000000</td>\n",
       "      <td>1.000000</td>\n",
       "      <td>1.000000</td>\n",
       "      <td>1.000000</td>\n",
       "      <td>1.000000</td>\n",
       "      <td>1.000000</td>\n",
       "      <td>1.000000</td>\n",
       "      <td>1.000000</td>\n",
       "      <td>...</td>\n",
       "      <td>1.000000</td>\n",
       "      <td>1.000000</td>\n",
       "      <td>1.000000</td>\n",
       "      <td>1.000000</td>\n",
       "      <td>1.000000</td>\n",
       "      <td>1.000000</td>\n",
       "      <td>1.000000</td>\n",
       "      <td>1.000000</td>\n",
       "      <td>1.000000</td>\n",
       "      <td>1.000000</td>\n",
       "    </tr>\n",
       "  </tbody>\n",
       "</table>\n",
       "<p>8 rows × 21 columns</p>\n",
       "</div>"
      ],
      "text/plain": [
       "       EXT_SOURCE_3  EXT_SOURCE_2    DAYS_BIRTH  REGION_RATING_CLIENT_W_CITY  \\\n",
       "count  49650.000000  49650.000000  49650.000000                 49650.000000   \n",
       "mean       0.521109      0.546019      0.552565                     0.539476   \n",
       "std        0.208307      0.242866      0.246220                     0.252388   \n",
       "min        0.000000      0.000000      0.000000                     0.000000   \n",
       "25%        0.380107      0.360559      0.352951                     0.500000   \n",
       "50%        0.569889      0.602987      0.576892                     0.500000   \n",
       "75%        0.654145      0.744940      0.759490                     0.500000   \n",
       "max        1.000000      1.000000      1.000000                     1.000000   \n",
       "\n",
       "       NAME_EDUCATION_TYPE_Higher education  NAME_INCOME_TYPE_Working  \\\n",
       "count                          49650.000000              49650.000000   \n",
       "mean                               0.206244                  0.560302   \n",
       "std                                0.404612                  0.496355   \n",
       "min                                0.000000                  0.000000   \n",
       "25%                                0.000000                  0.000000   \n",
       "50%                                0.000000                  1.000000   \n",
       "75%                                0.000000                  1.000000   \n",
       "max                                1.000000                  1.000000   \n",
       "\n",
       "       DAYS_LAST_PHONE_CHANGE  \\\n",
       "count            49650.000000   \n",
       "mean                 0.786139   \n",
       "std                  0.191244   \n",
       "min                  0.000000   \n",
       "25%                  0.645099   \n",
       "50%                  0.837048   \n",
       "75%                  0.942727   \n",
       "max                  1.000000   \n",
       "\n",
       "       NAME_EDUCATION_TYPE_Secondary / secondary special     MALE_True  \\\n",
       "count                                       49650.000000  49650.000000   \n",
       "mean                                            0.744209      0.382276   \n",
       "std                                             0.436309      0.485948   \n",
       "min                                             0.000000      0.000000   \n",
       "25%                                             0.000000      0.000000   \n",
       "50%                                             1.000000      0.000000   \n",
       "75%                                             1.000000      1.000000   \n",
       "max                                             1.000000      1.000000   \n",
       "\n",
       "       DAYS_ID_PUBLISH  ...  REG_CITY_NOT_WORK_CITY  DAYS_REGISTRATION  \\\n",
       "count     49650.000000  ...            49650.000000       49650.000000   \n",
       "mean          0.538404  ...                0.263243           0.792387   \n",
       "std           0.243818  ...                0.440397           0.149787   \n",
       "min           0.000000  ...                0.000000           0.000000   \n",
       "25%           0.322467  ...                0.000000           0.689419   \n",
       "50%           0.511803  ...                0.000000           0.812805   \n",
       "75%           0.749599  ...                1.000000           0.919007   \n",
       "max           1.000000  ...                1.000000           1.000000   \n",
       "\n",
       "       REG_CITY_NOT_LIVE_CITY  AMT_GOODS_PRICE  REGION_POPULATION_RELATIVE  \\\n",
       "count            49650.000000     49650.000000                49650.000000   \n",
       "mean                 0.095811         0.118231                    0.271758   \n",
       "std                  0.294334         0.085527                    0.180882   \n",
       "min                  0.000000         0.000000                    0.000000   \n",
       "25%                  0.000000         0.049383                    0.126766   \n",
       "50%                  0.000000         0.102132                    0.253810   \n",
       "75%                  0.000000         0.158249                    0.359278   \n",
       "max                  1.000000         1.000000                    1.000000   \n",
       "\n",
       "       NAME_CONTRACT_TYPE_Revolving loans  LIVE_CITY_NOT_WORK_CITY  \\\n",
       "count                        49650.000000             49650.000000   \n",
       "mean                             0.082377                 0.198449   \n",
       "std                              0.274940                 0.398836   \n",
       "min                              0.000000                 0.000000   \n",
       "25%                              0.000000                 0.000000   \n",
       "50%                              0.000000                 0.000000   \n",
       "75%                              0.000000                 0.000000   \n",
       "max                              1.000000                 1.000000   \n",
       "\n",
       "       DEF_30_CNT_SOCIAL_CIRCLE  DEF_60_CNT_SOCIAL_CIRCLE        TARGET  \n",
       "count              49650.000000              49650.000000  49650.000000  \n",
       "mean                   0.027685                  0.019638      0.500000  \n",
       "std                    0.079704                  0.065490      0.500005  \n",
       "min                    0.000000                  0.000000      0.000000  \n",
       "25%                    0.000000                  0.000000      0.000000  \n",
       "50%                    0.000000                  0.000000      0.500000  \n",
       "75%                    0.000000                  0.000000      1.000000  \n",
       "max                    1.000000                  1.000000      1.000000  \n",
       "\n",
       "[8 rows x 21 columns]"
      ]
     },
     "execution_count": 11,
     "metadata": {},
     "output_type": "execute_result"
    }
   ],
   "source": [
    "# normalization\n",
    "\n",
    "for i in numerlist:\n",
    "    amt4max = balanced_train[i].max()\n",
    "    amt4min = balanced_train[i].min()\n",
    "    balanced_train[i] = (balanced_train[i] - amt4min) / (amt4max - amt4min)\n",
    "balanced_train.describe()"
   ]
  },
  {
   "cell_type": "markdown",
   "metadata": {},
   "source": [
    "### Let's build our first logistic regression model!"
   ]
  },
  {
   "cell_type": "code",
   "execution_count": 12,
   "metadata": {},
   "outputs": [],
   "source": [
    "import sys\n",
    "sys.path.insert(0, \"..\")"
   ]
  },
  {
   "cell_type": "code",
   "execution_count": 13,
   "metadata": {},
   "outputs": [],
   "source": [
    "from utils.constants import random_state\n",
    "from sklearn.model_selection import train_test_split\n",
    "# Split the data into training and test.\n",
    "\n",
    "y = balanced_train[['TARGET']]\n",
    "X = balanced_train.drop(columns=['TARGET'])\n",
    "X_train, X_test, y_train, y_test = train_test_split(X, y, test_size=0.2, random_state=random_state)"
   ]
  },
  {
   "cell_type": "code",
   "execution_count": 14,
   "metadata": {},
   "outputs": [],
   "source": [
    "from sklearn.linear_model import LogisticRegression\n",
    "\n",
    "model = LogisticRegression(penalty='none', C=1.0, solver='saga', random_state=random_state)"
   ]
  },
  {
   "cell_type": "code",
   "execution_count": 15,
   "metadata": {},
   "outputs": [
    {
     "data": {
      "text/plain": [
       "LogisticRegression(penalty='none', random_state=3360, solver='saga')"
      ]
     },
     "execution_count": 15,
     "metadata": {},
     "output_type": "execute_result"
    }
   ],
   "source": [
    "model.fit(X_train, y_train)"
   ]
  },
  {
   "cell_type": "code",
   "execution_count": 16,
   "metadata": {},
   "outputs": [
    {
     "name": "stdout",
     "output_type": "stream",
     "text": [
      "---------- Evaluation (Train) ----------\n",
      "\n",
      "Accuracy: 0.6671953675730111\n",
      "Precision: 0.6698701564257233\n",
      "Recall: 0.6596526554241128\n",
      "F1 Score: 0.6647221447231593\n",
      "Confusion matrix:\n",
      " [[13397  6458]\n",
      " [ 6761 13104]]\n",
      "Classification report:\n",
      "               precision    recall  f1-score   support\n",
      "\n",
      "           0       0.66      0.67      0.67     19855\n",
      "           1       0.67      0.66      0.66     19865\n",
      "\n",
      "    accuracy                           0.67     39720\n",
      "   macro avg       0.67      0.67      0.67     39720\n",
      "weighted avg       0.67      0.67      0.67     39720\n",
      "\n"
     ]
    }
   ],
   "source": [
    "from utils.analysis import preds_analysis\n",
    "\n",
    "# prediction analysis on train data\n",
    "preds_analysis(y_train, model.predict(X_train), \"Train\")"
   ]
  },
  {
   "cell_type": "code",
   "execution_count": 17,
   "metadata": {},
   "outputs": [
    {
     "name": "stdout",
     "output_type": "stream",
     "text": [
      "---------- Evaluation (Test) ----------\n",
      "\n",
      "Accuracy: 0.6630412890231622\n",
      "Precision: 0.6659810777457836\n",
      "Recall: 0.6528225806451613\n",
      "F1 Score: 0.6593361840765628\n",
      "Confusion matrix:\n",
      " [[3346 1624]\n",
      " [1722 3238]]\n",
      "Classification report:\n",
      "               precision    recall  f1-score   support\n",
      "\n",
      "           0       0.66      0.67      0.67      4970\n",
      "           1       0.67      0.65      0.66      4960\n",
      "\n",
      "    accuracy                           0.66      9930\n",
      "   macro avg       0.66      0.66      0.66      9930\n",
      "weighted avg       0.66      0.66      0.66      9930\n",
      "\n"
     ]
    }
   ],
   "source": [
    "# prediction analysis on test data\n",
    "preds_analysis(y_test, model.predict(X_test), \"Test\")"
   ]
  },
  {
   "cell_type": "code",
   "execution_count": 18,
   "metadata": {},
   "outputs": [
    {
     "data": {
      "image/png": "[encoded data removed]",
      "text/plain": [
       "<Figure size 576x576 with 1 Axes>"
      ]
     },
     "metadata": {
      "needs_background": "light"
     },
     "output_type": "display_data"
    },
    {
     "name": "stdout",
     "output_type": "stream",
     "text": [
      "The AUC score for this model is 0.7277033017440881.\n"
     ]
    }
   ],
   "source": [
    "# perform model analysis\n",
    "from utils.analysis import model_eval\n",
    "\n",
    "model_eval(model, X_train, y_train['TARGET'], cv=5)"
   ]
  },
  {
   "cell_type": "markdown",
   "metadata": {},
   "source": [
    "### Hyperparameter tuning via Grid Search"
   ]
  },
  {
   "cell_type": "code",
   "execution_count": 19,
   "metadata": {},
   "outputs": [],
   "source": [
    "from sklearn.model_selection import GridSearchCV\n",
    "\n",
    "try_grid = {\"C\": [10**i for i in np.arange(-1, 2, 0.1)], \"penalty\": ['none', 'l1', 'l2']}"
   ]
  },
  {
   "cell_type": "markdown",
   "metadata": {},
   "source": [
    "#### Using accuracy as criterion"
   ]
  },
  {
   "cell_type": "code",
   "execution_count": 20,
   "metadata": {},
   "outputs": [],
   "source": [
    "LRM = GridSearchCV(LogisticRegression(solver='saga', random_state=random_state), try_grid, cv=10, scoring=\"accuracy\")"
   ]
  },
  {
   "cell_type": "code",
   "execution_count": 21,
   "metadata": {},
   "outputs": [
    {
     "data": {
      "text/plain": [
       "GridSearchCV(cv=10,\n",
       "             estimator=LogisticRegression(random_state=3360, solver='saga'),\n",
       "             param_grid={'C': [0.1, 0.12589254117941673, 0.15848931924611134,\n",
       "                               0.19952623149688792, 0.25118864315095796,\n",
       "                               0.31622776601683783, 0.39810717055349715,\n",
       "                               0.5011872336272721, 0.630957344480193,\n",
       "                               0.7943282347242812, 0.9999999999999994,\n",
       "                               1.2589254117941662, 1.5848931924611125,\n",
       "                               1.9952623149688788, 2.5118864315095784,\n",
       "                               3.162277660168376, 3.981071705534969,\n",
       "                               5.01187233627272, 6.309573444801926,\n",
       "                               7.943282347242805, 9.99999999999999,\n",
       "                               12.589254117941662, 15.84893192461111,\n",
       "                               19.95262314968877, 25.11886431509577,\n",
       "                               31.62277660168376, 39.81071705534969,\n",
       "                               50.118723362727145, 63.095734448019236,\n",
       "                               79.43282347242805],\n",
       "                         'penalty': ['none', 'l1', 'l2']},\n",
       "             scoring='accuracy')"
      ]
     },
     "execution_count": 21,
     "metadata": {},
     "output_type": "execute_result"
    }
   ],
   "source": [
    "LRM.fit(X_train, y_train)"
   ]
  },
  {
   "cell_type": "code",
   "execution_count": 22,
   "metadata": {},
   "outputs": [
    {
     "data": {
      "text/plain": [
       "{'C': 0.1, 'penalty': 'l2'}"
      ]
     },
     "execution_count": 22,
     "metadata": {},
     "output_type": "execute_result"
    }
   ],
   "source": [
    "LRM.best_params_"
   ]
  },
  {
   "cell_type": "code",
   "execution_count": 23,
   "metadata": {},
   "outputs": [
    {
     "data": {
      "text/plain": [
       "0.6666666666666667"
      ]
     },
     "execution_count": 23,
     "metadata": {},
     "output_type": "execute_result"
    }
   ],
   "source": [
    "LRM.best_score_"
   ]
  },
  {
   "cell_type": "code",
   "execution_count": 24,
   "metadata": {},
   "outputs": [
    {
     "data": {
      "image/png": "[encoded data removed]",
      "text/plain": [
       "<Figure size 576x576 with 1 Axes>"
      ]
     },
     "metadata": {
      "needs_background": "light"
     },
     "output_type": "display_data"
    },
    {
     "name": "stdout",
     "output_type": "stream",
     "text": [
      "The AUC score for this model is 0.7278614353762741.\n"
     ]
    }
   ],
   "source": [
    "model = LogisticRegression(solver='saga', random_state=random_state, **LRM.best_params_)\n",
    "model_eval(model, X_train, y_train['TARGET'], cv=10)"
   ]
  },
  {
   "cell_type": "code",
   "execution_count": 25,
   "metadata": {},
   "outputs": [
    {
     "name": "stdout",
     "output_type": "stream",
     "text": [
      "---------- Evaluation (Train) ----------\n",
      "\n",
      "Accuracy: 0.6672457200402819\n",
      "Precision: 0.6696264543784446\n",
      "Recall: 0.660558771709036\n",
      "F1 Score: 0.6650617064950205\n",
      "Confusion matrix:\n",
      " [[13381  6474]\n",
      " [ 6743 13122]]\n",
      "Classification report:\n",
      "               precision    recall  f1-score   support\n",
      "\n",
      "           0       0.66      0.67      0.67     19855\n",
      "           1       0.67      0.66      0.67     19865\n",
      "\n",
      "    accuracy                           0.67     39720\n",
      "   macro avg       0.67      0.67      0.67     39720\n",
      "weighted avg       0.67      0.67      0.67     39720\n",
      "\n",
      "---------- Evaluation (Test) ----------\n",
      "\n",
      "Accuracy: 0.6637462235649547\n",
      "Precision: 0.6668038691088701\n",
      "Recall: 0.6532258064516129\n",
      "F1 Score: 0.6599450045829515\n",
      "Confusion matrix:\n",
      " [[3351 1619]\n",
      " [1720 3240]]\n",
      "Classification report:\n",
      "               precision    recall  f1-score   support\n",
      "\n",
      "           0       0.66      0.67      0.67      4970\n",
      "           1       0.67      0.65      0.66      4960\n",
      "\n",
      "    accuracy                           0.66      9930\n",
      "   macro avg       0.66      0.66      0.66      9930\n",
      "weighted avg       0.66      0.66      0.66      9930\n",
      "\n"
     ]
    }
   ],
   "source": [
    "model.fit(X_train, y_train)\n",
    "preds_analysis(y_train, model.predict(X_train), \"Train\")\n",
    "y_pred = model.predict(X_test)\n",
    "preds_analysis(y_test, y_pred, \"Test\")"
   ]
  },
  {
   "cell_type": "markdown",
   "metadata": {},
   "source": [
    "#### Using roc_auc as criterion"
   ]
  },
  {
   "cell_type": "code",
   "execution_count": 26,
   "metadata": {},
   "outputs": [],
   "source": [
    "LRM = GridSearchCV(LogisticRegression(solver='saga', random_state=random_state), try_grid, cv=10, scoring=\"roc_auc\")"
   ]
  },
  {
   "cell_type": "code",
   "execution_count": 27,
   "metadata": {},
   "outputs": [
    {
     "data": {
      "text/plain": [
       "GridSearchCV(cv=10,\n",
       "             estimator=LogisticRegression(random_state=3360, solver='saga'),\n",
       "             param_grid={'C': [0.1, 0.12589254117941673, 0.15848931924611134,\n",
       "                               0.19952623149688792, 0.25118864315095796,\n",
       "                               0.31622776601683783, 0.39810717055349715,\n",
       "                               0.5011872336272721, 0.630957344480193,\n",
       "                               0.7943282347242812, 0.9999999999999994,\n",
       "                               1.2589254117941662, 1.5848931924611125,\n",
       "                               1.9952623149688788, 2.5118864315095784,\n",
       "                               3.162277660168376, 3.981071705534969,\n",
       "                               5.01187233627272, 6.309573444801926,\n",
       "                               7.943282347242805, 9.99999999999999,\n",
       "                               12.589254117941662, 15.84893192461111,\n",
       "                               19.95262314968877, 25.11886431509577,\n",
       "                               31.62277660168376, 39.81071705534969,\n",
       "                               50.118723362727145, 63.095734448019236,\n",
       "                               79.43282347242805],\n",
       "                         'penalty': ['none', 'l1', 'l2']},\n",
       "             scoring='roc_auc')"
      ]
     },
     "execution_count": 27,
     "metadata": {},
     "output_type": "execute_result"
    }
   ],
   "source": [
    "LRM.fit(X_train, y_train)"
   ]
  },
  {
   "cell_type": "code",
   "execution_count": 28,
   "metadata": {},
   "outputs": [
    {
     "data": {
      "text/plain": [
       "{'C': 0.12589254117941673, 'penalty': 'l2'}"
      ]
     },
     "execution_count": 28,
     "metadata": {},
     "output_type": "execute_result"
    }
   ],
   "source": [
    "LRM.best_params_"
   ]
  },
  {
   "cell_type": "code",
   "execution_count": 29,
   "metadata": {},
   "outputs": [
    {
     "data": {
      "text/plain": [
       "0.7278704115741272"
      ]
     },
     "execution_count": 29,
     "metadata": {},
     "output_type": "execute_result"
    }
   ],
   "source": [
    "LRM.best_score_"
   ]
  },
  {
   "cell_type": "code",
   "execution_count": 30,
   "metadata": {},
   "outputs": [
    {
     "data": {
      "image/png": "[encoded data removed]",
      "text/plain": [
       "<Figure size 576x576 with 1 Axes>"
      ]
     },
     "metadata": {
      "needs_background": "light"
     },
     "output_type": "display_data"
    },
    {
     "name": "stdout",
     "output_type": "stream",
     "text": [
      "The AUC score for this model is 0.7278629008207821.\n"
     ]
    }
   ],
   "source": [
    "model = LogisticRegression(solver='saga', random_state=random_state, **LRM.best_params_)\n",
    "model_eval(model, X_train, y_train['TARGET'], cv=10)"
   ]
  },
  {
   "cell_type": "code",
   "execution_count": 31,
   "metadata": {},
   "outputs": [
    {
     "name": "stdout",
     "output_type": "stream",
     "text": [
      "---------- Evaluation (Train) ----------\n",
      "\n",
      "Accuracy: 0.6673967774420947\n",
      "Precision: 0.6699182839632278\n",
      "Recall: 0.6603070727410018\n",
      "F1 Score: 0.6650779566484978\n",
      "Confusion matrix:\n",
      " [[13392  6463]\n",
      " [ 6748 13117]]\n",
      "Classification report:\n",
      "               precision    recall  f1-score   support\n",
      "\n",
      "           0       0.66      0.67      0.67     19855\n",
      "           1       0.67      0.66      0.67     19865\n",
      "\n",
      "    accuracy                           0.67     39720\n",
      "   macro avg       0.67      0.67      0.67     39720\n",
      "weighted avg       0.67      0.67      0.67     39720\n",
      "\n",
      "---------- Evaluation (Test) ----------\n",
      "\n",
      "Accuracy: 0.6636455186304129\n",
      "Precision: 0.6666666666666666\n",
      "Recall: 0.6532258064516129\n",
      "F1 Score: 0.6598778004073319\n",
      "Confusion matrix:\n",
      " [[3350 1620]\n",
      " [1720 3240]]\n",
      "Classification report:\n",
      "               precision    recall  f1-score   support\n",
      "\n",
      "           0       0.66      0.67      0.67      4970\n",
      "           1       0.67      0.65      0.66      4960\n",
      "\n",
      "    accuracy                           0.66      9930\n",
      "   macro avg       0.66      0.66      0.66      9930\n",
      "weighted avg       0.66      0.66      0.66      9930\n",
      "\n"
     ]
    }
   ],
   "source": [
    "model.fit(X_train, y_train)\n",
    "preds_analysis(y_train, model.predict(X_train), \"Train\")\n",
    "y_pred = model.predict(X_test)\n",
    "preds_analysis(y_test, y_pred, \"Test\")"
   ]
  },
  {
   "cell_type": "markdown",
   "metadata": {},
   "source": [
    "#### Using economic loss estimation to determine decision threshold"
   ]
  },
  {
   "cell_type": "code",
   "execution_count": 32,
   "metadata": {},
   "outputs": [],
   "source": [
    "from utils.custom_cost import economic_analysis"
   ]
  },
  {
   "cell_type": "code",
   "execution_count": 33,
   "metadata": {},
   "outputs": [],
   "source": [
    "# obtain estimated probability of default\n",
    "y_train_proba = model.predict_proba(X_train)"
   ]
  },
  {
   "cell_type": "code",
   "execution_count": 34,
   "metadata": {},
   "outputs": [
    {
     "name": "stdout",
     "output_type": "stream",
     "text": [
      "The estimated economic cost at decision threshold 0.250 = $58912192\n",
      "The estimated economic cost at decision threshold 0.275 = $57575916\n",
      "The estimated economic cost at decision threshold 0.300 = $57029840\n",
      "The estimated economic cost at decision threshold 0.325 = $56723310\n",
      "The estimated economic cost at decision threshold 0.350 = $56426308\n",
      "The estimated economic cost at decision threshold 0.375 = $56730666\n",
      "The estimated economic cost at decision threshold 0.400 = $57756578\n",
      "The estimated economic cost at decision threshold 0.425 = $58818018\n",
      "The estimated economic cost at decision threshold 0.450 = $60365946\n",
      "The estimated economic cost at decision threshold 0.475 = $62562696\n",
      "The estimated economic cost at decision threshold 0.500 = $65228678\n",
      "The estimated economic cost at decision threshold 0.525 = $68530258\n",
      "The estimated economic cost at decision threshold 0.550 = $71529698\n",
      "The estimated economic cost at decision threshold 0.575 = $75175550\n",
      "The estimated economic cost at decision threshold 0.600 = $79224174\n",
      "The estimated economic cost at decision threshold 0.625 = $83296052\n",
      "The estimated economic cost at decision threshold 0.650 = $87649670\n",
      "The estimated economic cost at decision threshold 0.675 = $92206916\n",
      "The estimated economic cost at decision threshold 0.700 = $97164972\n",
      "Optimal threshold = 0.35, at estimated economic loss of $56426308.\n"
     ]
    }
   ],
   "source": [
    "# loop through 10 decision thresholds to determine the optimal threshold\n",
    "optimal_threshold = 1\n",
    "optimal_cost = sys.maxsize\n",
    "\n",
    "# search for optimal threshold on training set\n",
    "for i in np.linspace(0.25, 0.7, num=19, endpoint=True):\n",
    "    cost = economic_analysis(y_train, y_train_proba, threshold=i)\n",
    "    if cost < optimal_cost:\n",
    "        optimal_threshold = i\n",
    "        optimal_cost = cost\n",
    "        \n",
    "print(\"Optimal threshold = {0:.3}, at estimated economic loss of ${1}.\".format(optimal_threshold, optimal_cost))"
   ]
  },
  {
   "cell_type": "code",
   "execution_count": 35,
   "metadata": {},
   "outputs": [
    {
     "name": "stdout",
     "output_type": "stream",
     "text": [
      "The estimated economic cost at decision threshold 0.350 = $14306508\n"
     ]
    },
    {
     "data": {
      "text/plain": [
       "14306508"
      ]
     },
     "execution_count": 35,
     "metadata": {},
     "output_type": "execute_result"
    }
   ],
   "source": [
    "# obtain optimal economic loss on test set\n",
    "y_test_proba = model.predict_proba(X_test)\n",
    "\n",
    "economic_analysis(y_test, y_test_proba, threshold=optimal_threshold)"
   ]
  },
  {
   "cell_type": "markdown",
   "metadata": {},
   "source": [
    "### Conclusion and findings\n",
    "\n",
    "The overall test accuracy of the optimized logistic regression model is slightly higher than that of decision tree classifier, at roughly 66.36%. The train accuracy and test accuracy are very similar, suggesting that the model does not suffer from overfitting problem.\n",
    "\n",
    "Logistic regression model with L2 penalty is determined to be the best model via grid search. This is expected since L2 regularization reduces overfitting in comparison to no penalty, and since the number of predictors have been cut down, L1 (LASSO) regression has minimal effect on regularization since performance is not likely to be improved whether or not the model decides to shrink certain factors.\n",
    "\n",
    "Estimated economic loss is optimized when decision threshold is set at 0.35, at $14306508, which is higher than that of decision tree classifier. This obtained threshold (< 0.5) is also consistent with the intuition that more expensive false negatives tend to give lower decision thresholds.\n",
    "\n",
    "The seemingly poor result of logistic regression is to be expected, due to the following factors:\n",
    "- The factors are highly collinear, resulting in poor allocation of predictive power to each predictor.\n",
    "- The decision boundary of credit card defaultee prediction may not be linear, which violates the assumption of logistic regression model which is linear by nature."
   ]
  },
  {
   "cell_type": "markdown",
   "metadata": {},
   "source": [
    "## This is the end of Part 2.2 Logistic Regression."
   ]
  }
 ],
 "metadata": {
  "kernelspec": {
   "display_name": "Python 3",
   "language": "python",
   "name": "python3"
  },
  "language_info": {
   "codemirror_mode": {
    "name": "ipython",
    "version": 3
   },
   "file_extension": ".py",
   "mimetype": "text/x-python",
   "name": "python",
   "nbconvert_exporter": "python",
   "pygments_lexer": "ipython3",
   "version": "3.8.3"
  }
 },
 "nbformat": 4,
 "nbformat_minor": 2
}
